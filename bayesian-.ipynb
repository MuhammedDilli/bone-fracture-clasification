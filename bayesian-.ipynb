{
  "cells": [
    {
      "cell_type": "code",
      "execution_count": null,
      "metadata": {
        "colab": {
          "base_uri": "https://localhost:8080/"
        },
        "id": "XREKuyqrjY-s",
        "outputId": "89d95992-c7e4-4ff1-e548-b04d897acad0"
      },
      "outputs": [
        {
          "output_type": "stream",
          "name": "stdout",
          "text": [
            "Mounted at /content/drive\n"
          ]
        }
      ],
      "source": [
        "from google.colab import drive\n",
        "drive.mount('/content/drive')"
      ]
    },
    {
      "cell_type": "code",
      "execution_count": null,
      "metadata": {
        "id": "lkqnDFSdbMhi"
      },
      "outputs": [],
      "source": [
        "import os\n",
        "import warnings\n",
        "from IPython.display import HTML\n",
        "\n",
        "import numpy as np\n",
        "import pandas as pd\n",
        "import matplotlib.pyplot as plt\n",
        "from matplotlib.colors import LinearSegmentedColormap\n",
        "from matplotlib.patches import Rectangle\n",
        "import seaborn as sns\n",
        "import shutil\n",
        "\n",
        "\n",
        "import torch\n",
        "import torch.nn as nn\n",
        "import torch.nn.functional as F\n",
        "import torchvision\n",
        "import torchvision.transforms as transforms\n",
        "from torch.utils.data import DataLoader, TensorDataset, default_collate, Dataset\n",
        "\n",
        "from sklearn.model_selection import train_test_split\n",
        "from sklearn.metrics import confusion_matrix, precision_score, recall_score, f1_score\n",
        "\n",
        "from PIL import Image, ImageFile\n",
        "\n",
        "from tqdm.auto import tqdm"
      ]
    },
    {
      "cell_type": "code",
      "execution_count": null,
      "metadata": {
        "id": "Gneb40VzjbAs"
      },
      "outputs": [],
      "source": []
    },
    {
      "cell_type": "code",
      "execution_count": null,
      "metadata": {
        "id": "yVllC-zvja-C"
      },
      "outputs": [],
      "source": [
        "ImageFile.LOAD_TRUNCATED_IMAGES = True\n",
        "color_list = ['#faa5c7', '#eb679c', '#cc3d76', '#b3245d', '#d40457', '#8f1042', '#6e042e']\n",
        "color_palette = sns.color_palette(color_list)\n",
        "sns.set_palette(color_palette)\n",
        "\n",
        "# cmap = colors.ListedColormap(color_palette)\n",
        "cmap = LinearSegmentedColormap.from_list('custom_palette', color_list, N=256)\n",
        "\n",
        "warnings.filterwarnings(\"ignore\")"
      ]
    },
    {
      "cell_type": "code",
      "execution_count": null,
      "metadata": {
        "colab": {
          "base_uri": "https://localhost:8080/"
        },
        "id": "CQM9Opt8ja7O",
        "outputId": "4a7f6176-37b9-4e90-9e33-acd6982f1131"
      },
      "outputs": [
        {
          "output_type": "execute_result",
          "data": {
            "text/plain": [
              "device(type='cuda', index=0)"
            ]
          },
          "metadata": {},
          "execution_count": 4
        }
      ],
      "source": [
        "device = torch.device('cuda:0' if torch.cuda.is_available() else 'cpu')\n",
        "device"
      ]
    },
    {
      "cell_type": "code",
      "execution_count": null,
      "metadata": {
        "colab": {
          "base_uri": "https://localhost:8080/",
          "height": 35
        },
        "id": "4Wb7Et9Dja4P",
        "outputId": "83d7d276-d510-4bd3-bfd2-b88aa8b23b6a"
      },
      "outputs": [
        {
          "output_type": "execute_result",
          "data": {
            "text/plain": [
              "'/content/drive/MyDrive/You2_Working_Directory0/dataset/Bone_Fracture_Binary_Classification/val'"
            ],
            "application/vnd.google.colaboratory.intrinsic+json": {
              "type": "string"
            }
          },
          "metadata": {},
          "execution_count": 6
        }
      ],
      "source": [
        "from google.colab import drive\n",
        "import os\n",
        "import shutil\n",
        "\n",
        "# Google Drive'daki giriş ve çalışma dizinleri\n",
        "input_directory = '/content/drive/MyDrive/FracatlasORJ2'\n",
        "output_directory = '/content/drive/MyDrive/You2_Working_Directory0'\n",
        "\n",
        "# Dataset dizini ve alt dizinler\n",
        "dataset_directory = f'{output_directory}/dataset'\n",
        "output_train_directory = f'{dataset_directory}/Bone_Fracture_Binary_Classification/test'\n",
        "output_dev_directory = f'{dataset_directory}/Bone_Fracture_Binary_Classification/train'\n",
        "output_test_directory = f'{dataset_directory}/Bone_Fracture_Binary_Classification/val'\n",
        "\n",
        "# Dizinleri oluşturma\n",
        "os.makedirs(output_train_directory, exist_ok=True)\n",
        "os.makedirs(output_dev_directory, exist_ok=True)\n",
        "os.makedirs(output_test_directory, exist_ok=True)\n",
        "\n",
        "# Verileri kopyalama\n",
        "shutil.copytree(f'{input_directory}/test', output_train_directory, dirs_exist_ok=True)\n",
        "shutil.copytree(f'{input_directory}/train', output_dev_directory, dirs_exist_ok=True)\n",
        "shutil.copytree(f'{input_directory}/val', output_test_directory, dirs_exist_ok=True)\n"
      ]
    },
    {
      "cell_type": "code",
      "execution_count": null,
      "metadata": {
        "id": "QC3lOEL4nYkr"
      },
      "outputs": [],
      "source": [
        "# Iterate through subdirectories\n",
        "def removeCorruptFiles(directory_path):\n",
        "  for item in os.listdir(directory_path):\n",
        "    item_path = os.path.join(directory_path, item)\n",
        "\n",
        "    if os.path.isdir(item_path):\n",
        "      removeCorruptFiles(item_path)\n",
        "    else:\n",
        "      try:\n",
        "        Image.open(item_path).verify()\n",
        "      except (IOError, SyntaxError):\n",
        "        os.remove(item_path)\n",
        "        print(f'Removed corrupted image: {item}')\n",
        "\n",
        "  # print(\"Corrupted image removal complete.\")"
      ]
    },
    {
      "cell_type": "code",
      "execution_count": null,
      "metadata": {
        "id": "1_vm16sxneLd"
      },
      "outputs": [],
      "source": [
        "def removeEmptySubdirectories(directory):\n",
        "    # Iterate over each entry in the directory\n",
        "    for entry in os.listdir(directory):\n",
        "        # Create full path\n",
        "        full_path = os.path.join(directory, entry)\n",
        "\n",
        "        # If entry is a directory, recursively remove empty subdirectories\n",
        "        if os.path.isdir(full_path):\n",
        "            removeEmptySubdirectories(full_path)\n",
        "\n",
        "            # Check if directory is empty after removal\n",
        "            if not os.listdir(full_path):\n",
        "                # Remove the directory if it's empty\n",
        "                os.rmdir(full_path)\n",
        "                print(f\"Removed empty directory: {full_path}\")"
      ]
    },
    {
      "cell_type": "code",
      "execution_count": null,
      "metadata": {
        "id": "COipT1o2neH9"
      },
      "outputs": [],
      "source": [
        "def copyDatasetIntoWorkingDir(source_directory, destination_directory):\n",
        "    # Remove the destination directory if it already exists\n",
        "    if os.path.exists(destination_directory):\n",
        "        shutil.rmtree(destination_directory)\n",
        "\n",
        "\n",
        "    shutil.copytree(source_directory, destination_directory)"
      ]
    },
    {
      "cell_type": "code",
      "execution_count": null,
      "metadata": {
        "id": "DmDSSYTZjatl"
      },
      "outputs": [],
      "source": [
        "IMAGE_SIZE = 224\n",
        "imgSize = IMAGE_SIZE"
      ]
    },
    {
      "cell_type": "code",
      "execution_count": null,
      "metadata": {
        "id": "anVMfhJGNHD9"
      },
      "outputs": [],
      "source": [
        "import torchvision\n",
        "from torchvision import transforms\n",
        "\n",
        "# Dönüşüm (transforms) tanımlamaları\n",
        "imgSize = 224  # Örnek bir görüntü boyutu\n",
        "\n",
        "train_transform = transforms.Compose([\n",
        "    transforms.Resize((imgSize, imgSize)),\n",
        "    transforms.ToTensor(),\n",
        "    transforms.Normalize(\n",
        "        mean=[0.5, 0.5, 0.5],\n",
        "        std=[0.5, 0.5, 0.5]\n",
        "    )\n",
        "])\n",
        "\n",
        "dev_transform = transforms.Compose([\n",
        "    transforms.Resize((imgSize, imgSize)),\n",
        "    transforms.ToTensor(),\n",
        "    transforms.Normalize(\n",
        "        mean=[0.5, 0.5, 0.5],\n",
        "        std=[0.5, 0.5, 0.5]\n",
        "    )\n",
        "])\n",
        "\n",
        "test_transform = transforms.Compose([\n",
        "    transforms.Resize((imgSize, imgSize)),\n",
        "    transforms.ToTensor(),\n",
        "    transforms.Normalize(\n",
        "        mean=[0.5, 0.5, 0.5],\n",
        "        std=[0.5, 0.5, 0.5]\n",
        "    )\n",
        "])\n",
        "\n",
        "# ImageFolder veri kümesi oluşturma\n",
        "train_dataset = torchvision.datasets.ImageFolder(root=output_train_directory, transform=train_transform)\n",
        "dev_dataset = torchvision.datasets.ImageFolder(root=output_dev_directory, transform=dev_transform)\n",
        "test_dataset = torchvision.datasets.ImageFolder(root=output_test_directory, transform=test_transform)\n"
      ]
    },
    {
      "cell_type": "code",
      "execution_count": null,
      "metadata": {
        "id": "FXELYVUQwNIe"
      },
      "outputs": [],
      "source": [
        "def my_collate(batch):\n",
        "    \"Puts each data field into a tensor with outer dimension batch size\"\n",
        "    batch = list(filter(lambda x:x is not None, batch))\n",
        "    return default_collate(batch)"
      ]
    },
    {
      "cell_type": "code",
      "execution_count": null,
      "metadata": {
        "id": "YQWBp3O3OeDi"
      },
      "outputs": [],
      "source": [
        "train_dataloader = DataLoader(train_dataset, batch_size = batchsize, shuffle = True, collate_fn = my_collate)\n",
        "dev_dataloader = DataLoader(dev_dataset, batch_size = batchsize, collate_fn = my_collate)\n",
        "test_dataloader = DataLoader(test_dataset, batch_size = batchsize, collate_fn = my_collate)"
      ]
    },
    {
      "cell_type": "code",
      "execution_count": null,
      "metadata": {
        "id": "iftzWTPlmEi_"
      },
      "outputs": [],
      "source": [
        "\n",
        "def makeTheNet(k = 3, s = 1, p = 2):\n",
        "    class vİT(nn.Module):\n",
        "        def __init__(self):\n",
        "            super().__init__()\n",
        "\n",
        "            imgSize = IMAGE_SIZE\n",
        "\n",
        "            self.conv1 = nn.Conv2d(3, 128, k, s, p)\n",
        "            self.bnorm1 = nn.BatchNorm2d(128)\n",
        "\n",
        "            imgSize = ((imgSize - k + 2*p) // s) + 1\n",
        "            imgSize = imgSize // k\n",
        "\n",
        "            self.conv2 = nn.Conv2d(128, 256, k, s, p)\n",
        "            self.bnorm2 = nn.BatchNorm2d(256)\n",
        "\n",
        "            imgSize = ((imgSize - k + 2*p) // s) + 1\n",
        "            imgSize = imgSize // k\n",
        "\n",
        "            self.conv3 = nn.Conv2d(256, 256, k, s, p)\n",
        "            self.bnorm3 = nn.BatchNorm2d(256)\n",
        "\n",
        "            imgSize = ((imgSize - k + 2*p) // s) + 1\n",
        "            imgSize = imgSize // k\n",
        "\n",
        "            self.fc1 = nn.Linear(imgSize * imgSize * 256, 256)\n",
        "            self.fc2 = nn.Linear(256, 256)\n",
        "            self.fc3 = nn.Linear(256, 256)\n",
        "            self.fc4 = nn.Linear(256, 256)\n",
        "            self.output = nn.Linear(256, 1)\n",
        "\n",
        "        def forward(self, x):\n",
        "            x = F.max_pool2d( self.conv1(x), k)\n",
        "            x = F.leaky_relu( self.bnorm1(x) )\n",
        "\n",
        "            x = F.max_pool2d( self.conv2(x), k)\n",
        "            x = F.leaky_relu( self.bnorm2(x) )\n",
        "\n",
        "            x = F.max_pool2d( self.conv3(x), k)\n",
        "            x = F.leaky_relu( self.bnorm3(x) )\n",
        "\n",
        "            nUnits = x.shape.numel()/x.shape[0]\n",
        "            x = x.view(-1,int(nUnits))\n",
        "\n",
        "            x = F.leaky_relu( self.fc1(x) )\n",
        "            x = F.dropout2d(x, .5)\n",
        "\n",
        "            x = F.leaky_relu( self.fc2(x) )\n",
        "            x = F.dropout2d(x, .5)\n",
        "\n",
        "            x = F.leaky_relu( self.fc3(x) )\n",
        "            x = F.dropout2d(x, .5)\n",
        "\n",
        "            x = F.leaky_relu( self.fc4(x) )\n",
        "            x = F.dropout2d(x, .5)\n",
        "\n",
        "            return self.output(x)\n",
        "\n",
        "    net = torchvision.models.vit_b_16(weights = 'DEFAULT')\n",
        "\n",
        "    for p in net.parameters():\n",
        "      p.requires_grad = False\n",
        "\n",
        "    num_features = net.heads.head.in_features  # Get the number of input features to the last layer\n",
        "    net.heads.head = nn.Linear(num_features, 1)\n",
        "    lossfun = nn.BCEWithLogitsLoss()\n",
        "\n",
        "    optimizer = torch.optim.Adam(net.parameters(), lr = .001)\n",
        "\n",
        "    return net, lossfun, optimizer"
      ]
    },
    {
      "cell_type": "code",
      "execution_count": null,
      "metadata": {
        "colab": {
          "base_uri": "https://localhost:8080/"
        },
        "id": "y9gPJpIJmEgC",
        "outputId": "7e4b34ac-1206-4326-9f2a-2a6405fd55f4"
      },
      "outputs": [
        {
          "output_type": "stream",
          "name": "stderr",
          "text": [
            "Downloading: \"https://download.pytorch.org/models/vit_b_16-c867db91.pth\" to /root/.cache/torch/hub/checkpoints/vit_b_16-c867db91.pth\n",
            "100%|██████████| 330M/330M [00:03<00:00, 106MB/s]\n"
          ]
        },
        {
          "output_type": "execute_result",
          "data": {
            "text/plain": [
              "tensor(0.6776, device='cuda:0',\n",
              "       grad_fn=<BinaryCrossEntropyWithLogitsBackward0>)"
            ]
          },
          "metadata": {},
          "execution_count": 16
        }
      ],
      "source": [
        "net, lossfun, optimizer = makeTheNet()\n",
        "net.to(device)\n",
        "X, y = X.to(device), y.to(device, dtype = torch.float)\n",
        "yHat = net(X)\n",
        "yHat = yHat.squeeze()\n",
        "lossfun(yHat, y)"
      ]
    },
    {
      "cell_type": "code",
      "source": [
        "import torch.nn as nn\n",
        "from transformers import ViTModel, ViTConfig\n",
        "from torch.optim.lr_scheduler import StepLR, MultiStepLR, ExponentialLR, CosineAnnealingLR, ReduceLROnPlateau\n",
        "from torch.utils.data import DataLoader\n",
        "from sklearn.metrics import precision_score, recall_score, f1_score\n",
        "import optuna\n",
        "from optuna.samplers import TPESampler\n",
        "from torchvision import transforms\n",
        "import torch\n",
        "import numpy as np\n",
        "from tqdm import tqdm\n",
        "\n",
        "def function2TrainModel(train_dataloader,dev_dataloader,test_dataloader,device,epochs,learning_rate,bs,dropout_prob,optimizer_name,num_layers,scheduler_type):\n",
        "\n",
        "    model = ViT(num_layers=num_layers).to(device)\n",
        "    criterion = nn.CrossEntropyLoss().to(device)\n",
        "\n",
        "    if optimizer_name == 'Adam':\n",
        "        optimizer = torch.optim.Adam(model.parameters(), lr=learning_rate)\n",
        "    elif optimizer_name == 'SGD':\n",
        "        optimizer = torch.optim.SGD(model.parameters(), lr=learning_rate, momentum=0.9)\n",
        "    elif optimizer_name == 'AdamW':\n",
        "        optimizer = torch.optim.AdamW(model.parameters(), lr=learning_rate)\n",
        "\n",
        "    if scheduler_type == 'StepLR':\n",
        "        scheduler = StepLR(optimizer, step_size=10, gamma=0.5)\n",
        "    elif scheduler_type == 'MultiStepLR':\n",
        "        scheduler = MultiStepLR(optimizer, milestones=[10, 20], gamma=0.1)\n",
        "    elif scheduler_type == 'ExponentialLR':\n",
        "        scheduler = ExponentialLR(optimizer, gamma=0.9)\n",
        "    elif scheduler_type == 'CosineAnnealingLR':\n",
        "        scheduler = CosineAnnealingLR(optimizer, T_max=10)\n",
        "    elif scheduler_type == 'ReduceLROnPlateau':\n",
        "        scheduler = ReduceLROnPlateau(optimizer, mode='min', factor=0.1, patience=10)\n",
        "\n",
        "    train_dataset = ImageDataset(train_data)\n",
        "    val_dataset = ImageDataset(val_data)\n",
        "    train_dataloader = DataLoader(train_dataset, num_workers=1, batch_size=bs, shuffle=True)\n",
        "    val_dataloader = DataLoader(val_dataset, num_workers=1, batch_size=bs, shuffle=False)\n",
        "\n",
        "    train_losses, val_losses = [], []\n",
        "    train_accuracies, val_accuracies = [], []\n",
        "    val_precisions, val_recalls, val_f1s = [], [], []\n",
        "\n",
        "    best_val_loss = float('inf')\n",
        "    best_val_accuracy = 0.0\n",
        "\n",
        "    for epoch in range(epochs):\n",
        "        total_acc_train = 0\n",
        "        total_loss_train = 0.0\n",
        "        model.train()\n",
        "\n",
        "        for train_image, train_label in tqdm(train_dataloader):\n",
        "            train_image, train_label = train_image.to(device), train_label.to(device)\n",
        "            output = model(train_image)\n",
        "            loss = criterion(output, train_label)\n",
        "            acc = (output.argmax(dim=1) == train_label).sum().item()\n",
        "            total_acc_train += acc\n",
        "            total_loss_train += loss.item()\n",
        "            optimizer.zero_grad()\n",
        "            loss.backward()\n",
        "            optimizer.step()\n",
        "\n",
        "        avg_loss_train = total_loss_train / len(train_dataset)\n",
        "        avg_acc_train = total_acc_train / len(train_dataset)\n",
        "\n",
        "        total_acc_val = 0\n",
        "        total_loss_val = 0.0\n",
        "        all_preds = []\n",
        "        all_labels = []\n",
        "        model.eval()\n",
        "\n",
        "        with torch.no_grad():\n",
        "            for val_image, val_label in tqdm(val_dataloader):\n",
        "                val_image, val_label = val_image.to(device), val_label.to(device)\n",
        "                output = model(val_image)\n",
        "                loss = criterion(output, val_label)\n",
        "                acc = (output.argmax(dim=1) == val_label).sum().item()\n",
        "                total_acc_val += acc\n",
        "                total_loss_val += loss.item()\n",
        "\n",
        "                all_preds.extend(output.argmax(dim=1).cpu().numpy())\n",
        "                all_labels.extend(val_label.cpu().numpy())\n",
        "\n",
        "        avg_loss_val = total_loss_val / len(val_dataset)\n",
        "        avg_acc_val = total_acc_val / len(val_dataset)\n",
        "\n",
        "        train_losses.append(avg_loss_train)\n",
        "        val_losses.append(avg_loss_val)\n",
        "        train_accuracies.append(avg_acc_train)\n",
        "        val_accuracies.append(avg_acc_val)\n",
        "\n",
        "        precision = precision_score(all_labels, all_preds, average='weighted')\n",
        "        recall = recall_score(all_labels, all_preds, average='weighted')\n",
        "        f1 = f1_score(all_labels, all_preds, average='weighted')\n",
        "\n",
        "        val_precisions.append(precision)\n",
        "        val_recalls.append(recall)\n",
        "        val_f1s.append(f1)\n",
        "\n",
        "        print(f'Epoch: {epoch + 1} | Train Loss: {avg_loss_train:.3f} | Train Accuracy: {avg_acc_train:.3f} | Val Loss: {avg_loss_val:.3f} | Val Accuracy: {avg_acc_val:.3f}')\n",
        "        print(f'Precision: {precision:.3f} | Recall: {recall:.3f} | F1 Score: {f1:.3f}')\n",
        "\n",
        "        if scheduler_type == 'ReduceLROnPlateau':\n",
        "            scheduler.step(avg_loss_val)\n",
        "        else:\n",
        "            scheduler.step()\n",
        "\n",
        "    return model, avg_acc_val\n",
        "\n",
        "def evaluate_model(model, test_data):\n",
        "    use_cuda = torch.cuda.is_available()\n",
        "    device = torch.device(\"cuda\" if use_cuda else \"cpu\")\n",
        "    test_dataset = ImageDataset(test_data)\n",
        "    test_dataloader = DataLoader(test_dataset, num_workers=1, batch_size=32, shuffle=False)\n",
        "\n",
        "    model.eval()\n",
        "    total_acc_test = 0\n",
        "    total_loss_test = 0.0\n",
        "    all_preds = []\n",
        "    all_labels = []\n",
        "    criterion = nn.CrossEntropyLoss().to(device)\n",
        "\n",
        "    with torch.no_grad():\n",
        "        for test_image, test_label in tqdm(test_dataloader):\n",
        "            test_image, test_label = test_image.to(device), test_label.to(device)\n",
        "            output = model(test_image)\n",
        "            loss = criterion(output, test_label)\n",
        "            acc = (output.argmax(dim=1) == test_label).sum().item()\n",
        "            total_acc_test += acc\n",
        "            total_loss_test += loss.item()\n",
        "\n",
        "            all_preds.extend(output.argmax(dim=1).cpu().numpy())\n",
        "            all_labels.extend(test_label.cpu().numpy())\n",
        "\n",
        "    avg_loss_test = total_loss_test / len(test_dataloader.dataset)\n",
        "    avg_acc_test = total_acc_test / len(test_dataloader.dataset)\n",
        "\n",
        "    precision = precision_score(all_labels, all_preds, average='weighted')\n",
        "    recall = recall_score(all_labels, all_preds, average='weighted')\n",
        "    f1 = f1_score(all_labels, all_preds, average='weighted')\n",
        "\n",
        "    print(f'Test Loss: {avg_loss_test:.3f} | Test Accuracy: {avg_acc_test:.3f}')\n",
        "    print(f'Test Precision: {precision:.3f} | Test Recall: {recall:.3f} | Test F1 Score: {f1:.3f}')\n",
        "\n",
        "    return avg_acc_test\n",
        "\n",
        "def bayesian_optimization(train_data, val_data, test_data, n_trials=50):\n",
        "    def objective(trial):\n",
        "        epochs = trial.suggest_int('epochs', 10, 30)\n",
        "        learning_rate = trial.suggest_loguniform('learning_rate', 1e-5, 1e-3)\n",
        "        batch_size = trial.suggest_int('batch_size', 16, 64)\n",
        "        dropout_prob = trial.suggest_uniform('dropout_prob', 0.3, 0.7)\n",
        "        optimizer_name = trial.suggest_categorical('optimizer_name', ['Adam', 'SGD', 'AdamW'])\n",
        "        num_layers = trial.suggest_int('num_layers', 12, 24)\n",
        "        scheduler_type = trial.suggest_categorical('scheduler_type', ['StepLR', 'MultiStepLR', 'ExponentialLR', 'CosineAnnealingLR', 'ReduceLROnPlateau'])\n",
        "\n",
        "        model, val_accuracy = model_train(train_data, val_data, epochs, learning_rate, batch_size, dropout_prob, optimizer_name, num_layers, scheduler_type)\n",
        "\n",
        "        return val_accuracy\n",
        "\n",
        "    sampler = TPESampler()\n",
        "    study = optuna.create_study(direction='maximize', sampler=sampler)\n",
        "    study.optimize(objective, n_trials=n_trials)\n",
        "\n",
        "    best_trial = study.best_trial\n",
        "    print(f'Best trial parameters: {best_trial.params}')\n",
        "\n",
        "    best_model, _ = model_train(train_data, val_data,\n",
        "                                best_trial.params['epochs'],\n",
        "                                best_trial.params['learning_rate'],\n",
        "                                best_trial.params['batch_size'],\n",
        "                                best_trial.params['dropout_prob'],\n",
        "                                best_trial.params['optimizer_name'],\n",
        "                                best_trial.params['num_layers'],\n",
        "                                best_trial.params['scheduler_type'])\n",
        "\n",
        "    return best_model\n",
        "\n",
        "train_data = dataset['train']\n",
        "val_data = dataset['validation']\n",
        "test_data = dataset['test']\n",
        "\n",
        "best_model = bayesian_optimization(train_data, val_data, test_data)\n",
        "\n",
        "\n",
        "evaluate_model(best_model, test_data)\n"
      ],
      "metadata": {
        "colab": {
          "base_uri": "https://localhost:8080/",
          "height": 1000
        },
        "outputId": "6c3af200-ce84-4c8e-8621-5bdeba6a3cab",
        "id": "rU3CUxB9LX28"
      },
      "execution_count": null,
      "outputs": [
        {
          "metadata": {
            "tags": null
          },
          "name": "stderr",
          "output_type": "stream",
          "text": [
            "[I 2024-06-10 09:15:42,972] A new study created in memory with name: no-name-15605e60-fe71-4d37-a529-d3f01e200b78\n",
            "Some weights of ViTModel were not initialized from the model checkpoint at google/vit-base-patch16-224-in21k and are newly initialized: ['encoder.layer.12.attention.attention.key.bias', 'encoder.layer.12.attention.attention.key.weight', 'encoder.layer.12.attention.attention.query.bias', 'encoder.layer.12.attention.attention.query.weight', 'encoder.layer.12.attention.attention.value.bias', 'encoder.layer.12.attention.attention.value.weight', 'encoder.layer.12.attention.output.dense.bias', 'encoder.layer.12.attention.output.dense.weight', 'encoder.layer.12.intermediate.dense.bias', 'encoder.layer.12.intermediate.dense.weight', 'encoder.layer.12.layernorm_after.bias', 'encoder.layer.12.layernorm_after.weight', 'encoder.layer.12.layernorm_before.bias', 'encoder.layer.12.layernorm_before.weight', 'encoder.layer.12.output.dense.bias', 'encoder.layer.12.output.dense.weight', 'encoder.layer.13.attention.attention.key.bias', 'encoder.layer.13.attention.attention.key.weight', 'encoder.layer.13.attention.attention.query.bias', 'encoder.layer.13.attention.attention.query.weight', 'encoder.layer.13.attention.attention.value.bias', 'encoder.layer.13.attention.attention.value.weight', 'encoder.layer.13.attention.output.dense.bias', 'encoder.layer.13.attention.output.dense.weight', 'encoder.layer.13.intermediate.dense.bias', 'encoder.layer.13.intermediate.dense.weight', 'encoder.layer.13.layernorm_after.bias', 'encoder.layer.13.layernorm_after.weight', 'encoder.layer.13.layernorm_before.bias', 'encoder.layer.13.layernorm_before.weight', 'encoder.layer.13.output.dense.bias', 'encoder.layer.13.output.dense.weight', 'encoder.layer.14.attention.attention.key.bias', 'encoder.layer.14.attention.attention.key.weight', 'encoder.layer.14.attention.attention.query.bias', 'encoder.layer.14.attention.attention.query.weight', 'encoder.layer.14.attention.attention.value.bias', 'encoder.layer.14.attention.attention.value.weight', 'encoder.layer.14.attention.output.dense.bias', 'encoder.layer.14.attention.output.dense.weight', 'encoder.layer.14.intermediate.dense.bias', 'encoder.layer.14.intermediate.dense.weight', 'encoder.layer.14.layernorm_after.bias', 'encoder.layer.14.layernorm_after.weight', 'encoder.layer.14.layernorm_before.bias', 'encoder.layer.14.layernorm_before.weight', 'encoder.layer.14.output.dense.bias', 'encoder.layer.14.output.dense.weight', 'encoder.layer.15.attention.attention.key.bias', 'encoder.layer.15.attention.attention.key.weight', 'encoder.layer.15.attention.attention.query.bias', 'encoder.layer.15.attention.attention.query.weight', 'encoder.layer.15.attention.attention.value.bias', 'encoder.layer.15.attention.attention.value.weight', 'encoder.layer.15.attention.output.dense.bias', 'encoder.layer.15.attention.output.dense.weight', 'encoder.layer.15.intermediate.dense.bias', 'encoder.layer.15.intermediate.dense.weight', 'encoder.layer.15.layernorm_after.bias', 'encoder.layer.15.layernorm_after.weight', 'encoder.layer.15.layernorm_before.bias', 'encoder.layer.15.layernorm_before.weight', 'encoder.layer.15.output.dense.bias', 'encoder.layer.15.output.dense.weight', 'encoder.layer.16.attention.attention.key.bias', 'encoder.layer.16.attention.attention.key.weight', 'encoder.layer.16.attention.attention.query.bias', 'encoder.layer.16.attention.attention.query.weight', 'encoder.layer.16.attention.attention.value.bias', 'encoder.layer.16.attention.attention.value.weight', 'encoder.layer.16.attention.output.dense.bias', 'encoder.layer.16.attention.output.dense.weight', 'encoder.layer.16.intermediate.dense.bias', 'encoder.layer.16.intermediate.dense.weight', 'encoder.layer.16.layernorm_after.bias', 'encoder.layer.16.layernorm_after.weight', 'encoder.layer.16.layernorm_before.bias', 'encoder.layer.16.layernorm_before.weight', 'encoder.layer.16.output.dense.bias', 'encoder.layer.16.output.dense.weight', 'encoder.layer.17.attention.attention.key.bias', 'encoder.layer.17.attention.attention.key.weight', 'encoder.layer.17.attention.attention.query.bias', 'encoder.layer.17.attention.attention.query.weight', 'encoder.layer.17.attention.attention.value.bias', 'encoder.layer.17.attention.attention.value.weight', 'encoder.layer.17.attention.output.dense.bias', 'encoder.layer.17.attention.output.dense.weight', 'encoder.layer.17.intermediate.dense.bias', 'encoder.layer.17.intermediate.dense.weight', 'encoder.layer.17.layernorm_after.bias', 'encoder.layer.17.layernorm_after.weight', 'encoder.layer.17.layernorm_before.bias', 'encoder.layer.17.layernorm_before.weight', 'encoder.layer.17.output.dense.bias', 'encoder.layer.17.output.dense.weight', 'encoder.layer.18.attention.attention.key.bias', 'encoder.layer.18.attention.attention.key.weight', 'encoder.layer.18.attention.attention.query.bias', 'encoder.layer.18.attention.attention.query.weight', 'encoder.layer.18.attention.attention.value.bias', 'encoder.layer.18.attention.attention.value.weight', 'encoder.layer.18.attention.output.dense.bias', 'encoder.layer.18.attention.output.dense.weight', 'encoder.layer.18.intermediate.dense.bias', 'encoder.layer.18.intermediate.dense.weight', 'encoder.layer.18.layernorm_after.bias', 'encoder.layer.18.layernorm_after.weight', 'encoder.layer.18.layernorm_before.bias', 'encoder.layer.18.layernorm_before.weight', 'encoder.layer.18.output.dense.bias', 'encoder.layer.18.output.dense.weight', 'encoder.layer.19.attention.attention.key.bias', 'encoder.layer.19.attention.attention.key.weight', 'encoder.layer.19.attention.attention.query.bias', 'encoder.layer.19.attention.attention.query.weight', 'encoder.layer.19.attention.attention.value.bias', 'encoder.layer.19.attention.attention.value.weight', 'encoder.layer.19.attention.output.dense.bias', 'encoder.layer.19.attention.output.dense.weight', 'encoder.layer.19.intermediate.dense.bias', 'encoder.layer.19.intermediate.dense.weight', 'encoder.layer.19.layernorm_after.bias', 'encoder.layer.19.layernorm_after.weight', 'encoder.layer.19.layernorm_before.bias', 'encoder.layer.19.layernorm_before.weight', 'encoder.layer.19.output.dense.bias', 'encoder.layer.19.output.dense.weight', 'encoder.layer.20.attention.attention.key.bias', 'encoder.layer.20.attention.attention.key.weight', 'encoder.layer.20.attention.attention.query.bias', 'encoder.layer.20.attention.attention.query.weight', 'encoder.layer.20.attention.attention.value.bias', 'encoder.layer.20.attention.attention.value.weight', 'encoder.layer.20.attention.output.dense.bias', 'encoder.layer.20.attention.output.dense.weight', 'encoder.layer.20.intermediate.dense.bias', 'encoder.layer.20.intermediate.dense.weight', 'encoder.layer.20.layernorm_after.bias', 'encoder.layer.20.layernorm_after.weight', 'encoder.layer.20.layernorm_before.bias', 'encoder.layer.20.layernorm_before.weight', 'encoder.layer.20.output.dense.bias', 'encoder.layer.20.output.dense.weight']\n",
            "You should probably TRAIN this model on a down-stream task to be able to use it for predictions and inference.\n",
            "100%|██████████| 85/85 [04:20<00:00,  3.06s/it]\n",
            "100%|██████████| 12/12 [00:15<00:00,  1.28s/it]\n"
          ]
        },
        {
          "metadata": {
            "tags": null
          },
          "name": "stdout",
          "output_type": "stream",
          "text": [
            "Epoch: 1 | Train Loss: 0.013 | Train Accuracy: 0.507 | Val Loss: 0.013 | Val Accuracy: 0.451\n",
            "Precision: 0.318 | Recall: 0.451 | F1 Score: 0.328\n"
          ]
        },
        {
          "metadata": {
            "tags": null
          },
          "name": "stderr",
          "output_type": "stream",
          "text": [
            "100%|██████████| 85/85 [04:24<00:00,  3.11s/it]\n",
            "100%|██████████| 12/12 [00:15<00:00,  1.30s/it]\n"
          ]
        },
        {
          "metadata": {
            "tags": null
          },
          "name": "stdout",
          "output_type": "stream",
          "text": [
            "Epoch: 2 | Train Loss: 0.013 | Train Accuracy: 0.508 | Val Loss: 0.013 | Val Accuracy: 0.449\n",
            "Precision: 0.340 | Recall: 0.449 | F1 Score: 0.336\n"
          ]
        },
        {
          "metadata": {
            "tags": null
          },
          "name": "stderr",
          "output_type": "stream",
          "text": [
            "100%|██████████| 85/85 [04:25<00:00,  3.12s/it]\n",
            "100%|██████████| 12/12 [00:15<00:00,  1.28s/it]\n"
          ]
        },
        {
          "metadata": {
            "tags": null
          },
          "name": "stdout",
          "output_type": "stream",
          "text": [
            "Epoch: 3 | Train Loss: 0.013 | Train Accuracy: 0.503 | Val Loss: 0.012 | Val Accuracy: 0.411\n",
            "Precision: 0.318 | Recall: 0.411 | F1 Score: 0.325\n"
          ]
        },
        {
          "metadata": {
            "tags": null
          },
          "name": "stderr",
          "output_type": "stream",
          "text": [
            "100%|██████████| 85/85 [04:23<00:00,  3.10s/it]\n",
            "100%|██████████| 12/12 [00:15<00:00,  1.29s/it]\n"
          ]
        },
        {
          "metadata": {
            "tags": null
          },
          "name": "stdout",
          "output_type": "stream",
          "text": [
            "Epoch: 4 | Train Loss: 0.013 | Train Accuracy: 0.504 | Val Loss: 0.012 | Val Accuracy: 0.397\n",
            "Precision: 0.333 | Recall: 0.397 | F1 Score: 0.333\n"
          ]
        },
        {
          "metadata": {
            "tags": null
          },
          "name": "stderr",
          "output_type": "stream",
          "text": [
            "100%|██████████| 85/85 [04:25<00:00,  3.13s/it]\n",
            "100%|██████████| 12/12 [00:15<00:00,  1.31s/it]\n"
          ]
        },
        {
          "metadata": {
            "tags": null
          },
          "name": "stdout",
          "output_type": "stream",
          "text": [
            "Epoch: 5 | Train Loss: 0.013 | Train Accuracy: 0.500 | Val Loss: 0.012 | Val Accuracy: 0.397\n",
            "Precision: 0.350 | Recall: 0.397 | F1 Score: 0.346\n"
          ]
        },
        {
          "metadata": {
            "tags": null
          },
          "name": "stderr",
          "output_type": "stream",
          "text": [
            "100%|██████████| 85/85 [04:24<00:00,  3.11s/it]\n",
            "100%|██████████| 12/12 [00:15<00:00,  1.30s/it]\n"
          ]
        },
        {
          "metadata": {
            "tags": null
          },
          "name": "stdout",
          "output_type": "stream",
          "text": [
            "Epoch: 6 | Train Loss: 0.013 | Train Accuracy: 0.504 | Val Loss: 0.012 | Val Accuracy: 0.394\n",
            "Precision: 0.361 | Recall: 0.394 | F1 Score: 0.355\n"
          ]
        },
        {
          "metadata": {
            "tags": null
          },
          "name": "stderr",
          "output_type": "stream",
          "text": [
            "100%|██████████| 85/85 [04:24<00:00,  3.11s/it]\n",
            "100%|██████████| 12/12 [00:15<00:00,  1.32s/it]\n"
          ]
        },
        {
          "metadata": {
            "tags": null
          },
          "name": "stdout",
          "output_type": "stream",
          "text": [
            "Epoch: 7 | Train Loss: 0.013 | Train Accuracy: 0.511 | Val Loss: 0.012 | Val Accuracy: 0.414\n",
            "Precision: 0.394 | Recall: 0.414 | F1 Score: 0.385\n"
          ]
        },
        {
          "metadata": {
            "tags": null
          },
          "name": "stderr",
          "output_type": "stream",
          "text": [
            "100%|██████████| 85/85 [04:25<00:00,  3.13s/it]\n",
            "100%|██████████| 12/12 [00:15<00:00,  1.33s/it]\n"
          ]
        },
        {
          "metadata": {
            "tags": null
          },
          "name": "stdout",
          "output_type": "stream",
          "text": [
            "Epoch: 8 | Train Loss: 0.012 | Train Accuracy: 0.519 | Val Loss: 0.012 | Val Accuracy: 0.423\n",
            "Precision: 0.410 | Recall: 0.423 | F1 Score: 0.402\n"
          ]
        },
        {
          "metadata": {
            "tags": null
          },
          "name": "stderr",
          "output_type": "stream",
          "text": [
            "100%|██████████| 85/85 [04:24<00:00,  3.12s/it]\n",
            "100%|██████████| 12/12 [00:14<00:00,  1.25s/it]\n"
          ]
        },
        {
          "metadata": {
            "tags": null
          },
          "name": "stdout",
          "output_type": "stream",
          "text": [
            "Epoch: 9 | Train Loss: 0.012 | Train Accuracy: 0.525 | Val Loss: 0.012 | Val Accuracy: 0.433\n",
            "Precision: 0.424 | Recall: 0.433 | F1 Score: 0.415\n"
          ]
        },
        {
          "metadata": {
            "tags": null
          },
          "name": "stderr",
          "output_type": "stream",
          "text": [
            "100%|██████████| 85/85 [04:23<00:00,  3.10s/it]\n",
            "100%|██████████| 12/12 [00:15<00:00,  1.28s/it]\n"
          ]
        },
        {
          "metadata": {
            "tags": null
          },
          "name": "stdout",
          "output_type": "stream",
          "text": [
            "Epoch: 10 | Train Loss: 0.012 | Train Accuracy: 0.535 | Val Loss: 0.012 | Val Accuracy: 0.455\n",
            "Precision: 0.451 | Recall: 0.455 | F1 Score: 0.443\n"
          ]
        },
        {
          "metadata": {
            "tags": null
          },
          "name": "stderr",
          "output_type": "stream",
          "text": [
            "100%|██████████| 85/85 [04:25<00:00,  3.13s/it]\n",
            "100%|██████████| 12/12 [00:14<00:00,  1.23s/it]\n"
          ]
        },
        {
          "metadata": {
            "tags": null
          },
          "name": "stdout",
          "output_type": "stream",
          "text": [
            "Epoch: 11 | Train Loss: 0.012 | Train Accuracy: 0.547 | Val Loss: 0.012 | Val Accuracy: 0.452\n",
            "Precision: 0.450 | Recall: 0.452 | F1 Score: 0.447\n"
          ]
        },
        {
          "metadata": {
            "tags": null
          },
          "name": "stderr",
          "output_type": "stream",
          "text": [
            "100%|██████████| 85/85 [04:24<00:00,  3.11s/it]\n",
            "100%|██████████| 12/12 [00:15<00:00,  1.32s/it]\n"
          ]
        },
        {
          "metadata": {
            "tags": null
          },
          "name": "stdout",
          "output_type": "stream",
          "text": [
            "Epoch: 12 | Train Loss: 0.012 | Train Accuracy: 0.554 | Val Loss: 0.012 | Val Accuracy: 0.467\n",
            "Precision: 0.466 | Recall: 0.467 | F1 Score: 0.463\n"
          ]
        },
        {
          "metadata": {
            "tags": null
          },
          "name": "stderr",
          "output_type": "stream",
          "text": [
            "100%|██████████| 85/85 [04:25<00:00,  3.12s/it]\n",
            "100%|██████████| 12/12 [00:14<00:00,  1.21s/it]\n"
          ]
        },
        {
          "metadata": {
            "tags": null
          },
          "name": "stdout",
          "output_type": "stream",
          "text": [
            "Epoch: 13 | Train Loss: 0.012 | Train Accuracy: 0.559 | Val Loss: 0.012 | Val Accuracy: 0.475\n",
            "Precision: 0.474 | Recall: 0.475 | F1 Score: 0.472\n"
          ]
        },
        {
          "metadata": {
            "tags": null
          },
          "name": "stderr",
          "output_type": "stream",
          "text": [
            "100%|██████████| 85/85 [04:24<00:00,  3.11s/it]\n",
            "100%|██████████| 12/12 [00:14<00:00,  1.22s/it]\n"
          ]
        },
        {
          "metadata": {
            "tags": null
          },
          "name": "stdout",
          "output_type": "stream",
          "text": [
            "Epoch: 14 | Train Loss: 0.012 | Train Accuracy: 0.566 | Val Loss: 0.012 | Val Accuracy: 0.491\n",
            "Precision: 0.491 | Recall: 0.491 | F1 Score: 0.489\n"
          ]
        },
        {
          "metadata": {
            "tags": null
          },
          "name": "stderr",
          "output_type": "stream",
          "text": [
            "100%|██████████| 85/85 [04:25<00:00,  3.13s/it]\n",
            "100%|██████████| 12/12 [00:15<00:00,  1.28s/it]\n"
          ]
        },
        {
          "metadata": {
            "tags": null
          },
          "name": "stdout",
          "output_type": "stream",
          "text": [
            "Epoch: 15 | Train Loss: 0.012 | Train Accuracy: 0.572 | Val Loss: 0.012 | Val Accuracy: 0.497\n",
            "Precision: 0.497 | Recall: 0.497 | F1 Score: 0.496\n"
          ]
        },
        {
          "metadata": {
            "tags": null
          },
          "name": "stderr",
          "output_type": "stream",
          "text": [
            "100%|██████████| 85/85 [04:25<00:00,  3.12s/it]\n",
            "100%|██████████| 12/12 [00:15<00:00,  1.29s/it]\n"
          ]
        },
        {
          "metadata": {
            "tags": null
          },
          "name": "stdout",
          "output_type": "stream",
          "text": [
            "Epoch: 16 | Train Loss: 0.012 | Train Accuracy: 0.579 | Val Loss: 0.012 | Val Accuracy: 0.500\n",
            "Precision: 0.500 | Recall: 0.500 | F1 Score: 0.499\n"
          ]
        },
        {
          "metadata": {
            "tags": null
          },
          "name": "stderr",
          "output_type": "stream",
          "text": [
            "100%|██████████| 85/85 [04:25<00:00,  3.12s/it]\n",
            "100%|██████████| 12/12 [00:14<00:00,  1.22s/it]\n"
          ]
        },
        {
          "metadata": {
            "tags": null
          },
          "name": "stdout",
          "output_type": "stream",
          "text": [
            "Epoch: 17 | Train Loss: 0.012 | Train Accuracy: 0.584 | Val Loss: 0.012 | Val Accuracy: 0.512\n",
            "Precision: 0.512 | Recall: 0.512 | F1 Score: 0.511\n"
          ]
        },
        {
          "metadata": {
            "tags": null
          },
          "name": "stderr",
          "output_type": "stream",
          "text": [
            "100%|██████████| 85/85 [04:24<00:00,  3.11s/it]\n",
            "100%|██████████| 12/12 [00:14<00:00,  1.21s/it]\n",
            "[I 2024-06-10 10:39:43,946] Trial 0 finished with value: 0.5133928571428571 and parameters: {'epochs': 18, 'learning_rate': 2.470671072575044e-05, 'batch_size': 56, 'dropout_prob': 0.43668906163297244, 'optimizer_name': 'SGD', 'num_layers': 21, 'scheduler_type': 'StepLR'}. Best is trial 0 with value: 0.5133928571428571.\n"
          ]
        },
        {
          "metadata": {
            "tags": null
          },
          "name": "stdout",
          "output_type": "stream",
          "text": [
            "Epoch: 18 | Train Loss: 0.012 | Train Accuracy: 0.589 | Val Loss: 0.012 | Val Accuracy: 0.513\n",
            "Precision: 0.513 | Recall: 0.513 | F1 Score: 0.513\n"
          ]
        },
        {
          "metadata": {
            "tags": null
          },
          "name": "stderr",
          "output_type": "stream",
          "text": [
            "Some weights of ViTModel were not initialized from the model checkpoint at google/vit-base-patch16-224-in21k and are newly initialized: ['encoder.layer.12.attention.attention.key.bias', 'encoder.layer.12.attention.attention.key.weight', 'encoder.layer.12.attention.attention.query.bias', 'encoder.layer.12.attention.attention.query.weight', 'encoder.layer.12.attention.attention.value.bias', 'encoder.layer.12.attention.attention.value.weight', 'encoder.layer.12.attention.output.dense.bias', 'encoder.layer.12.attention.output.dense.weight', 'encoder.layer.12.intermediate.dense.bias', 'encoder.layer.12.intermediate.dense.weight', 'encoder.layer.12.layernorm_after.bias', 'encoder.layer.12.layernorm_after.weight', 'encoder.layer.12.layernorm_before.bias', 'encoder.layer.12.layernorm_before.weight', 'encoder.layer.12.output.dense.bias', 'encoder.layer.12.output.dense.weight', 'encoder.layer.13.attention.attention.key.bias', 'encoder.layer.13.attention.attention.key.weight', 'encoder.layer.13.attention.attention.query.bias', 'encoder.layer.13.attention.attention.query.weight', 'encoder.layer.13.attention.attention.value.bias', 'encoder.layer.13.attention.attention.value.weight', 'encoder.layer.13.attention.output.dense.bias', 'encoder.layer.13.attention.output.dense.weight', 'encoder.layer.13.intermediate.dense.bias', 'encoder.layer.13.intermediate.dense.weight', 'encoder.layer.13.layernorm_after.bias', 'encoder.layer.13.layernorm_after.weight', 'encoder.layer.13.layernorm_before.bias', 'encoder.layer.13.layernorm_before.weight', 'encoder.layer.13.output.dense.bias', 'encoder.layer.13.output.dense.weight', 'encoder.layer.14.attention.attention.key.bias', 'encoder.layer.14.attention.attention.key.weight', 'encoder.layer.14.attention.attention.query.bias', 'encoder.layer.14.attention.attention.query.weight', 'encoder.layer.14.attention.attention.value.bias', 'encoder.layer.14.attention.attention.value.weight', 'encoder.layer.14.attention.output.dense.bias', 'encoder.layer.14.attention.output.dense.weight', 'encoder.layer.14.intermediate.dense.bias', 'encoder.layer.14.intermediate.dense.weight', 'encoder.layer.14.layernorm_after.bias', 'encoder.layer.14.layernorm_after.weight', 'encoder.layer.14.layernorm_before.bias', 'encoder.layer.14.layernorm_before.weight', 'encoder.layer.14.output.dense.bias', 'encoder.layer.14.output.dense.weight']\n",
            "You should probably TRAIN this model on a down-stream task to be able to use it for predictions and inference.\n",
            "100%|██████████| 148/148 [03:14<00:00,  1.31s/it]\n",
            "100%|██████████| 21/21 [00:12<00:00,  1.66it/s]\n"
          ]
        },
        {
          "metadata": {
            "tags": null
          },
          "name": "stdout",
          "output_type": "stream",
          "text": [
            "Epoch: 1 | Train Loss: 0.022 | Train Accuracy: 0.525 | Val Loss: 0.021 | Val Accuracy: 0.592\n",
            "Precision: 0.598 | Recall: 0.592 | F1 Score: 0.586\n"
          ]
        },
        {
          "metadata": {
            "tags": null
          },
          "name": "stderr",
          "output_type": "stream",
          "text": [
            "100%|██████████| 148/148 [03:17<00:00,  1.33s/it]\n",
            "100%|██████████| 21/21 [00:11<00:00,  1.76it/s]\n"
          ]
        },
        {
          "metadata": {
            "tags": null
          },
          "name": "stdout",
          "output_type": "stream",
          "text": [
            "Epoch: 2 | Train Loss: 0.021 | Train Accuracy: 0.596 | Val Loss: 0.022 | Val Accuracy: 0.500\n",
            "Precision: 0.250 | Recall: 0.500 | F1 Score: 0.333\n"
          ]
        },
        {
          "metadata": {
            "tags": null
          },
          "name": "stderr",
          "output_type": "stream",
          "text": [
            "100%|██████████| 148/148 [03:14<00:00,  1.32s/it]\n",
            "100%|██████████| 21/21 [00:12<00:00,  1.72it/s]\n"
          ]
        },
        {
          "metadata": {
            "tags": null
          },
          "name": "stdout",
          "output_type": "stream",
          "text": [
            "Epoch: 3 | Train Loss: 0.022 | Train Accuracy: 0.510 | Val Loss: 0.021 | Val Accuracy: 0.610\n",
            "Precision: 0.622 | Recall: 0.610 | F1 Score: 0.601\n"
          ]
        },
        {
          "metadata": {
            "tags": null
          },
          "name": "stderr",
          "output_type": "stream",
          "text": [
            "100%|██████████| 148/148 [03:13<00:00,  1.31s/it]\n",
            "100%|██████████| 21/21 [00:12<00:00,  1.71it/s]\n"
          ]
        },
        {
          "metadata": {
            "tags": null
          },
          "name": "stdout",
          "output_type": "stream",
          "text": [
            "Epoch: 4 | Train Loss: 0.021 | Train Accuracy: 0.611 | Val Loss: 0.022 | Val Accuracy: 0.545\n",
            "Precision: 0.548 | Recall: 0.545 | F1 Score: 0.537\n"
          ]
        },
        {
          "metadata": {
            "tags": null
          },
          "name": "stderr",
          "output_type": "stream",
          "text": [
            "100%|██████████| 148/148 [03:16<00:00,  1.33s/it]\n",
            "100%|██████████| 21/21 [00:12<00:00,  1.66it/s]\n"
          ]
        },
        {
          "metadata": {
            "tags": null
          },
          "name": "stdout",
          "output_type": "stream",
          "text": [
            "Epoch: 5 | Train Loss: 0.021 | Train Accuracy: 0.591 | Val Loss: 0.022 | Val Accuracy: 0.439\n",
            "Precision: 0.416 | Recall: 0.439 | F1 Score: 0.398\n"
          ]
        },
        {
          "metadata": {
            "tags": null
          },
          "name": "stderr",
          "output_type": "stream",
          "text": [
            "100%|██████████| 148/148 [03:12<00:00,  1.30s/it]\n",
            "100%|██████████| 21/21 [00:11<00:00,  1.87it/s]\n"
          ]
        },
        {
          "metadata": {
            "tags": null
          },
          "name": "stdout",
          "output_type": "stream",
          "text": [
            "Epoch: 6 | Train Loss: 0.021 | Train Accuracy: 0.592 | Val Loss: 0.021 | Val Accuracy: 0.551\n",
            "Precision: 0.552 | Recall: 0.551 | F1 Score: 0.547\n"
          ]
        },
        {
          "metadata": {
            "tags": null
          },
          "name": "stderr",
          "output_type": "stream",
          "text": [
            "100%|██████████| 148/148 [03:16<00:00,  1.33s/it]\n",
            "100%|██████████| 21/21 [00:12<00:00,  1.66it/s]\n"
          ]
        },
        {
          "metadata": {
            "tags": null
          },
          "name": "stdout",
          "output_type": "stream",
          "text": [
            "Epoch: 7 | Train Loss: 0.021 | Train Accuracy: 0.614 | Val Loss: 0.021 | Val Accuracy: 0.591\n",
            "Precision: 0.591 | Recall: 0.591 | F1 Score: 0.591\n"
          ]
        },
        {
          "metadata": {
            "tags": null
          },
          "name": "stderr",
          "output_type": "stream",
          "text": [
            "100%|██████████| 148/148 [03:14<00:00,  1.31s/it]\n",
            "100%|██████████| 21/21 [00:12<00:00,  1.69it/s]\n"
          ]
        },
        {
          "metadata": {
            "tags": null
          },
          "name": "stdout",
          "output_type": "stream",
          "text": [
            "Epoch: 8 | Train Loss: 0.021 | Train Accuracy: 0.605 | Val Loss: 0.021 | Val Accuracy: 0.598\n",
            "Precision: 0.598 | Recall: 0.598 | F1 Score: 0.598\n"
          ]
        },
        {
          "metadata": {
            "tags": null
          },
          "name": "stderr",
          "output_type": "stream",
          "text": [
            "100%|██████████| 148/148 [03:17<00:00,  1.33s/it]\n",
            "100%|██████████| 21/21 [00:12<00:00,  1.67it/s]\n"
          ]
        },
        {
          "metadata": {
            "tags": null
          },
          "name": "stdout",
          "output_type": "stream",
          "text": [
            "Epoch: 9 | Train Loss: 0.020 | Train Accuracy: 0.632 | Val Loss: 0.021 | Val Accuracy: 0.601\n",
            "Precision: 0.650 | Recall: 0.601 | F1 Score: 0.566\n"
          ]
        },
        {
          "metadata": {
            "tags": null
          },
          "name": "stderr",
          "output_type": "stream",
          "text": [
            "100%|██████████| 148/148 [03:15<00:00,  1.32s/it]\n",
            "100%|██████████| 21/21 [00:11<00:00,  1.82it/s]\n"
          ]
        },
        {
          "metadata": {
            "tags": null
          },
          "name": "stdout",
          "output_type": "stream",
          "text": [
            "Epoch: 10 | Train Loss: 0.020 | Train Accuracy: 0.658 | Val Loss: 0.021 | Val Accuracy: 0.595\n",
            "Precision: 0.628 | Recall: 0.595 | F1 Score: 0.568\n"
          ]
        },
        {
          "metadata": {
            "tags": null
          },
          "name": "stderr",
          "output_type": "stream",
          "text": [
            "100%|██████████| 148/148 [03:14<00:00,  1.31s/it]\n",
            "100%|██████████| 21/21 [00:12<00:00,  1.71it/s]\n"
          ]
        },
        {
          "metadata": {
            "tags": null
          },
          "name": "stdout",
          "output_type": "stream",
          "text": [
            "Epoch: 11 | Train Loss: 0.020 | Train Accuracy: 0.674 | Val Loss: 0.021 | Val Accuracy: 0.601\n",
            "Precision: 0.614 | Recall: 0.601 | F1 Score: 0.589\n"
          ]
        },
        {
          "metadata": {
            "tags": null
          },
          "name": "stderr",
          "output_type": "stream",
          "text": [
            "100%|██████████| 148/148 [03:16<00:00,  1.32s/it]\n",
            "100%|██████████| 21/21 [00:12<00:00,  1.68it/s]\n"
          ]
        },
        {
          "metadata": {
            "tags": null
          },
          "name": "stdout",
          "output_type": "stream",
          "text": [
            "Epoch: 12 | Train Loss: 0.019 | Train Accuracy: 0.700 | Val Loss: 0.021 | Val Accuracy: 0.637\n",
            "Precision: 0.640 | Recall: 0.637 | F1 Score: 0.635\n"
          ]
        },
        {
          "metadata": {
            "tags": null
          },
          "name": "stderr",
          "output_type": "stream",
          "text": [
            "100%|██████████| 148/148 [03:17<00:00,  1.33s/it]\n",
            "100%|██████████| 21/21 [00:12<00:00,  1.63it/s]\n"
          ]
        },
        {
          "metadata": {
            "tags": null
          },
          "name": "stdout",
          "output_type": "stream",
          "text": [
            "Epoch: 13 | Train Loss: 0.018 | Train Accuracy: 0.709 | Val Loss: 0.021 | Val Accuracy: 0.567\n",
            "Precision: 0.603 | Recall: 0.567 | F1 Score: 0.525\n"
          ]
        },
        {
          "metadata": {
            "tags": null
          },
          "name": "stderr",
          "output_type": "stream",
          "text": [
            "100%|██████████| 148/148 [03:16<00:00,  1.33s/it]\n",
            "100%|██████████| 21/21 [00:11<00:00,  1.84it/s]\n"
          ]
        },
        {
          "metadata": {
            "tags": null
          },
          "name": "stdout",
          "output_type": "stream",
          "text": [
            "Epoch: 14 | Train Loss: 0.018 | Train Accuracy: 0.716 | Val Loss: 0.021 | Val Accuracy: 0.597\n",
            "Precision: 0.635 | Recall: 0.597 | F1 Score: 0.566\n"
          ]
        },
        {
          "metadata": {
            "tags": null
          },
          "name": "stderr",
          "output_type": "stream",
          "text": [
            "100%|██████████| 148/148 [03:18<00:00,  1.34s/it]\n",
            "100%|██████████| 21/21 [00:11<00:00,  1.77it/s]\n"
          ]
        },
        {
          "metadata": {
            "tags": null
          },
          "name": "stdout",
          "output_type": "stream",
          "text": [
            "Epoch: 15 | Train Loss: 0.017 | Train Accuracy: 0.741 | Val Loss: 0.022 | Val Accuracy: 0.638\n",
            "Precision: 0.673 | Recall: 0.638 | F1 Score: 0.619\n"
          ]
        },
        {
          "metadata": {
            "tags": null
          },
          "name": "stderr",
          "output_type": "stream",
          "text": [
            "100%|██████████| 148/148 [03:15<00:00,  1.32s/it]\n",
            "100%|██████████| 21/21 [00:12<00:00,  1.66it/s]\n"
          ]
        },
        {
          "metadata": {
            "tags": null
          },
          "name": "stdout",
          "output_type": "stream",
          "text": [
            "Epoch: 16 | Train Loss: 0.017 | Train Accuracy: 0.728 | Val Loss: 0.022 | Val Accuracy: 0.585\n",
            "Precision: 0.605 | Recall: 0.585 | F1 Score: 0.564\n"
          ]
        },
        {
          "metadata": {
            "tags": null
          },
          "name": "stderr",
          "output_type": "stream",
          "text": [
            "100%|██████████| 148/148 [03:14<00:00,  1.32s/it]\n",
            "100%|██████████| 21/21 [00:12<00:00,  1.62it/s]\n"
          ]
        },
        {
          "metadata": {
            "tags": null
          },
          "name": "stdout",
          "output_type": "stream",
          "text": [
            "Epoch: 17 | Train Loss: 0.016 | Train Accuracy: 0.763 | Val Loss: 0.024 | Val Accuracy: 0.604\n",
            "Precision: 0.634 | Recall: 0.604 | F1 Score: 0.581\n"
          ]
        },
        {
          "metadata": {
            "tags": null
          },
          "name": "stderr",
          "output_type": "stream",
          "text": [
            "100%|██████████| 148/148 [03:16<00:00,  1.33s/it]\n",
            "100%|██████████| 21/21 [00:12<00:00,  1.67it/s]\n"
          ]
        },
        {
          "metadata": {
            "tags": null
          },
          "name": "stdout",
          "output_type": "stream",
          "text": [
            "Epoch: 18 | Train Loss: 0.015 | Train Accuracy: 0.786 | Val Loss: 0.027 | Val Accuracy: 0.579\n",
            "Precision: 0.634 | Recall: 0.579 | F1 Score: 0.531\n"
          ]
        },
        {
          "metadata": {
            "tags": null
          },
          "name": "stderr",
          "output_type": "stream",
          "text": [
            "100%|██████████| 148/148 [03:14<00:00,  1.31s/it]\n",
            "100%|██████████| 21/21 [00:11<00:00,  1.88it/s]\n"
          ]
        },
        {
          "metadata": {
            "tags": null
          },
          "name": "stdout",
          "output_type": "stream",
          "text": [
            "Epoch: 19 | Train Loss: 0.014 | Train Accuracy: 0.801 | Val Loss: 0.023 | Val Accuracy: 0.582\n",
            "Precision: 0.595 | Recall: 0.582 | F1 Score: 0.567\n"
          ]
        },
        {
          "metadata": {
            "tags": null
          },
          "name": "stderr",
          "output_type": "stream",
          "text": [
            "100%|██████████| 148/148 [03:13<00:00,  1.31s/it]\n",
            "100%|██████████| 21/21 [00:12<00:00,  1.68it/s]\n"
          ]
        },
        {
          "metadata": {
            "tags": null
          },
          "name": "stdout",
          "output_type": "stream",
          "text": [
            "Epoch: 20 | Train Loss: 0.014 | Train Accuracy: 0.804 | Val Loss: 0.028 | Val Accuracy: 0.594\n",
            "Precision: 0.639 | Recall: 0.594 | F1 Score: 0.558\n"
          ]
        },
        {
          "metadata": {
            "tags": null
          },
          "name": "stderr",
          "output_type": "stream",
          "text": [
            "100%|██████████| 148/148 [03:15<00:00,  1.32s/it]\n",
            "100%|██████████| 21/21 [00:12<00:00,  1.71it/s]\n"
          ]
        },
        {
          "metadata": {
            "tags": null
          },
          "name": "stdout",
          "output_type": "stream",
          "text": [
            "Epoch: 21 | Train Loss: 0.012 | Train Accuracy: 0.848 | Val Loss: 0.034 | Val Accuracy: 0.554\n",
            "Precision: 0.596 | Recall: 0.554 | F1 Score: 0.498\n"
          ]
        },
        {
          "metadata": {
            "tags": null
          },
          "name": "stderr",
          "output_type": "stream",
          "text": [
            "100%|██████████| 148/148 [03:16<00:00,  1.33s/it]\n",
            "100%|██████████| 21/21 [00:12<00:00,  1.73it/s]\n"
          ]
        },
        {
          "metadata": {
            "tags": null
          },
          "name": "stdout",
          "output_type": "stream",
          "text": [
            "Epoch: 22 | Train Loss: 0.011 | Train Accuracy: 0.866 | Val Loss: 0.035 | Val Accuracy: 0.552\n",
            "Precision: 0.581 | Recall: 0.552 | F1 Score: 0.508\n"
          ]
        },
        {
          "metadata": {
            "tags": null
          },
          "name": "stderr",
          "output_type": "stream",
          "text": [
            "100%|██████████| 148/148 [03:15<00:00,  1.32s/it]\n",
            "100%|██████████| 21/21 [00:12<00:00,  1.68it/s]\n"
          ]
        },
        {
          "metadata": {
            "tags": null
          },
          "name": "stdout",
          "output_type": "stream",
          "text": [
            "Epoch: 23 | Train Loss: 0.010 | Train Accuracy: 0.869 | Val Loss: 0.033 | Val Accuracy: 0.640\n",
            "Precision: 0.651 | Recall: 0.640 | F1 Score: 0.633\n"
          ]
        },
        {
          "metadata": {
            "tags": null
          },
          "name": "stderr",
          "output_type": "stream",
          "text": [
            "100%|██████████| 148/148 [03:13<00:00,  1.31s/it]\n",
            "100%|██████████| 21/21 [00:12<00:00,  1.67it/s]\n"
          ]
        },
        {
          "metadata": {
            "tags": null
          },
          "name": "stdout",
          "output_type": "stream",
          "text": [
            "Epoch: 24 | Train Loss: 0.010 | Train Accuracy: 0.880 | Val Loss: 0.037 | Val Accuracy: 0.573\n",
            "Precision: 0.595 | Recall: 0.573 | F1 Score: 0.546\n"
          ]
        },
        {
          "metadata": {
            "tags": null
          },
          "name": "stderr",
          "output_type": "stream",
          "text": [
            "100%|██████████| 148/148 [03:16<00:00,  1.33s/it]\n",
            "100%|██████████| 21/21 [00:12<00:00,  1.65it/s]\n"
          ]
        },
        {
          "metadata": {
            "tags": null
          },
          "name": "stdout",
          "output_type": "stream",
          "text": [
            "Epoch: 25 | Train Loss: 0.009 | Train Accuracy: 0.889 | Val Loss: 0.036 | Val Accuracy: 0.557\n",
            "Precision: 0.578 | Recall: 0.557 | F1 Score: 0.524\n"
          ]
        },
        {
          "metadata": {
            "tags": null
          },
          "name": "stderr",
          "output_type": "stream",
          "text": [
            "100%|██████████| 148/148 [03:14<00:00,  1.31s/it]\n",
            "100%|██████████| 21/21 [00:12<00:00,  1.70it/s]\n",
            "[I 2024-06-10 12:09:48,417] Trial 1 finished with value: 0.5446428571428571 and parameters: {'epochs': 26, 'learning_rate': 0.00043096676687832063, 'batch_size': 32, 'dropout_prob': 0.6751898041738074, 'optimizer_name': 'AdamW', 'num_layers': 15, 'scheduler_type': 'StepLR'}. Best is trial 1 with value: 0.5446428571428571.\n"
          ]
        },
        {
          "metadata": {
            "tags": null
          },
          "name": "stdout",
          "output_type": "stream",
          "text": [
            "Epoch: 26 | Train Loss: 0.009 | Train Accuracy: 0.894 | Val Loss: 0.040 | Val Accuracy: 0.545\n",
            "Precision: 0.576 | Recall: 0.545 | F1 Score: 0.492\n"
          ]
        },
        {
          "metadata": {
            "tags": null
          },
          "name": "stderr",
          "output_type": "stream",
          "text": [
            "Some weights of ViTModel were not initialized from the model checkpoint at google/vit-base-patch16-224-in21k and are newly initialized: ['encoder.layer.12.attention.attention.key.bias', 'encoder.layer.12.attention.attention.key.weight', 'encoder.layer.12.attention.attention.query.bias', 'encoder.layer.12.attention.attention.query.weight', 'encoder.layer.12.attention.attention.value.bias', 'encoder.layer.12.attention.attention.value.weight', 'encoder.layer.12.attention.output.dense.bias', 'encoder.layer.12.attention.output.dense.weight', 'encoder.layer.12.intermediate.dense.bias', 'encoder.layer.12.intermediate.dense.weight', 'encoder.layer.12.layernorm_after.bias', 'encoder.layer.12.layernorm_after.weight', 'encoder.layer.12.layernorm_before.bias', 'encoder.layer.12.layernorm_before.weight', 'encoder.layer.12.output.dense.bias', 'encoder.layer.12.output.dense.weight', 'encoder.layer.13.attention.attention.key.bias', 'encoder.layer.13.attention.attention.key.weight', 'encoder.layer.13.attention.attention.query.bias', 'encoder.layer.13.attention.attention.query.weight', 'encoder.layer.13.attention.attention.value.bias', 'encoder.layer.13.attention.attention.value.weight', 'encoder.layer.13.attention.output.dense.bias', 'encoder.layer.13.attention.output.dense.weight', 'encoder.layer.13.intermediate.dense.bias', 'encoder.layer.13.intermediate.dense.weight', 'encoder.layer.13.layernorm_after.bias', 'encoder.layer.13.layernorm_after.weight', 'encoder.layer.13.layernorm_before.bias', 'encoder.layer.13.layernorm_before.weight', 'encoder.layer.13.output.dense.bias', 'encoder.layer.13.output.dense.weight', 'encoder.layer.14.attention.attention.key.bias', 'encoder.layer.14.attention.attention.key.weight', 'encoder.layer.14.attention.attention.query.bias', 'encoder.layer.14.attention.attention.query.weight', 'encoder.layer.14.attention.attention.value.bias', 'encoder.layer.14.attention.attention.value.weight', 'encoder.layer.14.attention.output.dense.bias', 'encoder.layer.14.attention.output.dense.weight', 'encoder.layer.14.intermediate.dense.bias', 'encoder.layer.14.intermediate.dense.weight', 'encoder.layer.14.layernorm_after.bias', 'encoder.layer.14.layernorm_after.weight', 'encoder.layer.14.layernorm_before.bias', 'encoder.layer.14.layernorm_before.weight', 'encoder.layer.14.output.dense.bias', 'encoder.layer.14.output.dense.weight', 'encoder.layer.15.attention.attention.key.bias', 'encoder.layer.15.attention.attention.key.weight', 'encoder.layer.15.attention.attention.query.bias', 'encoder.layer.15.attention.attention.query.weight', 'encoder.layer.15.attention.attention.value.bias', 'encoder.layer.15.attention.attention.value.weight', 'encoder.layer.15.attention.output.dense.bias', 'encoder.layer.15.attention.output.dense.weight', 'encoder.layer.15.intermediate.dense.bias', 'encoder.layer.15.intermediate.dense.weight', 'encoder.layer.15.layernorm_after.bias', 'encoder.layer.15.layernorm_after.weight', 'encoder.layer.15.layernorm_before.bias', 'encoder.layer.15.layernorm_before.weight', 'encoder.layer.15.output.dense.bias', 'encoder.layer.15.output.dense.weight']\n",
            "You should probably TRAIN this model on a down-stream task to be able to use it for predictions and inference.\n",
            "100%|██████████| 88/88 [03:26<00:00,  2.35s/it]\n",
            "100%|██████████| 13/13 [00:13<00:00,  1.04s/it]\n"
          ]
        },
        {
          "metadata": {
            "tags": null
          },
          "name": "stdout",
          "output_type": "stream",
          "text": [
            "Epoch: 1 | Train Loss: 0.013 | Train Accuracy: 0.589 | Val Loss: 0.013 | Val Accuracy: 0.545\n",
            "Precision: 0.568 | Recall: 0.545 | F1 Score: 0.502\n"
          ]
        },
        {
          "metadata": {
            "tags": null
          },
          "name": "stderr",
          "output_type": "stream",
          "text": [
            "100%|██████████| 88/88 [03:24<00:00,  2.32s/it]\n",
            "100%|██████████| 13/13 [00:12<00:00,  1.04it/s]\n"
          ]
        },
        {
          "metadata": {
            "tags": null
          },
          "name": "stdout",
          "output_type": "stream",
          "text": [
            "Epoch: 2 | Train Loss: 0.012 | Train Accuracy: 0.697 | Val Loss: 0.013 | Val Accuracy: 0.626\n",
            "Precision: 0.658 | Recall: 0.626 | F1 Score: 0.607\n"
          ]
        },
        {
          "metadata": {
            "tags": null
          },
          "name": "stderr",
          "output_type": "stream",
          "text": [
            "100%|██████████| 88/88 [03:26<00:00,  2.35s/it]\n",
            "100%|██████████| 13/13 [00:12<00:00,  1.05it/s]\n"
          ]
        },
        {
          "metadata": {
            "tags": null
          },
          "name": "stdout",
          "output_type": "stream",
          "text": [
            "Epoch: 3 | Train Loss: 0.010 | Train Accuracy: 0.780 | Val Loss: 0.011 | Val Accuracy: 0.734\n",
            "Precision: 0.758 | Recall: 0.734 | F1 Score: 0.727\n"
          ]
        },
        {
          "metadata": {
            "tags": null
          },
          "name": "stderr",
          "output_type": "stream",
          "text": [
            "100%|██████████| 88/88 [03:26<00:00,  2.34s/it]\n",
            "100%|██████████| 13/13 [00:12<00:00,  1.05it/s]\n"
          ]
        },
        {
          "metadata": {
            "tags": null
          },
          "name": "stdout",
          "output_type": "stream",
          "text": [
            "Epoch: 4 | Train Loss: 0.006 | Train Accuracy: 0.873 | Val Loss: 0.010 | Val Accuracy: 0.784\n",
            "Precision: 0.797 | Recall: 0.784 | F1 Score: 0.782\n"
          ]
        },
        {
          "metadata": {
            "tags": null
          },
          "name": "stderr",
          "output_type": "stream",
          "text": [
            "100%|██████████| 88/88 [03:26<00:00,  2.35s/it]\n",
            "100%|██████████| 13/13 [00:13<00:00,  1.03s/it]\n"
          ]
        },
        {
          "metadata": {
            "tags": null
          },
          "name": "stdout",
          "output_type": "stream",
          "text": [
            "Epoch: 5 | Train Loss: 0.004 | Train Accuracy: 0.930 | Val Loss: 0.012 | Val Accuracy: 0.726\n",
            "Precision: 0.804 | Recall: 0.726 | F1 Score: 0.707\n"
          ]
        },
        {
          "metadata": {
            "tags": null
          },
          "name": "stderr",
          "output_type": "stream",
          "text": [
            "100%|██████████| 88/88 [03:26<00:00,  2.34s/it]\n",
            "100%|██████████| 13/13 [00:13<00:00,  1.02s/it]\n"
          ]
        },
        {
          "metadata": {
            "tags": null
          },
          "name": "stdout",
          "output_type": "stream",
          "text": [
            "Epoch: 6 | Train Loss: 0.003 | Train Accuracy: 0.957 | Val Loss: 0.011 | Val Accuracy: 0.793\n",
            "Precision: 0.824 | Recall: 0.793 | F1 Score: 0.788\n"
          ]
        },
        {
          "metadata": {
            "tags": null
          },
          "name": "stderr",
          "output_type": "stream",
          "text": [
            "100%|██████████| 88/88 [03:25<00:00,  2.34s/it]\n",
            "100%|██████████| 13/13 [00:13<00:00,  1.04s/it]\n"
          ]
        },
        {
          "metadata": {
            "tags": null
          },
          "name": "stdout",
          "output_type": "stream",
          "text": [
            "Epoch: 7 | Train Loss: 0.002 | Train Accuracy: 0.975 | Val Loss: 0.017 | Val Accuracy: 0.693\n",
            "Precision: 0.793 | Recall: 0.693 | F1 Score: 0.665\n"
          ]
        },
        {
          "metadata": {
            "tags": null
          },
          "name": "stderr",
          "output_type": "stream",
          "text": [
            "100%|██████████| 88/88 [03:24<00:00,  2.33s/it]\n",
            "100%|██████████| 13/13 [00:13<00:00,  1.03s/it]\n"
          ]
        },
        {
          "metadata": {
            "tags": null
          },
          "name": "stdout",
          "output_type": "stream",
          "text": [
            "Epoch: 8 | Train Loss: 0.001 | Train Accuracy: 0.978 | Val Loss: 0.017 | Val Accuracy: 0.699\n",
            "Precision: 0.793 | Recall: 0.699 | F1 Score: 0.673\n"
          ]
        },
        {
          "metadata": {
            "tags": null
          },
          "name": "stderr",
          "output_type": "stream",
          "text": [
            "100%|██████████| 88/88 [03:25<00:00,  2.33s/it]\n",
            "100%|██████████| 13/13 [00:13<00:00,  1.01s/it]\n"
          ]
        },
        {
          "metadata": {
            "tags": null
          },
          "name": "stdout",
          "output_type": "stream",
          "text": [
            "Epoch: 9 | Train Loss: 0.001 | Train Accuracy: 0.976 | Val Loss: 0.019 | Val Accuracy: 0.720\n",
            "Precision: 0.812 | Recall: 0.720 | F1 Score: 0.698\n"
          ]
        },
        {
          "metadata": {
            "tags": null
          },
          "name": "stderr",
          "output_type": "stream",
          "text": [
            "100%|██████████| 88/88 [03:24<00:00,  2.32s/it]\n",
            "100%|██████████| 13/13 [00:12<00:00,  1.04it/s]\n"
          ]
        },
        {
          "metadata": {
            "tags": null
          },
          "name": "stdout",
          "output_type": "stream",
          "text": [
            "Epoch: 10 | Train Loss: 0.002 | Train Accuracy: 0.960 | Val Loss: 0.016 | Val Accuracy: 0.759\n",
            "Precision: 0.815 | Recall: 0.759 | F1 Score: 0.748\n"
          ]
        },
        {
          "metadata": {
            "tags": null
          },
          "name": "stderr",
          "output_type": "stream",
          "text": [
            "100%|██████████| 88/88 [03:25<00:00,  2.33s/it]\n",
            "100%|██████████| 13/13 [00:12<00:00,  1.08it/s]\n"
          ]
        },
        {
          "metadata": {
            "tags": null
          },
          "name": "stdout",
          "output_type": "stream",
          "text": [
            "Epoch: 11 | Train Loss: 0.001 | Train Accuracy: 0.992 | Val Loss: 0.021 | Val Accuracy: 0.701\n",
            "Precision: 0.800 | Recall: 0.701 | F1 Score: 0.674\n"
          ]
        },
        {
          "metadata": {
            "tags": null
          },
          "name": "stderr",
          "output_type": "stream",
          "text": [
            "100%|██████████| 88/88 [03:24<00:00,  2.33s/it]\n",
            "100%|██████████| 13/13 [00:12<00:00,  1.08it/s]\n"
          ]
        },
        {
          "metadata": {
            "tags": null
          },
          "name": "stdout",
          "output_type": "stream",
          "text": [
            "Epoch: 12 | Train Loss: 0.001 | Train Accuracy: 0.996 | Val Loss: 0.019 | Val Accuracy: 0.746\n",
            "Precision: 0.819 | Recall: 0.746 | F1 Score: 0.730\n"
          ]
        },
        {
          "metadata": {
            "tags": null
          },
          "name": "stderr",
          "output_type": "stream",
          "text": [
            "100%|██████████| 88/88 [03:26<00:00,  2.34s/it]\n",
            "100%|██████████| 13/13 [00:12<00:00,  1.04it/s]\n"
          ]
        },
        {
          "metadata": {
            "tags": null
          },
          "name": "stdout",
          "output_type": "stream",
          "text": [
            "Epoch: 13 | Train Loss: 0.000 | Train Accuracy: 0.997 | Val Loss: 0.020 | Val Accuracy: 0.729\n",
            "Precision: 0.816 | Recall: 0.729 | F1 Score: 0.709\n"
          ]
        },
        {
          "metadata": {
            "tags": null
          },
          "name": "stderr",
          "output_type": "stream",
          "text": [
            "100%|██████████| 88/88 [03:25<00:00,  2.33s/it]\n",
            "100%|██████████| 13/13 [00:13<00:00,  1.02s/it]\n"
          ]
        },
        {
          "metadata": {
            "tags": null
          },
          "name": "stdout",
          "output_type": "stream",
          "text": [
            "Epoch: 14 | Train Loss: 0.000 | Train Accuracy: 0.998 | Val Loss: 0.021 | Val Accuracy: 0.720\n",
            "Precision: 0.812 | Recall: 0.720 | F1 Score: 0.698\n"
          ]
        },
        {
          "metadata": {
            "tags": null
          },
          "name": "stderr",
          "output_type": "stream",
          "text": [
            "100%|██████████| 88/88 [03:24<00:00,  2.32s/it]\n",
            "100%|██████████| 13/13 [00:12<00:00,  1.04it/s]\n"
          ]
        },
        {
          "metadata": {
            "tags": null
          },
          "name": "stdout",
          "output_type": "stream",
          "text": [
            "Epoch: 15 | Train Loss: 0.000 | Train Accuracy: 0.997 | Val Loss: 0.022 | Val Accuracy: 0.725\n",
            "Precision: 0.808 | Recall: 0.725 | F1 Score: 0.705\n"
          ]
        },
        {
          "metadata": {
            "tags": null
          },
          "name": "stderr",
          "output_type": "stream",
          "text": [
            "100%|██████████| 88/88 [03:25<00:00,  2.34s/it]\n",
            "100%|██████████| 13/13 [00:13<00:00,  1.05s/it]\n"
          ]
        },
        {
          "metadata": {
            "tags": null
          },
          "name": "stdout",
          "output_type": "stream",
          "text": [
            "Epoch: 16 | Train Loss: 0.000 | Train Accuracy: 0.998 | Val Loss: 0.021 | Val Accuracy: 0.726\n",
            "Precision: 0.809 | Recall: 0.726 | F1 Score: 0.707\n"
          ]
        },
        {
          "metadata": {
            "tags": null
          },
          "name": "stderr",
          "output_type": "stream",
          "text": [
            "100%|██████████| 88/88 [03:24<00:00,  2.33s/it]\n",
            "100%|██████████| 13/13 [00:13<00:00,  1.05s/it]\n"
          ]
        },
        {
          "metadata": {
            "tags": null
          },
          "name": "stdout",
          "output_type": "stream",
          "text": [
            "Epoch: 17 | Train Loss: 0.000 | Train Accuracy: 0.999 | Val Loss: 0.021 | Val Accuracy: 0.726\n",
            "Precision: 0.809 | Recall: 0.726 | F1 Score: 0.707\n"
          ]
        },
        {
          "metadata": {
            "tags": null
          },
          "name": "stderr",
          "output_type": "stream",
          "text": [
            "100%|██████████| 88/88 [03:26<00:00,  2.35s/it]\n",
            "100%|██████████| 13/13 [00:13<00:00,  1.05s/it]\n"
          ]
        },
        {
          "metadata": {
            "tags": null
          },
          "name": "stdout",
          "output_type": "stream",
          "text": [
            "Epoch: 18 | Train Loss: 0.000 | Train Accuracy: 0.999 | Val Loss: 0.021 | Val Accuracy: 0.726\n",
            "Precision: 0.809 | Recall: 0.726 | F1 Score: 0.707\n"
          ]
        },
        {
          "metadata": {
            "tags": null
          },
          "name": "stderr",
          "output_type": "stream",
          "text": [
            "100%|██████████| 88/88 [03:26<00:00,  2.35s/it]\n",
            "100%|██████████| 13/13 [00:13<00:00,  1.06s/it]\n"
          ]
        },
        {
          "metadata": {
            "tags": null
          },
          "name": "stdout",
          "output_type": "stream",
          "text": [
            "Epoch: 19 | Train Loss: 0.000 | Train Accuracy: 0.999 | Val Loss: 0.022 | Val Accuracy: 0.726\n",
            "Precision: 0.809 | Recall: 0.726 | F1 Score: 0.707\n"
          ]
        },
        {
          "metadata": {
            "tags": null
          },
          "name": "stderr",
          "output_type": "stream",
          "text": [
            "100%|██████████| 88/88 [03:26<00:00,  2.35s/it]\n",
            "100%|██████████| 13/13 [00:13<00:00,  1.02s/it]\n"
          ]
        },
        {
          "metadata": {
            "tags": null
          },
          "name": "stdout",
          "output_type": "stream",
          "text": [
            "Epoch: 20 | Train Loss: 0.000 | Train Accuracy: 0.999 | Val Loss: 0.022 | Val Accuracy: 0.726\n",
            "Precision: 0.809 | Recall: 0.726 | F1 Score: 0.707\n"
          ]
        },
        {
          "metadata": {
            "tags": null
          },
          "name": "stderr",
          "output_type": "stream",
          "text": [
            "100%|██████████| 88/88 [03:27<00:00,  2.36s/it]\n",
            "100%|██████████| 13/13 [00:12<00:00,  1.07it/s]\n"
          ]
        },
        {
          "metadata": {
            "tags": null
          },
          "name": "stdout",
          "output_type": "stream",
          "text": [
            "Epoch: 21 | Train Loss: 0.000 | Train Accuracy: 0.999 | Val Loss: 0.022 | Val Accuracy: 0.729\n",
            "Precision: 0.811 | Recall: 0.729 | F1 Score: 0.710\n"
          ]
        },
        {
          "metadata": {
            "tags": null
          },
          "name": "stderr",
          "output_type": "stream",
          "text": [
            "100%|██████████| 88/88 [03:26<00:00,  2.34s/it]\n",
            "100%|██████████| 13/13 [00:12<00:00,  1.04it/s]\n"
          ]
        },
        {
          "metadata": {
            "tags": null
          },
          "name": "stdout",
          "output_type": "stream",
          "text": [
            "Epoch: 22 | Train Loss: 0.000 | Train Accuracy: 0.999 | Val Loss: 0.022 | Val Accuracy: 0.729\n",
            "Precision: 0.811 | Recall: 0.729 | F1 Score: 0.710\n"
          ]
        },
        {
          "metadata": {
            "tags": null
          },
          "name": "stderr",
          "output_type": "stream",
          "text": [
            "100%|██████████| 88/88 [03:26<00:00,  2.34s/it]\n",
            "100%|██████████| 13/13 [00:13<00:00,  1.00s/it]\n"
          ]
        },
        {
          "metadata": {
            "tags": null
          },
          "name": "stdout",
          "output_type": "stream",
          "text": [
            "Epoch: 23 | Train Loss: 0.000 | Train Accuracy: 0.999 | Val Loss: 0.022 | Val Accuracy: 0.729\n",
            "Precision: 0.811 | Recall: 0.729 | F1 Score: 0.710\n"
          ]
        },
        {
          "metadata": {
            "tags": null
          },
          "name": "stderr",
          "output_type": "stream",
          "text": [
            "100%|██████████| 88/88 [03:23<00:00,  2.32s/it]\n",
            "100%|██████████| 13/13 [00:13<00:00,  1.01s/it]\n"
          ]
        },
        {
          "metadata": {
            "tags": null
          },
          "name": "stdout",
          "output_type": "stream",
          "text": [
            "Epoch: 24 | Train Loss: 0.000 | Train Accuracy: 0.999 | Val Loss: 0.022 | Val Accuracy: 0.729\n",
            "Precision: 0.811 | Recall: 0.729 | F1 Score: 0.710\n"
          ]
        },
        {
          "metadata": {
            "tags": null
          },
          "name": "stderr",
          "output_type": "stream",
          "text": [
            "100%|██████████| 88/88 [03:23<00:00,  2.32s/it]\n",
            "100%|██████████| 13/13 [00:13<00:00,  1.04s/it]\n"
          ]
        },
        {
          "metadata": {
            "tags": null
          },
          "name": "stdout",
          "output_type": "stream",
          "text": [
            "Epoch: 25 | Train Loss: 0.000 | Train Accuracy: 0.999 | Val Loss: 0.022 | Val Accuracy: 0.731\n",
            "Precision: 0.811 | Recall: 0.731 | F1 Score: 0.712\n"
          ]
        },
        {
          "metadata": {
            "tags": null
          },
          "name": "stderr",
          "output_type": "stream",
          "text": [
            "100%|██████████| 88/88 [03:24<00:00,  2.32s/it]\n",
            "100%|██████████| 13/13 [00:13<00:00,  1.02s/it]\n"
          ]
        },
        {
          "metadata": {
            "tags": null
          },
          "name": "stdout",
          "output_type": "stream",
          "text": [
            "Epoch: 26 | Train Loss: 0.000 | Train Accuracy: 0.999 | Val Loss: 0.022 | Val Accuracy: 0.731\n",
            "Precision: 0.811 | Recall: 0.731 | F1 Score: 0.712\n"
          ]
        },
        {
          "metadata": {
            "tags": null
          },
          "name": "stderr",
          "output_type": "stream",
          "text": [
            "100%|██████████| 88/88 [03:25<00:00,  2.34s/it]\n",
            "100%|██████████| 13/13 [00:13<00:00,  1.01s/it]\n"
          ]
        },
        {
          "metadata": {
            "tags": null
          },
          "name": "stdout",
          "output_type": "stream",
          "text": [
            "Epoch: 27 | Train Loss: 0.000 | Train Accuracy: 0.999 | Val Loss: 0.022 | Val Accuracy: 0.731\n",
            "Precision: 0.811 | Recall: 0.731 | F1 Score: 0.712\n"
          ]
        },
        {
          "metadata": {
            "tags": null
          },
          "name": "stderr",
          "output_type": "stream",
          "text": [
            "100%|██████████| 88/88 [03:24<00:00,  2.32s/it]\n",
            "100%|██████████| 13/13 [00:12<00:00,  1.02it/s]\n"
          ]
        },
        {
          "metadata": {
            "tags": null
          },
          "name": "stdout",
          "output_type": "stream",
          "text": [
            "Epoch: 28 | Train Loss: 0.000 | Train Accuracy: 0.999 | Val Loss: 0.022 | Val Accuracy: 0.731\n",
            "Precision: 0.811 | Recall: 0.731 | F1 Score: 0.712\n"
          ]
        },
        {
          "metadata": {
            "tags": null
          },
          "name": "stderr",
          "output_type": "stream",
          "text": [
            "100%|██████████| 88/88 [03:26<00:00,  2.34s/it]\n",
            "100%|██████████| 13/13 [00:12<00:00,  1.06it/s]\n",
            "[I 2024-06-10 13:55:27,701] Trial 2 finished with value: 0.7306547619047619 and parameters: {'epochs': 29, 'learning_rate': 0.0007977859212825373, 'batch_size': 54, 'dropout_prob': 0.667854156280777, 'optimizer_name': 'SGD', 'num_layers': 16, 'scheduler_type': 'ReduceLROnPlateau'}. Best is trial 2 with value: 0.7306547619047619.\n"
          ]
        },
        {
          "metadata": {
            "tags": null
          },
          "name": "stdout",
          "output_type": "stream",
          "text": [
            "Epoch: 29 | Train Loss: 0.000 | Train Accuracy: 0.999 | Val Loss: 0.022 | Val Accuracy: 0.731\n",
            "Precision: 0.811 | Recall: 0.731 | F1 Score: 0.712\n"
          ]
        },
        {
          "metadata": {
            "tags": null
          },
          "name": "stderr",
          "output_type": "stream",
          "text": [
            "Some weights of ViTModel were not initialized from the model checkpoint at google/vit-base-patch16-224-in21k and are newly initialized: ['encoder.layer.12.attention.attention.key.bias', 'encoder.layer.12.attention.attention.key.weight', 'encoder.layer.12.attention.attention.query.bias', 'encoder.layer.12.attention.attention.query.weight', 'encoder.layer.12.attention.attention.value.bias', 'encoder.layer.12.attention.attention.value.weight', 'encoder.layer.12.attention.output.dense.bias', 'encoder.layer.12.attention.output.dense.weight', 'encoder.layer.12.intermediate.dense.bias', 'encoder.layer.12.intermediate.dense.weight', 'encoder.layer.12.layernorm_after.bias', 'encoder.layer.12.layernorm_after.weight', 'encoder.layer.12.layernorm_before.bias', 'encoder.layer.12.layernorm_before.weight', 'encoder.layer.12.output.dense.bias', 'encoder.layer.12.output.dense.weight', 'encoder.layer.13.attention.attention.key.bias', 'encoder.layer.13.attention.attention.key.weight', 'encoder.layer.13.attention.attention.query.bias', 'encoder.layer.13.attention.attention.query.weight', 'encoder.layer.13.attention.attention.value.bias', 'encoder.layer.13.attention.attention.value.weight', 'encoder.layer.13.attention.output.dense.bias', 'encoder.layer.13.attention.output.dense.weight', 'encoder.layer.13.intermediate.dense.bias', 'encoder.layer.13.intermediate.dense.weight', 'encoder.layer.13.layernorm_after.bias', 'encoder.layer.13.layernorm_after.weight', 'encoder.layer.13.layernorm_before.bias', 'encoder.layer.13.layernorm_before.weight', 'encoder.layer.13.output.dense.bias', 'encoder.layer.13.output.dense.weight', 'encoder.layer.14.attention.attention.key.bias', 'encoder.layer.14.attention.attention.key.weight', 'encoder.layer.14.attention.attention.query.bias', 'encoder.layer.14.attention.attention.query.weight', 'encoder.layer.14.attention.attention.value.bias', 'encoder.layer.14.attention.attention.value.weight', 'encoder.layer.14.attention.output.dense.bias', 'encoder.layer.14.attention.output.dense.weight', 'encoder.layer.14.intermediate.dense.bias', 'encoder.layer.14.intermediate.dense.weight', 'encoder.layer.14.layernorm_after.bias', 'encoder.layer.14.layernorm_after.weight', 'encoder.layer.14.layernorm_before.bias', 'encoder.layer.14.layernorm_before.weight', 'encoder.layer.14.output.dense.bias', 'encoder.layer.14.output.dense.weight', 'encoder.layer.15.attention.attention.key.bias', 'encoder.layer.15.attention.attention.key.weight', 'encoder.layer.15.attention.attention.query.bias', 'encoder.layer.15.attention.attention.query.weight', 'encoder.layer.15.attention.attention.value.bias', 'encoder.layer.15.attention.attention.value.weight', 'encoder.layer.15.attention.output.dense.bias', 'encoder.layer.15.attention.output.dense.weight', 'encoder.layer.15.intermediate.dense.bias', 'encoder.layer.15.intermediate.dense.weight', 'encoder.layer.15.layernorm_after.bias', 'encoder.layer.15.layernorm_after.weight', 'encoder.layer.15.layernorm_before.bias', 'encoder.layer.15.layernorm_before.weight', 'encoder.layer.15.output.dense.bias', 'encoder.layer.15.output.dense.weight', 'encoder.layer.16.attention.attention.key.bias', 'encoder.layer.16.attention.attention.key.weight', 'encoder.layer.16.attention.attention.query.bias', 'encoder.layer.16.attention.attention.query.weight', 'encoder.layer.16.attention.attention.value.bias', 'encoder.layer.16.attention.attention.value.weight', 'encoder.layer.16.attention.output.dense.bias', 'encoder.layer.16.attention.output.dense.weight', 'encoder.layer.16.intermediate.dense.bias', 'encoder.layer.16.intermediate.dense.weight', 'encoder.layer.16.layernorm_after.bias', 'encoder.layer.16.layernorm_after.weight', 'encoder.layer.16.layernorm_before.bias', 'encoder.layer.16.layernorm_before.weight', 'encoder.layer.16.output.dense.bias', 'encoder.layer.16.output.dense.weight', 'encoder.layer.17.attention.attention.key.bias', 'encoder.layer.17.attention.attention.key.weight', 'encoder.layer.17.attention.attention.query.bias', 'encoder.layer.17.attention.attention.query.weight', 'encoder.layer.17.attention.attention.value.bias', 'encoder.layer.17.attention.attention.value.weight', 'encoder.layer.17.attention.output.dense.bias', 'encoder.layer.17.attention.output.dense.weight', 'encoder.layer.17.intermediate.dense.bias', 'encoder.layer.17.intermediate.dense.weight', 'encoder.layer.17.layernorm_after.bias', 'encoder.layer.17.layernorm_after.weight', 'encoder.layer.17.layernorm_before.bias', 'encoder.layer.17.layernorm_before.weight', 'encoder.layer.17.output.dense.bias', 'encoder.layer.17.output.dense.weight']\n",
            "You should probably TRAIN this model on a down-stream task to be able to use it for predictions and inference.\n",
            "100%|██████████| 74/74 [03:44<00:00,  3.04s/it]\n",
            "100%|██████████| 11/11 [00:14<00:00,  1.29s/it]\n"
          ]
        },
        {
          "metadata": {
            "tags": null
          },
          "name": "stdout",
          "output_type": "stream",
          "text": [
            "Epoch: 1 | Train Loss: 0.011 | Train Accuracy: 0.476 | Val Loss: 0.011 | Val Accuracy: 0.418\n",
            "Precision: 0.365 | Recall: 0.418 | F1 Score: 0.355\n"
          ]
        },
        {
          "metadata": {
            "tags": null
          },
          "name": "stderr",
          "output_type": "stream",
          "text": [
            "100%|██████████| 74/74 [03:43<00:00,  3.02s/it]\n",
            "100%|██████████| 11/11 [00:14<00:00,  1.30s/it]\n"
          ]
        },
        {
          "metadata": {
            "tags": null
          },
          "name": "stdout",
          "output_type": "stream",
          "text": [
            "Epoch: 2 | Train Loss: 0.011 | Train Accuracy: 0.473 | Val Loss: 0.011 | Val Accuracy: 0.443\n",
            "Precision: 0.421 | Recall: 0.443 | F1 Score: 0.401\n"
          ]
        },
        {
          "metadata": {
            "tags": null
          },
          "name": "stderr",
          "output_type": "stream",
          "text": [
            "100%|██████████| 74/74 [03:46<00:00,  3.05s/it]\n",
            "100%|██████████| 11/11 [00:12<00:00,  1.18s/it]\n"
          ]
        },
        {
          "metadata": {
            "tags": null
          },
          "name": "stdout",
          "output_type": "stream",
          "text": [
            "Epoch: 3 | Train Loss: 0.011 | Train Accuracy: 0.483 | Val Loss: 0.011 | Val Accuracy: 0.415\n",
            "Precision: 0.408 | Recall: 0.415 | F1 Score: 0.403\n"
          ]
        },
        {
          "metadata": {
            "tags": null
          },
          "name": "stderr",
          "output_type": "stream",
          "text": [
            "100%|██████████| 74/74 [03:44<00:00,  3.03s/it]\n",
            "100%|██████████| 11/11 [00:14<00:00,  1.29s/it]\n"
          ]
        },
        {
          "metadata": {
            "tags": null
          },
          "name": "stdout",
          "output_type": "stream",
          "text": [
            "Epoch: 4 | Train Loss: 0.011 | Train Accuracy: 0.489 | Val Loss: 0.011 | Val Accuracy: 0.403\n",
            "Precision: 0.400 | Recall: 0.403 | F1 Score: 0.398\n"
          ]
        },
        {
          "metadata": {
            "tags": null
          },
          "name": "stderr",
          "output_type": "stream",
          "text": [
            "100%|██████████| 74/74 [03:44<00:00,  3.04s/it]\n",
            "100%|██████████| 11/11 [00:14<00:00,  1.28s/it]\n"
          ]
        },
        {
          "metadata": {
            "tags": null
          },
          "name": "stdout",
          "output_type": "stream",
          "text": [
            "Epoch: 5 | Train Loss: 0.011 | Train Accuracy: 0.502 | Val Loss: 0.011 | Val Accuracy: 0.415\n",
            "Precision: 0.413 | Recall: 0.415 | F1 Score: 0.412\n"
          ]
        },
        {
          "metadata": {
            "tags": null
          },
          "name": "stderr",
          "output_type": "stream",
          "text": [
            "100%|██████████| 74/74 [03:45<00:00,  3.05s/it]\n",
            "100%|██████████| 11/11 [00:13<00:00,  1.27s/it]\n"
          ]
        },
        {
          "metadata": {
            "tags": null
          },
          "name": "stdout",
          "output_type": "stream",
          "text": [
            "Epoch: 6 | Train Loss: 0.011 | Train Accuracy: 0.518 | Val Loss: 0.011 | Val Accuracy: 0.439\n",
            "Precision: 0.439 | Recall: 0.439 | F1 Score: 0.439\n"
          ]
        },
        {
          "metadata": {
            "tags": null
          },
          "name": "stderr",
          "output_type": "stream",
          "text": [
            "100%|██████████| 74/74 [03:44<00:00,  3.03s/it]\n",
            "100%|██████████| 11/11 [00:14<00:00,  1.33s/it]\n"
          ]
        },
        {
          "metadata": {
            "tags": null
          },
          "name": "stdout",
          "output_type": "stream",
          "text": [
            "Epoch: 7 | Train Loss: 0.011 | Train Accuracy: 0.535 | Val Loss: 0.011 | Val Accuracy: 0.443\n",
            "Precision: 0.443 | Recall: 0.443 | F1 Score: 0.443\n"
          ]
        },
        {
          "metadata": {
            "tags": null
          },
          "name": "stderr",
          "output_type": "stream",
          "text": [
            "100%|██████████| 74/74 [03:43<00:00,  3.03s/it]\n",
            "100%|██████████| 11/11 [00:12<00:00,  1.18s/it]\n"
          ]
        },
        {
          "metadata": {
            "tags": null
          },
          "name": "stdout",
          "output_type": "stream",
          "text": [
            "Epoch: 8 | Train Loss: 0.011 | Train Accuracy: 0.552 | Val Loss: 0.011 | Val Accuracy: 0.458\n",
            "Precision: 0.456 | Recall: 0.458 | F1 Score: 0.452\n"
          ]
        },
        {
          "metadata": {
            "tags": null
          },
          "name": "stderr",
          "output_type": "stream",
          "text": [
            "100%|██████████| 74/74 [03:44<00:00,  3.03s/it]\n",
            "100%|██████████| 11/11 [00:13<00:00,  1.24s/it]\n"
          ]
        },
        {
          "metadata": {
            "tags": null
          },
          "name": "stdout",
          "output_type": "stream",
          "text": [
            "Epoch: 9 | Train Loss: 0.011 | Train Accuracy: 0.573 | Val Loss: 0.011 | Val Accuracy: 0.488\n",
            "Precision: 0.487 | Recall: 0.488 | F1 Score: 0.481\n"
          ]
        },
        {
          "metadata": {
            "tags": null
          },
          "name": "stderr",
          "output_type": "stream",
          "text": [
            "100%|██████████| 74/74 [03:43<00:00,  3.02s/it]\n",
            "100%|██████████| 11/11 [00:14<00:00,  1.29s/it]\n"
          ]
        },
        {
          "metadata": {
            "tags": null
          },
          "name": "stdout",
          "output_type": "stream",
          "text": [
            "Epoch: 10 | Train Loss: 0.011 | Train Accuracy: 0.595 | Val Loss: 0.011 | Val Accuracy: 0.494\n",
            "Precision: 0.494 | Recall: 0.494 | F1 Score: 0.484\n"
          ]
        },
        {
          "metadata": {
            "tags": null
          },
          "name": "stderr",
          "output_type": "stream",
          "text": [
            "100%|██████████| 74/74 [03:43<00:00,  3.02s/it]\n",
            "100%|██████████| 11/11 [00:14<00:00,  1.29s/it]\n"
          ]
        },
        {
          "metadata": {
            "tags": null
          },
          "name": "stdout",
          "output_type": "stream",
          "text": [
            "Epoch: 11 | Train Loss: 0.011 | Train Accuracy: 0.617 | Val Loss: 0.011 | Val Accuracy: 0.515\n",
            "Precision: 0.516 | Recall: 0.515 | F1 Score: 0.506\n"
          ]
        },
        {
          "metadata": {
            "tags": null
          },
          "name": "stderr",
          "output_type": "stream",
          "text": [
            "100%|██████████| 74/74 [03:44<00:00,  3.03s/it]\n",
            "100%|██████████| 11/11 [00:13<00:00,  1.22s/it]\n"
          ]
        },
        {
          "metadata": {
            "tags": null
          },
          "name": "stdout",
          "output_type": "stream",
          "text": [
            "Epoch: 12 | Train Loss: 0.011 | Train Accuracy: 0.642 | Val Loss: 0.011 | Val Accuracy: 0.546\n",
            "Precision: 0.552 | Recall: 0.546 | F1 Score: 0.532\n"
          ]
        },
        {
          "metadata": {
            "tags": null
          },
          "name": "stderr",
          "output_type": "stream",
          "text": [
            "100%|██████████| 74/74 [03:43<00:00,  3.01s/it]\n",
            "100%|██████████| 11/11 [00:14<00:00,  1.29s/it]\n"
          ]
        },
        {
          "metadata": {
            "tags": null
          },
          "name": "stdout",
          "output_type": "stream",
          "text": [
            "Epoch: 13 | Train Loss: 0.011 | Train Accuracy: 0.658 | Val Loss: 0.011 | Val Accuracy: 0.560\n",
            "Precision: 0.569 | Recall: 0.560 | F1 Score: 0.545\n"
          ]
        },
        {
          "metadata": {
            "tags": null
          },
          "name": "stderr",
          "output_type": "stream",
          "text": [
            "100%|██████████| 74/74 [03:44<00:00,  3.04s/it]\n",
            "100%|██████████| 11/11 [00:14<00:00,  1.30s/it]\n"
          ]
        },
        {
          "metadata": {
            "tags": null
          },
          "name": "stdout",
          "output_type": "stream",
          "text": [
            "Epoch: 14 | Train Loss: 0.011 | Train Accuracy: 0.673 | Val Loss: 0.011 | Val Accuracy: 0.562\n",
            "Precision: 0.572 | Recall: 0.562 | F1 Score: 0.548\n"
          ]
        },
        {
          "metadata": {
            "tags": null
          },
          "name": "stderr",
          "output_type": "stream",
          "text": [
            "100%|██████████| 74/74 [03:43<00:00,  3.02s/it]\n",
            "100%|██████████| 11/11 [00:12<00:00,  1.17s/it]\n"
          ]
        },
        {
          "metadata": {
            "tags": null
          },
          "name": "stdout",
          "output_type": "stream",
          "text": [
            "Epoch: 15 | Train Loss: 0.011 | Train Accuracy: 0.681 | Val Loss: 0.011 | Val Accuracy: 0.577\n",
            "Precision: 0.590 | Recall: 0.577 | F1 Score: 0.562\n"
          ]
        },
        {
          "metadata": {
            "tags": null
          },
          "name": "stderr",
          "output_type": "stream",
          "text": [
            "100%|██████████| 74/74 [03:44<00:00,  3.03s/it]\n",
            "100%|██████████| 11/11 [00:13<00:00,  1.26s/it]\n"
          ]
        },
        {
          "metadata": {
            "tags": null
          },
          "name": "stdout",
          "output_type": "stream",
          "text": [
            "Epoch: 16 | Train Loss: 0.011 | Train Accuracy: 0.694 | Val Loss: 0.011 | Val Accuracy: 0.586\n",
            "Precision: 0.602 | Recall: 0.586 | F1 Score: 0.570\n"
          ]
        },
        {
          "metadata": {
            "tags": null
          },
          "name": "stderr",
          "output_type": "stream",
          "text": [
            "100%|██████████| 74/74 [03:43<00:00,  3.02s/it]\n",
            "100%|██████████| 11/11 [00:14<00:00,  1.31s/it]\n"
          ]
        },
        {
          "metadata": {
            "tags": null
          },
          "name": "stdout",
          "output_type": "stream",
          "text": [
            "Epoch: 17 | Train Loss: 0.011 | Train Accuracy: 0.698 | Val Loss: 0.011 | Val Accuracy: 0.583\n",
            "Precision: 0.597 | Recall: 0.583 | F1 Score: 0.568\n"
          ]
        },
        {
          "metadata": {
            "tags": null
          },
          "name": "stderr",
          "output_type": "stream",
          "text": [
            "100%|██████████| 74/74 [03:44<00:00,  3.04s/it]\n",
            "100%|██████████| 11/11 [00:13<00:00,  1.20s/it]\n"
          ]
        },
        {
          "metadata": {
            "tags": null
          },
          "name": "stdout",
          "output_type": "stream",
          "text": [
            "Epoch: 18 | Train Loss: 0.011 | Train Accuracy: 0.704 | Val Loss: 0.011 | Val Accuracy: 0.583\n",
            "Precision: 0.597 | Recall: 0.583 | F1 Score: 0.568\n"
          ]
        },
        {
          "metadata": {
            "tags": null
          },
          "name": "stderr",
          "output_type": "stream",
          "text": [
            "100%|██████████| 74/74 [03:43<00:00,  3.03s/it]\n",
            "100%|██████████| 11/11 [00:14<00:00,  1.28s/it]\n"
          ]
        },
        {
          "metadata": {
            "tags": null
          },
          "name": "stdout",
          "output_type": "stream",
          "text": [
            "Epoch: 19 | Train Loss: 0.011 | Train Accuracy: 0.705 | Val Loss: 0.011 | Val Accuracy: 0.588\n",
            "Precision: 0.602 | Recall: 0.588 | F1 Score: 0.573\n"
          ]
        },
        {
          "metadata": {
            "tags": null
          },
          "name": "stderr",
          "output_type": "stream",
          "text": [
            "100%|██████████| 74/74 [03:44<00:00,  3.03s/it]\n",
            "100%|██████████| 11/11 [00:14<00:00,  1.31s/it]\n"
          ]
        },
        {
          "metadata": {
            "tags": null
          },
          "name": "stdout",
          "output_type": "stream",
          "text": [
            "Epoch: 20 | Train Loss: 0.011 | Train Accuracy: 0.711 | Val Loss: 0.011 | Val Accuracy: 0.592\n",
            "Precision: 0.608 | Recall: 0.592 | F1 Score: 0.577\n"
          ]
        },
        {
          "metadata": {
            "tags": null
          },
          "name": "stderr",
          "output_type": "stream",
          "text": [
            "100%|██████████| 74/74 [03:43<00:00,  3.02s/it]\n",
            "100%|██████████| 11/11 [00:13<00:00,  1.27s/it]\n"
          ]
        },
        {
          "metadata": {
            "tags": null
          },
          "name": "stdout",
          "output_type": "stream",
          "text": [
            "Epoch: 21 | Train Loss: 0.011 | Train Accuracy: 0.715 | Val Loss: 0.011 | Val Accuracy: 0.606\n",
            "Precision: 0.621 | Recall: 0.606 | F1 Score: 0.592\n"
          ]
        },
        {
          "metadata": {
            "tags": null
          },
          "name": "stderr",
          "output_type": "stream",
          "text": [
            "100%|██████████| 74/74 [03:46<00:00,  3.06s/it]\n",
            "100%|██████████| 11/11 [00:14<00:00,  1.29s/it]\n"
          ]
        },
        {
          "metadata": {
            "tags": null
          },
          "name": "stdout",
          "output_type": "stream",
          "text": [
            "Epoch: 22 | Train Loss: 0.011 | Train Accuracy: 0.716 | Val Loss: 0.011 | Val Accuracy: 0.607\n",
            "Precision: 0.623 | Recall: 0.607 | F1 Score: 0.594\n"
          ]
        },
        {
          "metadata": {
            "tags": null
          },
          "name": "stderr",
          "output_type": "stream",
          "text": [
            "100%|██████████| 74/74 [03:46<00:00,  3.06s/it]\n",
            "100%|██████████| 11/11 [00:13<00:00,  1.26s/it]\n"
          ]
        },
        {
          "metadata": {
            "tags": null
          },
          "name": "stdout",
          "output_type": "stream",
          "text": [
            "Epoch: 23 | Train Loss: 0.011 | Train Accuracy: 0.718 | Val Loss: 0.011 | Val Accuracy: 0.607\n",
            "Precision: 0.623 | Recall: 0.607 | F1 Score: 0.594\n"
          ]
        },
        {
          "metadata": {
            "tags": null
          },
          "name": "stderr",
          "output_type": "stream",
          "text": [
            "100%|██████████| 74/74 [03:45<00:00,  3.05s/it]\n",
            "100%|██████████| 11/11 [00:14<00:00,  1.28s/it]\n"
          ]
        },
        {
          "metadata": {
            "tags": null
          },
          "name": "stdout",
          "output_type": "stream",
          "text": [
            "Epoch: 24 | Train Loss: 0.010 | Train Accuracy: 0.720 | Val Loss: 0.011 | Val Accuracy: 0.609\n",
            "Precision: 0.625 | Recall: 0.609 | F1 Score: 0.596\n"
          ]
        },
        {
          "metadata": {
            "tags": null
          },
          "name": "stderr",
          "output_type": "stream",
          "text": [
            "100%|██████████| 74/74 [03:44<00:00,  3.03s/it]\n",
            "100%|██████████| 11/11 [00:13<00:00,  1.25s/it]\n"
          ]
        },
        {
          "metadata": {
            "tags": null
          },
          "name": "stdout",
          "output_type": "stream",
          "text": [
            "Epoch: 25 | Train Loss: 0.010 | Train Accuracy: 0.724 | Val Loss: 0.011 | Val Accuracy: 0.612\n",
            "Precision: 0.628 | Recall: 0.612 | F1 Score: 0.599\n"
          ]
        },
        {
          "metadata": {
            "tags": null
          },
          "name": "stderr",
          "output_type": "stream",
          "text": [
            "100%|██████████| 74/74 [03:45<00:00,  3.04s/it]\n",
            "100%|██████████| 11/11 [00:13<00:00,  1.27s/it]\n"
          ]
        },
        {
          "metadata": {
            "tags": null
          },
          "name": "stdout",
          "output_type": "stream",
          "text": [
            "Epoch: 26 | Train Loss: 0.010 | Train Accuracy: 0.725 | Val Loss: 0.011 | Val Accuracy: 0.640\n",
            "Precision: 0.653 | Recall: 0.640 | F1 Score: 0.632\n"
          ]
        },
        {
          "metadata": {
            "tags": null
          },
          "name": "stderr",
          "output_type": "stream",
          "text": [
            "100%|██████████| 74/74 [03:44<00:00,  3.04s/it]\n",
            "100%|██████████| 11/11 [00:14<00:00,  1.33s/it]\n"
          ]
        },
        {
          "metadata": {
            "tags": null
          },
          "name": "stdout",
          "output_type": "stream",
          "text": [
            "Epoch: 27 | Train Loss: 0.010 | Train Accuracy: 0.726 | Val Loss: 0.011 | Val Accuracy: 0.655\n",
            "Precision: 0.667 | Recall: 0.655 | F1 Score: 0.648\n"
          ]
        },
        {
          "metadata": {
            "tags": null
          },
          "name": "stderr",
          "output_type": "stream",
          "text": [
            "100%|██████████| 74/74 [03:45<00:00,  3.04s/it]\n",
            "100%|██████████| 11/11 [00:12<00:00,  1.18s/it]\n"
          ]
        },
        {
          "metadata": {
            "tags": null
          },
          "name": "stdout",
          "output_type": "stream",
          "text": [
            "Epoch: 28 | Train Loss: 0.010 | Train Accuracy: 0.731 | Val Loss: 0.011 | Val Accuracy: 0.655\n",
            "Precision: 0.667 | Recall: 0.655 | F1 Score: 0.648\n"
          ]
        },
        {
          "metadata": {
            "tags": null
          },
          "name": "stderr",
          "output_type": "stream",
          "text": [
            "100%|██████████| 74/74 [03:44<00:00,  3.03s/it]\n",
            "100%|██████████| 11/11 [00:14<00:00,  1.29s/it]\n",
            "[I 2024-06-10 15:50:44,330] Trial 3 finished with value: 0.6592261904761905 and parameters: {'epochs': 29, 'learning_rate': 4.523000344669799e-05, 'batch_size': 64, 'dropout_prob': 0.5979148177440567, 'optimizer_name': 'SGD', 'num_layers': 18, 'scheduler_type': 'ReduceLROnPlateau'}. Best is trial 2 with value: 0.7306547619047619.\n"
          ]
        },
        {
          "metadata": {
            "tags": null
          },
          "name": "stdout",
          "output_type": "stream",
          "text": [
            "Epoch: 29 | Train Loss: 0.010 | Train Accuracy: 0.729 | Val Loss: 0.011 | Val Accuracy: 0.659\n",
            "Precision: 0.671 | Recall: 0.659 | F1 Score: 0.653\n"
          ]
        },
        {
          "metadata": {
            "tags": null
          },
          "name": "stderr",
          "output_type": "stream",
          "text": [
            "Some weights of ViTModel were not initialized from the model checkpoint at google/vit-base-patch16-224-in21k and are newly initialized: ['encoder.layer.12.attention.attention.key.bias', 'encoder.layer.12.attention.attention.key.weight', 'encoder.layer.12.attention.attention.query.bias', 'encoder.layer.12.attention.attention.query.weight', 'encoder.layer.12.attention.attention.value.bias', 'encoder.layer.12.attention.attention.value.weight', 'encoder.layer.12.attention.output.dense.bias', 'encoder.layer.12.attention.output.dense.weight', 'encoder.layer.12.intermediate.dense.bias', 'encoder.layer.12.intermediate.dense.weight', 'encoder.layer.12.layernorm_after.bias', 'encoder.layer.12.layernorm_after.weight', 'encoder.layer.12.layernorm_before.bias', 'encoder.layer.12.layernorm_before.weight', 'encoder.layer.12.output.dense.bias', 'encoder.layer.12.output.dense.weight', 'encoder.layer.13.attention.attention.key.bias', 'encoder.layer.13.attention.attention.key.weight', 'encoder.layer.13.attention.attention.query.bias', 'encoder.layer.13.attention.attention.query.weight', 'encoder.layer.13.attention.attention.value.bias', 'encoder.layer.13.attention.attention.value.weight', 'encoder.layer.13.attention.output.dense.bias', 'encoder.layer.13.attention.output.dense.weight', 'encoder.layer.13.intermediate.dense.bias', 'encoder.layer.13.intermediate.dense.weight', 'encoder.layer.13.layernorm_after.bias', 'encoder.layer.13.layernorm_after.weight', 'encoder.layer.13.layernorm_before.bias', 'encoder.layer.13.layernorm_before.weight', 'encoder.layer.13.output.dense.bias', 'encoder.layer.13.output.dense.weight', 'encoder.layer.14.attention.attention.key.bias', 'encoder.layer.14.attention.attention.key.weight', 'encoder.layer.14.attention.attention.query.bias', 'encoder.layer.14.attention.attention.query.weight', 'encoder.layer.14.attention.attention.value.bias', 'encoder.layer.14.attention.attention.value.weight', 'encoder.layer.14.attention.output.dense.bias', 'encoder.layer.14.attention.output.dense.weight', 'encoder.layer.14.intermediate.dense.bias', 'encoder.layer.14.intermediate.dense.weight', 'encoder.layer.14.layernorm_after.bias', 'encoder.layer.14.layernorm_after.weight', 'encoder.layer.14.layernorm_before.bias', 'encoder.layer.14.layernorm_before.weight', 'encoder.layer.14.output.dense.bias', 'encoder.layer.14.output.dense.weight', 'encoder.layer.15.attention.attention.key.bias', 'encoder.layer.15.attention.attention.key.weight', 'encoder.layer.15.attention.attention.query.bias', 'encoder.layer.15.attention.attention.query.weight', 'encoder.layer.15.attention.attention.value.bias', 'encoder.layer.15.attention.attention.value.weight', 'encoder.layer.15.attention.output.dense.bias', 'encoder.layer.15.attention.output.dense.weight', 'encoder.layer.15.intermediate.dense.bias', 'encoder.layer.15.intermediate.dense.weight', 'encoder.layer.15.layernorm_after.bias', 'encoder.layer.15.layernorm_after.weight', 'encoder.layer.15.layernorm_before.bias', 'encoder.layer.15.layernorm_before.weight', 'encoder.layer.15.output.dense.bias', 'encoder.layer.15.output.dense.weight', 'encoder.layer.16.attention.attention.key.bias', 'encoder.layer.16.attention.attention.key.weight', 'encoder.layer.16.attention.attention.query.bias', 'encoder.layer.16.attention.attention.query.weight', 'encoder.layer.16.attention.attention.value.bias', 'encoder.layer.16.attention.attention.value.weight', 'encoder.layer.16.attention.output.dense.bias', 'encoder.layer.16.attention.output.dense.weight', 'encoder.layer.16.intermediate.dense.bias', 'encoder.layer.16.intermediate.dense.weight', 'encoder.layer.16.layernorm_after.bias', 'encoder.layer.16.layernorm_after.weight', 'encoder.layer.16.layernorm_before.bias', 'encoder.layer.16.layernorm_before.weight', 'encoder.layer.16.output.dense.bias', 'encoder.layer.16.output.dense.weight']\n",
            "You should probably TRAIN this model on a down-stream task to be able to use it for predictions and inference.\n",
            "100%|██████████| 197/197 [03:41<00:00,  1.13s/it]\n",
            "100%|██████████| 28/28 [00:13<00:00,  2.09it/s]\n"
          ]
        },
        {
          "metadata": {
            "tags": null
          },
          "name": "stdout",
          "output_type": "stream",
          "text": [
            "Epoch: 1 | Train Loss: 0.029 | Train Accuracy: 0.588 | Val Loss: 0.029 | Val Accuracy: 0.606\n",
            "Precision: 0.623 | Recall: 0.606 | F1 Score: 0.592\n"
          ]
        },
        {
          "metadata": {
            "tags": null
          },
          "name": "stderr",
          "output_type": "stream",
          "text": [
            "100%|██████████| 197/197 [03:42<00:00,  1.13s/it]\n",
            "100%|██████████| 28/28 [00:12<00:00,  2.21it/s]\n"
          ]
        },
        {
          "metadata": {
            "tags": null
          },
          "name": "stdout",
          "output_type": "stream",
          "text": [
            "Epoch: 2 | Train Loss: 0.029 | Train Accuracy: 0.595 | Val Loss: 0.029 | Val Accuracy: 0.638\n",
            "Precision: 0.647 | Recall: 0.638 | F1 Score: 0.633\n"
          ]
        },
        {
          "metadata": {
            "tags": null
          },
          "name": "stderr",
          "output_type": "stream",
          "text": [
            "100%|██████████| 197/197 [03:42<00:00,  1.13s/it]\n",
            "100%|██████████| 28/28 [00:13<00:00,  2.05it/s]\n"
          ]
        },
        {
          "metadata": {
            "tags": null
          },
          "name": "stdout",
          "output_type": "stream",
          "text": [
            "Epoch: 3 | Train Loss: 0.029 | Train Accuracy: 0.625 | Val Loss: 0.028 | Val Accuracy: 0.637\n",
            "Precision: 0.643 | Recall: 0.637 | F1 Score: 0.633\n"
          ]
        },
        {
          "metadata": {
            "tags": null
          },
          "name": "stderr",
          "output_type": "stream",
          "text": [
            "100%|██████████| 197/197 [03:42<00:00,  1.13s/it]\n",
            "100%|██████████| 28/28 [00:13<00:00,  2.13it/s]\n"
          ]
        },
        {
          "metadata": {
            "tags": null
          },
          "name": "stdout",
          "output_type": "stream",
          "text": [
            "Epoch: 4 | Train Loss: 0.029 | Train Accuracy: 0.637 | Val Loss: 0.028 | Val Accuracy: 0.658\n",
            "Precision: 0.662 | Recall: 0.658 | F1 Score: 0.656\n"
          ]
        },
        {
          "metadata": {
            "tags": null
          },
          "name": "stderr",
          "output_type": "stream",
          "text": [
            "100%|██████████| 197/197 [03:42<00:00,  1.13s/it]\n",
            "100%|██████████| 28/28 [00:12<00:00,  2.21it/s]\n"
          ]
        },
        {
          "metadata": {
            "tags": null
          },
          "name": "stdout",
          "output_type": "stream",
          "text": [
            "Epoch: 5 | Train Loss: 0.029 | Train Accuracy: 0.642 | Val Loss: 0.028 | Val Accuracy: 0.656\n",
            "Precision: 0.660 | Recall: 0.656 | F1 Score: 0.654\n"
          ]
        },
        {
          "metadata": {
            "tags": null
          },
          "name": "stderr",
          "output_type": "stream",
          "text": [
            "100%|██████████| 197/197 [03:43<00:00,  1.13s/it]\n",
            "100%|██████████| 28/28 [00:13<00:00,  2.05it/s]\n"
          ]
        },
        {
          "metadata": {
            "tags": null
          },
          "name": "stdout",
          "output_type": "stream",
          "text": [
            "Epoch: 6 | Train Loss: 0.029 | Train Accuracy: 0.645 | Val Loss: 0.028 | Val Accuracy: 0.671\n",
            "Precision: 0.674 | Recall: 0.671 | F1 Score: 0.670\n"
          ]
        },
        {
          "metadata": {
            "tags": null
          },
          "name": "stderr",
          "output_type": "stream",
          "text": [
            "100%|██████████| 197/197 [03:43<00:00,  1.13s/it]\n",
            "100%|██████████| 28/28 [00:12<00:00,  2.24it/s]\n"
          ]
        },
        {
          "metadata": {
            "tags": null
          },
          "name": "stdout",
          "output_type": "stream",
          "text": [
            "Epoch: 7 | Train Loss: 0.029 | Train Accuracy: 0.650 | Val Loss: 0.028 | Val Accuracy: 0.674\n",
            "Precision: 0.677 | Recall: 0.674 | F1 Score: 0.673\n"
          ]
        },
        {
          "metadata": {
            "tags": null
          },
          "name": "stderr",
          "output_type": "stream",
          "text": [
            "100%|██████████| 197/197 [03:43<00:00,  1.14s/it]\n",
            "100%|██████████| 28/28 [00:13<00:00,  2.02it/s]\n"
          ]
        },
        {
          "metadata": {
            "tags": null
          },
          "name": "stdout",
          "output_type": "stream",
          "text": [
            "Epoch: 8 | Train Loss: 0.029 | Train Accuracy: 0.656 | Val Loss: 0.028 | Val Accuracy: 0.673\n",
            "Precision: 0.675 | Recall: 0.673 | F1 Score: 0.671\n"
          ]
        },
        {
          "metadata": {
            "tags": null
          },
          "name": "stderr",
          "output_type": "stream",
          "text": [
            "100%|██████████| 197/197 [03:41<00:00,  1.12s/it]\n",
            "100%|██████████| 28/28 [00:12<00:00,  2.16it/s]\n"
          ]
        },
        {
          "metadata": {
            "tags": null
          },
          "name": "stdout",
          "output_type": "stream",
          "text": [
            "Epoch: 9 | Train Loss: 0.029 | Train Accuracy: 0.659 | Val Loss: 0.028 | Val Accuracy: 0.676\n",
            "Precision: 0.678 | Recall: 0.676 | F1 Score: 0.674\n"
          ]
        },
        {
          "metadata": {
            "tags": null
          },
          "name": "stderr",
          "output_type": "stream",
          "text": [
            "100%|██████████| 197/197 [03:43<00:00,  1.14s/it]\n",
            "100%|██████████| 28/28 [00:12<00:00,  2.21it/s]\n",
            "[I 2024-06-10 16:30:04,821] Trial 4 finished with value: 0.6755952380952381 and parameters: {'epochs': 10, 'learning_rate': 1.7543503198586174e-05, 'batch_size': 24, 'dropout_prob': 0.5580936975029483, 'optimizer_name': 'SGD', 'num_layers': 17, 'scheduler_type': 'CosineAnnealingLR'}. Best is trial 2 with value: 0.7306547619047619.\n"
          ]
        },
        {
          "metadata": {
            "tags": null
          },
          "name": "stdout",
          "output_type": "stream",
          "text": [
            "Epoch: 10 | Train Loss: 0.029 | Train Accuracy: 0.658 | Val Loss: 0.028 | Val Accuracy: 0.676\n",
            "Precision: 0.678 | Recall: 0.676 | F1 Score: 0.674\n"
          ]
        },
        {
          "metadata": {
            "tags": null
          },
          "name": "stderr",
          "output_type": "stream",
          "text": [
            "100%|██████████| 148/148 [02:56<00:00,  1.19s/it]\n",
            "100%|██████████| 21/21 [00:12<00:00,  1.71it/s]\n"
          ]
        },
        {
          "metadata": {
            "tags": null
          },
          "name": "stdout",
          "output_type": "stream",
          "text": [
            "Epoch: 1 | Train Loss: 0.019 | Train Accuracy: 0.671 | Val Loss: 0.019 | Val Accuracy: 0.690\n",
            "Precision: 0.702 | Recall: 0.690 | F1 Score: 0.686\n"
          ]
        },
        {
          "metadata": {
            "tags": null
          },
          "name": "stderr",
          "output_type": "stream",
          "text": [
            "100%|██████████| 148/148 [02:55<00:00,  1.18s/it]\n",
            "100%|██████████| 21/21 [00:12<00:00,  1.74it/s]\n"
          ]
        },
        {
          "metadata": {
            "tags": null
          },
          "name": "stdout",
          "output_type": "stream",
          "text": [
            "Epoch: 2 | Train Loss: 0.014 | Train Accuracy: 0.795 | Val Loss: 0.026 | Val Accuracy: 0.659\n",
            "Precision: 0.728 | Recall: 0.659 | F1 Score: 0.631\n"
          ]
        },
        {
          "metadata": {
            "tags": null
          },
          "name": "stderr",
          "output_type": "stream",
          "text": [
            "100%|██████████| 148/148 [02:54<00:00,  1.18s/it]\n",
            "100%|██████████| 21/21 [00:11<00:00,  1.77it/s]\n"
          ]
        },
        {
          "metadata": {
            "tags": null
          },
          "name": "stdout",
          "output_type": "stream",
          "text": [
            "Epoch: 3 | Train Loss: 0.017 | Train Accuracy: 0.679 | Val Loss: 0.021 | Val Accuracy: 0.549\n",
            "Precision: 0.562 | Recall: 0.549 | F1 Score: 0.525\n"
          ]
        },
        {
          "metadata": {
            "tags": null
          },
          "name": "stderr",
          "output_type": "stream",
          "text": [
            "100%|██████████| 148/148 [02:56<00:00,  1.20s/it]\n",
            "100%|██████████| 21/21 [00:12<00:00,  1.73it/s]\n"
          ]
        },
        {
          "metadata": {
            "tags": null
          },
          "name": "stdout",
          "output_type": "stream",
          "text": [
            "Epoch: 4 | Train Loss: 0.021 | Train Accuracy: 0.571 | Val Loss: 0.023 | Val Accuracy: 0.543\n",
            "Precision: 0.596 | Recall: 0.543 | F1 Score: 0.470\n"
          ]
        },
        {
          "metadata": {
            "tags": null
          },
          "name": "stderr",
          "output_type": "stream",
          "text": [
            "100%|██████████| 148/148 [02:55<00:00,  1.19s/it]\n",
            "100%|██████████| 21/21 [00:11<00:00,  1.84it/s]\n"
          ]
        },
        {
          "metadata": {
            "tags": null
          },
          "name": "stdout",
          "output_type": "stream",
          "text": [
            "Epoch: 5 | Train Loss: 0.021 | Train Accuracy: 0.598 | Val Loss: 0.023 | Val Accuracy: 0.500\n",
            "Precision: 0.500 | Recall: 0.500 | F1 Score: 0.410\n"
          ]
        },
        {
          "metadata": {
            "tags": null
          },
          "name": "stderr",
          "output_type": "stream",
          "text": [
            "100%|██████████| 148/148 [02:54<00:00,  1.18s/it]\n",
            "100%|██████████| 21/21 [00:13<00:00,  1.56it/s]\n"
          ]
        },
        {
          "metadata": {
            "tags": null
          },
          "name": "stdout",
          "output_type": "stream",
          "text": [
            "Epoch: 6 | Train Loss: 0.019 | Train Accuracy: 0.672 | Val Loss: 0.023 | Val Accuracy: 0.527\n",
            "Precision: 0.620 | Recall: 0.527 | F1 Score: 0.413\n"
          ]
        },
        {
          "metadata": {
            "tags": null
          },
          "name": "stderr",
          "output_type": "stream",
          "text": [
            "100%|██████████| 148/148 [02:53<00:00,  1.17s/it]\n",
            "100%|██████████| 21/21 [00:12<00:00,  1.72it/s]\n"
          ]
        },
        {
          "metadata": {
            "tags": null
          },
          "name": "stdout",
          "output_type": "stream",
          "text": [
            "Epoch: 7 | Train Loss: 0.015 | Train Accuracy: 0.783 | Val Loss: 0.025 | Val Accuracy: 0.646\n",
            "Precision: 0.670 | Recall: 0.646 | F1 Score: 0.633\n"
          ]
        },
        {
          "metadata": {
            "tags": null
          },
          "name": "stderr",
          "output_type": "stream",
          "text": [
            "100%|██████████| 148/148 [02:58<00:00,  1.20s/it]\n",
            "100%|██████████| 21/21 [00:12<00:00,  1.73it/s]\n"
          ]
        },
        {
          "metadata": {
            "tags": null
          },
          "name": "stdout",
          "output_type": "stream",
          "text": [
            "Epoch: 8 | Train Loss: 0.012 | Train Accuracy: 0.835 | Val Loss: 0.025 | Val Accuracy: 0.610\n",
            "Precision: 0.638 | Recall: 0.610 | F1 Score: 0.589\n"
          ]
        },
        {
          "metadata": {
            "tags": null
          },
          "name": "stderr",
          "output_type": "stream",
          "text": [
            "100%|██████████| 148/148 [02:55<00:00,  1.19s/it]\n",
            "100%|██████████| 21/21 [00:11<00:00,  1.75it/s]\n"
          ]
        },
        {
          "metadata": {
            "tags": null
          },
          "name": "stdout",
          "output_type": "stream",
          "text": [
            "Epoch: 9 | Train Loss: 0.009 | Train Accuracy: 0.895 | Val Loss: 0.044 | Val Accuracy: 0.588\n",
            "Precision: 0.649 | Recall: 0.588 | F1 Score: 0.541\n"
          ]
        },
        {
          "metadata": {
            "tags": null
          },
          "name": "stderr",
          "output_type": "stream",
          "text": [
            "100%|██████████| 148/148 [02:55<00:00,  1.19s/it]\n",
            "100%|██████████| 21/21 [00:11<00:00,  1.77it/s]\n"
          ]
        },
        {
          "metadata": {
            "tags": null
          },
          "name": "stdout",
          "output_type": "stream",
          "text": [
            "Epoch: 10 | Train Loss: 0.007 | Train Accuracy: 0.918 | Val Loss: 0.030 | Val Accuracy: 0.644\n",
            "Precision: 0.698 | Recall: 0.644 | F1 Score: 0.618\n"
          ]
        },
        {
          "metadata": {
            "tags": null
          },
          "name": "stderr",
          "output_type": "stream",
          "text": [
            "100%|██████████| 148/148 [02:57<00:00,  1.20s/it]\n",
            "100%|██████████| 21/21 [00:10<00:00,  1.97it/s]\n"
          ]
        },
        {
          "metadata": {
            "tags": null
          },
          "name": "stdout",
          "output_type": "stream",
          "text": [
            "Epoch: 11 | Train Loss: 0.003 | Train Accuracy: 0.964 | Val Loss: 0.046 | Val Accuracy: 0.615\n",
            "Precision: 0.697 | Recall: 0.615 | F1 Score: 0.570\n"
          ]
        },
        {
          "metadata": {
            "tags": null
          },
          "name": "stderr",
          "output_type": "stream",
          "text": [
            "100%|██████████| 148/148 [02:54<00:00,  1.18s/it]\n",
            "100%|██████████| 21/21 [00:12<00:00,  1.75it/s]\n"
          ]
        },
        {
          "metadata": {
            "tags": null
          },
          "name": "stdout",
          "output_type": "stream",
          "text": [
            "Epoch: 12 | Train Loss: 0.002 | Train Accuracy: 0.984 | Val Loss: 0.062 | Val Accuracy: 0.574\n",
            "Precision: 0.685 | Recall: 0.574 | F1 Score: 0.499\n"
          ]
        },
        {
          "metadata": {
            "tags": null
          },
          "name": "stderr",
          "output_type": "stream",
          "text": [
            "100%|██████████| 148/148 [02:52<00:00,  1.16s/it]\n",
            "100%|██████████| 21/21 [00:11<00:00,  1.75it/s]\n"
          ]
        },
        {
          "metadata": {
            "tags": null
          },
          "name": "stdout",
          "output_type": "stream",
          "text": [
            "Epoch: 13 | Train Loss: 0.001 | Train Accuracy: 0.989 | Val Loss: 0.055 | Val Accuracy: 0.592\n",
            "Precision: 0.688 | Recall: 0.592 | F1 Score: 0.533\n"
          ]
        },
        {
          "metadata": {
            "tags": null
          },
          "name": "stderr",
          "output_type": "stream",
          "text": [
            "100%|██████████| 148/148 [02:57<00:00,  1.20s/it]\n",
            "100%|██████████| 21/21 [00:11<00:00,  1.86it/s]\n"
          ]
        },
        {
          "metadata": {
            "tags": null
          },
          "name": "stdout",
          "output_type": "stream",
          "text": [
            "Epoch: 14 | Train Loss: 0.002 | Train Accuracy: 0.979 | Val Loss: 0.043 | Val Accuracy: 0.616\n",
            "Precision: 0.684 | Recall: 0.616 | F1 Score: 0.577\n"
          ]
        },
        {
          "metadata": {
            "tags": null
          },
          "name": "stderr",
          "output_type": "stream",
          "text": [
            "100%|██████████| 148/148 [02:56<00:00,  1.19s/it]\n",
            "100%|██████████| 21/21 [00:12<00:00,  1.72it/s]\n"
          ]
        },
        {
          "metadata": {
            "tags": null
          },
          "name": "stdout",
          "output_type": "stream",
          "text": [
            "Epoch: 15 | Train Loss: 0.001 | Train Accuracy: 0.988 | Val Loss: 0.065 | Val Accuracy: 0.568\n",
            "Precision: 0.667 | Recall: 0.568 | F1 Score: 0.494\n"
          ]
        },
        {
          "metadata": {
            "tags": null
          },
          "name": "stderr",
          "output_type": "stream",
          "text": [
            "100%|██████████| 148/148 [02:56<00:00,  1.20s/it]\n",
            "100%|██████████| 21/21 [00:10<00:00,  1.92it/s]\n"
          ]
        },
        {
          "metadata": {
            "tags": null
          },
          "name": "stdout",
          "output_type": "stream",
          "text": [
            "Epoch: 16 | Train Loss: 0.001 | Train Accuracy: 0.995 | Val Loss: 0.061 | Val Accuracy: 0.606\n",
            "Precision: 0.686 | Recall: 0.606 | F1 Score: 0.558\n"
          ]
        },
        {
          "metadata": {
            "tags": null
          },
          "name": "stderr",
          "output_type": "stream",
          "text": [
            "100%|██████████| 148/148 [02:53<00:00,  1.17s/it]\n",
            "100%|██████████| 21/21 [00:12<00:00,  1.73it/s]\n"
          ]
        },
        {
          "metadata": {
            "tags": null
          },
          "name": "stdout",
          "output_type": "stream",
          "text": [
            "Epoch: 17 | Train Loss: 0.001 | Train Accuracy: 0.994 | Val Loss: 0.060 | Val Accuracy: 0.607\n",
            "Precision: 0.693 | Recall: 0.607 | F1 Score: 0.558\n"
          ]
        },
        {
          "metadata": {
            "tags": null
          },
          "name": "stderr",
          "output_type": "stream",
          "text": [
            "100%|██████████| 148/148 [02:59<00:00,  1.21s/it]\n",
            "100%|██████████| 21/21 [00:10<00:00,  1.96it/s]\n"
          ]
        },
        {
          "metadata": {
            "tags": null
          },
          "name": "stdout",
          "output_type": "stream",
          "text": [
            "Epoch: 18 | Train Loss: 0.001 | Train Accuracy: 0.990 | Val Loss: 0.059 | Val Accuracy: 0.577\n",
            "Precision: 0.670 | Recall: 0.577 | F1 Score: 0.511\n"
          ]
        },
        {
          "metadata": {
            "tags": null
          },
          "name": "stderr",
          "output_type": "stream",
          "text": [
            "100%|██████████| 148/148 [02:57<00:00,  1.20s/it]\n",
            "100%|██████████| 21/21 [00:12<00:00,  1.73it/s]\n"
          ]
        },
        {
          "metadata": {
            "tags": null
          },
          "name": "stdout",
          "output_type": "stream",
          "text": [
            "Epoch: 19 | Train Loss: 0.001 | Train Accuracy: 0.992 | Val Loss: 0.041 | Val Accuracy: 0.616\n",
            "Precision: 0.688 | Recall: 0.616 | F1 Score: 0.575\n"
          ]
        },
        {
          "metadata": {
            "tags": null
          },
          "name": "stderr",
          "output_type": "stream",
          "text": [
            "100%|██████████| 148/148 [03:00<00:00,  1.22s/it]\n",
            "100%|██████████| 21/21 [00:14<00:00,  1.45it/s]\n"
          ]
        },
        {
          "metadata": {
            "tags": null
          },
          "name": "stdout",
          "output_type": "stream",
          "text": [
            "Epoch: 20 | Train Loss: 0.001 | Train Accuracy: 0.994 | Val Loss: 0.078 | Val Accuracy: 0.579\n",
            "Precision: 0.675 | Recall: 0.579 | F1 Score: 0.512\n"
          ]
        },
        {
          "metadata": {
            "tags": null
          },
          "name": "stderr",
          "output_type": "stream",
          "text": [
            "100%|██████████| 148/148 [02:53<00:00,  1.17s/it]\n",
            "100%|██████████| 21/21 [00:11<00:00,  1.77it/s]\n"
          ]
        },
        {
          "metadata": {
            "tags": null
          },
          "name": "stdout",
          "output_type": "stream",
          "text": [
            "Epoch: 21 | Train Loss: 0.000 | Train Accuracy: 0.999 | Val Loss: 0.083 | Val Accuracy: 0.574\n",
            "Precision: 0.660 | Recall: 0.574 | F1 Score: 0.509\n"
          ]
        },
        {
          "metadata": {
            "tags": null
          },
          "name": "stderr",
          "output_type": "stream",
          "text": [
            "100%|██████████| 148/148 [02:56<00:00,  1.19s/it]\n",
            "100%|██████████| 21/21 [00:11<00:00,  1.80it/s]\n"
          ]
        },
        {
          "metadata": {
            "tags": null
          },
          "name": "stdout",
          "output_type": "stream",
          "text": [
            "Epoch: 22 | Train Loss: 0.000 | Train Accuracy: 1.000 | Val Loss: 0.084 | Val Accuracy: 0.571\n",
            "Precision: 0.651 | Recall: 0.571 | F1 Score: 0.506\n"
          ]
        },
        {
          "metadata": {
            "tags": null
          },
          "name": "stderr",
          "output_type": "stream",
          "text": [
            "100%|██████████| 148/148 [02:54<00:00,  1.18s/it]\n",
            "100%|██████████| 21/21 [00:12<00:00,  1.74it/s]\n",
            "[I 2024-06-10 17:42:08,939] Trial 5 finished with value: 0.5714285714285714 and parameters: {'epochs': 23, 'learning_rate': 0.0004482171645220383, 'batch_size': 32, 'dropout_prob': 0.5846446931019668, 'optimizer_name': 'AdamW', 'num_layers': 12, 'scheduler_type': 'StepLR'}. Best is trial 2 with value: 0.7306547619047619.\n"
          ]
        },
        {
          "metadata": {
            "tags": null
          },
          "name": "stdout",
          "output_type": "stream",
          "text": [
            "Epoch: 23 | Train Loss: 0.000 | Train Accuracy: 1.000 | Val Loss: 0.088 | Val Accuracy: 0.571\n",
            "Precision: 0.654 | Recall: 0.571 | F1 Score: 0.505\n"
          ]
        },
        {
          "metadata": {
            "tags": null
          },
          "name": "stderr",
          "output_type": "stream",
          "text": [
            "Some weights of ViTModel were not initialized from the model checkpoint at google/vit-base-patch16-224-in21k and are newly initialized: ['encoder.layer.12.attention.attention.key.bias', 'encoder.layer.12.attention.attention.key.weight', 'encoder.layer.12.attention.attention.query.bias', 'encoder.layer.12.attention.attention.query.weight', 'encoder.layer.12.attention.attention.value.bias', 'encoder.layer.12.attention.attention.value.weight', 'encoder.layer.12.attention.output.dense.bias', 'encoder.layer.12.attention.output.dense.weight', 'encoder.layer.12.intermediate.dense.bias', 'encoder.layer.12.intermediate.dense.weight', 'encoder.layer.12.layernorm_after.bias', 'encoder.layer.12.layernorm_after.weight', 'encoder.layer.12.layernorm_before.bias', 'encoder.layer.12.layernorm_before.weight', 'encoder.layer.12.output.dense.bias', 'encoder.layer.12.output.dense.weight', 'encoder.layer.13.attention.attention.key.bias', 'encoder.layer.13.attention.attention.key.weight', 'encoder.layer.13.attention.attention.query.bias', 'encoder.layer.13.attention.attention.query.weight', 'encoder.layer.13.attention.attention.value.bias', 'encoder.layer.13.attention.attention.value.weight', 'encoder.layer.13.attention.output.dense.bias', 'encoder.layer.13.attention.output.dense.weight', 'encoder.layer.13.intermediate.dense.bias', 'encoder.layer.13.intermediate.dense.weight', 'encoder.layer.13.layernorm_after.bias', 'encoder.layer.13.layernorm_after.weight', 'encoder.layer.13.layernorm_before.bias', 'encoder.layer.13.layernorm_before.weight', 'encoder.layer.13.output.dense.bias', 'encoder.layer.13.output.dense.weight', 'encoder.layer.14.attention.attention.key.bias', 'encoder.layer.14.attention.attention.key.weight', 'encoder.layer.14.attention.attention.query.bias', 'encoder.layer.14.attention.attention.query.weight', 'encoder.layer.14.attention.attention.value.bias', 'encoder.layer.14.attention.attention.value.weight', 'encoder.layer.14.attention.output.dense.bias', 'encoder.layer.14.attention.output.dense.weight', 'encoder.layer.14.intermediate.dense.bias', 'encoder.layer.14.intermediate.dense.weight', 'encoder.layer.14.layernorm_after.bias', 'encoder.layer.14.layernorm_after.weight', 'encoder.layer.14.layernorm_before.bias', 'encoder.layer.14.layernorm_before.weight', 'encoder.layer.14.output.dense.bias', 'encoder.layer.14.output.dense.weight', 'encoder.layer.15.attention.attention.key.bias', 'encoder.layer.15.attention.attention.key.weight', 'encoder.layer.15.attention.attention.query.bias', 'encoder.layer.15.attention.attention.query.weight', 'encoder.layer.15.attention.attention.value.bias', 'encoder.layer.15.attention.attention.value.weight', 'encoder.layer.15.attention.output.dense.bias', 'encoder.layer.15.attention.output.dense.weight', 'encoder.layer.15.intermediate.dense.bias', 'encoder.layer.15.intermediate.dense.weight', 'encoder.layer.15.layernorm_after.bias', 'encoder.layer.15.layernorm_after.weight', 'encoder.layer.15.layernorm_before.bias', 'encoder.layer.15.layernorm_before.weight', 'encoder.layer.15.output.dense.bias', 'encoder.layer.15.output.dense.weight', 'encoder.layer.16.attention.attention.key.bias', 'encoder.layer.16.attention.attention.key.weight', 'encoder.layer.16.attention.attention.query.bias', 'encoder.layer.16.attention.attention.query.weight', 'encoder.layer.16.attention.attention.value.bias', 'encoder.layer.16.attention.attention.value.weight', 'encoder.layer.16.attention.output.dense.bias', 'encoder.layer.16.attention.output.dense.weight', 'encoder.layer.16.intermediate.dense.bias', 'encoder.layer.16.intermediate.dense.weight', 'encoder.layer.16.layernorm_after.bias', 'encoder.layer.16.layernorm_after.weight', 'encoder.layer.16.layernorm_before.bias', 'encoder.layer.16.layernorm_before.weight', 'encoder.layer.16.output.dense.bias', 'encoder.layer.16.output.dense.weight', 'encoder.layer.17.attention.attention.key.bias', 'encoder.layer.17.attention.attention.key.weight', 'encoder.layer.17.attention.attention.query.bias', 'encoder.layer.17.attention.attention.query.weight', 'encoder.layer.17.attention.attention.value.bias', 'encoder.layer.17.attention.attention.value.weight', 'encoder.layer.17.attention.output.dense.bias', 'encoder.layer.17.attention.output.dense.weight', 'encoder.layer.17.intermediate.dense.bias', 'encoder.layer.17.intermediate.dense.weight', 'encoder.layer.17.layernorm_after.bias', 'encoder.layer.17.layernorm_after.weight', 'encoder.layer.17.layernorm_before.bias', 'encoder.layer.17.layernorm_before.weight', 'encoder.layer.17.output.dense.bias', 'encoder.layer.17.output.dense.weight']\n",
            "You should probably TRAIN this model on a down-stream task to be able to use it for predictions and inference.\n",
            "100%|██████████| 215/215 [03:56<00:00,  1.10s/it]\n",
            "100%|██████████| 31/31 [00:14<00:00,  2.16it/s]\n"
          ]
        },
        {
          "metadata": {
            "tags": null
          },
          "name": "stdout",
          "output_type": "stream",
          "text": [
            "Epoch: 1 | Train Loss: 0.031 | Train Accuracy: 0.563 | Val Loss: 0.032 | Val Accuracy: 0.583\n",
            "Precision: 0.591 | Recall: 0.583 | F1 Score: 0.574\n"
          ]
        },
        {
          "metadata": {
            "tags": null
          },
          "name": "stderr",
          "output_type": "stream",
          "text": [
            "100%|██████████| 215/215 [03:55<00:00,  1.10s/it]\n",
            "100%|██████████| 31/31 [00:13<00:00,  2.33it/s]\n"
          ]
        },
        {
          "metadata": {
            "tags": null
          },
          "name": "stdout",
          "output_type": "stream",
          "text": [
            "Epoch: 2 | Train Loss: 0.031 | Train Accuracy: 0.638 | Val Loss: 0.031 | Val Accuracy: 0.644\n",
            "Precision: 0.648 | Recall: 0.644 | F1 Score: 0.642\n"
          ]
        },
        {
          "metadata": {
            "tags": null
          },
          "name": "stderr",
          "output_type": "stream",
          "text": [
            "100%|██████████| 215/215 [03:53<00:00,  1.09s/it]\n",
            "100%|██████████| 31/31 [00:14<00:00,  2.20it/s]\n"
          ]
        },
        {
          "metadata": {
            "tags": null
          },
          "name": "stdout",
          "output_type": "stream",
          "text": [
            "Epoch: 3 | Train Loss: 0.030 | Train Accuracy: 0.682 | Val Loss: 0.031 | Val Accuracy: 0.625\n",
            "Precision: 0.634 | Recall: 0.625 | F1 Score: 0.618\n"
          ]
        },
        {
          "metadata": {
            "tags": null
          },
          "name": "stderr",
          "output_type": "stream",
          "text": [
            "100%|██████████| 215/215 [03:53<00:00,  1.09s/it]\n",
            "100%|██████████| 31/31 [00:13<00:00,  2.23it/s]\n"
          ]
        },
        {
          "metadata": {
            "tags": null
          },
          "name": "stdout",
          "output_type": "stream",
          "text": [
            "Epoch: 4 | Train Loss: 0.029 | Train Accuracy: 0.718 | Val Loss: 0.030 | Val Accuracy: 0.658\n",
            "Precision: 0.659 | Recall: 0.658 | F1 Score: 0.657\n"
          ]
        },
        {
          "metadata": {
            "tags": null
          },
          "name": "stderr",
          "output_type": "stream",
          "text": [
            "100%|██████████| 215/215 [03:54<00:00,  1.09s/it]\n",
            "100%|██████████| 31/31 [00:13<00:00,  2.28it/s]\n"
          ]
        },
        {
          "metadata": {
            "tags": null
          },
          "name": "stdout",
          "output_type": "stream",
          "text": [
            "Epoch: 5 | Train Loss: 0.027 | Train Accuracy: 0.762 | Val Loss: 0.029 | Val Accuracy: 0.664\n",
            "Precision: 0.668 | Recall: 0.664 | F1 Score: 0.661\n"
          ]
        },
        {
          "metadata": {
            "tags": null
          },
          "name": "stderr",
          "output_type": "stream",
          "text": [
            "100%|██████████| 215/215 [03:54<00:00,  1.09s/it]\n",
            "100%|██████████| 31/31 [00:12<00:00,  2.40it/s]\n"
          ]
        },
        {
          "metadata": {
            "tags": null
          },
          "name": "stdout",
          "output_type": "stream",
          "text": [
            "Epoch: 6 | Train Loss: 0.025 | Train Accuracy: 0.797 | Val Loss: 0.028 | Val Accuracy: 0.696\n",
            "Precision: 0.701 | Recall: 0.696 | F1 Score: 0.695\n"
          ]
        },
        {
          "metadata": {
            "tags": null
          },
          "name": "stderr",
          "output_type": "stream",
          "text": [
            "100%|██████████| 215/215 [03:54<00:00,  1.09s/it]\n",
            "100%|██████████| 31/31 [00:13<00:00,  2.33it/s]\n"
          ]
        },
        {
          "metadata": {
            "tags": null
          },
          "name": "stdout",
          "output_type": "stream",
          "text": [
            "Epoch: 7 | Train Loss: 0.022 | Train Accuracy: 0.820 | Val Loss: 0.027 | Val Accuracy: 0.704\n",
            "Precision: 0.713 | Recall: 0.704 | F1 Score: 0.701\n"
          ]
        },
        {
          "metadata": {
            "tags": null
          },
          "name": "stderr",
          "output_type": "stream",
          "text": [
            "100%|██████████| 215/215 [03:55<00:00,  1.10s/it]\n",
            "100%|██████████| 31/31 [00:14<00:00,  2.19it/s]\n"
          ]
        },
        {
          "metadata": {
            "tags": null
          },
          "name": "stdout",
          "output_type": "stream",
          "text": [
            "Epoch: 8 | Train Loss: 0.019 | Train Accuracy: 0.848 | Val Loss: 0.026 | Val Accuracy: 0.725\n",
            "Precision: 0.735 | Recall: 0.725 | F1 Score: 0.722\n"
          ]
        },
        {
          "metadata": {
            "tags": null
          },
          "name": "stderr",
          "output_type": "stream",
          "text": [
            "100%|██████████| 215/215 [03:54<00:00,  1.09s/it]\n",
            "100%|██████████| 31/31 [00:14<00:00,  2.20it/s]\n"
          ]
        },
        {
          "metadata": {
            "tags": null
          },
          "name": "stdout",
          "output_type": "stream",
          "text": [
            "Epoch: 9 | Train Loss: 0.016 | Train Accuracy: 0.877 | Val Loss: 0.025 | Val Accuracy: 0.750\n",
            "Precision: 0.763 | Recall: 0.750 | F1 Score: 0.747\n"
          ]
        },
        {
          "metadata": {
            "tags": null
          },
          "name": "stderr",
          "output_type": "stream",
          "text": [
            "100%|██████████| 215/215 [03:52<00:00,  1.08s/it]\n",
            "100%|██████████| 31/31 [00:14<00:00,  2.17it/s]\n",
            "[I 2024-06-10 18:23:33,595] Trial 6 finished with value: 0.7410714285714286 and parameters: {'epochs': 10, 'learning_rate': 0.00013043940270287597, 'batch_size': 22, 'dropout_prob': 0.6686479958245817, 'optimizer_name': 'SGD', 'num_layers': 18, 'scheduler_type': 'ReduceLROnPlateau'}. Best is trial 6 with value: 0.7410714285714286.\n"
          ]
        },
        {
          "metadata": {
            "tags": null
          },
          "name": "stdout",
          "output_type": "stream",
          "text": [
            "Epoch: 10 | Train Loss: 0.014 | Train Accuracy: 0.899 | Val Loss: 0.025 | Val Accuracy: 0.741\n",
            "Precision: 0.762 | Recall: 0.741 | F1 Score: 0.736\n"
          ]
        },
        {
          "metadata": {
            "tags": null
          },
          "name": "stderr",
          "output_type": "stream",
          "text": [
            "Some weights of ViTModel were not initialized from the model checkpoint at google/vit-base-patch16-224-in21k and are newly initialized: ['encoder.layer.12.attention.attention.key.bias', 'encoder.layer.12.attention.attention.key.weight', 'encoder.layer.12.attention.attention.query.bias', 'encoder.layer.12.attention.attention.query.weight', 'encoder.layer.12.attention.attention.value.bias', 'encoder.layer.12.attention.attention.value.weight', 'encoder.layer.12.attention.output.dense.bias', 'encoder.layer.12.attention.output.dense.weight', 'encoder.layer.12.intermediate.dense.bias', 'encoder.layer.12.intermediate.dense.weight', 'encoder.layer.12.layernorm_after.bias', 'encoder.layer.12.layernorm_after.weight', 'encoder.layer.12.layernorm_before.bias', 'encoder.layer.12.layernorm_before.weight', 'encoder.layer.12.output.dense.bias', 'encoder.layer.12.output.dense.weight', 'encoder.layer.13.attention.attention.key.bias', 'encoder.layer.13.attention.attention.key.weight', 'encoder.layer.13.attention.attention.query.bias', 'encoder.layer.13.attention.attention.query.weight', 'encoder.layer.13.attention.attention.value.bias', 'encoder.layer.13.attention.attention.value.weight', 'encoder.layer.13.attention.output.dense.bias', 'encoder.layer.13.attention.output.dense.weight', 'encoder.layer.13.intermediate.dense.bias', 'encoder.layer.13.intermediate.dense.weight', 'encoder.layer.13.layernorm_after.bias', 'encoder.layer.13.layernorm_after.weight', 'encoder.layer.13.layernorm_before.bias', 'encoder.layer.13.layernorm_before.weight', 'encoder.layer.13.output.dense.bias', 'encoder.layer.13.output.dense.weight', 'encoder.layer.14.attention.attention.key.bias', 'encoder.layer.14.attention.attention.key.weight', 'encoder.layer.14.attention.attention.query.bias', 'encoder.layer.14.attention.attention.query.weight', 'encoder.layer.14.attention.attention.value.bias', 'encoder.layer.14.attention.attention.value.weight', 'encoder.layer.14.attention.output.dense.bias', 'encoder.layer.14.attention.output.dense.weight', 'encoder.layer.14.intermediate.dense.bias', 'encoder.layer.14.intermediate.dense.weight', 'encoder.layer.14.layernorm_after.bias', 'encoder.layer.14.layernorm_after.weight', 'encoder.layer.14.layernorm_before.bias', 'encoder.layer.14.layernorm_before.weight', 'encoder.layer.14.output.dense.bias', 'encoder.layer.14.output.dense.weight', 'encoder.layer.15.attention.attention.key.bias', 'encoder.layer.15.attention.attention.key.weight', 'encoder.layer.15.attention.attention.query.bias', 'encoder.layer.15.attention.attention.query.weight', 'encoder.layer.15.attention.attention.value.bias', 'encoder.layer.15.attention.attention.value.weight', 'encoder.layer.15.attention.output.dense.bias', 'encoder.layer.15.attention.output.dense.weight', 'encoder.layer.15.intermediate.dense.bias', 'encoder.layer.15.intermediate.dense.weight', 'encoder.layer.15.layernorm_after.bias', 'encoder.layer.15.layernorm_after.weight', 'encoder.layer.15.layernorm_before.bias', 'encoder.layer.15.layernorm_before.weight', 'encoder.layer.15.output.dense.bias', 'encoder.layer.15.output.dense.weight', 'encoder.layer.16.attention.attention.key.bias', 'encoder.layer.16.attention.attention.key.weight', 'encoder.layer.16.attention.attention.query.bias', 'encoder.layer.16.attention.attention.query.weight', 'encoder.layer.16.attention.attention.value.bias', 'encoder.layer.16.attention.attention.value.weight', 'encoder.layer.16.attention.output.dense.bias', 'encoder.layer.16.attention.output.dense.weight', 'encoder.layer.16.intermediate.dense.bias', 'encoder.layer.16.intermediate.dense.weight', 'encoder.layer.16.layernorm_after.bias', 'encoder.layer.16.layernorm_after.weight', 'encoder.layer.16.layernorm_before.bias', 'encoder.layer.16.layernorm_before.weight', 'encoder.layer.16.output.dense.bias', 'encoder.layer.16.output.dense.weight']\n",
            "You should probably TRAIN this model on a down-stream task to be able to use it for predictions and inference.\n",
            "100%|██████████| 97/97 [03:38<00:00,  2.26s/it]\n",
            "100%|██████████| 14/14 [00:13<00:00,  1.04it/s]\n"
          ]
        },
        {
          "metadata": {
            "tags": null
          },
          "name": "stdout",
          "output_type": "stream",
          "text": [
            "Epoch: 1 | Train Loss: 0.011 | Train Accuracy: 0.720 | Val Loss: 0.015 | Val Accuracy: 0.634\n",
            "Precision: 0.712 | Recall: 0.634 | F1 Score: 0.597\n"
          ]
        },
        {
          "metadata": {
            "tags": null
          },
          "name": "stderr",
          "output_type": "stream",
          "text": [
            "100%|██████████| 97/97 [03:36<00:00,  2.23s/it]\n",
            "100%|██████████| 14/14 [00:13<00:00,  1.01it/s]\n"
          ]
        },
        {
          "metadata": {
            "tags": null
          },
          "name": "stdout",
          "output_type": "stream",
          "text": [
            "Epoch: 2 | Train Loss: 0.006 | Train Accuracy: 0.886 | Val Loss: 0.018 | Val Accuracy: 0.689\n",
            "Precision: 0.762 | Recall: 0.689 | F1 Score: 0.666\n"
          ]
        },
        {
          "metadata": {
            "tags": null
          },
          "name": "stderr",
          "output_type": "stream",
          "text": [
            "100%|██████████| 97/97 [03:34<00:00,  2.21s/it]\n",
            "100%|██████████| 14/14 [00:13<00:00,  1.03it/s]\n"
          ]
        },
        {
          "metadata": {
            "tags": null
          },
          "name": "stdout",
          "output_type": "stream",
          "text": [
            "Epoch: 3 | Train Loss: 0.003 | Train Accuracy: 0.949 | Val Loss: 0.028 | Val Accuracy: 0.619\n",
            "Precision: 0.724 | Recall: 0.619 | F1 Score: 0.569\n"
          ]
        },
        {
          "metadata": {
            "tags": null
          },
          "name": "stderr",
          "output_type": "stream",
          "text": [
            "100%|██████████| 97/97 [03:36<00:00,  2.23s/it]\n",
            "100%|██████████| 14/14 [00:13<00:00,  1.06it/s]\n"
          ]
        },
        {
          "metadata": {
            "tags": null
          },
          "name": "stdout",
          "output_type": "stream",
          "text": [
            "Epoch: 4 | Train Loss: 0.003 | Train Accuracy: 0.959 | Val Loss: 0.014 | Val Accuracy: 0.751\n",
            "Precision: 0.763 | Recall: 0.751 | F1 Score: 0.749\n"
          ]
        },
        {
          "metadata": {
            "tags": null
          },
          "name": "stderr",
          "output_type": "stream",
          "text": [
            "100%|██████████| 97/97 [03:35<00:00,  2.22s/it]\n",
            "100%|██████████| 14/14 [00:12<00:00,  1.14it/s]\n"
          ]
        },
        {
          "metadata": {
            "tags": null
          },
          "name": "stdout",
          "output_type": "stream",
          "text": [
            "Epoch: 5 | Train Loss: 0.003 | Train Accuracy: 0.948 | Val Loss: 0.023 | Val Accuracy: 0.676\n",
            "Precision: 0.740 | Recall: 0.676 | F1 Score: 0.652\n"
          ]
        },
        {
          "metadata": {
            "tags": null
          },
          "name": "stderr",
          "output_type": "stream",
          "text": [
            "100%|██████████| 97/97 [03:35<00:00,  2.22s/it]\n",
            "100%|██████████| 14/14 [00:13<00:00,  1.03it/s]\n"
          ]
        },
        {
          "metadata": {
            "tags": null
          },
          "name": "stdout",
          "output_type": "stream",
          "text": [
            "Epoch: 6 | Train Loss: 0.002 | Train Accuracy: 0.967 | Val Loss: 0.034 | Val Accuracy: 0.567\n",
            "Precision: 0.673 | Recall: 0.567 | F1 Score: 0.489\n"
          ]
        },
        {
          "metadata": {
            "tags": null
          },
          "name": "stderr",
          "output_type": "stream",
          "text": [
            "100%|██████████| 97/97 [03:35<00:00,  2.22s/it]\n",
            "100%|██████████| 14/14 [00:13<00:00,  1.01it/s]\n"
          ]
        },
        {
          "metadata": {
            "tags": null
          },
          "name": "stdout",
          "output_type": "stream",
          "text": [
            "Epoch: 7 | Train Loss: 0.001 | Train Accuracy: 0.990 | Val Loss: 0.030 | Val Accuracy: 0.626\n",
            "Precision: 0.729 | Recall: 0.626 | F1 Score: 0.579\n"
          ]
        },
        {
          "metadata": {
            "tags": null
          },
          "name": "stderr",
          "output_type": "stream",
          "text": [
            "100%|██████████| 97/97 [03:35<00:00,  2.22s/it]\n",
            "100%|██████████| 14/14 [00:12<00:00,  1.14it/s]\n"
          ]
        },
        {
          "metadata": {
            "tags": null
          },
          "name": "stdout",
          "output_type": "stream",
          "text": [
            "Epoch: 8 | Train Loss: 0.001 | Train Accuracy: 0.987 | Val Loss: 0.034 | Val Accuracy: 0.644\n",
            "Precision: 0.754 | Recall: 0.644 | F1 Score: 0.601\n"
          ]
        },
        {
          "metadata": {
            "tags": null
          },
          "name": "stderr",
          "output_type": "stream",
          "text": [
            "100%|██████████| 97/97 [03:37<00:00,  2.24s/it]\n",
            "100%|██████████| 14/14 [00:12<00:00,  1.14it/s]\n"
          ]
        },
        {
          "metadata": {
            "tags": null
          },
          "name": "stdout",
          "output_type": "stream",
          "text": [
            "Epoch: 9 | Train Loss: 0.001 | Train Accuracy: 0.989 | Val Loss: 0.040 | Val Accuracy: 0.604\n",
            "Precision: 0.690 | Recall: 0.604 | F1 Score: 0.554\n"
          ]
        },
        {
          "metadata": {
            "tags": null
          },
          "name": "stderr",
          "output_type": "stream",
          "text": [
            "100%|██████████| 97/97 [03:37<00:00,  2.24s/it]\n",
            "100%|██████████| 14/14 [00:12<00:00,  1.13it/s]\n"
          ]
        },
        {
          "metadata": {
            "tags": null
          },
          "name": "stdout",
          "output_type": "stream",
          "text": [
            "Epoch: 10 | Train Loss: 0.001 | Train Accuracy: 0.984 | Val Loss: 0.026 | Val Accuracy: 0.634\n",
            "Precision: 0.717 | Recall: 0.634 | F1 Score: 0.595\n"
          ]
        },
        {
          "metadata": {
            "tags": null
          },
          "name": "stderr",
          "output_type": "stream",
          "text": [
            "100%|██████████| 97/97 [03:36<00:00,  2.23s/it]\n",
            "100%|██████████| 14/14 [00:12<00:00,  1.10it/s]\n"
          ]
        },
        {
          "metadata": {
            "tags": null
          },
          "name": "stdout",
          "output_type": "stream",
          "text": [
            "Epoch: 11 | Train Loss: 0.001 | Train Accuracy: 0.990 | Val Loss: 0.044 | Val Accuracy: 0.606\n",
            "Precision: 0.749 | Recall: 0.606 | F1 Score: 0.539\n"
          ]
        },
        {
          "metadata": {
            "tags": null
          },
          "name": "stderr",
          "output_type": "stream",
          "text": [
            "100%|██████████| 97/97 [03:37<00:00,  2.25s/it]\n",
            "100%|██████████| 14/14 [00:13<00:00,  1.06it/s]\n",
            "[I 2024-06-10 19:09:29,321] Trial 7 finished with value: 0.6056547619047619 and parameters: {'epochs': 12, 'learning_rate': 0.0003522724081931714, 'batch_size': 49, 'dropout_prob': 0.43167529413825584, 'optimizer_name': 'Adam', 'num_layers': 17, 'scheduler_type': 'StepLR'}. Best is trial 6 with value: 0.7410714285714286.\n"
          ]
        },
        {
          "metadata": {
            "tags": null
          },
          "name": "stdout",
          "output_type": "stream",
          "text": [
            "Epoch: 12 | Train Loss: 0.000 | Train Accuracy: 0.999 | Val Loss: 0.047 | Val Accuracy: 0.606\n",
            "Precision: 0.744 | Recall: 0.606 | F1 Score: 0.541\n"
          ]
        },
        {
          "metadata": {
            "tags": null
          },
          "name": "stderr",
          "output_type": "stream",
          "text": [
            "Some weights of ViTModel were not initialized from the model checkpoint at google/vit-base-patch16-224-in21k and are newly initialized: ['encoder.layer.12.attention.attention.key.bias', 'encoder.layer.12.attention.attention.key.weight', 'encoder.layer.12.attention.attention.query.bias', 'encoder.layer.12.attention.attention.query.weight', 'encoder.layer.12.attention.attention.value.bias', 'encoder.layer.12.attention.attention.value.weight', 'encoder.layer.12.attention.output.dense.bias', 'encoder.layer.12.attention.output.dense.weight', 'encoder.layer.12.intermediate.dense.bias', 'encoder.layer.12.intermediate.dense.weight', 'encoder.layer.12.layernorm_after.bias', 'encoder.layer.12.layernorm_after.weight', 'encoder.layer.12.layernorm_before.bias', 'encoder.layer.12.layernorm_before.weight', 'encoder.layer.12.output.dense.bias', 'encoder.layer.12.output.dense.weight', 'encoder.layer.13.attention.attention.key.bias', 'encoder.layer.13.attention.attention.key.weight', 'encoder.layer.13.attention.attention.query.bias', 'encoder.layer.13.attention.attention.query.weight', 'encoder.layer.13.attention.attention.value.bias', 'encoder.layer.13.attention.attention.value.weight', 'encoder.layer.13.attention.output.dense.bias', 'encoder.layer.13.attention.output.dense.weight', 'encoder.layer.13.intermediate.dense.bias', 'encoder.layer.13.intermediate.dense.weight', 'encoder.layer.13.layernorm_after.bias', 'encoder.layer.13.layernorm_after.weight', 'encoder.layer.13.layernorm_before.bias', 'encoder.layer.13.layernorm_before.weight', 'encoder.layer.13.output.dense.bias', 'encoder.layer.13.output.dense.weight', 'encoder.layer.14.attention.attention.key.bias', 'encoder.layer.14.attention.attention.key.weight', 'encoder.layer.14.attention.attention.query.bias', 'encoder.layer.14.attention.attention.query.weight', 'encoder.layer.14.attention.attention.value.bias', 'encoder.layer.14.attention.attention.value.weight', 'encoder.layer.14.attention.output.dense.bias', 'encoder.layer.14.attention.output.dense.weight', 'encoder.layer.14.intermediate.dense.bias', 'encoder.layer.14.intermediate.dense.weight', 'encoder.layer.14.layernorm_after.bias', 'encoder.layer.14.layernorm_after.weight', 'encoder.layer.14.layernorm_before.bias', 'encoder.layer.14.layernorm_before.weight', 'encoder.layer.14.output.dense.bias', 'encoder.layer.14.output.dense.weight', 'encoder.layer.15.attention.attention.key.bias', 'encoder.layer.15.attention.attention.key.weight', 'encoder.layer.15.attention.attention.query.bias', 'encoder.layer.15.attention.attention.query.weight', 'encoder.layer.15.attention.attention.value.bias', 'encoder.layer.15.attention.attention.value.weight', 'encoder.layer.15.attention.output.dense.bias', 'encoder.layer.15.attention.output.dense.weight', 'encoder.layer.15.intermediate.dense.bias', 'encoder.layer.15.intermediate.dense.weight', 'encoder.layer.15.layernorm_after.bias', 'encoder.layer.15.layernorm_after.weight', 'encoder.layer.15.layernorm_before.bias', 'encoder.layer.15.layernorm_before.weight', 'encoder.layer.15.output.dense.bias', 'encoder.layer.15.output.dense.weight', 'encoder.layer.16.attention.attention.key.bias', 'encoder.layer.16.attention.attention.key.weight', 'encoder.layer.16.attention.attention.query.bias', 'encoder.layer.16.attention.attention.query.weight', 'encoder.layer.16.attention.attention.value.bias', 'encoder.layer.16.attention.attention.value.weight', 'encoder.layer.16.attention.output.dense.bias', 'encoder.layer.16.attention.output.dense.weight', 'encoder.layer.16.intermediate.dense.bias', 'encoder.layer.16.intermediate.dense.weight', 'encoder.layer.16.layernorm_after.bias', 'encoder.layer.16.layernorm_after.weight', 'encoder.layer.16.layernorm_before.bias', 'encoder.layer.16.layernorm_before.weight', 'encoder.layer.16.output.dense.bias', 'encoder.layer.16.output.dense.weight', 'encoder.layer.17.attention.attention.key.bias', 'encoder.layer.17.attention.attention.key.weight', 'encoder.layer.17.attention.attention.query.bias', 'encoder.layer.17.attention.attention.query.weight', 'encoder.layer.17.attention.attention.value.bias', 'encoder.layer.17.attention.attention.value.weight', 'encoder.layer.17.attention.output.dense.bias', 'encoder.layer.17.attention.output.dense.weight', 'encoder.layer.17.intermediate.dense.bias', 'encoder.layer.17.intermediate.dense.weight', 'encoder.layer.17.layernorm_after.bias', 'encoder.layer.17.layernorm_after.weight', 'encoder.layer.17.layernorm_before.bias', 'encoder.layer.17.layernorm_before.weight', 'encoder.layer.17.output.dense.bias', 'encoder.layer.17.output.dense.weight', 'encoder.layer.18.attention.attention.key.bias', 'encoder.layer.18.attention.attention.key.weight', 'encoder.layer.18.attention.attention.query.bias', 'encoder.layer.18.attention.attention.query.weight', 'encoder.layer.18.attention.attention.value.bias', 'encoder.layer.18.attention.attention.value.weight', 'encoder.layer.18.attention.output.dense.bias', 'encoder.layer.18.attention.output.dense.weight', 'encoder.layer.18.intermediate.dense.bias', 'encoder.layer.18.intermediate.dense.weight', 'encoder.layer.18.layernorm_after.bias', 'encoder.layer.18.layernorm_after.weight', 'encoder.layer.18.layernorm_before.bias', 'encoder.layer.18.layernorm_before.weight', 'encoder.layer.18.output.dense.bias', 'encoder.layer.18.output.dense.weight', 'encoder.layer.19.attention.attention.key.bias', 'encoder.layer.19.attention.attention.key.weight', 'encoder.layer.19.attention.attention.query.bias', 'encoder.layer.19.attention.attention.query.weight', 'encoder.layer.19.attention.attention.value.bias', 'encoder.layer.19.attention.attention.value.weight', 'encoder.layer.19.attention.output.dense.bias', 'encoder.layer.19.attention.output.dense.weight', 'encoder.layer.19.intermediate.dense.bias', 'encoder.layer.19.intermediate.dense.weight', 'encoder.layer.19.layernorm_after.bias', 'encoder.layer.19.layernorm_after.weight', 'encoder.layer.19.layernorm_before.bias', 'encoder.layer.19.layernorm_before.weight', 'encoder.layer.19.output.dense.bias', 'encoder.layer.19.output.dense.weight', 'encoder.layer.20.attention.attention.key.bias', 'encoder.layer.20.attention.attention.key.weight', 'encoder.layer.20.attention.attention.query.bias', 'encoder.layer.20.attention.attention.query.weight', 'encoder.layer.20.attention.attention.value.bias', 'encoder.layer.20.attention.attention.value.weight', 'encoder.layer.20.attention.output.dense.bias', 'encoder.layer.20.attention.output.dense.weight', 'encoder.layer.20.intermediate.dense.bias', 'encoder.layer.20.intermediate.dense.weight', 'encoder.layer.20.layernorm_after.bias', 'encoder.layer.20.layernorm_after.weight', 'encoder.layer.20.layernorm_before.bias', 'encoder.layer.20.layernorm_before.weight', 'encoder.layer.20.output.dense.bias', 'encoder.layer.20.output.dense.weight']\n",
            "You should probably TRAIN this model on a down-stream task to be able to use it for predictions and inference.\n",
            "100%|██████████| 262/262 [04:35<00:00,  1.05s/it]\n",
            "100%|██████████| 38/38 [00:15<00:00,  2.50it/s]\n"
          ]
        },
        {
          "metadata": {
            "tags": null
          },
          "name": "stdout",
          "output_type": "stream",
          "text": [
            "Epoch: 1 | Train Loss: 0.037 | Train Accuracy: 0.636 | Val Loss: 0.036 | Val Accuracy: 0.641\n",
            "Precision: 0.681 | Recall: 0.641 | F1 Score: 0.621\n"
          ]
        },
        {
          "metadata": {
            "tags": null
          },
          "name": "stderr",
          "output_type": "stream",
          "text": [
            "100%|██████████| 262/262 [04:30<00:00,  1.03s/it]\n",
            "100%|██████████| 38/38 [00:14<00:00,  2.54it/s]\n"
          ]
        },
        {
          "metadata": {
            "tags": null
          },
          "name": "stdout",
          "output_type": "stream",
          "text": [
            "Epoch: 2 | Train Loss: 0.025 | Train Accuracy: 0.811 | Val Loss: 0.030 | Val Accuracy: 0.757\n",
            "Precision: 0.759 | Recall: 0.757 | F1 Score: 0.757\n"
          ]
        },
        {
          "metadata": {
            "tags": null
          },
          "name": "stderr",
          "output_type": "stream",
          "text": [
            "100%|██████████| 262/262 [04:31<00:00,  1.04s/it]\n",
            "100%|██████████| 38/38 [00:14<00:00,  2.61it/s]\n"
          ]
        },
        {
          "metadata": {
            "tags": null
          },
          "name": "stdout",
          "output_type": "stream",
          "text": [
            "Epoch: 3 | Train Loss: 0.014 | Train Accuracy: 0.910 | Val Loss: 0.043 | Val Accuracy: 0.702\n",
            "Precision: 0.795 | Recall: 0.702 | F1 Score: 0.677\n"
          ]
        },
        {
          "metadata": {
            "tags": null
          },
          "name": "stderr",
          "output_type": "stream",
          "text": [
            "100%|██████████| 262/262 [04:32<00:00,  1.04s/it]\n",
            "100%|██████████| 38/38 [00:15<00:00,  2.47it/s]\n"
          ]
        },
        {
          "metadata": {
            "tags": null
          },
          "name": "stdout",
          "output_type": "stream",
          "text": [
            "Epoch: 4 | Train Loss: 0.008 | Train Accuracy: 0.954 | Val Loss: 0.048 | Val Accuracy: 0.682\n",
            "Precision: 0.781 | Recall: 0.682 | F1 Score: 0.651\n"
          ]
        },
        {
          "metadata": {
            "tags": null
          },
          "name": "stderr",
          "output_type": "stream",
          "text": [
            "100%|██████████| 262/262 [04:31<00:00,  1.04s/it]\n",
            "100%|██████████| 38/38 [00:14<00:00,  2.69it/s]\n"
          ]
        },
        {
          "metadata": {
            "tags": null
          },
          "name": "stdout",
          "output_type": "stream",
          "text": [
            "Epoch: 5 | Train Loss: 0.005 | Train Accuracy: 0.975 | Val Loss: 0.041 | Val Accuracy: 0.723\n",
            "Precision: 0.783 | Recall: 0.723 | F1 Score: 0.708\n"
          ]
        },
        {
          "metadata": {
            "tags": null
          },
          "name": "stderr",
          "output_type": "stream",
          "text": [
            "100%|██████████| 262/262 [04:29<00:00,  1.03s/it]\n",
            "100%|██████████| 38/38 [00:14<00:00,  2.67it/s]\n"
          ]
        },
        {
          "metadata": {
            "tags": null
          },
          "name": "stdout",
          "output_type": "stream",
          "text": [
            "Epoch: 6 | Train Loss: 0.003 | Train Accuracy: 0.985 | Val Loss: 0.056 | Val Accuracy: 0.701\n",
            "Precision: 0.791 | Recall: 0.701 | F1 Score: 0.676\n"
          ]
        },
        {
          "metadata": {
            "tags": null
          },
          "name": "stderr",
          "output_type": "stream",
          "text": [
            "100%|██████████| 262/262 [04:30<00:00,  1.03s/it]\n",
            "100%|██████████| 38/38 [00:15<00:00,  2.49it/s]\n"
          ]
        },
        {
          "metadata": {
            "tags": null
          },
          "name": "stdout",
          "output_type": "stream",
          "text": [
            "Epoch: 7 | Train Loss: 0.002 | Train Accuracy: 0.990 | Val Loss: 0.048 | Val Accuracy: 0.744\n",
            "Precision: 0.809 | Recall: 0.744 | F1 Score: 0.730\n"
          ]
        },
        {
          "metadata": {
            "tags": null
          },
          "name": "stderr",
          "output_type": "stream",
          "text": [
            "100%|██████████| 262/262 [04:32<00:00,  1.04s/it]\n",
            "100%|██████████| 38/38 [00:14<00:00,  2.62it/s]\n"
          ]
        },
        {
          "metadata": {
            "tags": null
          },
          "name": "stdout",
          "output_type": "stream",
          "text": [
            "Epoch: 8 | Train Loss: 0.002 | Train Accuracy: 0.994 | Val Loss: 0.046 | Val Accuracy: 0.760\n",
            "Precision: 0.818 | Recall: 0.760 | F1 Score: 0.749\n"
          ]
        },
        {
          "metadata": {
            "tags": null
          },
          "name": "stderr",
          "output_type": "stream",
          "text": [
            "100%|██████████| 262/262 [04:31<00:00,  1.04s/it]\n",
            "100%|██████████| 38/38 [00:14<00:00,  2.58it/s]\n"
          ]
        },
        {
          "metadata": {
            "tags": null
          },
          "name": "stdout",
          "output_type": "stream",
          "text": [
            "Epoch: 9 | Train Loss: 0.002 | Train Accuracy: 0.996 | Val Loss: 0.050 | Val Accuracy: 0.731\n",
            "Precision: 0.804 | Recall: 0.731 | F1 Score: 0.713\n"
          ]
        },
        {
          "metadata": {
            "tags": null
          },
          "name": "stderr",
          "output_type": "stream",
          "text": [
            "100%|██████████| 262/262 [04:30<00:00,  1.03s/it]\n",
            "100%|██████████| 38/38 [00:14<00:00,  2.62it/s]\n"
          ]
        },
        {
          "metadata": {
            "tags": null
          },
          "name": "stdout",
          "output_type": "stream",
          "text": [
            "Epoch: 10 | Train Loss: 0.001 | Train Accuracy: 0.997 | Val Loss: 0.050 | Val Accuracy: 0.732\n",
            "Precision: 0.805 | Recall: 0.732 | F1 Score: 0.715\n"
          ]
        },
        {
          "metadata": {
            "tags": null
          },
          "name": "stderr",
          "output_type": "stream",
          "text": [
            "100%|██████████| 262/262 [04:31<00:00,  1.04s/it]\n",
            "100%|██████████| 38/38 [00:15<00:00,  2.51it/s]\n"
          ]
        },
        {
          "metadata": {
            "tags": null
          },
          "name": "stdout",
          "output_type": "stream",
          "text": [
            "Epoch: 11 | Train Loss: 0.001 | Train Accuracy: 0.997 | Val Loss: 0.050 | Val Accuracy: 0.732\n",
            "Precision: 0.805 | Recall: 0.732 | F1 Score: 0.715\n"
          ]
        },
        {
          "metadata": {
            "tags": null
          },
          "name": "stderr",
          "output_type": "stream",
          "text": [
            "100%|██████████| 262/262 [04:32<00:00,  1.04s/it]\n",
            "100%|██████████| 38/38 [00:14<00:00,  2.65it/s]\n"
          ]
        },
        {
          "metadata": {
            "tags": null
          },
          "name": "stdout",
          "output_type": "stream",
          "text": [
            "Epoch: 12 | Train Loss: 0.001 | Train Accuracy: 0.997 | Val Loss: 0.051 | Val Accuracy: 0.723\n",
            "Precision: 0.805 | Recall: 0.723 | F1 Score: 0.703\n"
          ]
        },
        {
          "metadata": {
            "tags": null
          },
          "name": "stderr",
          "output_type": "stream",
          "text": [
            "100%|██████████| 262/262 [04:30<00:00,  1.03s/it]\n",
            "100%|██████████| 38/38 [00:14<00:00,  2.65it/s]\n",
            "[I 2024-06-10 20:11:32,794] Trial 8 finished with value: 0.7321428571428571 and parameters: {'epochs': 13, 'learning_rate': 0.000488953285680193, 'batch_size': 18, 'dropout_prob': 0.35264808729644426, 'optimizer_name': 'SGD', 'num_layers': 21, 'scheduler_type': 'CosineAnnealingLR'}. Best is trial 6 with value: 0.7410714285714286.\n"
          ]
        },
        {
          "metadata": {
            "tags": null
          },
          "name": "stdout",
          "output_type": "stream",
          "text": [
            "Epoch: 13 | Train Loss: 0.001 | Train Accuracy: 0.997 | Val Loss: 0.051 | Val Accuracy: 0.732\n",
            "Precision: 0.807 | Recall: 0.732 | F1 Score: 0.715\n"
          ]
        },
        {
          "metadata": {
            "tags": null
          },
          "name": "stderr",
          "output_type": "stream",
          "text": [
            "Some weights of ViTModel were not initialized from the model checkpoint at google/vit-base-patch16-224-in21k and are newly initialized: ['encoder.layer.12.attention.attention.key.bias', 'encoder.layer.12.attention.attention.key.weight', 'encoder.layer.12.attention.attention.query.bias', 'encoder.layer.12.attention.attention.query.weight', 'encoder.layer.12.attention.attention.value.bias', 'encoder.layer.12.attention.attention.value.weight', 'encoder.layer.12.attention.output.dense.bias', 'encoder.layer.12.attention.output.dense.weight', 'encoder.layer.12.intermediate.dense.bias', 'encoder.layer.12.intermediate.dense.weight', 'encoder.layer.12.layernorm_after.bias', 'encoder.layer.12.layernorm_after.weight', 'encoder.layer.12.layernorm_before.bias', 'encoder.layer.12.layernorm_before.weight', 'encoder.layer.12.output.dense.bias', 'encoder.layer.12.output.dense.weight', 'encoder.layer.13.attention.attention.key.bias', 'encoder.layer.13.attention.attention.key.weight', 'encoder.layer.13.attention.attention.query.bias', 'encoder.layer.13.attention.attention.query.weight', 'encoder.layer.13.attention.attention.value.bias', 'encoder.layer.13.attention.attention.value.weight', 'encoder.layer.13.attention.output.dense.bias', 'encoder.layer.13.attention.output.dense.weight', 'encoder.layer.13.intermediate.dense.bias', 'encoder.layer.13.intermediate.dense.weight', 'encoder.layer.13.layernorm_after.bias', 'encoder.layer.13.layernorm_after.weight', 'encoder.layer.13.layernorm_before.bias', 'encoder.layer.13.layernorm_before.weight', 'encoder.layer.13.output.dense.bias', 'encoder.layer.13.output.dense.weight', 'encoder.layer.14.attention.attention.key.bias', 'encoder.layer.14.attention.attention.key.weight', 'encoder.layer.14.attention.attention.query.bias', 'encoder.layer.14.attention.attention.query.weight', 'encoder.layer.14.attention.attention.value.bias', 'encoder.layer.14.attention.attention.value.weight', 'encoder.layer.14.attention.output.dense.bias', 'encoder.layer.14.attention.output.dense.weight', 'encoder.layer.14.intermediate.dense.bias', 'encoder.layer.14.intermediate.dense.weight', 'encoder.layer.14.layernorm_after.bias', 'encoder.layer.14.layernorm_after.weight', 'encoder.layer.14.layernorm_before.bias', 'encoder.layer.14.layernorm_before.weight', 'encoder.layer.14.output.dense.bias', 'encoder.layer.14.output.dense.weight', 'encoder.layer.15.attention.attention.key.bias', 'encoder.layer.15.attention.attention.key.weight', 'encoder.layer.15.attention.attention.query.bias', 'encoder.layer.15.attention.attention.query.weight', 'encoder.layer.15.attention.attention.value.bias', 'encoder.layer.15.attention.attention.value.weight', 'encoder.layer.15.attention.output.dense.bias', 'encoder.layer.15.attention.output.dense.weight', 'encoder.layer.15.intermediate.dense.bias', 'encoder.layer.15.intermediate.dense.weight', 'encoder.layer.15.layernorm_after.bias', 'encoder.layer.15.layernorm_after.weight', 'encoder.layer.15.layernorm_before.bias', 'encoder.layer.15.layernorm_before.weight', 'encoder.layer.15.output.dense.bias', 'encoder.layer.15.output.dense.weight', 'encoder.layer.16.attention.attention.key.bias', 'encoder.layer.16.attention.attention.key.weight', 'encoder.layer.16.attention.attention.query.bias', 'encoder.layer.16.attention.attention.query.weight', 'encoder.layer.16.attention.attention.value.bias', 'encoder.layer.16.attention.attention.value.weight', 'encoder.layer.16.attention.output.dense.bias', 'encoder.layer.16.attention.output.dense.weight', 'encoder.layer.16.intermediate.dense.bias', 'encoder.layer.16.intermediate.dense.weight', 'encoder.layer.16.layernorm_after.bias', 'encoder.layer.16.layernorm_after.weight', 'encoder.layer.16.layernorm_before.bias', 'encoder.layer.16.layernorm_before.weight', 'encoder.layer.16.output.dense.bias', 'encoder.layer.16.output.dense.weight', 'encoder.layer.17.attention.attention.key.bias', 'encoder.layer.17.attention.attention.key.weight', 'encoder.layer.17.attention.attention.query.bias', 'encoder.layer.17.attention.attention.query.weight', 'encoder.layer.17.attention.attention.value.bias', 'encoder.layer.17.attention.attention.value.weight', 'encoder.layer.17.attention.output.dense.bias', 'encoder.layer.17.attention.output.dense.weight', 'encoder.layer.17.intermediate.dense.bias', 'encoder.layer.17.intermediate.dense.weight', 'encoder.layer.17.layernorm_after.bias', 'encoder.layer.17.layernorm_after.weight', 'encoder.layer.17.layernorm_before.bias', 'encoder.layer.17.layernorm_before.weight', 'encoder.layer.17.output.dense.bias', 'encoder.layer.17.output.dense.weight', 'encoder.layer.18.attention.attention.key.bias', 'encoder.layer.18.attention.attention.key.weight', 'encoder.layer.18.attention.attention.query.bias', 'encoder.layer.18.attention.attention.query.weight', 'encoder.layer.18.attention.attention.value.bias', 'encoder.layer.18.attention.attention.value.weight', 'encoder.layer.18.attention.output.dense.bias', 'encoder.layer.18.attention.output.dense.weight', 'encoder.layer.18.intermediate.dense.bias', 'encoder.layer.18.intermediate.dense.weight', 'encoder.layer.18.layernorm_after.bias', 'encoder.layer.18.layernorm_after.weight', 'encoder.layer.18.layernorm_before.bias', 'encoder.layer.18.layernorm_before.weight', 'encoder.layer.18.output.dense.bias', 'encoder.layer.18.output.dense.weight', 'encoder.layer.19.attention.attention.key.bias', 'encoder.layer.19.attention.attention.key.weight', 'encoder.layer.19.attention.attention.query.bias', 'encoder.layer.19.attention.attention.query.weight', 'encoder.layer.19.attention.attention.value.bias', 'encoder.layer.19.attention.attention.value.weight', 'encoder.layer.19.attention.output.dense.bias', 'encoder.layer.19.attention.output.dense.weight', 'encoder.layer.19.intermediate.dense.bias', 'encoder.layer.19.intermediate.dense.weight', 'encoder.layer.19.layernorm_after.bias', 'encoder.layer.19.layernorm_after.weight', 'encoder.layer.19.layernorm_before.bias', 'encoder.layer.19.layernorm_before.weight', 'encoder.layer.19.output.dense.bias', 'encoder.layer.19.output.dense.weight', 'encoder.layer.20.attention.attention.key.bias', 'encoder.layer.20.attention.attention.key.weight', 'encoder.layer.20.attention.attention.query.bias', 'encoder.layer.20.attention.attention.query.weight', 'encoder.layer.20.attention.attention.value.bias', 'encoder.layer.20.attention.attention.value.weight', 'encoder.layer.20.attention.output.dense.bias', 'encoder.layer.20.attention.output.dense.weight', 'encoder.layer.20.intermediate.dense.bias', 'encoder.layer.20.intermediate.dense.weight', 'encoder.layer.20.layernorm_after.bias', 'encoder.layer.20.layernorm_after.weight', 'encoder.layer.20.layernorm_before.bias', 'encoder.layer.20.layernorm_before.weight', 'encoder.layer.20.output.dense.bias', 'encoder.layer.20.output.dense.weight']\n",
            "You should probably TRAIN this model on a down-stream task to be able to use it for predictions and inference.\n",
            "100%|██████████| 182/182 [04:32<00:00,  1.50s/it]\n",
            "100%|██████████| 26/26 [00:14<00:00,  1.76it/s]\n"
          ]
        },
        {
          "metadata": {
            "tags": null
          },
          "name": "stdout",
          "output_type": "stream",
          "text": [
            "Epoch: 1 | Train Loss: 0.027 | Train Accuracy: 0.487 | Val Loss: 0.027 | Val Accuracy: 0.524\n",
            "Precision: 0.536 | Recall: 0.524 | F1 Score: 0.479\n"
          ]
        },
        {
          "metadata": {
            "tags": null
          },
          "name": "stderr",
          "output_type": "stream",
          "text": [
            "100%|██████████| 182/182 [10:33<00:00,  3.48s/it]\n",
            "100%|██████████| 26/26 [00:14<00:00,  1.76it/s]\n"
          ]
        },
        {
          "metadata": {
            "tags": null
          },
          "name": "stdout",
          "output_type": "stream",
          "text": [
            "Epoch: 2 | Train Loss: 0.027 | Train Accuracy: 0.480 | Val Loss: 0.027 | Val Accuracy: 0.510\n",
            "Precision: 0.514 | Recall: 0.510 | F1 Score: 0.474\n"
          ]
        },
        {
          "metadata": {
            "tags": null
          },
          "name": "stderr",
          "output_type": "stream",
          "text": [
            "100%|██████████| 182/182 [14:31<00:00,  4.79s/it]\n",
            "100%|██████████| 26/26 [00:15<00:00,  1.65it/s]\n"
          ]
        },
        {
          "metadata": {
            "tags": null
          },
          "name": "stdout",
          "output_type": "stream",
          "text": [
            "Epoch: 3 | Train Loss: 0.027 | Train Accuracy: 0.486 | Val Loss: 0.027 | Val Accuracy: 0.548\n",
            "Precision: 0.557 | Recall: 0.548 | F1 Score: 0.528\n"
          ]
        },
        {
          "metadata": {
            "tags": null
          },
          "name": "stderr",
          "output_type": "stream",
          "text": [
            "100%|██████████| 182/182 [08:17<00:00,  2.74s/it]\n",
            "100%|██████████| 26/26 [00:15<00:00,  1.72it/s]\n"
          ]
        },
        {
          "metadata": {
            "tags": null
          },
          "name": "stdout",
          "output_type": "stream",
          "text": [
            "Epoch: 4 | Train Loss: 0.027 | Train Accuracy: 0.493 | Val Loss: 0.027 | Val Accuracy: 0.561\n",
            "Precision: 0.570 | Recall: 0.561 | F1 Score: 0.546\n"
          ]
        },
        {
          "metadata": {
            "tags": null
          },
          "name": "stderr",
          "output_type": "stream",
          "text": [
            "100%|██████████| 182/182 [15:00<00:00,  4.95s/it]\n",
            "100%|██████████| 26/26 [00:14<00:00,  1.76it/s]\n"
          ]
        },
        {
          "metadata": {
            "tags": null
          },
          "name": "stdout",
          "output_type": "stream",
          "text": [
            "Epoch: 5 | Train Loss: 0.027 | Train Accuracy: 0.498 | Val Loss: 0.027 | Val Accuracy: 0.561\n",
            "Precision: 0.570 | Recall: 0.561 | F1 Score: 0.546\n"
          ]
        },
        {
          "metadata": {
            "tags": null
          },
          "name": "stderr",
          "output_type": "stream",
          "text": [
            "100%|██████████| 182/182 [04:33<00:00,  1.50s/it]\n",
            "100%|██████████| 26/26 [00:14<00:00,  1.78it/s]\n"
          ]
        },
        {
          "metadata": {
            "tags": null
          },
          "name": "stdout",
          "output_type": "stream",
          "text": [
            "Epoch: 6 | Train Loss: 0.027 | Train Accuracy: 0.510 | Val Loss: 0.027 | Val Accuracy: 0.560\n",
            "Precision: 0.567 | Recall: 0.560 | F1 Score: 0.547\n"
          ]
        },
        {
          "output_type": "stream",
          "name": "stderr",
          "text": [
            "100%|██████████| 182/182 [04:32<00:00,  1.50s/it]\n",
            "100%|██████████| 26/26 [00:15<00:00,  1.69it/s]\n"
          ]
        },
        {
          "output_type": "stream",
          "name": "stdout",
          "text": [
            "Epoch: 7 | Train Loss: 0.027 | Train Accuracy: 0.517 | Val Loss: 0.027 | Val Accuracy: 0.565\n",
            "Precision: 0.572 | Recall: 0.565 | F1 Score: 0.556\n"
          ]
        },
        {
          "output_type": "stream",
          "name": "stderr",
          "text": [
            "100%|██████████| 182/182 [04:32<00:00,  1.50s/it]\n",
            "100%|██████████| 26/26 [00:14<00:00,  1.79it/s]\n"
          ]
        },
        {
          "output_type": "stream",
          "name": "stdout",
          "text": [
            "Epoch: 8 | Train Loss: 0.027 | Train Accuracy: 0.519 | Val Loss: 0.027 | Val Accuracy: 0.560\n",
            "Precision: 0.565 | Recall: 0.560 | F1 Score: 0.551\n"
          ]
        },
        {
          "output_type": "stream",
          "name": "stderr",
          "text": [
            "100%|██████████| 182/182 [04:32<00:00,  1.50s/it]\n",
            "100%|██████████| 26/26 [00:15<00:00,  1.71it/s]\n"
          ]
        },
        {
          "output_type": "stream",
          "name": "stdout",
          "text": [
            "Epoch: 9 | Train Loss: 0.027 | Train Accuracy: 0.527 | Val Loss: 0.027 | Val Accuracy: 0.560\n",
            "Precision: 0.565 | Recall: 0.560 | F1 Score: 0.551\n"
          ]
        },
        {
          "output_type": "stream",
          "name": "stderr",
          "text": [
            "100%|██████████| 182/182 [04:32<00:00,  1.50s/it]\n",
            "100%|██████████| 26/26 [00:14<00:00,  1.79it/s]\n"
          ]
        },
        {
          "output_type": "stream",
          "name": "stdout",
          "text": [
            "Epoch: 10 | Train Loss: 0.027 | Train Accuracy: 0.534 | Val Loss: 0.027 | Val Accuracy: 0.561\n",
            "Precision: 0.566 | Recall: 0.561 | F1 Score: 0.552\n"
          ]
        },
        {
          "output_type": "stream",
          "name": "stderr",
          "text": [
            "100%|██████████| 182/182 [04:31<00:00,  1.49s/it]\n",
            "100%|██████████| 26/26 [00:14<00:00,  1.79it/s]\n"
          ]
        },
        {
          "output_type": "stream",
          "name": "stdout",
          "text": [
            "Epoch: 11 | Train Loss: 0.027 | Train Accuracy: 0.541 | Val Loss: 0.027 | Val Accuracy: 0.562\n",
            "Precision: 0.568 | Recall: 0.562 | F1 Score: 0.554\n"
          ]
        },
        {
          "output_type": "stream",
          "name": "stderr",
          "text": [
            "100%|██████████| 182/182 [04:32<00:00,  1.50s/it]\n",
            "100%|██████████| 26/26 [00:14<00:00,  1.79it/s]\n"
          ]
        },
        {
          "output_type": "stream",
          "name": "stdout",
          "text": [
            "Epoch: 12 | Train Loss: 0.027 | Train Accuracy: 0.544 | Val Loss: 0.027 | Val Accuracy: 0.562\n",
            "Precision: 0.567 | Recall: 0.562 | F1 Score: 0.555\n"
          ]
        },
        {
          "output_type": "stream",
          "name": "stderr",
          "text": [
            "100%|██████████| 182/182 [04:32<00:00,  1.50s/it]\n",
            "100%|██████████| 26/26 [00:15<00:00,  1.67it/s]\n"
          ]
        },
        {
          "output_type": "stream",
          "name": "stdout",
          "text": [
            "Epoch: 13 | Train Loss: 0.027 | Train Accuracy: 0.549 | Val Loss: 0.027 | Val Accuracy: 0.562\n",
            "Precision: 0.567 | Recall: 0.562 | F1 Score: 0.555\n"
          ]
        },
        {
          "output_type": "stream",
          "name": "stderr",
          "text": [
            "100%|██████████| 182/182 [04:32<00:00,  1.50s/it]\n",
            "100%|██████████| 26/26 [00:14<00:00,  1.78it/s]\n"
          ]
        },
        {
          "output_type": "stream",
          "name": "stdout",
          "text": [
            "Epoch: 14 | Train Loss: 0.027 | Train Accuracy: 0.551 | Val Loss: 0.027 | Val Accuracy: 0.577\n",
            "Precision: 0.582 | Recall: 0.577 | F1 Score: 0.571\n"
          ]
        },
        {
          "output_type": "stream",
          "name": "stderr",
          "text": [
            "100%|██████████| 182/182 [04:33<00:00,  1.50s/it]\n",
            "100%|██████████| 26/26 [00:14<00:00,  1.79it/s]\n"
          ]
        },
        {
          "output_type": "stream",
          "name": "stdout",
          "text": [
            "Epoch: 15 | Train Loss: 0.027 | Train Accuracy: 0.552 | Val Loss: 0.027 | Val Accuracy: 0.580\n",
            "Precision: 0.585 | Recall: 0.580 | F1 Score: 0.574\n"
          ]
        },
        {
          "output_type": "stream",
          "name": "stderr",
          "text": [
            "100%|██████████| 182/182 [04:32<00:00,  1.50s/it]\n",
            "100%|██████████| 26/26 [00:15<00:00,  1.70it/s]\n"
          ]
        },
        {
          "output_type": "stream",
          "name": "stdout",
          "text": [
            "Epoch: 16 | Train Loss: 0.027 | Train Accuracy: 0.551 | Val Loss: 0.027 | Val Accuracy: 0.582\n",
            "Precision: 0.587 | Recall: 0.582 | F1 Score: 0.576\n"
          ]
        },
        {
          "output_type": "stream",
          "name": "stderr",
          "text": [
            "100%|██████████| 182/182 [04:32<00:00,  1.50s/it]\n",
            "100%|██████████| 26/26 [00:14<00:00,  1.78it/s]\n"
          ]
        },
        {
          "output_type": "stream",
          "name": "stdout",
          "text": [
            "Epoch: 17 | Train Loss: 0.027 | Train Accuracy: 0.554 | Val Loss: 0.027 | Val Accuracy: 0.583\n",
            "Precision: 0.588 | Recall: 0.583 | F1 Score: 0.577\n"
          ]
        },
        {
          "output_type": "stream",
          "name": "stderr",
          "text": [
            "100%|██████████| 182/182 [04:32<00:00,  1.50s/it]\n",
            "100%|██████████| 26/26 [00:14<00:00,  1.74it/s]\n"
          ]
        },
        {
          "output_type": "stream",
          "name": "stdout",
          "text": [
            "Epoch: 18 | Train Loss: 0.027 | Train Accuracy: 0.561 | Val Loss: 0.027 | Val Accuracy: 0.585\n",
            "Precision: 0.590 | Recall: 0.585 | F1 Score: 0.579\n"
          ]
        },
        {
          "output_type": "stream",
          "name": "stderr",
          "text": [
            "100%|██████████| 182/182 [04:32<00:00,  1.50s/it]\n",
            "100%|██████████| 26/26 [00:14<00:00,  1.79it/s]\n"
          ]
        },
        {
          "output_type": "stream",
          "name": "stdout",
          "text": [
            "Epoch: 19 | Train Loss: 0.027 | Train Accuracy: 0.558 | Val Loss: 0.027 | Val Accuracy: 0.586\n",
            "Precision: 0.591 | Recall: 0.586 | F1 Score: 0.581\n"
          ]
        },
        {
          "output_type": "stream",
          "name": "stderr",
          "text": [
            "100%|██████████| 182/182 [04:32<00:00,  1.50s/it]\n",
            "100%|██████████| 26/26 [00:15<00:00,  1.71it/s]\n"
          ]
        },
        {
          "output_type": "stream",
          "name": "stdout",
          "text": [
            "Epoch: 20 | Train Loss: 0.027 | Train Accuracy: 0.560 | Val Loss: 0.027 | Val Accuracy: 0.585\n",
            "Precision: 0.589 | Recall: 0.585 | F1 Score: 0.580\n"
          ]
        },
        {
          "output_type": "stream",
          "name": "stderr",
          "text": [
            "100%|██████████| 182/182 [04:31<00:00,  1.49s/it]\n",
            "100%|██████████| 26/26 [00:15<00:00,  1.70it/s]\n"
          ]
        },
        {
          "output_type": "stream",
          "name": "stdout",
          "text": [
            "Epoch: 21 | Train Loss: 0.027 | Train Accuracy: 0.561 | Val Loss: 0.027 | Val Accuracy: 0.588\n",
            "Precision: 0.592 | Recall: 0.588 | F1 Score: 0.583\n"
          ]
        },
        {
          "output_type": "stream",
          "name": "stderr",
          "text": [
            "100%|██████████| 182/182 [04:33<00:00,  1.50s/it]\n",
            "100%|██████████| 26/26 [00:15<00:00,  1.73it/s]\n"
          ]
        },
        {
          "output_type": "stream",
          "name": "stdout",
          "text": [
            "Epoch: 22 | Train Loss: 0.027 | Train Accuracy: 0.562 | Val Loss: 0.027 | Val Accuracy: 0.588\n",
            "Precision: 0.592 | Recall: 0.588 | F1 Score: 0.583\n"
          ]
        },
        {
          "output_type": "stream",
          "name": "stderr",
          "text": [
            "100%|██████████| 182/182 [04:31<00:00,  1.49s/it]\n",
            "100%|██████████| 26/26 [00:15<00:00,  1.71it/s]\n"
          ]
        },
        {
          "output_type": "stream",
          "name": "stdout",
          "text": [
            "Epoch: 23 | Train Loss: 0.027 | Train Accuracy: 0.561 | Val Loss: 0.027 | Val Accuracy: 0.588\n",
            "Precision: 0.592 | Recall: 0.588 | F1 Score: 0.583\n"
          ]
        },
        {
          "output_type": "stream",
          "name": "stderr",
          "text": [
            "100%|██████████| 182/182 [04:32<00:00,  1.50s/it]\n",
            "100%|██████████| 26/26 [00:15<00:00,  1.69it/s]\n",
            "[I 2024-06-10 22:36:48,544] Trial 9 finished with value: 0.5848214285714286 and parameters: {'epochs': 24, 'learning_rate': 1.4540725131953062e-05, 'batch_size': 26, 'dropout_prob': 0.6582425191109845, 'optimizer_name': 'SGD', 'num_layers': 21, 'scheduler_type': 'ExponentialLR'}. Best is trial 6 with value: 0.7410714285714286.\n"
          ]
        },
        {
          "output_type": "stream",
          "name": "stdout",
          "text": [
            "Epoch: 24 | Train Loss: 0.027 | Train Accuracy: 0.563 | Val Loss: 0.027 | Val Accuracy: 0.585\n",
            "Precision: 0.589 | Recall: 0.585 | F1 Score: 0.580\n"
          ]
        },
        {
          "output_type": "stream",
          "name": "stderr",
          "text": [
            "Some weights of ViTModel were not initialized from the model checkpoint at google/vit-base-patch16-224-in21k and are newly initialized: ['encoder.layer.12.attention.attention.key.bias', 'encoder.layer.12.attention.attention.key.weight', 'encoder.layer.12.attention.attention.query.bias', 'encoder.layer.12.attention.attention.query.weight', 'encoder.layer.12.attention.attention.value.bias', 'encoder.layer.12.attention.attention.value.weight', 'encoder.layer.12.attention.output.dense.bias', 'encoder.layer.12.attention.output.dense.weight', 'encoder.layer.12.intermediate.dense.bias', 'encoder.layer.12.intermediate.dense.weight', 'encoder.layer.12.layernorm_after.bias', 'encoder.layer.12.layernorm_after.weight', 'encoder.layer.12.layernorm_before.bias', 'encoder.layer.12.layernorm_before.weight', 'encoder.layer.12.output.dense.bias', 'encoder.layer.12.output.dense.weight', 'encoder.layer.13.attention.attention.key.bias', 'encoder.layer.13.attention.attention.key.weight', 'encoder.layer.13.attention.attention.query.bias', 'encoder.layer.13.attention.attention.query.weight', 'encoder.layer.13.attention.attention.value.bias', 'encoder.layer.13.attention.attention.value.weight', 'encoder.layer.13.attention.output.dense.bias', 'encoder.layer.13.attention.output.dense.weight', 'encoder.layer.13.intermediate.dense.bias', 'encoder.layer.13.intermediate.dense.weight', 'encoder.layer.13.layernorm_after.bias', 'encoder.layer.13.layernorm_after.weight', 'encoder.layer.13.layernorm_before.bias', 'encoder.layer.13.layernorm_before.weight', 'encoder.layer.13.output.dense.bias', 'encoder.layer.13.output.dense.weight', 'encoder.layer.14.attention.attention.key.bias', 'encoder.layer.14.attention.attention.key.weight', 'encoder.layer.14.attention.attention.query.bias', 'encoder.layer.14.attention.attention.query.weight', 'encoder.layer.14.attention.attention.value.bias', 'encoder.layer.14.attention.attention.value.weight', 'encoder.layer.14.attention.output.dense.bias', 'encoder.layer.14.attention.output.dense.weight', 'encoder.layer.14.intermediate.dense.bias', 'encoder.layer.14.intermediate.dense.weight', 'encoder.layer.14.layernorm_after.bias', 'encoder.layer.14.layernorm_after.weight', 'encoder.layer.14.layernorm_before.bias', 'encoder.layer.14.layernorm_before.weight', 'encoder.layer.14.output.dense.bias', 'encoder.layer.14.output.dense.weight', 'encoder.layer.15.attention.attention.key.bias', 'encoder.layer.15.attention.attention.key.weight', 'encoder.layer.15.attention.attention.query.bias', 'encoder.layer.15.attention.attention.query.weight', 'encoder.layer.15.attention.attention.value.bias', 'encoder.layer.15.attention.attention.value.weight', 'encoder.layer.15.attention.output.dense.bias', 'encoder.layer.15.attention.output.dense.weight', 'encoder.layer.15.intermediate.dense.bias', 'encoder.layer.15.intermediate.dense.weight', 'encoder.layer.15.layernorm_after.bias', 'encoder.layer.15.layernorm_after.weight', 'encoder.layer.15.layernorm_before.bias', 'encoder.layer.15.layernorm_before.weight', 'encoder.layer.15.output.dense.bias', 'encoder.layer.15.output.dense.weight', 'encoder.layer.16.attention.attention.key.bias', 'encoder.layer.16.attention.attention.key.weight', 'encoder.layer.16.attention.attention.query.bias', 'encoder.layer.16.attention.attention.query.weight', 'encoder.layer.16.attention.attention.value.bias', 'encoder.layer.16.attention.attention.value.weight', 'encoder.layer.16.attention.output.dense.bias', 'encoder.layer.16.attention.output.dense.weight', 'encoder.layer.16.intermediate.dense.bias', 'encoder.layer.16.intermediate.dense.weight', 'encoder.layer.16.layernorm_after.bias', 'encoder.layer.16.layernorm_after.weight', 'encoder.layer.16.layernorm_before.bias', 'encoder.layer.16.layernorm_before.weight', 'encoder.layer.16.output.dense.bias', 'encoder.layer.16.output.dense.weight', 'encoder.layer.17.attention.attention.key.bias', 'encoder.layer.17.attention.attention.key.weight', 'encoder.layer.17.attention.attention.query.bias', 'encoder.layer.17.attention.attention.query.weight', 'encoder.layer.17.attention.attention.value.bias', 'encoder.layer.17.attention.attention.value.weight', 'encoder.layer.17.attention.output.dense.bias', 'encoder.layer.17.attention.output.dense.weight', 'encoder.layer.17.intermediate.dense.bias', 'encoder.layer.17.intermediate.dense.weight', 'encoder.layer.17.layernorm_after.bias', 'encoder.layer.17.layernorm_after.weight', 'encoder.layer.17.layernorm_before.bias', 'encoder.layer.17.layernorm_before.weight', 'encoder.layer.17.output.dense.bias', 'encoder.layer.17.output.dense.weight', 'encoder.layer.18.attention.attention.key.bias', 'encoder.layer.18.attention.attention.key.weight', 'encoder.layer.18.attention.attention.query.bias', 'encoder.layer.18.attention.attention.query.weight', 'encoder.layer.18.attention.attention.value.bias', 'encoder.layer.18.attention.attention.value.weight', 'encoder.layer.18.attention.output.dense.bias', 'encoder.layer.18.attention.output.dense.weight', 'encoder.layer.18.intermediate.dense.bias', 'encoder.layer.18.intermediate.dense.weight', 'encoder.layer.18.layernorm_after.bias', 'encoder.layer.18.layernorm_after.weight', 'encoder.layer.18.layernorm_before.bias', 'encoder.layer.18.layernorm_before.weight', 'encoder.layer.18.output.dense.bias', 'encoder.layer.18.output.dense.weight', 'encoder.layer.19.attention.attention.key.bias', 'encoder.layer.19.attention.attention.key.weight', 'encoder.layer.19.attention.attention.query.bias', 'encoder.layer.19.attention.attention.query.weight', 'encoder.layer.19.attention.attention.value.bias', 'encoder.layer.19.attention.attention.value.weight', 'encoder.layer.19.attention.output.dense.bias', 'encoder.layer.19.attention.output.dense.weight', 'encoder.layer.19.intermediate.dense.bias', 'encoder.layer.19.intermediate.dense.weight', 'encoder.layer.19.layernorm_after.bias', 'encoder.layer.19.layernorm_after.weight', 'encoder.layer.19.layernorm_before.bias', 'encoder.layer.19.layernorm_before.weight', 'encoder.layer.19.output.dense.bias', 'encoder.layer.19.output.dense.weight', 'encoder.layer.20.attention.attention.key.bias', 'encoder.layer.20.attention.attention.key.weight', 'encoder.layer.20.attention.attention.query.bias', 'encoder.layer.20.attention.attention.query.weight', 'encoder.layer.20.attention.attention.value.bias', 'encoder.layer.20.attention.attention.value.weight', 'encoder.layer.20.attention.output.dense.bias', 'encoder.layer.20.attention.output.dense.weight', 'encoder.layer.20.intermediate.dense.bias', 'encoder.layer.20.intermediate.dense.weight', 'encoder.layer.20.layernorm_after.bias', 'encoder.layer.20.layernorm_after.weight', 'encoder.layer.20.layernorm_before.bias', 'encoder.layer.20.layernorm_before.weight', 'encoder.layer.20.output.dense.bias', 'encoder.layer.20.output.dense.weight', 'encoder.layer.21.attention.attention.key.bias', 'encoder.layer.21.attention.attention.key.weight', 'encoder.layer.21.attention.attention.query.bias', 'encoder.layer.21.attention.attention.query.weight', 'encoder.layer.21.attention.attention.value.bias', 'encoder.layer.21.attention.attention.value.weight', 'encoder.layer.21.attention.output.dense.bias', 'encoder.layer.21.attention.output.dense.weight', 'encoder.layer.21.intermediate.dense.bias', 'encoder.layer.21.intermediate.dense.weight', 'encoder.layer.21.layernorm_after.bias', 'encoder.layer.21.layernorm_after.weight', 'encoder.layer.21.layernorm_before.bias', 'encoder.layer.21.layernorm_before.weight', 'encoder.layer.21.output.dense.bias', 'encoder.layer.21.output.dense.weight', 'encoder.layer.22.attention.attention.key.bias', 'encoder.layer.22.attention.attention.key.weight', 'encoder.layer.22.attention.attention.query.bias', 'encoder.layer.22.attention.attention.query.weight', 'encoder.layer.22.attention.attention.value.bias', 'encoder.layer.22.attention.attention.value.weight', 'encoder.layer.22.attention.output.dense.bias', 'encoder.layer.22.attention.output.dense.weight', 'encoder.layer.22.intermediate.dense.bias', 'encoder.layer.22.intermediate.dense.weight', 'encoder.layer.22.layernorm_after.bias', 'encoder.layer.22.layernorm_after.weight', 'encoder.layer.22.layernorm_before.bias', 'encoder.layer.22.layernorm_before.weight', 'encoder.layer.22.output.dense.bias', 'encoder.layer.22.output.dense.weight']\n",
            "You should probably TRAIN this model on a down-stream task to be able to use it for predictions and inference.\n",
            "100%|██████████| 113/113 [04:49<00:00,  2.56s/it]\n",
            "100%|██████████| 16/16 [00:15<00:00,  1.02it/s]\n"
          ]
        },
        {
          "output_type": "stream",
          "name": "stdout",
          "text": [
            "Epoch: 1 | Train Loss: 0.010 | Train Accuracy: 0.793 | Val Loss: 0.022 | Val Accuracy: 0.635\n",
            "Precision: 0.753 | Recall: 0.635 | F1 Score: 0.588\n"
          ]
        },
        {
          "output_type": "stream",
          "name": "stderr",
          "text": [
            "100%|██████████| 113/113 [04:49<00:00,  2.56s/it]\n",
            "100%|██████████| 16/16 [00:15<00:00,  1.02it/s]\n"
          ]
        },
        {
          "output_type": "stream",
          "name": "stdout",
          "text": [
            "Epoch: 2 | Train Loss: 0.003 | Train Accuracy: 0.954 | Val Loss: 0.019 | Val Accuracy: 0.701\n",
            "Precision: 0.761 | Recall: 0.701 | F1 Score: 0.683\n"
          ]
        },
        {
          "output_type": "stream",
          "name": "stderr",
          "text": [
            "100%|██████████| 113/113 [04:49<00:00,  2.56s/it]\n",
            "100%|██████████| 16/16 [00:15<00:00,  1.03it/s]\n"
          ]
        },
        {
          "output_type": "stream",
          "name": "stdout",
          "text": [
            "Epoch: 3 | Train Loss: 0.003 | Train Accuracy: 0.966 | Val Loss: 0.034 | Val Accuracy: 0.583\n",
            "Precision: 0.742 | Recall: 0.583 | F1 Score: 0.502\n"
          ]
        },
        {
          "output_type": "stream",
          "name": "stderr",
          "text": [
            "100%|██████████| 113/113 [04:49<00:00,  2.56s/it]\n",
            "100%|██████████| 16/16 [00:14<00:00,  1.08it/s]\n"
          ]
        },
        {
          "output_type": "stream",
          "name": "stdout",
          "text": [
            "Epoch: 4 | Train Loss: 0.002 | Train Accuracy: 0.978 | Val Loss: 0.021 | Val Accuracy: 0.664\n",
            "Precision: 0.746 | Recall: 0.664 | F1 Score: 0.633\n"
          ]
        },
        {
          "output_type": "stream",
          "name": "stderr",
          "text": [
            "100%|██████████| 113/113 [04:47<00:00,  2.55s/it]\n",
            "100%|██████████| 16/16 [00:14<00:00,  1.08it/s]\n"
          ]
        },
        {
          "output_type": "stream",
          "name": "stdout",
          "text": [
            "Epoch: 5 | Train Loss: 0.001 | Train Accuracy: 0.987 | Val Loss: 0.035 | Val Accuracy: 0.635\n",
            "Precision: 0.709 | Recall: 0.635 | F1 Score: 0.600\n"
          ]
        },
        {
          "output_type": "stream",
          "name": "stderr",
          "text": [
            "100%|██████████| 113/113 [04:48<00:00,  2.56s/it]\n",
            "100%|██████████| 16/16 [00:15<00:00,  1.06it/s]\n"
          ]
        },
        {
          "output_type": "stream",
          "name": "stdout",
          "text": [
            "Epoch: 6 | Train Loss: 0.001 | Train Accuracy: 0.991 | Val Loss: 0.036 | Val Accuracy: 0.653\n",
            "Precision: 0.756 | Recall: 0.653 | F1 Score: 0.615\n"
          ]
        },
        {
          "output_type": "stream",
          "name": "stderr",
          "text": [
            "100%|██████████| 113/113 [04:47<00:00,  2.55s/it]\n",
            "100%|██████████| 16/16 [00:14<00:00,  1.08it/s]\n"
          ]
        },
        {
          "output_type": "stream",
          "name": "stdout",
          "text": [
            "Epoch: 7 | Train Loss: 0.000 | Train Accuracy: 0.997 | Val Loss: 0.047 | Val Accuracy: 0.618\n",
            "Precision: 0.756 | Recall: 0.618 | F1 Score: 0.558\n"
          ]
        },
        {
          "output_type": "stream",
          "name": "stderr",
          "text": [
            "100%|██████████| 113/113 [04:48<00:00,  2.55s/it]\n",
            "100%|██████████| 16/16 [00:16<00:00,  1.02s/it]\n"
          ]
        },
        {
          "output_type": "stream",
          "name": "stdout",
          "text": [
            "Epoch: 8 | Train Loss: 0.001 | Train Accuracy: 0.993 | Val Loss: 0.024 | Val Accuracy: 0.759\n",
            "Precision: 0.791 | Recall: 0.759 | F1 Score: 0.752\n"
          ]
        },
        {
          "output_type": "stream",
          "name": "stderr",
          "text": [
            "100%|██████████| 113/113 [04:48<00:00,  2.56s/it]\n",
            "100%|██████████| 16/16 [00:14<00:00,  1.07it/s]\n"
          ]
        },
        {
          "output_type": "stream",
          "name": "stdout",
          "text": [
            "Epoch: 9 | Train Loss: 0.001 | Train Accuracy: 0.987 | Val Loss: 0.028 | Val Accuracy: 0.719\n",
            "Precision: 0.782 | Recall: 0.719 | F1 Score: 0.702\n"
          ]
        },
        {
          "output_type": "stream",
          "name": "stderr",
          "text": [
            "100%|██████████| 113/113 [04:48<00:00,  2.56s/it]\n",
            "100%|██████████| 16/16 [00:14<00:00,  1.08it/s]\n"
          ]
        },
        {
          "output_type": "stream",
          "name": "stdout",
          "text": [
            "Epoch: 10 | Train Loss: 0.001 | Train Accuracy: 0.990 | Val Loss: 0.040 | Val Accuracy: 0.643\n",
            "Precision: 0.769 | Recall: 0.643 | F1 Score: 0.595\n"
          ]
        },
        {
          "output_type": "stream",
          "name": "stderr",
          "text": [
            "100%|██████████| 113/113 [04:48<00:00,  2.55s/it]\n",
            "100%|██████████| 16/16 [00:14<00:00,  1.09it/s]\n"
          ]
        },
        {
          "output_type": "stream",
          "name": "stdout",
          "text": [
            "Epoch: 11 | Train Loss: 0.000 | Train Accuracy: 0.999 | Val Loss: 0.034 | Val Accuracy: 0.679\n",
            "Precision: 0.777 | Recall: 0.679 | F1 Score: 0.647\n"
          ]
        },
        {
          "output_type": "stream",
          "name": "stderr",
          "text": [
            "100%|██████████| 113/113 [04:48<00:00,  2.55s/it]\n",
            "100%|██████████| 16/16 [00:14<00:00,  1.08it/s]\n"
          ]
        },
        {
          "output_type": "stream",
          "name": "stdout",
          "text": [
            "Epoch: 12 | Train Loss: 0.000 | Train Accuracy: 0.999 | Val Loss: 0.034 | Val Accuracy: 0.677\n",
            "Precision: 0.773 | Recall: 0.677 | F1 Score: 0.646\n"
          ]
        },
        {
          "output_type": "stream",
          "name": "stderr",
          "text": [
            "100%|██████████| 113/113 [04:48<00:00,  2.55s/it]\n",
            "100%|██████████| 16/16 [00:14<00:00,  1.08it/s]\n"
          ]
        },
        {
          "output_type": "stream",
          "name": "stdout",
          "text": [
            "Epoch: 13 | Train Loss: 0.000 | Train Accuracy: 1.000 | Val Loss: 0.035 | Val Accuracy: 0.679\n",
            "Precision: 0.777 | Recall: 0.679 | F1 Score: 0.647\n"
          ]
        },
        {
          "output_type": "stream",
          "name": "stderr",
          "text": [
            "100%|██████████| 113/113 [04:49<00:00,  2.56s/it]\n",
            "100%|██████████| 16/16 [00:14<00:00,  1.08it/s]\n"
          ]
        },
        {
          "output_type": "stream",
          "name": "stdout",
          "text": [
            "Epoch: 14 | Train Loss: 0.000 | Train Accuracy: 1.000 | Val Loss: 0.035 | Val Accuracy: 0.680\n",
            "Precision: 0.777 | Recall: 0.680 | F1 Score: 0.649\n"
          ]
        },
        {
          "output_type": "stream",
          "name": "stderr",
          "text": [
            "100%|██████████| 113/113 [04:49<00:00,  2.56s/it]\n",
            "100%|██████████| 16/16 [00:14<00:00,  1.08it/s]\n"
          ]
        },
        {
          "output_type": "stream",
          "name": "stdout",
          "text": [
            "Epoch: 15 | Train Loss: 0.000 | Train Accuracy: 1.000 | Val Loss: 0.037 | Val Accuracy: 0.668\n",
            "Precision: 0.771 | Recall: 0.668 | F1 Score: 0.633\n"
          ]
        },
        {
          "output_type": "stream",
          "name": "stderr",
          "text": [
            "100%|██████████| 113/113 [04:48<00:00,  2.55s/it]\n",
            "100%|██████████| 16/16 [00:14<00:00,  1.09it/s]\n"
          ]
        },
        {
          "output_type": "stream",
          "name": "stdout",
          "text": [
            "Epoch: 16 | Train Loss: 0.000 | Train Accuracy: 1.000 | Val Loss: 0.038 | Val Accuracy: 0.667\n",
            "Precision: 0.770 | Recall: 0.667 | F1 Score: 0.631\n"
          ]
        },
        {
          "output_type": "stream",
          "name": "stderr",
          "text": [
            "100%|██████████| 113/113 [04:48<00:00,  2.55s/it]\n",
            "100%|██████████| 16/16 [00:14<00:00,  1.08it/s]\n",
            "[I 2024-06-11 00:02:54,666] Trial 10 finished with value: 0.6666666666666666 and parameters: {'epochs': 17, 'learning_rate': 0.0001414460898784398, 'batch_size': 42, 'dropout_prob': 0.5007723894883691, 'optimizer_name': 'Adam', 'num_layers': 23, 'scheduler_type': 'MultiStepLR'}. Best is trial 6 with value: 0.7410714285714286.\n"
          ]
        },
        {
          "output_type": "stream",
          "name": "stdout",
          "text": [
            "Epoch: 17 | Train Loss: 0.000 | Train Accuracy: 1.000 | Val Loss: 0.038 | Val Accuracy: 0.667\n",
            "Precision: 0.770 | Recall: 0.667 | F1 Score: 0.631\n"
          ]
        },
        {
          "output_type": "stream",
          "name": "stderr",
          "text": [
            "Some weights of ViTModel were not initialized from the model checkpoint at google/vit-base-patch16-224-in21k and are newly initialized: ['encoder.layer.12.attention.attention.key.bias', 'encoder.layer.12.attention.attention.key.weight', 'encoder.layer.12.attention.attention.query.bias', 'encoder.layer.12.attention.attention.query.weight', 'encoder.layer.12.attention.attention.value.bias', 'encoder.layer.12.attention.attention.value.weight', 'encoder.layer.12.attention.output.dense.bias', 'encoder.layer.12.attention.output.dense.weight', 'encoder.layer.12.intermediate.dense.bias', 'encoder.layer.12.intermediate.dense.weight', 'encoder.layer.12.layernorm_after.bias', 'encoder.layer.12.layernorm_after.weight', 'encoder.layer.12.layernorm_before.bias', 'encoder.layer.12.layernorm_before.weight', 'encoder.layer.12.output.dense.bias', 'encoder.layer.12.output.dense.weight', 'encoder.layer.13.attention.attention.key.bias', 'encoder.layer.13.attention.attention.key.weight', 'encoder.layer.13.attention.attention.query.bias', 'encoder.layer.13.attention.attention.query.weight', 'encoder.layer.13.attention.attention.value.bias', 'encoder.layer.13.attention.attention.value.weight', 'encoder.layer.13.attention.output.dense.bias', 'encoder.layer.13.attention.output.dense.weight', 'encoder.layer.13.intermediate.dense.bias', 'encoder.layer.13.intermediate.dense.weight', 'encoder.layer.13.layernorm_after.bias', 'encoder.layer.13.layernorm_after.weight', 'encoder.layer.13.layernorm_before.bias', 'encoder.layer.13.layernorm_before.weight', 'encoder.layer.13.output.dense.bias', 'encoder.layer.13.output.dense.weight', 'encoder.layer.14.attention.attention.key.bias', 'encoder.layer.14.attention.attention.key.weight', 'encoder.layer.14.attention.attention.query.bias', 'encoder.layer.14.attention.attention.query.weight', 'encoder.layer.14.attention.attention.value.bias', 'encoder.layer.14.attention.attention.value.weight', 'encoder.layer.14.attention.output.dense.bias', 'encoder.layer.14.attention.output.dense.weight', 'encoder.layer.14.intermediate.dense.bias', 'encoder.layer.14.intermediate.dense.weight', 'encoder.layer.14.layernorm_after.bias', 'encoder.layer.14.layernorm_after.weight', 'encoder.layer.14.layernorm_before.bias', 'encoder.layer.14.layernorm_before.weight', 'encoder.layer.14.output.dense.bias', 'encoder.layer.14.output.dense.weight', 'encoder.layer.15.attention.attention.key.bias', 'encoder.layer.15.attention.attention.key.weight', 'encoder.layer.15.attention.attention.query.bias', 'encoder.layer.15.attention.attention.query.weight', 'encoder.layer.15.attention.attention.value.bias', 'encoder.layer.15.attention.attention.value.weight', 'encoder.layer.15.attention.output.dense.bias', 'encoder.layer.15.attention.output.dense.weight', 'encoder.layer.15.intermediate.dense.bias', 'encoder.layer.15.intermediate.dense.weight', 'encoder.layer.15.layernorm_after.bias', 'encoder.layer.15.layernorm_after.weight', 'encoder.layer.15.layernorm_before.bias', 'encoder.layer.15.layernorm_before.weight', 'encoder.layer.15.output.dense.bias', 'encoder.layer.15.output.dense.weight', 'encoder.layer.16.attention.attention.key.bias', 'encoder.layer.16.attention.attention.key.weight', 'encoder.layer.16.attention.attention.query.bias', 'encoder.layer.16.attention.attention.query.weight', 'encoder.layer.16.attention.attention.value.bias', 'encoder.layer.16.attention.attention.value.weight', 'encoder.layer.16.attention.output.dense.bias', 'encoder.layer.16.attention.output.dense.weight', 'encoder.layer.16.intermediate.dense.bias', 'encoder.layer.16.intermediate.dense.weight', 'encoder.layer.16.layernorm_after.bias', 'encoder.layer.16.layernorm_after.weight', 'encoder.layer.16.layernorm_before.bias', 'encoder.layer.16.layernorm_before.weight', 'encoder.layer.16.output.dense.bias', 'encoder.layer.16.output.dense.weight', 'encoder.layer.17.attention.attention.key.bias', 'encoder.layer.17.attention.attention.key.weight', 'encoder.layer.17.attention.attention.query.bias', 'encoder.layer.17.attention.attention.query.weight', 'encoder.layer.17.attention.attention.value.bias', 'encoder.layer.17.attention.attention.value.weight', 'encoder.layer.17.attention.output.dense.bias', 'encoder.layer.17.attention.output.dense.weight', 'encoder.layer.17.intermediate.dense.bias', 'encoder.layer.17.intermediate.dense.weight', 'encoder.layer.17.layernorm_after.bias', 'encoder.layer.17.layernorm_after.weight', 'encoder.layer.17.layernorm_before.bias', 'encoder.layer.17.layernorm_before.weight', 'encoder.layer.17.output.dense.bias', 'encoder.layer.17.output.dense.weight', 'encoder.layer.18.attention.attention.key.bias', 'encoder.layer.18.attention.attention.key.weight', 'encoder.layer.18.attention.attention.query.bias', 'encoder.layer.18.attention.attention.query.weight', 'encoder.layer.18.attention.attention.value.bias', 'encoder.layer.18.attention.attention.value.weight', 'encoder.layer.18.attention.output.dense.bias', 'encoder.layer.18.attention.output.dense.weight', 'encoder.layer.18.intermediate.dense.bias', 'encoder.layer.18.intermediate.dense.weight', 'encoder.layer.18.layernorm_after.bias', 'encoder.layer.18.layernorm_after.weight', 'encoder.layer.18.layernorm_before.bias', 'encoder.layer.18.layernorm_before.weight', 'encoder.layer.18.output.dense.bias', 'encoder.layer.18.output.dense.weight', 'encoder.layer.19.attention.attention.key.bias', 'encoder.layer.19.attention.attention.key.weight', 'encoder.layer.19.attention.attention.query.bias', 'encoder.layer.19.attention.attention.query.weight', 'encoder.layer.19.attention.attention.value.bias', 'encoder.layer.19.attention.attention.value.weight', 'encoder.layer.19.attention.output.dense.bias', 'encoder.layer.19.attention.output.dense.weight', 'encoder.layer.19.intermediate.dense.bias', 'encoder.layer.19.intermediate.dense.weight', 'encoder.layer.19.layernorm_after.bias', 'encoder.layer.19.layernorm_after.weight', 'encoder.layer.19.layernorm_before.bias', 'encoder.layer.19.layernorm_before.weight', 'encoder.layer.19.output.dense.bias', 'encoder.layer.19.output.dense.weight']\n",
            "You should probably TRAIN this model on a down-stream task to be able to use it for predictions and inference.\n",
            "100%|██████████| 295/295 [04:15<00:00,  1.15it/s]\n",
            "100%|██████████| 42/42 [00:13<00:00,  3.09it/s]\n"
          ]
        },
        {
          "output_type": "stream",
          "name": "stdout",
          "text": [
            "Epoch: 1 | Train Loss: 0.043 | Train Accuracy: 0.513 | Val Loss: 0.043 | Val Accuracy: 0.488\n",
            "Precision: 0.488 | Recall: 0.488 | F1 Score: 0.487\n"
          ]
        },
        {
          "output_type": "stream",
          "name": "stderr",
          "text": [
            "100%|██████████| 295/295 [04:13<00:00,  1.16it/s]\n",
            "100%|██████████| 42/42 [00:13<00:00,  3.21it/s]\n"
          ]
        },
        {
          "output_type": "stream",
          "name": "stdout",
          "text": [
            "Epoch: 2 | Train Loss: 0.043 | Train Accuracy: 0.633 | Val Loss: 0.043 | Val Accuracy: 0.595\n",
            "Precision: 0.622 | Recall: 0.595 | F1 Score: 0.572\n"
          ]
        },
        {
          "output_type": "stream",
          "name": "stderr",
          "text": [
            "100%|██████████| 295/295 [04:13<00:00,  1.16it/s]\n",
            "100%|██████████| 42/42 [00:13<00:00,  3.18it/s]\n"
          ]
        },
        {
          "output_type": "stream",
          "name": "stdout",
          "text": [
            "Epoch: 3 | Train Loss: 0.041 | Train Accuracy: 0.697 | Val Loss: 0.042 | Val Accuracy: 0.643\n",
            "Precision: 0.646 | Recall: 0.643 | F1 Score: 0.641\n"
          ]
        },
        {
          "output_type": "stream",
          "name": "stderr",
          "text": [
            "100%|██████████| 295/295 [04:14<00:00,  1.16it/s]\n",
            "100%|██████████| 42/42 [00:14<00:00,  3.00it/s]\n"
          ]
        },
        {
          "output_type": "stream",
          "name": "stdout",
          "text": [
            "Epoch: 4 | Train Loss: 0.039 | Train Accuracy: 0.733 | Val Loss: 0.041 | Val Accuracy: 0.641\n",
            "Precision: 0.659 | Recall: 0.641 | F1 Score: 0.631\n"
          ]
        },
        {
          "output_type": "stream",
          "name": "stderr",
          "text": [
            "100%|██████████| 295/295 [04:16<00:00,  1.15it/s]\n",
            "100%|██████████| 42/42 [00:13<00:00,  3.03it/s]\n"
          ]
        },
        {
          "output_type": "stream",
          "name": "stdout",
          "text": [
            "Epoch: 5 | Train Loss: 0.036 | Train Accuracy: 0.762 | Val Loss: 0.039 | Val Accuracy: 0.665\n",
            "Precision: 0.673 | Recall: 0.665 | F1 Score: 0.661\n"
          ]
        },
        {
          "output_type": "stream",
          "name": "stderr",
          "text": [
            "100%|██████████| 295/295 [04:14<00:00,  1.16it/s]\n",
            "100%|██████████| 42/42 [00:14<00:00,  2.86it/s]\n"
          ]
        },
        {
          "output_type": "stream",
          "name": "stdout",
          "text": [
            "Epoch: 6 | Train Loss: 0.032 | Train Accuracy: 0.791 | Val Loss: 0.038 | Val Accuracy: 0.685\n",
            "Precision: 0.694 | Recall: 0.685 | F1 Score: 0.681\n"
          ]
        },
        {
          "output_type": "stream",
          "name": "stderr",
          "text": [
            "100%|██████████| 295/295 [04:15<00:00,  1.16it/s]\n",
            "100%|██████████| 42/42 [00:14<00:00,  2.96it/s]\n"
          ]
        },
        {
          "output_type": "stream",
          "name": "stdout",
          "text": [
            "Epoch: 7 | Train Loss: 0.029 | Train Accuracy: 0.815 | Val Loss: 0.037 | Val Accuracy: 0.695\n",
            "Precision: 0.701 | Recall: 0.695 | F1 Score: 0.693\n"
          ]
        },
        {
          "output_type": "stream",
          "name": "stderr",
          "text": [
            "100%|██████████| 295/295 [04:16<00:00,  1.15it/s]\n",
            "100%|██████████| 42/42 [00:13<00:00,  3.03it/s]\n"
          ]
        },
        {
          "output_type": "stream",
          "name": "stdout",
          "text": [
            "Epoch: 8 | Train Loss: 0.028 | Train Accuracy: 0.832 | Val Loss: 0.036 | Val Accuracy: 0.707\n",
            "Precision: 0.716 | Recall: 0.707 | F1 Score: 0.704\n"
          ]
        },
        {
          "output_type": "stream",
          "name": "stderr",
          "text": [
            "100%|██████████| 295/295 [04:17<00:00,  1.15it/s]\n",
            "100%|██████████| 42/42 [00:14<00:00,  2.96it/s]\n"
          ]
        },
        {
          "output_type": "stream",
          "name": "stdout",
          "text": [
            "Epoch: 9 | Train Loss: 0.026 | Train Accuracy: 0.840 | Val Loss: 0.036 | Val Accuracy: 0.699\n",
            "Precision: 0.711 | Recall: 0.699 | F1 Score: 0.695\n"
          ]
        },
        {
          "output_type": "stream",
          "name": "stderr",
          "text": [
            "100%|██████████| 295/295 [04:14<00:00,  1.16it/s]\n",
            "100%|██████████| 42/42 [00:13<00:00,  3.03it/s]\n"
          ]
        },
        {
          "output_type": "stream",
          "name": "stdout",
          "text": [
            "Epoch: 10 | Train Loss: 0.026 | Train Accuracy: 0.842 | Val Loss: 0.036 | Val Accuracy: 0.701\n",
            "Precision: 0.713 | Recall: 0.701 | F1 Score: 0.696\n"
          ]
        },
        {
          "output_type": "stream",
          "name": "stderr",
          "text": [
            "100%|██████████| 295/295 [04:17<00:00,  1.15it/s]\n",
            "100%|██████████| 42/42 [00:13<00:00,  3.01it/s]\n"
          ]
        },
        {
          "output_type": "stream",
          "name": "stdout",
          "text": [
            "Epoch: 11 | Train Loss: 0.026 | Train Accuracy: 0.846 | Val Loss: 0.036 | Val Accuracy: 0.701\n",
            "Precision: 0.713 | Recall: 0.701 | F1 Score: 0.696\n"
          ]
        },
        {
          "output_type": "stream",
          "name": "stderr",
          "text": [
            "100%|██████████| 295/295 [04:15<00:00,  1.15it/s]\n",
            "100%|██████████| 42/42 [00:14<00:00,  2.96it/s]\n"
          ]
        },
        {
          "output_type": "stream",
          "name": "stdout",
          "text": [
            "Epoch: 12 | Train Loss: 0.026 | Train Accuracy: 0.844 | Val Loss: 0.036 | Val Accuracy: 0.701\n",
            "Precision: 0.713 | Recall: 0.701 | F1 Score: 0.696\n"
          ]
        },
        {
          "output_type": "stream",
          "name": "stderr",
          "text": [
            "100%|██████████| 295/295 [04:13<00:00,  1.16it/s]\n",
            "100%|██████████| 42/42 [00:13<00:00,  3.08it/s]\n",
            "[I 2024-06-11 01:01:14,257] Trial 11 finished with value: 0.7053571428571429 and parameters: {'epochs': 13, 'learning_rate': 0.00012608554787714698, 'batch_size': 16, 'dropout_prob': 0.40746156096164626, 'optimizer_name': 'SGD', 'num_layers': 20, 'scheduler_type': 'CosineAnnealingLR'}. Best is trial 6 with value: 0.7410714285714286.\n"
          ]
        },
        {
          "output_type": "stream",
          "name": "stdout",
          "text": [
            "Epoch: 13 | Train Loss: 0.025 | Train Accuracy: 0.847 | Val Loss: 0.036 | Val Accuracy: 0.705\n",
            "Precision: 0.718 | Recall: 0.705 | F1 Score: 0.701\n"
          ]
        },
        {
          "output_type": "stream",
          "name": "stderr",
          "text": [
            "Some weights of ViTModel were not initialized from the model checkpoint at google/vit-base-patch16-224-in21k and are newly initialized: ['encoder.layer.12.attention.attention.key.bias', 'encoder.layer.12.attention.attention.key.weight', 'encoder.layer.12.attention.attention.query.bias', 'encoder.layer.12.attention.attention.query.weight', 'encoder.layer.12.attention.attention.value.bias', 'encoder.layer.12.attention.attention.value.weight', 'encoder.layer.12.attention.output.dense.bias', 'encoder.layer.12.attention.output.dense.weight', 'encoder.layer.12.intermediate.dense.bias', 'encoder.layer.12.intermediate.dense.weight', 'encoder.layer.12.layernorm_after.bias', 'encoder.layer.12.layernorm_after.weight', 'encoder.layer.12.layernorm_before.bias', 'encoder.layer.12.layernorm_before.weight', 'encoder.layer.12.output.dense.bias', 'encoder.layer.12.output.dense.weight', 'encoder.layer.13.attention.attention.key.bias', 'encoder.layer.13.attention.attention.key.weight', 'encoder.layer.13.attention.attention.query.bias', 'encoder.layer.13.attention.attention.query.weight', 'encoder.layer.13.attention.attention.value.bias', 'encoder.layer.13.attention.attention.value.weight', 'encoder.layer.13.attention.output.dense.bias', 'encoder.layer.13.attention.output.dense.weight', 'encoder.layer.13.intermediate.dense.bias', 'encoder.layer.13.intermediate.dense.weight', 'encoder.layer.13.layernorm_after.bias', 'encoder.layer.13.layernorm_after.weight', 'encoder.layer.13.layernorm_before.bias', 'encoder.layer.13.layernorm_before.weight', 'encoder.layer.13.output.dense.bias', 'encoder.layer.13.output.dense.weight', 'encoder.layer.14.attention.attention.key.bias', 'encoder.layer.14.attention.attention.key.weight', 'encoder.layer.14.attention.attention.query.bias', 'encoder.layer.14.attention.attention.query.weight', 'encoder.layer.14.attention.attention.value.bias', 'encoder.layer.14.attention.attention.value.weight', 'encoder.layer.14.attention.output.dense.bias', 'encoder.layer.14.attention.output.dense.weight', 'encoder.layer.14.intermediate.dense.bias', 'encoder.layer.14.intermediate.dense.weight', 'encoder.layer.14.layernorm_after.bias', 'encoder.layer.14.layernorm_after.weight', 'encoder.layer.14.layernorm_before.bias', 'encoder.layer.14.layernorm_before.weight', 'encoder.layer.14.output.dense.bias', 'encoder.layer.14.output.dense.weight', 'encoder.layer.15.attention.attention.key.bias', 'encoder.layer.15.attention.attention.key.weight', 'encoder.layer.15.attention.attention.query.bias', 'encoder.layer.15.attention.attention.query.weight', 'encoder.layer.15.attention.attention.value.bias', 'encoder.layer.15.attention.attention.value.weight', 'encoder.layer.15.attention.output.dense.bias', 'encoder.layer.15.attention.output.dense.weight', 'encoder.layer.15.intermediate.dense.bias', 'encoder.layer.15.intermediate.dense.weight', 'encoder.layer.15.layernorm_after.bias', 'encoder.layer.15.layernorm_after.weight', 'encoder.layer.15.layernorm_before.bias', 'encoder.layer.15.layernorm_before.weight', 'encoder.layer.15.output.dense.bias', 'encoder.layer.15.output.dense.weight', 'encoder.layer.16.attention.attention.key.bias', 'encoder.layer.16.attention.attention.key.weight', 'encoder.layer.16.attention.attention.query.bias', 'encoder.layer.16.attention.attention.query.weight', 'encoder.layer.16.attention.attention.value.bias', 'encoder.layer.16.attention.attention.value.weight', 'encoder.layer.16.attention.output.dense.bias', 'encoder.layer.16.attention.output.dense.weight', 'encoder.layer.16.intermediate.dense.bias', 'encoder.layer.16.intermediate.dense.weight', 'encoder.layer.16.layernorm_after.bias', 'encoder.layer.16.layernorm_after.weight', 'encoder.layer.16.layernorm_before.bias', 'encoder.layer.16.layernorm_before.weight', 'encoder.layer.16.output.dense.bias', 'encoder.layer.16.output.dense.weight', 'encoder.layer.17.attention.attention.key.bias', 'encoder.layer.17.attention.attention.key.weight', 'encoder.layer.17.attention.attention.query.bias', 'encoder.layer.17.attention.attention.query.weight', 'encoder.layer.17.attention.attention.value.bias', 'encoder.layer.17.attention.attention.value.weight', 'encoder.layer.17.attention.output.dense.bias', 'encoder.layer.17.attention.output.dense.weight', 'encoder.layer.17.intermediate.dense.bias', 'encoder.layer.17.intermediate.dense.weight', 'encoder.layer.17.layernorm_after.bias', 'encoder.layer.17.layernorm_after.weight', 'encoder.layer.17.layernorm_before.bias', 'encoder.layer.17.layernorm_before.weight', 'encoder.layer.17.output.dense.bias', 'encoder.layer.17.output.dense.weight', 'encoder.layer.18.attention.attention.key.bias', 'encoder.layer.18.attention.attention.key.weight', 'encoder.layer.18.attention.attention.query.bias', 'encoder.layer.18.attention.attention.query.weight', 'encoder.layer.18.attention.attention.value.bias', 'encoder.layer.18.attention.attention.value.weight', 'encoder.layer.18.attention.output.dense.bias', 'encoder.layer.18.attention.output.dense.weight', 'encoder.layer.18.intermediate.dense.bias', 'encoder.layer.18.intermediate.dense.weight', 'encoder.layer.18.layernorm_after.bias', 'encoder.layer.18.layernorm_after.weight', 'encoder.layer.18.layernorm_before.bias', 'encoder.layer.18.layernorm_before.weight', 'encoder.layer.18.output.dense.bias', 'encoder.layer.18.output.dense.weight', 'encoder.layer.19.attention.attention.key.bias', 'encoder.layer.19.attention.attention.key.weight', 'encoder.layer.19.attention.attention.query.bias', 'encoder.layer.19.attention.attention.query.weight', 'encoder.layer.19.attention.attention.value.bias', 'encoder.layer.19.attention.attention.value.weight', 'encoder.layer.19.attention.output.dense.bias', 'encoder.layer.19.attention.output.dense.weight', 'encoder.layer.19.intermediate.dense.bias', 'encoder.layer.19.intermediate.dense.weight', 'encoder.layer.19.layernorm_after.bias', 'encoder.layer.19.layernorm_after.weight', 'encoder.layer.19.layernorm_before.bias', 'encoder.layer.19.layernorm_before.weight', 'encoder.layer.19.output.dense.bias', 'encoder.layer.19.output.dense.weight', 'encoder.layer.20.attention.attention.key.bias', 'encoder.layer.20.attention.attention.key.weight', 'encoder.layer.20.attention.attention.query.bias', 'encoder.layer.20.attention.attention.query.weight', 'encoder.layer.20.attention.attention.value.bias', 'encoder.layer.20.attention.attention.value.weight', 'encoder.layer.20.attention.output.dense.bias', 'encoder.layer.20.attention.output.dense.weight', 'encoder.layer.20.intermediate.dense.bias', 'encoder.layer.20.intermediate.dense.weight', 'encoder.layer.20.layernorm_after.bias', 'encoder.layer.20.layernorm_after.weight', 'encoder.layer.20.layernorm_before.bias', 'encoder.layer.20.layernorm_before.weight', 'encoder.layer.20.output.dense.bias', 'encoder.layer.20.output.dense.weight', 'encoder.layer.21.attention.attention.key.bias', 'encoder.layer.21.attention.attention.key.weight', 'encoder.layer.21.attention.attention.query.bias', 'encoder.layer.21.attention.attention.query.weight', 'encoder.layer.21.attention.attention.value.bias', 'encoder.layer.21.attention.attention.value.weight', 'encoder.layer.21.attention.output.dense.bias', 'encoder.layer.21.attention.output.dense.weight', 'encoder.layer.21.intermediate.dense.bias', 'encoder.layer.21.intermediate.dense.weight', 'encoder.layer.21.layernorm_after.bias', 'encoder.layer.21.layernorm_after.weight', 'encoder.layer.21.layernorm_before.bias', 'encoder.layer.21.layernorm_before.weight', 'encoder.layer.21.output.dense.bias', 'encoder.layer.21.output.dense.weight', 'encoder.layer.22.attention.attention.key.bias', 'encoder.layer.22.attention.attention.key.weight', 'encoder.layer.22.attention.attention.query.bias', 'encoder.layer.22.attention.attention.query.weight', 'encoder.layer.22.attention.attention.value.bias', 'encoder.layer.22.attention.attention.value.weight', 'encoder.layer.22.attention.output.dense.bias', 'encoder.layer.22.attention.output.dense.weight', 'encoder.layer.22.intermediate.dense.bias', 'encoder.layer.22.intermediate.dense.weight', 'encoder.layer.22.layernorm_after.bias', 'encoder.layer.22.layernorm_after.weight', 'encoder.layer.22.layernorm_before.bias', 'encoder.layer.22.layernorm_before.weight', 'encoder.layer.22.output.dense.bias', 'encoder.layer.22.output.dense.weight', 'encoder.layer.23.attention.attention.key.bias', 'encoder.layer.23.attention.attention.key.weight', 'encoder.layer.23.attention.attention.query.bias', 'encoder.layer.23.attention.attention.query.weight', 'encoder.layer.23.attention.attention.value.bias', 'encoder.layer.23.attention.attention.value.weight', 'encoder.layer.23.attention.output.dense.bias', 'encoder.layer.23.attention.output.dense.weight', 'encoder.layer.23.intermediate.dense.bias', 'encoder.layer.23.intermediate.dense.weight', 'encoder.layer.23.layernorm_after.bias', 'encoder.layer.23.layernorm_after.weight', 'encoder.layer.23.layernorm_before.bias', 'encoder.layer.23.layernorm_before.weight', 'encoder.layer.23.output.dense.bias', 'encoder.layer.23.output.dense.weight']\n",
            "You should probably TRAIN this model on a down-stream task to be able to use it for predictions and inference.\n",
            "100%|██████████| 295/295 [05:06<00:00,  1.04s/it]\n",
            "100%|██████████| 42/42 [00:16<00:00,  2.62it/s]\n"
          ]
        },
        {
          "output_type": "stream",
          "name": "stdout",
          "text": [
            "Epoch: 1 | Train Loss: 0.043 | Train Accuracy: 0.610 | Val Loss: 0.043 | Val Accuracy: 0.564\n",
            "Precision: 0.564 | Recall: 0.564 | F1 Score: 0.564\n"
          ]
        },
        {
          "output_type": "stream",
          "name": "stderr",
          "text": [
            "100%|██████████| 295/295 [05:06<00:00,  1.04s/it]\n",
            "100%|██████████| 42/42 [00:15<00:00,  2.72it/s]\n"
          ]
        },
        {
          "output_type": "stream",
          "name": "stdout",
          "text": [
            "Epoch: 2 | Train Loss: 0.043 | Train Accuracy: 0.657 | Val Loss: 0.043 | Val Accuracy: 0.607\n",
            "Precision: 0.609 | Recall: 0.607 | F1 Score: 0.605\n"
          ]
        },
        {
          "output_type": "stream",
          "name": "stderr",
          "text": [
            "100%|██████████| 295/295 [05:04<00:00,  1.03s/it]\n",
            "100%|██████████| 42/42 [00:15<00:00,  2.66it/s]\n"
          ]
        },
        {
          "output_type": "stream",
          "name": "stdout",
          "text": [
            "Epoch: 3 | Train Loss: 0.042 | Train Accuracy: 0.687 | Val Loss: 0.043 | Val Accuracy: 0.615\n",
            "Precision: 0.619 | Recall: 0.615 | F1 Score: 0.611\n"
          ]
        },
        {
          "output_type": "stream",
          "name": "stderr",
          "text": [
            "100%|██████████| 295/295 [05:05<00:00,  1.03s/it]\n",
            "100%|██████████| 42/42 [00:16<00:00,  2.62it/s]\n"
          ]
        },
        {
          "output_type": "stream",
          "name": "stdout",
          "text": [
            "Epoch: 4 | Train Loss: 0.041 | Train Accuracy: 0.722 | Val Loss: 0.042 | Val Accuracy: 0.606\n",
            "Precision: 0.617 | Recall: 0.606 | F1 Score: 0.596\n"
          ]
        },
        {
          "output_type": "stream",
          "name": "stderr",
          "text": [
            "100%|██████████| 295/295 [05:06<00:00,  1.04s/it]\n",
            "100%|██████████| 42/42 [00:15<00:00,  2.74it/s]\n"
          ]
        },
        {
          "output_type": "stream",
          "name": "stdout",
          "text": [
            "Epoch: 5 | Train Loss: 0.040 | Train Accuracy: 0.737 | Val Loss: 0.042 | Val Accuracy: 0.618\n",
            "Precision: 0.636 | Recall: 0.618 | F1 Score: 0.604\n"
          ]
        },
        {
          "output_type": "stream",
          "name": "stderr",
          "text": [
            "100%|██████████| 295/295 [05:04<00:00,  1.03s/it]\n",
            "100%|██████████| 42/42 [00:15<00:00,  2.66it/s]\n"
          ]
        },
        {
          "output_type": "stream",
          "name": "stdout",
          "text": [
            "Epoch: 6 | Train Loss: 0.039 | Train Accuracy: 0.750 | Val Loss: 0.041 | Val Accuracy: 0.635\n",
            "Precision: 0.653 | Recall: 0.635 | F1 Score: 0.624\n"
          ]
        },
        {
          "output_type": "stream",
          "name": "stderr",
          "text": [
            "100%|██████████| 295/295 [05:05<00:00,  1.04s/it]\n",
            "100%|██████████| 42/42 [00:16<00:00,  2.61it/s]\n"
          ]
        },
        {
          "output_type": "stream",
          "name": "stdout",
          "text": [
            "Epoch: 7 | Train Loss: 0.037 | Train Accuracy: 0.764 | Val Loss: 0.040 | Val Accuracy: 0.647\n",
            "Precision: 0.663 | Recall: 0.647 | F1 Score: 0.638\n"
          ]
        },
        {
          "output_type": "stream",
          "name": "stderr",
          "text": [
            "100%|██████████| 295/295 [05:05<00:00,  1.03s/it]\n",
            "100%|██████████| 42/42 [00:15<00:00,  2.73it/s]\n"
          ]
        },
        {
          "output_type": "stream",
          "name": "stdout",
          "text": [
            "Epoch: 8 | Train Loss: 0.035 | Train Accuracy: 0.781 | Val Loss: 0.039 | Val Accuracy: 0.673\n",
            "Precision: 0.685 | Recall: 0.673 | F1 Score: 0.667\n"
          ]
        },
        {
          "output_type": "stream",
          "name": "stderr",
          "text": [
            "100%|██████████| 295/295 [05:05<00:00,  1.03s/it]\n",
            "100%|██████████| 42/42 [00:15<00:00,  2.67it/s]\n"
          ]
        },
        {
          "output_type": "stream",
          "name": "stdout",
          "text": [
            "Epoch: 9 | Train Loss: 0.032 | Train Accuracy: 0.798 | Val Loss: 0.038 | Val Accuracy: 0.673\n",
            "Precision: 0.686 | Recall: 0.673 | F1 Score: 0.667\n"
          ]
        },
        {
          "output_type": "stream",
          "name": "stderr",
          "text": [
            "100%|██████████| 295/295 [05:07<00:00,  1.04s/it]\n",
            "100%|██████████| 42/42 [00:15<00:00,  2.75it/s]\n"
          ]
        },
        {
          "output_type": "stream",
          "name": "stdout",
          "text": [
            "Epoch: 10 | Train Loss: 0.030 | Train Accuracy: 0.818 | Val Loss: 0.036 | Val Accuracy: 0.693\n",
            "Precision: 0.708 | Recall: 0.693 | F1 Score: 0.688\n"
          ]
        },
        {
          "output_type": "stream",
          "name": "stderr",
          "text": [
            "100%|██████████| 295/295 [05:06<00:00,  1.04s/it]\n",
            "100%|██████████| 42/42 [00:15<00:00,  2.73it/s]\n"
          ]
        },
        {
          "output_type": "stream",
          "name": "stdout",
          "text": [
            "Epoch: 11 | Train Loss: 0.027 | Train Accuracy: 0.838 | Val Loss: 0.036 | Val Accuracy: 0.682\n",
            "Precision: 0.706 | Recall: 0.682 | F1 Score: 0.672\n"
          ]
        },
        {
          "output_type": "stream",
          "name": "stderr",
          "text": [
            "100%|██████████| 295/295 [05:04<00:00,  1.03s/it]\n",
            "100%|██████████| 42/42 [00:15<00:00,  2.68it/s]\n"
          ]
        },
        {
          "output_type": "stream",
          "name": "stdout",
          "text": [
            "Epoch: 12 | Train Loss: 0.024 | Train Accuracy: 0.861 | Val Loss: 0.035 | Val Accuracy: 0.716\n",
            "Precision: 0.741 | Recall: 0.716 | F1 Score: 0.708\n"
          ]
        },
        {
          "output_type": "stream",
          "name": "stderr",
          "text": [
            "100%|██████████| 295/295 [05:05<00:00,  1.04s/it]\n",
            "100%|██████████| 42/42 [00:15<00:00,  2.66it/s]\n"
          ]
        },
        {
          "output_type": "stream",
          "name": "stdout",
          "text": [
            "Epoch: 13 | Train Loss: 0.022 | Train Accuracy: 0.879 | Val Loss: 0.036 | Val Accuracy: 0.725\n",
            "Precision: 0.757 | Recall: 0.725 | F1 Score: 0.716\n"
          ]
        },
        {
          "output_type": "stream",
          "name": "stderr",
          "text": [
            "100%|██████████| 295/295 [05:06<00:00,  1.04s/it]\n",
            "100%|██████████| 42/42 [00:15<00:00,  2.73it/s]\n"
          ]
        },
        {
          "output_type": "stream",
          "name": "stdout",
          "text": [
            "Epoch: 14 | Train Loss: 0.020 | Train Accuracy: 0.897 | Val Loss: 0.035 | Val Accuracy: 0.741\n",
            "Precision: 0.766 | Recall: 0.741 | F1 Score: 0.735\n"
          ]
        },
        {
          "output_type": "stream",
          "name": "stderr",
          "text": [
            "100%|██████████| 295/295 [05:06<00:00,  1.04s/it]\n",
            "100%|██████████| 42/42 [00:15<00:00,  2.65it/s]\n",
            "[I 2024-06-11 02:21:36,832] Trial 12 finished with value: 0.7455357142857143 and parameters: {'epochs': 15, 'learning_rate': 5.836491989043412e-05, 'batch_size': 16, 'dropout_prob': 0.35051973503843376, 'optimizer_name': 'SGD', 'num_layers': 24, 'scheduler_type': 'ReduceLROnPlateau'}. Best is trial 12 with value: 0.7455357142857143.\n"
          ]
        },
        {
          "output_type": "stream",
          "name": "stdout",
          "text": [
            "Epoch: 15 | Train Loss: 0.017 | Train Accuracy: 0.908 | Val Loss: 0.036 | Val Accuracy: 0.746\n",
            "Precision: 0.786 | Recall: 0.746 | F1 Score: 0.736\n"
          ]
        },
        {
          "output_type": "stream",
          "name": "stderr",
          "text": [
            "Some weights of ViTModel were not initialized from the model checkpoint at google/vit-base-patch16-224-in21k and are newly initialized: ['encoder.layer.12.attention.attention.key.bias', 'encoder.layer.12.attention.attention.key.weight', 'encoder.layer.12.attention.attention.query.bias', 'encoder.layer.12.attention.attention.query.weight', 'encoder.layer.12.attention.attention.value.bias', 'encoder.layer.12.attention.attention.value.weight', 'encoder.layer.12.attention.output.dense.bias', 'encoder.layer.12.attention.output.dense.weight', 'encoder.layer.12.intermediate.dense.bias', 'encoder.layer.12.intermediate.dense.weight', 'encoder.layer.12.layernorm_after.bias', 'encoder.layer.12.layernorm_after.weight', 'encoder.layer.12.layernorm_before.bias', 'encoder.layer.12.layernorm_before.weight', 'encoder.layer.12.output.dense.bias', 'encoder.layer.12.output.dense.weight', 'encoder.layer.13.attention.attention.key.bias', 'encoder.layer.13.attention.attention.key.weight', 'encoder.layer.13.attention.attention.query.bias', 'encoder.layer.13.attention.attention.query.weight', 'encoder.layer.13.attention.attention.value.bias', 'encoder.layer.13.attention.attention.value.weight', 'encoder.layer.13.attention.output.dense.bias', 'encoder.layer.13.attention.output.dense.weight', 'encoder.layer.13.intermediate.dense.bias', 'encoder.layer.13.intermediate.dense.weight', 'encoder.layer.13.layernorm_after.bias', 'encoder.layer.13.layernorm_after.weight', 'encoder.layer.13.layernorm_before.bias', 'encoder.layer.13.layernorm_before.weight', 'encoder.layer.13.output.dense.bias', 'encoder.layer.13.output.dense.weight', 'encoder.layer.14.attention.attention.key.bias', 'encoder.layer.14.attention.attention.key.weight', 'encoder.layer.14.attention.attention.query.bias', 'encoder.layer.14.attention.attention.query.weight', 'encoder.layer.14.attention.attention.value.bias', 'encoder.layer.14.attention.attention.value.weight', 'encoder.layer.14.attention.output.dense.bias', 'encoder.layer.14.attention.output.dense.weight', 'encoder.layer.14.intermediate.dense.bias', 'encoder.layer.14.intermediate.dense.weight', 'encoder.layer.14.layernorm_after.bias', 'encoder.layer.14.layernorm_after.weight', 'encoder.layer.14.layernorm_before.bias', 'encoder.layer.14.layernorm_before.weight', 'encoder.layer.14.output.dense.bias', 'encoder.layer.14.output.dense.weight', 'encoder.layer.15.attention.attention.key.bias', 'encoder.layer.15.attention.attention.key.weight', 'encoder.layer.15.attention.attention.query.bias', 'encoder.layer.15.attention.attention.query.weight', 'encoder.layer.15.attention.attention.value.bias', 'encoder.layer.15.attention.attention.value.weight', 'encoder.layer.15.attention.output.dense.bias', 'encoder.layer.15.attention.output.dense.weight', 'encoder.layer.15.intermediate.dense.bias', 'encoder.layer.15.intermediate.dense.weight', 'encoder.layer.15.layernorm_after.bias', 'encoder.layer.15.layernorm_after.weight', 'encoder.layer.15.layernorm_before.bias', 'encoder.layer.15.layernorm_before.weight', 'encoder.layer.15.output.dense.bias', 'encoder.layer.15.output.dense.weight', 'encoder.layer.16.attention.attention.key.bias', 'encoder.layer.16.attention.attention.key.weight', 'encoder.layer.16.attention.attention.query.bias', 'encoder.layer.16.attention.attention.query.weight', 'encoder.layer.16.attention.attention.value.bias', 'encoder.layer.16.attention.attention.value.weight', 'encoder.layer.16.attention.output.dense.bias', 'encoder.layer.16.attention.output.dense.weight', 'encoder.layer.16.intermediate.dense.bias', 'encoder.layer.16.intermediate.dense.weight', 'encoder.layer.16.layernorm_after.bias', 'encoder.layer.16.layernorm_after.weight', 'encoder.layer.16.layernorm_before.bias', 'encoder.layer.16.layernorm_before.weight', 'encoder.layer.16.output.dense.bias', 'encoder.layer.16.output.dense.weight', 'encoder.layer.17.attention.attention.key.bias', 'encoder.layer.17.attention.attention.key.weight', 'encoder.layer.17.attention.attention.query.bias', 'encoder.layer.17.attention.attention.query.weight', 'encoder.layer.17.attention.attention.value.bias', 'encoder.layer.17.attention.attention.value.weight', 'encoder.layer.17.attention.output.dense.bias', 'encoder.layer.17.attention.output.dense.weight', 'encoder.layer.17.intermediate.dense.bias', 'encoder.layer.17.intermediate.dense.weight', 'encoder.layer.17.layernorm_after.bias', 'encoder.layer.17.layernorm_after.weight', 'encoder.layer.17.layernorm_before.bias', 'encoder.layer.17.layernorm_before.weight', 'encoder.layer.17.output.dense.bias', 'encoder.layer.17.output.dense.weight', 'encoder.layer.18.attention.attention.key.bias', 'encoder.layer.18.attention.attention.key.weight', 'encoder.layer.18.attention.attention.query.bias', 'encoder.layer.18.attention.attention.query.weight', 'encoder.layer.18.attention.attention.value.bias', 'encoder.layer.18.attention.attention.value.weight', 'encoder.layer.18.attention.output.dense.bias', 'encoder.layer.18.attention.output.dense.weight', 'encoder.layer.18.intermediate.dense.bias', 'encoder.layer.18.intermediate.dense.weight', 'encoder.layer.18.layernorm_after.bias', 'encoder.layer.18.layernorm_after.weight', 'encoder.layer.18.layernorm_before.bias', 'encoder.layer.18.layernorm_before.weight', 'encoder.layer.18.output.dense.bias', 'encoder.layer.18.output.dense.weight', 'encoder.layer.19.attention.attention.key.bias', 'encoder.layer.19.attention.attention.key.weight', 'encoder.layer.19.attention.attention.query.bias', 'encoder.layer.19.attention.attention.query.weight', 'encoder.layer.19.attention.attention.value.bias', 'encoder.layer.19.attention.attention.value.weight', 'encoder.layer.19.attention.output.dense.bias', 'encoder.layer.19.attention.output.dense.weight', 'encoder.layer.19.intermediate.dense.bias', 'encoder.layer.19.intermediate.dense.weight', 'encoder.layer.19.layernorm_after.bias', 'encoder.layer.19.layernorm_after.weight', 'encoder.layer.19.layernorm_before.bias', 'encoder.layer.19.layernorm_before.weight', 'encoder.layer.19.output.dense.bias', 'encoder.layer.19.output.dense.weight', 'encoder.layer.20.attention.attention.key.bias', 'encoder.layer.20.attention.attention.key.weight', 'encoder.layer.20.attention.attention.query.bias', 'encoder.layer.20.attention.attention.query.weight', 'encoder.layer.20.attention.attention.value.bias', 'encoder.layer.20.attention.attention.value.weight', 'encoder.layer.20.attention.output.dense.bias', 'encoder.layer.20.attention.output.dense.weight', 'encoder.layer.20.intermediate.dense.bias', 'encoder.layer.20.intermediate.dense.weight', 'encoder.layer.20.layernorm_after.bias', 'encoder.layer.20.layernorm_after.weight', 'encoder.layer.20.layernorm_before.bias', 'encoder.layer.20.layernorm_before.weight', 'encoder.layer.20.output.dense.bias', 'encoder.layer.20.output.dense.weight', 'encoder.layer.21.attention.attention.key.bias', 'encoder.layer.21.attention.attention.key.weight', 'encoder.layer.21.attention.attention.query.bias', 'encoder.layer.21.attention.attention.query.weight', 'encoder.layer.21.attention.attention.value.bias', 'encoder.layer.21.attention.attention.value.weight', 'encoder.layer.21.attention.output.dense.bias', 'encoder.layer.21.attention.output.dense.weight', 'encoder.layer.21.intermediate.dense.bias', 'encoder.layer.21.intermediate.dense.weight', 'encoder.layer.21.layernorm_after.bias', 'encoder.layer.21.layernorm_after.weight', 'encoder.layer.21.layernorm_before.bias', 'encoder.layer.21.layernorm_before.weight', 'encoder.layer.21.output.dense.bias', 'encoder.layer.21.output.dense.weight', 'encoder.layer.22.attention.attention.key.bias', 'encoder.layer.22.attention.attention.key.weight', 'encoder.layer.22.attention.attention.query.bias', 'encoder.layer.22.attention.attention.query.weight', 'encoder.layer.22.attention.attention.value.bias', 'encoder.layer.22.attention.attention.value.weight', 'encoder.layer.22.attention.output.dense.bias', 'encoder.layer.22.attention.output.dense.weight', 'encoder.layer.22.intermediate.dense.bias', 'encoder.layer.22.intermediate.dense.weight', 'encoder.layer.22.layernorm_after.bias', 'encoder.layer.22.layernorm_after.weight', 'encoder.layer.22.layernorm_before.bias', 'encoder.layer.22.layernorm_before.weight', 'encoder.layer.22.output.dense.bias', 'encoder.layer.22.output.dense.weight', 'encoder.layer.23.attention.attention.key.bias', 'encoder.layer.23.attention.attention.key.weight', 'encoder.layer.23.attention.attention.query.bias', 'encoder.layer.23.attention.attention.query.weight', 'encoder.layer.23.attention.attention.value.bias', 'encoder.layer.23.attention.attention.value.weight', 'encoder.layer.23.attention.output.dense.bias', 'encoder.layer.23.attention.output.dense.weight', 'encoder.layer.23.intermediate.dense.bias', 'encoder.layer.23.intermediate.dense.weight', 'encoder.layer.23.layernorm_after.bias', 'encoder.layer.23.layernorm_after.weight', 'encoder.layer.23.layernorm_before.bias', 'encoder.layer.23.layernorm_before.weight', 'encoder.layer.23.output.dense.bias', 'encoder.layer.23.output.dense.weight']\n",
            "You should probably TRAIN this model on a down-stream task to be able to use it for predictions and inference.\n",
            "100%|██████████| 197/197 [05:15<00:00,  1.60s/it]\n",
            "100%|██████████| 28/28 [00:16<00:00,  1.71it/s]\n"
          ]
        },
        {
          "output_type": "stream",
          "name": "stdout",
          "text": [
            "Epoch: 1 | Train Loss: 0.013 | Train Accuracy: 0.865 | Val Loss: 0.039 | Val Accuracy: 0.676\n",
            "Precision: 0.778 | Recall: 0.676 | F1 Score: 0.643\n"
          ]
        },
        {
          "output_type": "stream",
          "name": "stderr",
          "text": [
            "100%|██████████| 197/197 [05:14<00:00,  1.60s/it]\n",
            "100%|██████████| 28/28 [00:16<00:00,  1.72it/s]\n"
          ]
        },
        {
          "output_type": "stream",
          "name": "stdout",
          "text": [
            "Epoch: 2 | Train Loss: 0.004 | Train Accuracy: 0.970 | Val Loss: 0.052 | Val Accuracy: 0.655\n",
            "Precision: 0.787 | Recall: 0.655 | F1 Score: 0.610\n"
          ]
        },
        {
          "output_type": "stream",
          "name": "stderr",
          "text": [
            "100%|██████████| 197/197 [05:14<00:00,  1.60s/it]\n",
            "100%|██████████| 28/28 [00:16<00:00,  1.72it/s]\n"
          ]
        },
        {
          "output_type": "stream",
          "name": "stdout",
          "text": [
            "Epoch: 3 | Train Loss: 0.002 | Train Accuracy: 0.986 | Val Loss: 0.044 | Val Accuracy: 0.725\n",
            "Precision: 0.790 | Recall: 0.725 | F1 Score: 0.708\n"
          ]
        },
        {
          "output_type": "stream",
          "name": "stderr",
          "text": [
            "100%|██████████| 197/197 [05:13<00:00,  1.59s/it]\n",
            "100%|██████████| 28/28 [00:16<00:00,  1.65it/s]\n"
          ]
        },
        {
          "output_type": "stream",
          "name": "stdout",
          "text": [
            "Epoch: 4 | Train Loss: 0.002 | Train Accuracy: 0.987 | Val Loss: 0.031 | Val Accuracy: 0.760\n",
            "Precision: 0.812 | Recall: 0.760 | F1 Score: 0.750\n"
          ]
        },
        {
          "output_type": "stream",
          "name": "stderr",
          "text": [
            "100%|██████████| 197/197 [05:14<00:00,  1.60s/it]\n",
            "100%|██████████| 28/28 [00:16<00:00,  1.71it/s]\n"
          ]
        },
        {
          "output_type": "stream",
          "name": "stdout",
          "text": [
            "Epoch: 5 | Train Loss: 0.002 | Train Accuracy: 0.987 | Val Loss: 0.031 | Val Accuracy: 0.738\n",
            "Precision: 0.808 | Recall: 0.738 | F1 Score: 0.722\n"
          ]
        },
        {
          "output_type": "stream",
          "name": "stderr",
          "text": [
            "100%|██████████| 197/197 [05:14<00:00,  1.60s/it]\n",
            "100%|██████████| 28/28 [00:16<00:00,  1.68it/s]\n"
          ]
        },
        {
          "output_type": "stream",
          "name": "stdout",
          "text": [
            "Epoch: 6 | Train Loss: 0.001 | Train Accuracy: 0.994 | Val Loss: 0.042 | Val Accuracy: 0.771\n",
            "Precision: 0.817 | Recall: 0.771 | F1 Score: 0.762\n"
          ]
        },
        {
          "output_type": "stream",
          "name": "stderr",
          "text": [
            "100%|██████████| 197/197 [05:14<00:00,  1.60s/it]\n",
            "100%|██████████| 28/28 [00:16<00:00,  1.69it/s]\n"
          ]
        },
        {
          "output_type": "stream",
          "name": "stdout",
          "text": [
            "Epoch: 7 | Train Loss: 0.001 | Train Accuracy: 0.993 | Val Loss: 0.057 | Val Accuracy: 0.676\n",
            "Precision: 0.781 | Recall: 0.676 | F1 Score: 0.642\n"
          ]
        },
        {
          "output_type": "stream",
          "name": "stderr",
          "text": [
            "100%|██████████| 197/197 [05:14<00:00,  1.60s/it]\n",
            "100%|██████████| 28/28 [00:16<00:00,  1.68it/s]\n"
          ]
        },
        {
          "output_type": "stream",
          "name": "stdout",
          "text": [
            "Epoch: 8 | Train Loss: 0.001 | Train Accuracy: 0.993 | Val Loss: 0.077 | Val Accuracy: 0.659\n",
            "Precision: 0.766 | Recall: 0.659 | F1 Score: 0.621\n"
          ]
        },
        {
          "output_type": "stream",
          "name": "stderr",
          "text": [
            "100%|██████████| 197/197 [05:14<00:00,  1.60s/it]\n",
            "100%|██████████| 28/28 [00:16<00:00,  1.69it/s]\n"
          ]
        },
        {
          "output_type": "stream",
          "name": "stdout",
          "text": [
            "Epoch: 9 | Train Loss: 0.001 | Train Accuracy: 0.992 | Val Loss: 0.078 | Val Accuracy: 0.613\n",
            "Precision: 0.748 | Recall: 0.613 | F1 Score: 0.552\n"
          ]
        },
        {
          "output_type": "stream",
          "name": "stderr",
          "text": [
            "100%|██████████| 197/197 [05:14<00:00,  1.60s/it]\n",
            "100%|██████████| 28/28 [00:16<00:00,  1.71it/s]\n"
          ]
        },
        {
          "output_type": "stream",
          "name": "stdout",
          "text": [
            "Epoch: 10 | Train Loss: 0.001 | Train Accuracy: 0.996 | Val Loss: 0.059 | Val Accuracy: 0.707\n",
            "Precision: 0.768 | Recall: 0.707 | F1 Score: 0.689\n"
          ]
        },
        {
          "output_type": "stream",
          "name": "stderr",
          "text": [
            "100%|██████████| 197/197 [05:13<00:00,  1.59s/it]\n",
            "100%|██████████| 28/28 [00:16<00:00,  1.70it/s]\n"
          ]
        },
        {
          "output_type": "stream",
          "name": "stdout",
          "text": [
            "Epoch: 11 | Train Loss: 0.000 | Train Accuracy: 0.997 | Val Loss: 0.086 | Val Accuracy: 0.604\n",
            "Precision: 0.733 | Recall: 0.604 | F1 Score: 0.541\n"
          ]
        },
        {
          "output_type": "stream",
          "name": "stderr",
          "text": [
            "100%|██████████| 197/197 [05:13<00:00,  1.59s/it]\n",
            "100%|██████████| 28/28 [00:16<00:00,  1.69it/s]\n"
          ]
        },
        {
          "output_type": "stream",
          "name": "stdout",
          "text": [
            "Epoch: 12 | Train Loss: 0.001 | Train Accuracy: 0.996 | Val Loss: 0.075 | Val Accuracy: 0.659\n",
            "Precision: 0.743 | Recall: 0.659 | F1 Score: 0.627\n"
          ]
        },
        {
          "output_type": "stream",
          "name": "stderr",
          "text": [
            "100%|██████████| 197/197 [05:14<00:00,  1.59s/it]\n",
            "100%|██████████| 28/28 [00:17<00:00,  1.63it/s]\n"
          ]
        },
        {
          "output_type": "stream",
          "name": "stdout",
          "text": [
            "Epoch: 13 | Train Loss: 0.001 | Train Accuracy: 0.996 | Val Loss: 0.080 | Val Accuracy: 0.656\n",
            "Precision: 0.761 | Recall: 0.656 | F1 Score: 0.618\n"
          ]
        },
        {
          "output_type": "stream",
          "name": "stderr",
          "text": [
            "100%|██████████| 197/197 [05:14<00:00,  1.60s/it]\n",
            "100%|██████████| 28/28 [00:16<00:00,  1.73it/s]\n"
          ]
        },
        {
          "output_type": "stream",
          "name": "stdout",
          "text": [
            "Epoch: 14 | Train Loss: 0.001 | Train Accuracy: 0.997 | Val Loss: 0.076 | Val Accuracy: 0.644\n",
            "Precision: 0.770 | Recall: 0.644 | F1 Score: 0.598\n"
          ]
        },
        {
          "output_type": "stream",
          "name": "stderr",
          "text": [
            "100%|██████████| 197/197 [05:14<00:00,  1.60s/it]\n",
            "100%|██████████| 28/28 [00:16<00:00,  1.72it/s]\n",
            "[I 2024-06-11 03:44:22,118] Trial 13 finished with value: 0.6517857142857143 and parameters: {'epochs': 15, 'learning_rate': 5.779508892969068e-05, 'batch_size': 24, 'dropout_prob': 0.3026728257491287, 'optimizer_name': 'Adam', 'num_layers': 24, 'scheduler_type': 'ReduceLROnPlateau'}. Best is trial 12 with value: 0.7455357142857143.\n"
          ]
        },
        {
          "output_type": "stream",
          "name": "stdout",
          "text": [
            "Epoch: 15 | Train Loss: 0.001 | Train Accuracy: 0.996 | Val Loss: 0.088 | Val Accuracy: 0.652\n",
            "Precision: 0.781 | Recall: 0.652 | F1 Score: 0.606\n"
          ]
        },
        {
          "output_type": "stream",
          "name": "stderr",
          "text": [
            "Some weights of ViTModel were not initialized from the model checkpoint at google/vit-base-patch16-224-in21k and are newly initialized: ['encoder.layer.12.attention.attention.key.bias', 'encoder.layer.12.attention.attention.key.weight', 'encoder.layer.12.attention.attention.query.bias', 'encoder.layer.12.attention.attention.query.weight', 'encoder.layer.12.attention.attention.value.bias', 'encoder.layer.12.attention.attention.value.weight', 'encoder.layer.12.attention.output.dense.bias', 'encoder.layer.12.attention.output.dense.weight', 'encoder.layer.12.intermediate.dense.bias', 'encoder.layer.12.intermediate.dense.weight', 'encoder.layer.12.layernorm_after.bias', 'encoder.layer.12.layernorm_after.weight', 'encoder.layer.12.layernorm_before.bias', 'encoder.layer.12.layernorm_before.weight', 'encoder.layer.12.output.dense.bias', 'encoder.layer.12.output.dense.weight', 'encoder.layer.13.attention.attention.key.bias', 'encoder.layer.13.attention.attention.key.weight', 'encoder.layer.13.attention.attention.query.bias', 'encoder.layer.13.attention.attention.query.weight', 'encoder.layer.13.attention.attention.value.bias', 'encoder.layer.13.attention.attention.value.weight', 'encoder.layer.13.attention.output.dense.bias', 'encoder.layer.13.attention.output.dense.weight', 'encoder.layer.13.intermediate.dense.bias', 'encoder.layer.13.intermediate.dense.weight', 'encoder.layer.13.layernorm_after.bias', 'encoder.layer.13.layernorm_after.weight', 'encoder.layer.13.layernorm_before.bias', 'encoder.layer.13.layernorm_before.weight', 'encoder.layer.13.output.dense.bias', 'encoder.layer.13.output.dense.weight']\n",
            "You should probably TRAIN this model on a down-stream task to be able to use it for predictions and inference.\n",
            "100%|██████████| 139/139 [03:01<00:00,  1.31s/it]\n",
            "100%|██████████| 20/20 [00:11<00:00,  1.70it/s]\n"
          ]
        },
        {
          "output_type": "stream",
          "name": "stdout",
          "text": [
            "Epoch: 1 | Train Loss: 0.010 | Train Accuracy: 0.839 | Val Loss: 0.022 | Val Accuracy: 0.690\n",
            "Precision: 0.767 | Recall: 0.690 | F1 Score: 0.667\n"
          ]
        },
        {
          "output_type": "stream",
          "name": "stderr",
          "text": [
            "100%|██████████| 139/139 [03:04<00:00,  1.33s/it]\n",
            "100%|██████████| 20/20 [00:11<00:00,  1.80it/s]\n"
          ]
        },
        {
          "output_type": "stream",
          "name": "stdout",
          "text": [
            "Epoch: 2 | Train Loss: 0.004 | Train Accuracy: 0.958 | Val Loss: 0.022 | Val Accuracy: 0.708\n",
            "Precision: 0.748 | Recall: 0.708 | F1 Score: 0.696\n"
          ]
        },
        {
          "output_type": "stream",
          "name": "stderr",
          "text": [
            "100%|██████████| 139/139 [03:04<00:00,  1.32s/it]\n",
            "100%|██████████| 20/20 [00:10<00:00,  1.91it/s]\n"
          ]
        },
        {
          "output_type": "stream",
          "name": "stdout",
          "text": [
            "Epoch: 3 | Train Loss: 0.002 | Train Accuracy: 0.977 | Val Loss: 0.025 | Val Accuracy: 0.720\n",
            "Precision: 0.746 | Recall: 0.720 | F1 Score: 0.713\n"
          ]
        },
        {
          "output_type": "stream",
          "name": "stderr",
          "text": [
            "100%|██████████| 139/139 [03:03<00:00,  1.32s/it]\n",
            "100%|██████████| 20/20 [00:10<00:00,  1.94it/s]\n"
          ]
        },
        {
          "output_type": "stream",
          "name": "stdout",
          "text": [
            "Epoch: 4 | Train Loss: 0.001 | Train Accuracy: 0.987 | Val Loss: 0.037 | Val Accuracy: 0.665\n",
            "Precision: 0.763 | Recall: 0.665 | F1 Score: 0.631\n"
          ]
        },
        {
          "output_type": "stream",
          "name": "stderr",
          "text": [
            "100%|██████████| 139/139 [03:04<00:00,  1.33s/it]\n",
            "100%|██████████| 20/20 [00:11<00:00,  1.73it/s]\n"
          ]
        },
        {
          "output_type": "stream",
          "name": "stdout",
          "text": [
            "Epoch: 5 | Train Loss: 0.001 | Train Accuracy: 0.991 | Val Loss: 0.040 | Val Accuracy: 0.679\n",
            "Precision: 0.765 | Recall: 0.679 | F1 Score: 0.650\n"
          ]
        },
        {
          "output_type": "stream",
          "name": "stderr",
          "text": [
            "100%|██████████| 139/139 [03:04<00:00,  1.33s/it]\n",
            "100%|██████████| 20/20 [00:11<00:00,  1.70it/s]\n"
          ]
        },
        {
          "output_type": "stream",
          "name": "stdout",
          "text": [
            "Epoch: 6 | Train Loss: 0.001 | Train Accuracy: 0.989 | Val Loss: 0.032 | Val Accuracy: 0.710\n",
            "Precision: 0.747 | Recall: 0.710 | F1 Score: 0.698\n"
          ]
        },
        {
          "output_type": "stream",
          "name": "stderr",
          "text": [
            "100%|██████████| 139/139 [03:03<00:00,  1.32s/it]\n",
            "100%|██████████| 20/20 [00:11<00:00,  1.77it/s]\n"
          ]
        },
        {
          "output_type": "stream",
          "name": "stdout",
          "text": [
            "Epoch: 7 | Train Loss: 0.001 | Train Accuracy: 0.990 | Val Loss: 0.050 | Val Accuracy: 0.592\n",
            "Precision: 0.720 | Recall: 0.592 | F1 Score: 0.523\n"
          ]
        },
        {
          "output_type": "stream",
          "name": "stderr",
          "text": [
            "100%|██████████| 139/139 [03:02<00:00,  1.31s/it]\n",
            "100%|██████████| 20/20 [00:11<00:00,  1.72it/s]\n"
          ]
        },
        {
          "output_type": "stream",
          "name": "stdout",
          "text": [
            "Epoch: 8 | Train Loss: 0.002 | Train Accuracy: 0.978 | Val Loss: 0.053 | Val Accuracy: 0.621\n",
            "Precision: 0.725 | Recall: 0.621 | F1 Score: 0.571\n"
          ]
        },
        {
          "output_type": "stream",
          "name": "stderr",
          "text": [
            "100%|██████████| 139/139 [03:04<00:00,  1.33s/it]\n",
            "100%|██████████| 20/20 [00:11<00:00,  1.72it/s]\n"
          ]
        },
        {
          "output_type": "stream",
          "name": "stdout",
          "text": [
            "Epoch: 9 | Train Loss: 0.001 | Train Accuracy: 0.991 | Val Loss: 0.034 | Val Accuracy: 0.719\n",
            "Precision: 0.767 | Recall: 0.719 | F1 Score: 0.705\n"
          ]
        },
        {
          "output_type": "stream",
          "name": "stderr",
          "text": [
            "100%|██████████| 139/139 [03:03<00:00,  1.32s/it]\n",
            "100%|██████████| 20/20 [00:10<00:00,  1.89it/s]\n",
            "[I 2024-06-11 04:16:53,189] Trial 14 finished with value: 0.6011904761904762 and parameters: {'epochs': 10, 'learning_rate': 0.00018663592828382366, 'batch_size': 34, 'dropout_prob': 0.46927109705619974, 'optimizer_name': 'AdamW', 'num_layers': 14, 'scheduler_type': 'ReduceLROnPlateau'}. Best is trial 12 with value: 0.7455357142857143.\n"
          ]
        },
        {
          "output_type": "stream",
          "name": "stdout",
          "text": [
            "Epoch: 10 | Train Loss: 0.000 | Train Accuracy: 0.995 | Val Loss: 0.060 | Val Accuracy: 0.601\n",
            "Precision: 0.758 | Recall: 0.601 | F1 Score: 0.530\n"
          ]
        },
        {
          "output_type": "stream",
          "name": "stderr",
          "text": [
            "Some weights of ViTModel were not initialized from the model checkpoint at google/vit-base-patch16-224-in21k and are newly initialized: ['encoder.layer.12.attention.attention.key.bias', 'encoder.layer.12.attention.attention.key.weight', 'encoder.layer.12.attention.attention.query.bias', 'encoder.layer.12.attention.attention.query.weight', 'encoder.layer.12.attention.attention.value.bias', 'encoder.layer.12.attention.attention.value.weight', 'encoder.layer.12.attention.output.dense.bias', 'encoder.layer.12.attention.output.dense.weight', 'encoder.layer.12.intermediate.dense.bias', 'encoder.layer.12.intermediate.dense.weight', 'encoder.layer.12.layernorm_after.bias', 'encoder.layer.12.layernorm_after.weight', 'encoder.layer.12.layernorm_before.bias', 'encoder.layer.12.layernorm_before.weight', 'encoder.layer.12.output.dense.bias', 'encoder.layer.12.output.dense.weight', 'encoder.layer.13.attention.attention.key.bias', 'encoder.layer.13.attention.attention.key.weight', 'encoder.layer.13.attention.attention.query.bias', 'encoder.layer.13.attention.attention.query.weight', 'encoder.layer.13.attention.attention.value.bias', 'encoder.layer.13.attention.attention.value.weight', 'encoder.layer.13.attention.output.dense.bias', 'encoder.layer.13.attention.output.dense.weight', 'encoder.layer.13.intermediate.dense.bias', 'encoder.layer.13.intermediate.dense.weight', 'encoder.layer.13.layernorm_after.bias', 'encoder.layer.13.layernorm_after.weight', 'encoder.layer.13.layernorm_before.bias', 'encoder.layer.13.layernorm_before.weight', 'encoder.layer.13.output.dense.bias', 'encoder.layer.13.output.dense.weight', 'encoder.layer.14.attention.attention.key.bias', 'encoder.layer.14.attention.attention.key.weight', 'encoder.layer.14.attention.attention.query.bias', 'encoder.layer.14.attention.attention.query.weight', 'encoder.layer.14.attention.attention.value.bias', 'encoder.layer.14.attention.attention.value.weight', 'encoder.layer.14.attention.output.dense.bias', 'encoder.layer.14.attention.output.dense.weight', 'encoder.layer.14.intermediate.dense.bias', 'encoder.layer.14.intermediate.dense.weight', 'encoder.layer.14.layernorm_after.bias', 'encoder.layer.14.layernorm_after.weight', 'encoder.layer.14.layernorm_before.bias', 'encoder.layer.14.layernorm_before.weight', 'encoder.layer.14.output.dense.bias', 'encoder.layer.14.output.dense.weight', 'encoder.layer.15.attention.attention.key.bias', 'encoder.layer.15.attention.attention.key.weight', 'encoder.layer.15.attention.attention.query.bias', 'encoder.layer.15.attention.attention.query.weight', 'encoder.layer.15.attention.attention.value.bias', 'encoder.layer.15.attention.attention.value.weight', 'encoder.layer.15.attention.output.dense.bias', 'encoder.layer.15.attention.output.dense.weight', 'encoder.layer.15.intermediate.dense.bias', 'encoder.layer.15.intermediate.dense.weight', 'encoder.layer.15.layernorm_after.bias', 'encoder.layer.15.layernorm_after.weight', 'encoder.layer.15.layernorm_before.bias', 'encoder.layer.15.layernorm_before.weight', 'encoder.layer.15.output.dense.bias', 'encoder.layer.15.output.dense.weight', 'encoder.layer.16.attention.attention.key.bias', 'encoder.layer.16.attention.attention.key.weight', 'encoder.layer.16.attention.attention.query.bias', 'encoder.layer.16.attention.attention.query.weight', 'encoder.layer.16.attention.attention.value.bias', 'encoder.layer.16.attention.attention.value.weight', 'encoder.layer.16.attention.output.dense.bias', 'encoder.layer.16.attention.output.dense.weight', 'encoder.layer.16.intermediate.dense.bias', 'encoder.layer.16.intermediate.dense.weight', 'encoder.layer.16.layernorm_after.bias', 'encoder.layer.16.layernorm_after.weight', 'encoder.layer.16.layernorm_before.bias', 'encoder.layer.16.layernorm_before.weight', 'encoder.layer.16.output.dense.bias', 'encoder.layer.16.output.dense.weight', 'encoder.layer.17.attention.attention.key.bias', 'encoder.layer.17.attention.attention.key.weight', 'encoder.layer.17.attention.attention.query.bias', 'encoder.layer.17.attention.attention.query.weight', 'encoder.layer.17.attention.attention.value.bias', 'encoder.layer.17.attention.attention.value.weight', 'encoder.layer.17.attention.output.dense.bias', 'encoder.layer.17.attention.output.dense.weight', 'encoder.layer.17.intermediate.dense.bias', 'encoder.layer.17.intermediate.dense.weight', 'encoder.layer.17.layernorm_after.bias', 'encoder.layer.17.layernorm_after.weight', 'encoder.layer.17.layernorm_before.bias', 'encoder.layer.17.layernorm_before.weight', 'encoder.layer.17.output.dense.bias', 'encoder.layer.17.output.dense.weight', 'encoder.layer.18.attention.attention.key.bias', 'encoder.layer.18.attention.attention.key.weight', 'encoder.layer.18.attention.attention.query.bias', 'encoder.layer.18.attention.attention.query.weight', 'encoder.layer.18.attention.attention.value.bias', 'encoder.layer.18.attention.attention.value.weight', 'encoder.layer.18.attention.output.dense.bias', 'encoder.layer.18.attention.output.dense.weight', 'encoder.layer.18.intermediate.dense.bias', 'encoder.layer.18.intermediate.dense.weight', 'encoder.layer.18.layernorm_after.bias', 'encoder.layer.18.layernorm_after.weight', 'encoder.layer.18.layernorm_before.bias', 'encoder.layer.18.layernorm_before.weight', 'encoder.layer.18.output.dense.bias', 'encoder.layer.18.output.dense.weight']\n",
            "You should probably TRAIN this model on a down-stream task to be able to use it for predictions and inference.\n",
            "100%|██████████| 236/236 [04:01<00:00,  1.02s/it]\n",
            "100%|██████████| 34/34 [00:12<00:00,  2.65it/s]\n"
          ]
        },
        {
          "output_type": "stream",
          "name": "stdout",
          "text": [
            "Epoch: 1 | Train Loss: 0.035 | Train Accuracy: 0.467 | Val Loss: 0.035 | Val Accuracy: 0.409\n",
            "Precision: 0.409 | Recall: 0.409 | F1 Score: 0.409\n"
          ]
        },
        {
          "output_type": "stream",
          "name": "stderr",
          "text": [
            "100%|██████████| 236/236 [04:03<00:00,  1.03s/it]\n",
            "100%|██████████| 34/34 [00:12<00:00,  2.70it/s]\n"
          ]
        },
        {
          "output_type": "stream",
          "name": "stdout",
          "text": [
            "Epoch: 2 | Train Loss: 0.034 | Train Accuracy: 0.542 | Val Loss: 0.035 | Val Accuracy: 0.507\n",
            "Precision: 0.507 | Recall: 0.507 | F1 Score: 0.507\n"
          ]
        },
        {
          "output_type": "stream",
          "name": "stderr",
          "text": [
            "100%|██████████| 236/236 [04:02<00:00,  1.03s/it]\n",
            "100%|██████████| 34/34 [00:12<00:00,  2.68it/s]\n"
          ]
        },
        {
          "output_type": "stream",
          "name": "stdout",
          "text": [
            "Epoch: 3 | Train Loss: 0.034 | Train Accuracy: 0.610 | Val Loss: 0.035 | Val Accuracy: 0.582\n",
            "Precision: 0.584 | Recall: 0.582 | F1 Score: 0.580\n"
          ]
        },
        {
          "output_type": "stream",
          "name": "stderr",
          "text": [
            "100%|██████████| 236/236 [04:02<00:00,  1.03s/it]\n",
            "100%|██████████| 34/34 [00:13<00:00,  2.52it/s]\n"
          ]
        },
        {
          "output_type": "stream",
          "name": "stdout",
          "text": [
            "Epoch: 4 | Train Loss: 0.034 | Train Accuracy: 0.663 | Val Loss: 0.035 | Val Accuracy: 0.576\n",
            "Precision: 0.576 | Recall: 0.576 | F1 Score: 0.576\n"
          ]
        },
        {
          "output_type": "stream",
          "name": "stderr",
          "text": [
            "100%|██████████| 236/236 [04:01<00:00,  1.02s/it]\n",
            "100%|██████████| 34/34 [00:12<00:00,  2.68it/s]\n"
          ]
        },
        {
          "output_type": "stream",
          "name": "stdout",
          "text": [
            "Epoch: 5 | Train Loss: 0.033 | Train Accuracy: 0.698 | Val Loss: 0.035 | Val Accuracy: 0.619\n",
            "Precision: 0.625 | Recall: 0.619 | F1 Score: 0.615\n"
          ]
        },
        {
          "output_type": "stream",
          "name": "stderr",
          "text": [
            "100%|██████████| 236/236 [04:03<00:00,  1.03s/it]\n",
            "100%|██████████| 34/34 [00:12<00:00,  2.68it/s]\n"
          ]
        },
        {
          "output_type": "stream",
          "name": "stdout",
          "text": [
            "Epoch: 6 | Train Loss: 0.033 | Train Accuracy: 0.726 | Val Loss: 0.034 | Val Accuracy: 0.652\n",
            "Precision: 0.656 | Recall: 0.652 | F1 Score: 0.649\n"
          ]
        },
        {
          "output_type": "stream",
          "name": "stderr",
          "text": [
            "100%|██████████| 236/236 [04:01<00:00,  1.02s/it]\n",
            "100%|██████████| 34/34 [00:12<00:00,  2.65it/s]\n"
          ]
        },
        {
          "output_type": "stream",
          "name": "stdout",
          "text": [
            "Epoch: 7 | Train Loss: 0.032 | Train Accuracy: 0.743 | Val Loss: 0.034 | Val Accuracy: 0.656\n",
            "Precision: 0.675 | Recall: 0.656 | F1 Score: 0.647\n"
          ]
        },
        {
          "output_type": "stream",
          "name": "stderr",
          "text": [
            "100%|██████████| 236/236 [04:02<00:00,  1.03s/it]\n",
            "100%|██████████| 34/34 [00:13<00:00,  2.43it/s]\n"
          ]
        },
        {
          "output_type": "stream",
          "name": "stdout",
          "text": [
            "Epoch: 8 | Train Loss: 0.031 | Train Accuracy: 0.762 | Val Loss: 0.033 | Val Accuracy: 0.643\n",
            "Precision: 0.654 | Recall: 0.643 | F1 Score: 0.636\n"
          ]
        },
        {
          "output_type": "stream",
          "name": "stderr",
          "text": [
            "100%|██████████| 236/236 [04:02<00:00,  1.03s/it]\n",
            "100%|██████████| 34/34 [00:13<00:00,  2.45it/s]\n"
          ]
        },
        {
          "output_type": "stream",
          "name": "stdout",
          "text": [
            "Epoch: 9 | Train Loss: 0.030 | Train Accuracy: 0.769 | Val Loss: 0.032 | Val Accuracy: 0.677\n",
            "Precision: 0.698 | Recall: 0.677 | F1 Score: 0.668\n"
          ]
        },
        {
          "output_type": "stream",
          "name": "stderr",
          "text": [
            "100%|██████████| 236/236 [04:01<00:00,  1.02s/it]\n",
            "100%|██████████| 34/34 [00:13<00:00,  2.50it/s]\n"
          ]
        },
        {
          "output_type": "stream",
          "name": "stdout",
          "text": [
            "Epoch: 10 | Train Loss: 0.028 | Train Accuracy: 0.780 | Val Loss: 0.031 | Val Accuracy: 0.698\n",
            "Precision: 0.714 | Recall: 0.698 | F1 Score: 0.692\n"
          ]
        },
        {
          "output_type": "stream",
          "name": "stderr",
          "text": [
            "100%|██████████| 236/236 [04:01<00:00,  1.02s/it]\n",
            "100%|██████████| 34/34 [00:13<00:00,  2.59it/s]\n"
          ]
        },
        {
          "output_type": "stream",
          "name": "stdout",
          "text": [
            "Epoch: 11 | Train Loss: 0.026 | Train Accuracy: 0.796 | Val Loss: 0.030 | Val Accuracy: 0.698\n",
            "Precision: 0.714 | Recall: 0.698 | F1 Score: 0.692\n"
          ]
        },
        {
          "output_type": "stream",
          "name": "stderr",
          "text": [
            "100%|██████████| 236/236 [04:02<00:00,  1.03s/it]\n",
            "100%|██████████| 34/34 [00:13<00:00,  2.60it/s]\n"
          ]
        },
        {
          "output_type": "stream",
          "name": "stdout",
          "text": [
            "Epoch: 12 | Train Loss: 0.024 | Train Accuracy: 0.812 | Val Loss: 0.029 | Val Accuracy: 0.731\n",
            "Precision: 0.751 | Recall: 0.731 | F1 Score: 0.725\n"
          ]
        },
        {
          "output_type": "stream",
          "name": "stderr",
          "text": [
            "100%|██████████| 236/236 [04:03<00:00,  1.03s/it]\n",
            "100%|██████████| 34/34 [00:13<00:00,  2.58it/s]\n"
          ]
        },
        {
          "output_type": "stream",
          "name": "stdout",
          "text": [
            "Epoch: 13 | Train Loss: 0.023 | Train Accuracy: 0.831 | Val Loss: 0.029 | Val Accuracy: 0.744\n",
            "Precision: 0.756 | Recall: 0.744 | F1 Score: 0.741\n"
          ]
        },
        {
          "output_type": "stream",
          "name": "stderr",
          "text": [
            "100%|██████████| 236/236 [04:04<00:00,  1.04s/it]\n",
            "100%|██████████| 34/34 [00:12<00:00,  2.66it/s]\n"
          ]
        },
        {
          "output_type": "stream",
          "name": "stdout",
          "text": [
            "Epoch: 14 | Train Loss: 0.021 | Train Accuracy: 0.850 | Val Loss: 0.028 | Val Accuracy: 0.740\n",
            "Precision: 0.759 | Recall: 0.740 | F1 Score: 0.734\n"
          ]
        },
        {
          "output_type": "stream",
          "name": "stderr",
          "text": [
            "100%|██████████| 236/236 [04:02<00:00,  1.03s/it]\n",
            "100%|██████████| 34/34 [00:12<00:00,  2.66it/s]\n"
          ]
        },
        {
          "output_type": "stream",
          "name": "stdout",
          "text": [
            "Epoch: 15 | Train Loss: 0.019 | Train Accuracy: 0.869 | Val Loss: 0.029 | Val Accuracy: 0.720\n",
            "Precision: 0.773 | Recall: 0.720 | F1 Score: 0.706\n"
          ]
        },
        {
          "output_type": "stream",
          "name": "stderr",
          "text": [
            "100%|██████████| 236/236 [04:01<00:00,  1.02s/it]\n",
            "100%|██████████| 34/34 [00:12<00:00,  2.68it/s]\n"
          ]
        },
        {
          "output_type": "stream",
          "name": "stdout",
          "text": [
            "Epoch: 16 | Train Loss: 0.017 | Train Accuracy: 0.889 | Val Loss: 0.029 | Val Accuracy: 0.732\n",
            "Precision: 0.779 | Recall: 0.732 | F1 Score: 0.720\n"
          ]
        },
        {
          "output_type": "stream",
          "name": "stderr",
          "text": [
            "100%|██████████| 236/236 [04:03<00:00,  1.03s/it]\n",
            "100%|██████████| 34/34 [00:13<00:00,  2.60it/s]\n"
          ]
        },
        {
          "output_type": "stream",
          "name": "stdout",
          "text": [
            "Epoch: 17 | Train Loss: 0.015 | Train Accuracy: 0.904 | Val Loss: 0.028 | Val Accuracy: 0.754\n",
            "Precision: 0.783 | Recall: 0.754 | F1 Score: 0.748\n"
          ]
        },
        {
          "output_type": "stream",
          "name": "stderr",
          "text": [
            "100%|██████████| 236/236 [04:04<00:00,  1.04s/it]\n",
            "100%|██████████| 34/34 [00:13<00:00,  2.58it/s]\n"
          ]
        },
        {
          "output_type": "stream",
          "name": "stdout",
          "text": [
            "Epoch: 18 | Train Loss: 0.013 | Train Accuracy: 0.917 | Val Loss: 0.030 | Val Accuracy: 0.726\n",
            "Precision: 0.788 | Recall: 0.726 | F1 Score: 0.711\n"
          ]
        },
        {
          "output_type": "stream",
          "name": "stderr",
          "text": [
            "100%|██████████| 236/236 [04:02<00:00,  1.03s/it]\n",
            "100%|██████████| 34/34 [00:13<00:00,  2.55it/s]\n"
          ]
        },
        {
          "output_type": "stream",
          "name": "stdout",
          "text": [
            "Epoch: 19 | Train Loss: 0.012 | Train Accuracy: 0.929 | Val Loss: 0.029 | Val Accuracy: 0.756\n",
            "Precision: 0.788 | Recall: 0.756 | F1 Score: 0.749\n"
          ]
        },
        {
          "output_type": "stream",
          "name": "stderr",
          "text": [
            "100%|██████████| 236/236 [04:04<00:00,  1.04s/it]\n",
            "100%|██████████| 34/34 [00:12<00:00,  2.65it/s]\n",
            "[I 2024-06-11 05:42:12,492] Trial 15 finished with value: 0.7425595238095238 and parameters: {'epochs': 20, 'learning_rate': 7.100324967633279e-05, 'batch_size': 20, 'dropout_prob': 0.5276020548553942, 'optimizer_name': 'SGD', 'num_layers': 19, 'scheduler_type': 'ReduceLROnPlateau'}. Best is trial 12 with value: 0.7455357142857143.\n"
          ]
        },
        {
          "output_type": "stream",
          "name": "stdout",
          "text": [
            "Epoch: 20 | Train Loss: 0.011 | Train Accuracy: 0.939 | Val Loss: 0.031 | Val Accuracy: 0.743\n",
            "Precision: 0.800 | Recall: 0.743 | F1 Score: 0.730\n"
          ]
        },
        {
          "output_type": "stream",
          "name": "stderr",
          "text": [
            "Some weights of ViTModel were not initialized from the model checkpoint at google/vit-base-patch16-224-in21k and are newly initialized: ['encoder.layer.12.attention.attention.key.bias', 'encoder.layer.12.attention.attention.key.weight', 'encoder.layer.12.attention.attention.query.bias', 'encoder.layer.12.attention.attention.query.weight', 'encoder.layer.12.attention.attention.value.bias', 'encoder.layer.12.attention.attention.value.weight', 'encoder.layer.12.attention.output.dense.bias', 'encoder.layer.12.attention.output.dense.weight', 'encoder.layer.12.intermediate.dense.bias', 'encoder.layer.12.intermediate.dense.weight', 'encoder.layer.12.layernorm_after.bias', 'encoder.layer.12.layernorm_after.weight', 'encoder.layer.12.layernorm_before.bias', 'encoder.layer.12.layernorm_before.weight', 'encoder.layer.12.output.dense.bias', 'encoder.layer.12.output.dense.weight', 'encoder.layer.13.attention.attention.key.bias', 'encoder.layer.13.attention.attention.key.weight', 'encoder.layer.13.attention.attention.query.bias', 'encoder.layer.13.attention.attention.query.weight', 'encoder.layer.13.attention.attention.value.bias', 'encoder.layer.13.attention.attention.value.weight', 'encoder.layer.13.attention.output.dense.bias', 'encoder.layer.13.attention.output.dense.weight', 'encoder.layer.13.intermediate.dense.bias', 'encoder.layer.13.intermediate.dense.weight', 'encoder.layer.13.layernorm_after.bias', 'encoder.layer.13.layernorm_after.weight', 'encoder.layer.13.layernorm_before.bias', 'encoder.layer.13.layernorm_before.weight', 'encoder.layer.13.output.dense.bias', 'encoder.layer.13.output.dense.weight', 'encoder.layer.14.attention.attention.key.bias', 'encoder.layer.14.attention.attention.key.weight', 'encoder.layer.14.attention.attention.query.bias', 'encoder.layer.14.attention.attention.query.weight', 'encoder.layer.14.attention.attention.value.bias', 'encoder.layer.14.attention.attention.value.weight', 'encoder.layer.14.attention.output.dense.bias', 'encoder.layer.14.attention.output.dense.weight', 'encoder.layer.14.intermediate.dense.bias', 'encoder.layer.14.intermediate.dense.weight', 'encoder.layer.14.layernorm_after.bias', 'encoder.layer.14.layernorm_after.weight', 'encoder.layer.14.layernorm_before.bias', 'encoder.layer.14.layernorm_before.weight', 'encoder.layer.14.output.dense.bias', 'encoder.layer.14.output.dense.weight', 'encoder.layer.15.attention.attention.key.bias', 'encoder.layer.15.attention.attention.key.weight', 'encoder.layer.15.attention.attention.query.bias', 'encoder.layer.15.attention.attention.query.weight', 'encoder.layer.15.attention.attention.value.bias', 'encoder.layer.15.attention.attention.value.weight', 'encoder.layer.15.attention.output.dense.bias', 'encoder.layer.15.attention.output.dense.weight', 'encoder.layer.15.intermediate.dense.bias', 'encoder.layer.15.intermediate.dense.weight', 'encoder.layer.15.layernorm_after.bias', 'encoder.layer.15.layernorm_after.weight', 'encoder.layer.15.layernorm_before.bias', 'encoder.layer.15.layernorm_before.weight', 'encoder.layer.15.output.dense.bias', 'encoder.layer.15.output.dense.weight', 'encoder.layer.16.attention.attention.key.bias', 'encoder.layer.16.attention.attention.key.weight', 'encoder.layer.16.attention.attention.query.bias', 'encoder.layer.16.attention.attention.query.weight', 'encoder.layer.16.attention.attention.value.bias', 'encoder.layer.16.attention.attention.value.weight', 'encoder.layer.16.attention.output.dense.bias', 'encoder.layer.16.attention.output.dense.weight', 'encoder.layer.16.intermediate.dense.bias', 'encoder.layer.16.intermediate.dense.weight', 'encoder.layer.16.layernorm_after.bias', 'encoder.layer.16.layernorm_after.weight', 'encoder.layer.16.layernorm_before.bias', 'encoder.layer.16.layernorm_before.weight', 'encoder.layer.16.output.dense.bias', 'encoder.layer.16.output.dense.weight', 'encoder.layer.17.attention.attention.key.bias', 'encoder.layer.17.attention.attention.key.weight', 'encoder.layer.17.attention.attention.query.bias', 'encoder.layer.17.attention.attention.query.weight', 'encoder.layer.17.attention.attention.value.bias', 'encoder.layer.17.attention.attention.value.weight', 'encoder.layer.17.attention.output.dense.bias', 'encoder.layer.17.attention.output.dense.weight', 'encoder.layer.17.intermediate.dense.bias', 'encoder.layer.17.intermediate.dense.weight', 'encoder.layer.17.layernorm_after.bias', 'encoder.layer.17.layernorm_after.weight', 'encoder.layer.17.layernorm_before.bias', 'encoder.layer.17.layernorm_before.weight', 'encoder.layer.17.output.dense.bias', 'encoder.layer.17.output.dense.weight', 'encoder.layer.18.attention.attention.key.bias', 'encoder.layer.18.attention.attention.key.weight', 'encoder.layer.18.attention.attention.query.bias', 'encoder.layer.18.attention.attention.query.weight', 'encoder.layer.18.attention.attention.value.bias', 'encoder.layer.18.attention.attention.value.weight', 'encoder.layer.18.attention.output.dense.bias', 'encoder.layer.18.attention.output.dense.weight', 'encoder.layer.18.intermediate.dense.bias', 'encoder.layer.18.intermediate.dense.weight', 'encoder.layer.18.layernorm_after.bias', 'encoder.layer.18.layernorm_after.weight', 'encoder.layer.18.layernorm_before.bias', 'encoder.layer.18.layernorm_before.weight', 'encoder.layer.18.output.dense.bias', 'encoder.layer.18.output.dense.weight', 'encoder.layer.19.attention.attention.key.bias', 'encoder.layer.19.attention.attention.key.weight', 'encoder.layer.19.attention.attention.query.bias', 'encoder.layer.19.attention.attention.query.weight', 'encoder.layer.19.attention.attention.value.bias', 'encoder.layer.19.attention.attention.value.weight', 'encoder.layer.19.attention.output.dense.bias', 'encoder.layer.19.attention.output.dense.weight', 'encoder.layer.19.intermediate.dense.bias', 'encoder.layer.19.intermediate.dense.weight', 'encoder.layer.19.layernorm_after.bias', 'encoder.layer.19.layernorm_after.weight', 'encoder.layer.19.layernorm_before.bias', 'encoder.layer.19.layernorm_before.weight', 'encoder.layer.19.output.dense.bias', 'encoder.layer.19.output.dense.weight', 'encoder.layer.20.attention.attention.key.bias', 'encoder.layer.20.attention.attention.key.weight', 'encoder.layer.20.attention.attention.query.bias', 'encoder.layer.20.attention.attention.query.weight', 'encoder.layer.20.attention.attention.value.bias', 'encoder.layer.20.attention.attention.value.weight', 'encoder.layer.20.attention.output.dense.bias', 'encoder.layer.20.attention.output.dense.weight', 'encoder.layer.20.intermediate.dense.bias', 'encoder.layer.20.intermediate.dense.weight', 'encoder.layer.20.layernorm_after.bias', 'encoder.layer.20.layernorm_after.weight', 'encoder.layer.20.layernorm_before.bias', 'encoder.layer.20.layernorm_before.weight', 'encoder.layer.20.output.dense.bias', 'encoder.layer.20.output.dense.weight', 'encoder.layer.21.attention.attention.key.bias', 'encoder.layer.21.attention.attention.key.weight', 'encoder.layer.21.attention.attention.query.bias', 'encoder.layer.21.attention.attention.query.weight', 'encoder.layer.21.attention.attention.value.bias', 'encoder.layer.21.attention.attention.value.weight', 'encoder.layer.21.attention.output.dense.bias', 'encoder.layer.21.attention.output.dense.weight', 'encoder.layer.21.intermediate.dense.bias', 'encoder.layer.21.intermediate.dense.weight', 'encoder.layer.21.layernorm_after.bias', 'encoder.layer.21.layernorm_after.weight', 'encoder.layer.21.layernorm_before.bias', 'encoder.layer.21.layernorm_before.weight', 'encoder.layer.21.output.dense.bias', 'encoder.layer.21.output.dense.weight', 'encoder.layer.22.attention.attention.key.bias', 'encoder.layer.22.attention.attention.key.weight', 'encoder.layer.22.attention.attention.query.bias', 'encoder.layer.22.attention.attention.query.weight', 'encoder.layer.22.attention.attention.value.bias', 'encoder.layer.22.attention.attention.value.weight', 'encoder.layer.22.attention.output.dense.bias', 'encoder.layer.22.attention.output.dense.weight', 'encoder.layer.22.intermediate.dense.bias', 'encoder.layer.22.intermediate.dense.weight', 'encoder.layer.22.layernorm_after.bias', 'encoder.layer.22.layernorm_after.weight', 'encoder.layer.22.layernorm_before.bias', 'encoder.layer.22.layernorm_before.weight', 'encoder.layer.22.output.dense.bias', 'encoder.layer.22.output.dense.weight']\n",
            "You should probably TRAIN this model on a down-stream task to be able to use it for predictions and inference.\n",
            "100%|██████████| 121/121 [04:49<00:00,  2.39s/it]\n",
            "100%|██████████| 18/18 [00:15<00:00,  1.15it/s]\n"
          ]
        },
        {
          "output_type": "stream",
          "name": "stdout",
          "text": [
            "Epoch: 1 | Train Loss: 0.018 | Train Accuracy: 0.496 | Val Loss: 0.019 | Val Accuracy: 0.493\n",
            "Precision: 0.462 | Recall: 0.493 | F1 Score: 0.365\n"
          ]
        },
        {
          "output_type": "stream",
          "name": "stderr",
          "text": [
            "100%|██████████| 121/121 [04:49<00:00,  2.39s/it]\n",
            "100%|██████████| 18/18 [00:16<00:00,  1.11it/s]\n"
          ]
        },
        {
          "output_type": "stream",
          "name": "stdout",
          "text": [
            "Epoch: 2 | Train Loss: 0.018 | Train Accuracy: 0.527 | Val Loss: 0.018 | Val Accuracy: 0.601\n",
            "Precision: 0.653 | Recall: 0.601 | F1 Score: 0.564\n"
          ]
        },
        {
          "output_type": "stream",
          "name": "stderr",
          "text": [
            "100%|██████████| 121/121 [04:50<00:00,  2.40s/it]\n",
            "100%|██████████| 18/18 [00:15<00:00,  1.15it/s]\n"
          ]
        },
        {
          "output_type": "stream",
          "name": "stdout",
          "text": [
            "Epoch: 3 | Train Loss: 0.018 | Train Accuracy: 0.550 | Val Loss: 0.018 | Val Accuracy: 0.643\n",
            "Precision: 0.677 | Recall: 0.643 | F1 Score: 0.625\n"
          ]
        },
        {
          "output_type": "stream",
          "name": "stderr",
          "text": [
            "100%|██████████| 121/121 [04:49<00:00,  2.40s/it]\n",
            "100%|██████████| 18/18 [00:15<00:00,  1.15it/s]\n"
          ]
        },
        {
          "output_type": "stream",
          "name": "stdout",
          "text": [
            "Epoch: 4 | Train Loss: 0.018 | Train Accuracy: 0.566 | Val Loss: 0.018 | Val Accuracy: 0.667\n",
            "Precision: 0.675 | Recall: 0.667 | F1 Score: 0.663\n"
          ]
        },
        {
          "output_type": "stream",
          "name": "stderr",
          "text": [
            "100%|██████████| 121/121 [04:49<00:00,  2.39s/it]\n",
            "100%|██████████| 18/18 [00:15<00:00,  1.14it/s]\n"
          ]
        },
        {
          "output_type": "stream",
          "name": "stdout",
          "text": [
            "Epoch: 5 | Train Loss: 0.018 | Train Accuracy: 0.583 | Val Loss: 0.018 | Val Accuracy: 0.668\n",
            "Precision: 0.673 | Recall: 0.668 | F1 Score: 0.666\n"
          ]
        },
        {
          "output_type": "stream",
          "name": "stderr",
          "text": [
            "100%|██████████| 121/121 [04:50<00:00,  2.40s/it]\n",
            "100%|██████████| 18/18 [00:16<00:00,  1.10it/s]\n"
          ]
        },
        {
          "output_type": "stream",
          "name": "stdout",
          "text": [
            "Epoch: 6 | Train Loss: 0.018 | Train Accuracy: 0.595 | Val Loss: 0.018 | Val Accuracy: 0.680\n",
            "Precision: 0.683 | Recall: 0.680 | F1 Score: 0.679\n"
          ]
        },
        {
          "output_type": "stream",
          "name": "stderr",
          "text": [
            "100%|██████████| 121/121 [04:49<00:00,  2.40s/it]\n",
            "100%|██████████| 18/18 [00:16<00:00,  1.12it/s]\n"
          ]
        },
        {
          "output_type": "stream",
          "name": "stdout",
          "text": [
            "Epoch: 7 | Train Loss: 0.018 | Train Accuracy: 0.603 | Val Loss: 0.018 | Val Accuracy: 0.695\n",
            "Precision: 0.696 | Recall: 0.695 | F1 Score: 0.694\n"
          ]
        },
        {
          "output_type": "stream",
          "name": "stderr",
          "text": [
            "100%|██████████| 121/121 [04:49<00:00,  2.40s/it]\n",
            "100%|██████████| 18/18 [00:15<00:00,  1.14it/s]\n"
          ]
        },
        {
          "output_type": "stream",
          "name": "stdout",
          "text": [
            "Epoch: 8 | Train Loss: 0.018 | Train Accuracy: 0.611 | Val Loss: 0.018 | Val Accuracy: 0.701\n",
            "Precision: 0.703 | Recall: 0.701 | F1 Score: 0.700\n"
          ]
        },
        {
          "output_type": "stream",
          "name": "stderr",
          "text": [
            "100%|██████████| 121/121 [04:50<00:00,  2.40s/it]\n",
            "100%|██████████| 18/18 [00:15<00:00,  1.13it/s]\n"
          ]
        },
        {
          "output_type": "stream",
          "name": "stdout",
          "text": [
            "Epoch: 9 | Train Loss: 0.018 | Train Accuracy: 0.618 | Val Loss: 0.018 | Val Accuracy: 0.708\n",
            "Precision: 0.710 | Recall: 0.708 | F1 Score: 0.708\n"
          ]
        },
        {
          "output_type": "stream",
          "name": "stderr",
          "text": [
            "100%|██████████| 121/121 [04:50<00:00,  2.40s/it]\n",
            "100%|██████████| 18/18 [00:16<00:00,  1.10it/s]\n"
          ]
        },
        {
          "output_type": "stream",
          "name": "stdout",
          "text": [
            "Epoch: 10 | Train Loss: 0.017 | Train Accuracy: 0.622 | Val Loss: 0.018 | Val Accuracy: 0.701\n",
            "Precision: 0.701 | Recall: 0.701 | F1 Score: 0.701\n"
          ]
        },
        {
          "output_type": "stream",
          "name": "stderr",
          "text": [
            "100%|██████████| 121/121 [04:51<00:00,  2.41s/it]\n",
            "100%|██████████| 18/18 [00:15<00:00,  1.15it/s]\n"
          ]
        },
        {
          "output_type": "stream",
          "name": "stdout",
          "text": [
            "Epoch: 11 | Train Loss: 0.017 | Train Accuracy: 0.627 | Val Loss: 0.018 | Val Accuracy: 0.698\n",
            "Precision: 0.698 | Recall: 0.698 | F1 Score: 0.698\n"
          ]
        },
        {
          "output_type": "stream",
          "name": "stderr",
          "text": [
            "100%|██████████| 121/121 [04:50<00:00,  2.40s/it]\n",
            "100%|██████████| 18/18 [00:16<00:00,  1.11it/s]\n"
          ]
        },
        {
          "output_type": "stream",
          "name": "stdout",
          "text": [
            "Epoch: 12 | Train Loss: 0.017 | Train Accuracy: 0.635 | Val Loss: 0.018 | Val Accuracy: 0.711\n",
            "Precision: 0.711 | Recall: 0.711 | F1 Score: 0.711\n"
          ]
        },
        {
          "output_type": "stream",
          "name": "stderr",
          "text": [
            "100%|██████████| 121/121 [04:50<00:00,  2.40s/it]\n",
            "100%|██████████| 18/18 [00:15<00:00,  1.14it/s]\n"
          ]
        },
        {
          "output_type": "stream",
          "name": "stdout",
          "text": [
            "Epoch: 13 | Train Loss: 0.017 | Train Accuracy: 0.640 | Val Loss: 0.018 | Val Accuracy: 0.701\n",
            "Precision: 0.701 | Recall: 0.701 | F1 Score: 0.701\n"
          ]
        },
        {
          "output_type": "stream",
          "name": "stderr",
          "text": [
            "100%|██████████| 121/121 [04:50<00:00,  2.40s/it]\n",
            "100%|██████████| 18/18 [00:15<00:00,  1.15it/s]\n"
          ]
        },
        {
          "output_type": "stream",
          "name": "stdout",
          "text": [
            "Epoch: 14 | Train Loss: 0.017 | Train Accuracy: 0.641 | Val Loss: 0.018 | Val Accuracy: 0.701\n",
            "Precision: 0.701 | Recall: 0.701 | F1 Score: 0.701\n"
          ]
        },
        {
          "output_type": "stream",
          "name": "stderr",
          "text": [
            "100%|██████████| 121/121 [04:50<00:00,  2.40s/it]\n",
            "100%|██████████| 18/18 [00:16<00:00,  1.11it/s]\n"
          ]
        },
        {
          "output_type": "stream",
          "name": "stdout",
          "text": [
            "Epoch: 15 | Train Loss: 0.017 | Train Accuracy: 0.646 | Val Loss: 0.018 | Val Accuracy: 0.695\n",
            "Precision: 0.695 | Recall: 0.695 | F1 Score: 0.695\n"
          ]
        },
        {
          "output_type": "stream",
          "name": "stderr",
          "text": [
            "100%|██████████| 121/121 [04:50<00:00,  2.40s/it]\n",
            "100%|██████████| 18/18 [00:15<00:00,  1.15it/s]\n"
          ]
        },
        {
          "output_type": "stream",
          "name": "stdout",
          "text": [
            "Epoch: 16 | Train Loss: 0.017 | Train Accuracy: 0.649 | Val Loss: 0.018 | Val Accuracy: 0.692\n",
            "Precision: 0.693 | Recall: 0.692 | F1 Score: 0.692\n"
          ]
        },
        {
          "output_type": "stream",
          "name": "stderr",
          "text": [
            "100%|██████████| 121/121 [04:49<00:00,  2.40s/it]\n",
            "100%|██████████| 18/18 [00:15<00:00,  1.14it/s]\n"
          ]
        },
        {
          "output_type": "stream",
          "name": "stdout",
          "text": [
            "Epoch: 17 | Train Loss: 0.017 | Train Accuracy: 0.652 | Val Loss: 0.018 | Val Accuracy: 0.692\n",
            "Precision: 0.693 | Recall: 0.692 | F1 Score: 0.692\n"
          ]
        },
        {
          "output_type": "stream",
          "name": "stderr",
          "text": [
            "100%|██████████| 121/121 [04:49<00:00,  2.39s/it]\n",
            "100%|██████████| 18/18 [00:15<00:00,  1.15it/s]\n"
          ]
        },
        {
          "output_type": "stream",
          "name": "stdout",
          "text": [
            "Epoch: 18 | Train Loss: 0.017 | Train Accuracy: 0.653 | Val Loss: 0.018 | Val Accuracy: 0.702\n",
            "Precision: 0.703 | Recall: 0.702 | F1 Score: 0.702\n"
          ]
        },
        {
          "output_type": "stream",
          "name": "stderr",
          "text": [
            " 90%|█████████ | 109/121 [04:22<00:28,  2.41s/it]\n",
            "[W 2024-06-11 07:18:25,703] Trial 16 failed with parameters: {'epochs': 21, 'learning_rate': 5.404840041797893e-05, 'batch_size': 39, 'dropout_prob': 0.520211683966328, 'optimizer_name': 'SGD', 'num_layers': 23, 'scheduler_type': 'ExponentialLR'} because of the following error: KeyboardInterrupt().\n",
            "Traceback (most recent call last):\n",
            "  File \"/usr/local/lib/python3.10/dist-packages/optuna/study/_optimize.py\", line 196, in _run_trial\n",
            "    value_or_values = func(trial)\n",
            "  File \"<ipython-input-17-9719ab8023e9>\", line 198, in objective\n",
            "    model, val_accuracy = model_train(train_data, val_data, epochs, learning_rate, batch_size, dropout_prob, optimizer_name, num_layers, scheduler_type)\n",
            "  File \"<ipython-input-17-9719ab8023e9>\", line 94, in model_train\n",
            "    train_image, train_label = train_image.to(device), train_label.to(device)\n",
            "KeyboardInterrupt\n",
            "[W 2024-06-11 07:18:25,707] Trial 16 failed with value None.\n"
          ]
        },
        {
          "output_type": "error",
          "ename": "KeyboardInterrupt",
          "evalue": "",
          "traceback": [
            "\u001b[0;31m---------------------------------------------------------------------------\u001b[0m",
            "\u001b[0;31mKeyboardInterrupt\u001b[0m                         Traceback (most recent call last)",
            "\u001b[0;32m<ipython-input-17-9719ab8023e9>\u001b[0m in \u001b[0;36m<cell line: 224>\u001b[0;34m()\u001b[0m\n\u001b[1;32m    222\u001b[0m \u001b[0mtest_data\u001b[0m \u001b[0;34m=\u001b[0m \u001b[0mdataset\u001b[0m\u001b[0;34m[\u001b[0m\u001b[0;34m'test'\u001b[0m\u001b[0;34m]\u001b[0m\u001b[0;34m\u001b[0m\u001b[0;34m\u001b[0m\u001b[0m\n\u001b[1;32m    223\u001b[0m \u001b[0;31m# Bayesian Optimizasyon Araması Gerçekleştirme\u001b[0m\u001b[0;34m\u001b[0m\u001b[0;34m\u001b[0m\u001b[0m\n\u001b[0;32m--> 224\u001b[0;31m \u001b[0mbest_model\u001b[0m \u001b[0;34m=\u001b[0m \u001b[0mbayesian_optimization\u001b[0m\u001b[0;34m(\u001b[0m\u001b[0mtrain_data\u001b[0m\u001b[0;34m,\u001b[0m \u001b[0mval_data\u001b[0m\u001b[0;34m,\u001b[0m \u001b[0mtest_data\u001b[0m\u001b[0;34m)\u001b[0m\u001b[0;34m\u001b[0m\u001b[0;34m\u001b[0m\u001b[0m\n\u001b[0m\u001b[1;32m    225\u001b[0m \u001b[0;34m\u001b[0m\u001b[0m\n\u001b[1;32m    226\u001b[0m \u001b[0;31m# En iyi modeli değerlendirme\u001b[0m\u001b[0;34m\u001b[0m\u001b[0;34m\u001b[0m\u001b[0m\n",
            "\u001b[0;32m<ipython-input-17-9719ab8023e9>\u001b[0m in \u001b[0;36mbayesian_optimization\u001b[0;34m(train_data, val_data, test_data, n_trials)\u001b[0m\n\u001b[1;32m    202\u001b[0m     \u001b[0msampler\u001b[0m \u001b[0;34m=\u001b[0m \u001b[0mTPESampler\u001b[0m\u001b[0;34m(\u001b[0m\u001b[0;34m)\u001b[0m\u001b[0;34m\u001b[0m\u001b[0;34m\u001b[0m\u001b[0m\n\u001b[1;32m    203\u001b[0m     \u001b[0mstudy\u001b[0m \u001b[0;34m=\u001b[0m \u001b[0moptuna\u001b[0m\u001b[0;34m.\u001b[0m\u001b[0mcreate_study\u001b[0m\u001b[0;34m(\u001b[0m\u001b[0mdirection\u001b[0m\u001b[0;34m=\u001b[0m\u001b[0;34m'maximize'\u001b[0m\u001b[0;34m,\u001b[0m \u001b[0msampler\u001b[0m\u001b[0;34m=\u001b[0m\u001b[0msampler\u001b[0m\u001b[0;34m)\u001b[0m\u001b[0;34m\u001b[0m\u001b[0;34m\u001b[0m\u001b[0m\n\u001b[0;32m--> 204\u001b[0;31m     \u001b[0mstudy\u001b[0m\u001b[0;34m.\u001b[0m\u001b[0moptimize\u001b[0m\u001b[0;34m(\u001b[0m\u001b[0mobjective\u001b[0m\u001b[0;34m,\u001b[0m \u001b[0mn_trials\u001b[0m\u001b[0;34m=\u001b[0m\u001b[0mn_trials\u001b[0m\u001b[0;34m)\u001b[0m\u001b[0;34m\u001b[0m\u001b[0;34m\u001b[0m\u001b[0m\n\u001b[0m\u001b[1;32m    205\u001b[0m \u001b[0;34m\u001b[0m\u001b[0m\n\u001b[1;32m    206\u001b[0m     \u001b[0mbest_trial\u001b[0m \u001b[0;34m=\u001b[0m \u001b[0mstudy\u001b[0m\u001b[0;34m.\u001b[0m\u001b[0mbest_trial\u001b[0m\u001b[0;34m\u001b[0m\u001b[0;34m\u001b[0m\u001b[0m\n",
            "\u001b[0;32m/usr/local/lib/python3.10/dist-packages/optuna/study/study.py\u001b[0m in \u001b[0;36moptimize\u001b[0;34m(self, func, n_trials, timeout, n_jobs, catch, callbacks, gc_after_trial, show_progress_bar)\u001b[0m\n\u001b[1;32m    449\u001b[0m                 \u001b[0mIf\u001b[0m \u001b[0mnested\u001b[0m \u001b[0minvocation\u001b[0m \u001b[0mof\u001b[0m \u001b[0mthis\u001b[0m \u001b[0mmethod\u001b[0m \u001b[0moccurs\u001b[0m\u001b[0;34m.\u001b[0m\u001b[0;34m\u001b[0m\u001b[0;34m\u001b[0m\u001b[0m\n\u001b[1;32m    450\u001b[0m         \"\"\"\n\u001b[0;32m--> 451\u001b[0;31m         _optimize(\n\u001b[0m\u001b[1;32m    452\u001b[0m             \u001b[0mstudy\u001b[0m\u001b[0;34m=\u001b[0m\u001b[0mself\u001b[0m\u001b[0;34m,\u001b[0m\u001b[0;34m\u001b[0m\u001b[0;34m\u001b[0m\u001b[0m\n\u001b[1;32m    453\u001b[0m             \u001b[0mfunc\u001b[0m\u001b[0;34m=\u001b[0m\u001b[0mfunc\u001b[0m\u001b[0;34m,\u001b[0m\u001b[0;34m\u001b[0m\u001b[0;34m\u001b[0m\u001b[0m\n",
            "\u001b[0;32m/usr/local/lib/python3.10/dist-packages/optuna/study/_optimize.py\u001b[0m in \u001b[0;36m_optimize\u001b[0;34m(study, func, n_trials, timeout, n_jobs, catch, callbacks, gc_after_trial, show_progress_bar)\u001b[0m\n\u001b[1;32m     60\u001b[0m     \u001b[0;32mtry\u001b[0m\u001b[0;34m:\u001b[0m\u001b[0;34m\u001b[0m\u001b[0;34m\u001b[0m\u001b[0m\n\u001b[1;32m     61\u001b[0m         \u001b[0;32mif\u001b[0m \u001b[0mn_jobs\u001b[0m \u001b[0;34m==\u001b[0m \u001b[0;36m1\u001b[0m\u001b[0;34m:\u001b[0m\u001b[0;34m\u001b[0m\u001b[0;34m\u001b[0m\u001b[0m\n\u001b[0;32m---> 62\u001b[0;31m             _optimize_sequential(\n\u001b[0m\u001b[1;32m     63\u001b[0m                 \u001b[0mstudy\u001b[0m\u001b[0;34m,\u001b[0m\u001b[0;34m\u001b[0m\u001b[0;34m\u001b[0m\u001b[0m\n\u001b[1;32m     64\u001b[0m                 \u001b[0mfunc\u001b[0m\u001b[0;34m,\u001b[0m\u001b[0;34m\u001b[0m\u001b[0;34m\u001b[0m\u001b[0m\n",
            "\u001b[0;32m/usr/local/lib/python3.10/dist-packages/optuna/study/_optimize.py\u001b[0m in \u001b[0;36m_optimize_sequential\u001b[0;34m(study, func, n_trials, timeout, catch, callbacks, gc_after_trial, reseed_sampler_rng, time_start, progress_bar)\u001b[0m\n\u001b[1;32m    157\u001b[0m \u001b[0;34m\u001b[0m\u001b[0m\n\u001b[1;32m    158\u001b[0m         \u001b[0;32mtry\u001b[0m\u001b[0;34m:\u001b[0m\u001b[0;34m\u001b[0m\u001b[0;34m\u001b[0m\u001b[0m\n\u001b[0;32m--> 159\u001b[0;31m             \u001b[0mfrozen_trial\u001b[0m \u001b[0;34m=\u001b[0m \u001b[0m_run_trial\u001b[0m\u001b[0;34m(\u001b[0m\u001b[0mstudy\u001b[0m\u001b[0;34m,\u001b[0m \u001b[0mfunc\u001b[0m\u001b[0;34m,\u001b[0m \u001b[0mcatch\u001b[0m\u001b[0;34m)\u001b[0m\u001b[0;34m\u001b[0m\u001b[0;34m\u001b[0m\u001b[0m\n\u001b[0m\u001b[1;32m    160\u001b[0m         \u001b[0;32mfinally\u001b[0m\u001b[0;34m:\u001b[0m\u001b[0;34m\u001b[0m\u001b[0;34m\u001b[0m\u001b[0m\n\u001b[1;32m    161\u001b[0m             \u001b[0;31m# The following line mitigates memory problems that can be occurred in some\u001b[0m\u001b[0;34m\u001b[0m\u001b[0;34m\u001b[0m\u001b[0m\n",
            "\u001b[0;32m/usr/local/lib/python3.10/dist-packages/optuna/study/_optimize.py\u001b[0m in \u001b[0;36m_run_trial\u001b[0;34m(study, func, catch)\u001b[0m\n\u001b[1;32m    245\u001b[0m         \u001b[0;32mand\u001b[0m \u001b[0;32mnot\u001b[0m \u001b[0misinstance\u001b[0m\u001b[0;34m(\u001b[0m\u001b[0mfunc_err\u001b[0m\u001b[0;34m,\u001b[0m \u001b[0mcatch\u001b[0m\u001b[0;34m)\u001b[0m\u001b[0;34m\u001b[0m\u001b[0;34m\u001b[0m\u001b[0m\n\u001b[1;32m    246\u001b[0m     ):\n\u001b[0;32m--> 247\u001b[0;31m         \u001b[0;32mraise\u001b[0m \u001b[0mfunc_err\u001b[0m\u001b[0;34m\u001b[0m\u001b[0;34m\u001b[0m\u001b[0m\n\u001b[0m\u001b[1;32m    248\u001b[0m     \u001b[0;32mreturn\u001b[0m \u001b[0mfrozen_trial\u001b[0m\u001b[0;34m\u001b[0m\u001b[0;34m\u001b[0m\u001b[0m\n\u001b[1;32m    249\u001b[0m \u001b[0;34m\u001b[0m\u001b[0m\n",
            "\u001b[0;32m/usr/local/lib/python3.10/dist-packages/optuna/study/_optimize.py\u001b[0m in \u001b[0;36m_run_trial\u001b[0;34m(study, func, catch)\u001b[0m\n\u001b[1;32m    194\u001b[0m     \u001b[0;32mwith\u001b[0m \u001b[0mget_heartbeat_thread\u001b[0m\u001b[0;34m(\u001b[0m\u001b[0mtrial\u001b[0m\u001b[0;34m.\u001b[0m\u001b[0m_trial_id\u001b[0m\u001b[0;34m,\u001b[0m \u001b[0mstudy\u001b[0m\u001b[0;34m.\u001b[0m\u001b[0m_storage\u001b[0m\u001b[0;34m)\u001b[0m\u001b[0;34m:\u001b[0m\u001b[0;34m\u001b[0m\u001b[0;34m\u001b[0m\u001b[0m\n\u001b[1;32m    195\u001b[0m         \u001b[0;32mtry\u001b[0m\u001b[0;34m:\u001b[0m\u001b[0;34m\u001b[0m\u001b[0;34m\u001b[0m\u001b[0m\n\u001b[0;32m--> 196\u001b[0;31m             \u001b[0mvalue_or_values\u001b[0m \u001b[0;34m=\u001b[0m \u001b[0mfunc\u001b[0m\u001b[0;34m(\u001b[0m\u001b[0mtrial\u001b[0m\u001b[0;34m)\u001b[0m\u001b[0;34m\u001b[0m\u001b[0;34m\u001b[0m\u001b[0m\n\u001b[0m\u001b[1;32m    197\u001b[0m         \u001b[0;32mexcept\u001b[0m \u001b[0mexceptions\u001b[0m\u001b[0;34m.\u001b[0m\u001b[0mTrialPruned\u001b[0m \u001b[0;32mas\u001b[0m \u001b[0me\u001b[0m\u001b[0;34m:\u001b[0m\u001b[0;34m\u001b[0m\u001b[0;34m\u001b[0m\u001b[0m\n\u001b[1;32m    198\u001b[0m             \u001b[0;31m# TODO(mamu): Handle multi-objective cases.\u001b[0m\u001b[0;34m\u001b[0m\u001b[0;34m\u001b[0m\u001b[0m\n",
            "\u001b[0;32m<ipython-input-17-9719ab8023e9>\u001b[0m in \u001b[0;36mobjective\u001b[0;34m(trial)\u001b[0m\n\u001b[1;32m    196\u001b[0m         \u001b[0mscheduler_type\u001b[0m \u001b[0;34m=\u001b[0m \u001b[0mtrial\u001b[0m\u001b[0;34m.\u001b[0m\u001b[0msuggest_categorical\u001b[0m\u001b[0;34m(\u001b[0m\u001b[0;34m'scheduler_type'\u001b[0m\u001b[0;34m,\u001b[0m \u001b[0;34m[\u001b[0m\u001b[0;34m'StepLR'\u001b[0m\u001b[0;34m,\u001b[0m \u001b[0;34m'MultiStepLR'\u001b[0m\u001b[0;34m,\u001b[0m \u001b[0;34m'ExponentialLR'\u001b[0m\u001b[0;34m,\u001b[0m \u001b[0;34m'CosineAnnealingLR'\u001b[0m\u001b[0;34m,\u001b[0m \u001b[0;34m'ReduceLROnPlateau'\u001b[0m\u001b[0;34m]\u001b[0m\u001b[0;34m)\u001b[0m\u001b[0;34m\u001b[0m\u001b[0;34m\u001b[0m\u001b[0m\n\u001b[1;32m    197\u001b[0m \u001b[0;34m\u001b[0m\u001b[0m\n\u001b[0;32m--> 198\u001b[0;31m         \u001b[0mmodel\u001b[0m\u001b[0;34m,\u001b[0m \u001b[0mval_accuracy\u001b[0m \u001b[0;34m=\u001b[0m \u001b[0mmodel_train\u001b[0m\u001b[0;34m(\u001b[0m\u001b[0mtrain_data\u001b[0m\u001b[0;34m,\u001b[0m \u001b[0mval_data\u001b[0m\u001b[0;34m,\u001b[0m \u001b[0mepochs\u001b[0m\u001b[0;34m,\u001b[0m \u001b[0mlearning_rate\u001b[0m\u001b[0;34m,\u001b[0m \u001b[0mbatch_size\u001b[0m\u001b[0;34m,\u001b[0m \u001b[0mdropout_prob\u001b[0m\u001b[0;34m,\u001b[0m \u001b[0moptimizer_name\u001b[0m\u001b[0;34m,\u001b[0m \u001b[0mnum_layers\u001b[0m\u001b[0;34m,\u001b[0m \u001b[0mscheduler_type\u001b[0m\u001b[0;34m)\u001b[0m\u001b[0;34m\u001b[0m\u001b[0;34m\u001b[0m\u001b[0m\n\u001b[0m\u001b[1;32m    199\u001b[0m \u001b[0;34m\u001b[0m\u001b[0m\n\u001b[1;32m    200\u001b[0m         \u001b[0;32mreturn\u001b[0m \u001b[0mval_accuracy\u001b[0m\u001b[0;34m\u001b[0m\u001b[0;34m\u001b[0m\u001b[0m\n",
            "\u001b[0;32m<ipython-input-17-9719ab8023e9>\u001b[0m in \u001b[0;36mmodel_train\u001b[0;34m(train_data, val_data, epochs, learning_rate, bs, dropout_prob, optimizer_name, num_layers, scheduler_type)\u001b[0m\n\u001b[1;32m     92\u001b[0m \u001b[0;34m\u001b[0m\u001b[0m\n\u001b[1;32m     93\u001b[0m         \u001b[0;32mfor\u001b[0m \u001b[0mtrain_image\u001b[0m\u001b[0;34m,\u001b[0m \u001b[0mtrain_label\u001b[0m \u001b[0;32min\u001b[0m \u001b[0mtqdm\u001b[0m\u001b[0;34m(\u001b[0m\u001b[0mtrain_dataloader\u001b[0m\u001b[0;34m)\u001b[0m\u001b[0;34m:\u001b[0m\u001b[0;34m\u001b[0m\u001b[0;34m\u001b[0m\u001b[0m\n\u001b[0;32m---> 94\u001b[0;31m             \u001b[0mtrain_image\u001b[0m\u001b[0;34m,\u001b[0m \u001b[0mtrain_label\u001b[0m \u001b[0;34m=\u001b[0m \u001b[0mtrain_image\u001b[0m\u001b[0;34m.\u001b[0m\u001b[0mto\u001b[0m\u001b[0;34m(\u001b[0m\u001b[0mdevice\u001b[0m\u001b[0;34m)\u001b[0m\u001b[0;34m,\u001b[0m \u001b[0mtrain_label\u001b[0m\u001b[0;34m.\u001b[0m\u001b[0mto\u001b[0m\u001b[0;34m(\u001b[0m\u001b[0mdevice\u001b[0m\u001b[0;34m)\u001b[0m\u001b[0;34m\u001b[0m\u001b[0;34m\u001b[0m\u001b[0m\n\u001b[0m\u001b[1;32m     95\u001b[0m             \u001b[0moutput\u001b[0m \u001b[0;34m=\u001b[0m \u001b[0mmodel\u001b[0m\u001b[0;34m(\u001b[0m\u001b[0mtrain_image\u001b[0m\u001b[0;34m)\u001b[0m\u001b[0;34m\u001b[0m\u001b[0;34m\u001b[0m\u001b[0m\n\u001b[1;32m     96\u001b[0m             \u001b[0mloss\u001b[0m \u001b[0;34m=\u001b[0m \u001b[0mcriterion\u001b[0m\u001b[0;34m(\u001b[0m\u001b[0moutput\u001b[0m\u001b[0;34m,\u001b[0m \u001b[0mtrain_label\u001b[0m\u001b[0;34m)\u001b[0m\u001b[0;34m\u001b[0m\u001b[0;34m\u001b[0m\u001b[0m\n",
            "\u001b[0;31mKeyboardInterrupt\u001b[0m: "
          ]
        }
      ]
    },
    {
      "cell_type": "code",
      "execution_count": null,
      "metadata": {
        "id": "JfSnvS-utT-6"
      },
      "outputs": [],
      "source": [
        "# Şimdi test veri kümesinde doğruluk ve kayıp değerlerini hesaplayalım\n",
        "test_acc = []\n",
        "test_loss = []\n",
        "\n",
        "net.eval()\n",
        "with torch.no_grad():\n",
        "    for X, y in test_dataloader:\n",
        "        X, y = X.to(device), y.to(device, dtype=torch.float)\n",
        "        yHat = net(X)\n",
        "        yHat = yHat.squeeze()\n",
        "        yHat, y = yHat.cpu(), y.cpu()\n",
        "\n",
        "        loss = lossfun(yHat, y)\n",
        "        test_acc.append(torch.mean(((yHat > 0.0) == y).float()) * 100)\n",
        "        test_loss.append(loss.item())\n",
        "\n",
        "# Test veri kümesinde elde edilen sonuçları rapor edelim\n",
        "test_accuracy = np.mean(test_acc)\n",
        "test_mean_loss = np.mean(test_loss)"
      ]
    },
    {
      "cell_type": "code",
      "execution_count": null,
      "metadata": {
        "id": "5388mWspQlv8"
      },
      "outputs": [],
      "source": [
        "fig, ax = plt.subplots(1, 2, figsize=(17, 5))\n",
        "ax[0].plot(trainAcc, 'o-', label='Train')\n",
        "ax[0].plot(devAcc, 'o-', label='Validation')\n",
        "ax[0].legend()\n",
        "ax[0].set_xlabel('Epochs')\n",
        "ax[0].set_ylabel('Accuracy')\n",
        "ax[0].set_title(f' Validation accuracy {np.mean(devAcc[-10:]):.2f}')\n",
        "\n",
        "ax[1].plot(trainLoss, 'o-', label='Train')\n",
        "ax[1].plot(devLoss, 'o-', label='Validation')\n",
        "ax[1].legend()\n",
        "ax[1].set_xlabel('Epochs')\n",
        "ax[1].set_ylabel('Loss')\n",
        "ax[1].set_title(f'Validation loss {np.mean(devLoss[-10:]):.2f}')\n",
        "\n",
        "\n"
      ]
    },
    {
      "cell_type": "code",
      "execution_count": null,
      "metadata": {
        "id": "SrP-IaqBQvip"
      },
      "outputs": [],
      "source": [
        "import torch\n",
        "import numpy as np\n",
        "\n",
        "def evaluateTest(net, test_dataloader, lossfun, device):\n",
        "    net.eval()\n",
        "\n",
        "    test_acc = []\n",
        "    test_loss = []\n",
        "\n",
        "    with torch.no_grad():\n",
        "        for X, y in test_dataloader:\n",
        "            X, y = X.to(device), y.to(device, dtype=torch.float)\n",
        "            yHat = net(X)\n",
        "            yHat = yHat.squeeze()\n",
        "            yHat, y = yHat.cpu(), y.cpu()\n",
        "\n",
        "            loss = lossfun(yHat, y)\n",
        "            test_acc.append(torch.mean(((yHat > 0.0) == y).float()) * 100)\n",
        "            test_loss.append(loss.item())\n",
        "\n",
        "    # Calculate overall test accuracy and loss\n",
        "    test_accuracy = np.mean(test_acc)\n",
        "    test_mean_loss = np.mean(test_loss)\n",
        "\n",
        "    return test_accuracy, test_mean_loss\n",
        "\n",
        "# Kullanım örneği\n",
        "test_accuracy, test_mean_loss = evaluateTest(net, test_dataloader, lossfun, device)\n",
        "print(f\"Test Accuracy: {test_accuracy:.2f}%\")\n",
        "print(f\"Test Mean Loss: {test_mean_loss:.4f}\")\n"
      ]
    },
    {
      "cell_type": "code",
      "source": [
        "net.eval()\n",
        "\n",
        "images = []\n",
        "yTrue, yPred = [], []\n",
        "\n",
        "with torch.no_grad():\n",
        "    for X, y in test_dataloader:\n",
        "        X, y = X.to(device), y.to(device, dtype=torch.float)\n",
        "        yHat = net(X)\n",
        "        yHat = yHat.squeeze()\n",
        "        yHat, y = yHat.cpu(), y.cpu()\n",
        "\n",
        "        images.extend(X)\n",
        "        yTrue.extend(y)\n",
        "        yPred.extend((yHat > .0).float())"
      ],
      "metadata": {
        "id": "wC_kYlCiAPbE"
      },
      "execution_count": null,
      "outputs": []
    },
    {
      "cell_type": "code",
      "execution_count": null,
      "metadata": {
        "id": "lt-icEfLQzC9"
      },
      "outputs": [],
      "source": [
        "yTrue, yPred = [yItem.item() for yItem in yTrue], [yItem.item() for yItem in yPred]\n"
      ]
    },
    {
      "cell_type": "code",
      "execution_count": null,
      "metadata": {
        "id": "-cA-DlalQy_J"
      },
      "outputs": [],
      "source": [
        "def showComparision(images, yTrue, yPred):\n",
        "    cols = 3\n",
        "    rows = int(len(images) / cols)\n",
        "\n",
        "    fig, ax = plt.subplots(rows, cols, figsize = (50, 200))\n",
        "    fig.subplots_adjust(hspace=.5, wspace=.2)  # Adjust spacing between subplots\n",
        "\n",
        "    for idx, image in enumerate(images):\n",
        "        yActual = int(yTrue[idx])\n",
        "        yPredicted = int(yPred[idx])\n",
        "\n",
        "        yActualStr = test_dataset.classes[yActual]\n",
        "        yPredictedStr = test_dataset.classes[yPredicted]\n",
        "\n",
        "        correctPrediction = (yActual == yPredicted)\n",
        "        color = 'green' if correctPrediction else 'red'\n",
        "\n",
        "        i = int(idx / cols)\n",
        "        j = int(idx % cols)\n",
        "\n",
        "        # Normalize pixel values to range [0, 1]\n",
        "        image = image.cpu().view(-1, imgSize, imgSize).permute(1, 2, 0)\n",
        "        image = image.numpy()  # Convert tensor to NumPy array\n",
        "        image = (image - np.min(image)) / (np.max(image) - np.min(image))  # Normalize\n",
        "\n",
        "        # Add padding to the image\n",
        "        pad = 0.1\n",
        "        ax[i][j].imshow(image, aspect='auto')\n",
        "        ax[i][j].set_title(f'Actual: {yActualStr} | Predicted: {yPredictedStr}', fontsize = 40, color = color, y = 1.05)\n",
        "        ax[i][j].axis('off')\n",
        "\n",
        "        border = Rectangle((0, 0), image.shape[1]-1, image.shape[0]-1, linewidth=5, edgecolor=color, facecolor='none')\n",
        "        ax[i][j].add_patch(border)\n"
      ]
    },
    {
      "cell_type": "code",
      "execution_count": null,
      "metadata": {
        "id": "txs2x8R2Q9jy"
      },
      "outputs": [],
      "source": [
        "visualizableCount = 33\n",
        "visualizableImages = images[:visualizableCount]\n",
        "visualizableYTrue = yTrue[:visualizableCount]\n",
        "visualizableYPred = yPred[:visualizableCount]\n",
        "showComparision(visualizableImages, visualizableYTrue, visualizableYPred)"
      ]
    },
    {
      "cell_type": "code",
      "execution_count": null,
      "metadata": {
        "id": "SoX3y9gZQ9g6"
      },
      "outputs": [],
      "source": [
        "cm = confusion_matrix(yTrue, yPred)\n",
        "class_names = test_dataset.classes\n",
        "plt.figure(figsize=(8, 6))\n",
        "sns.heatmap(cm, annot=True, fmt='d', cmap=cmap, cbar=False, xticklabels=class_names, yticklabels=class_names)\n",
        "plt.title('Confusion Matrix')\n",
        "plt.xlabel('Predicted Labels')\n",
        "plt.ylabel('True Labels')\n",
        "plt.show()\n"
      ]
    },
    {
      "cell_type": "code",
      "execution_count": null,
      "metadata": {
        "id": "DBeTFUqtQ9dt"
      },
      "outputs": [],
      "source": [
        "precision = precision_score(yTrue, yPred)\n",
        "recall = recall_score(yTrue, yPred)\n",
        "f1Score = f1_score(yTrue, yPred)"
      ]
    },
    {
      "cell_type": "code",
      "execution_count": null,
      "metadata": {
        "id": "RTx5HIkDRDn2"
      },
      "outputs": [],
      "source": [
        "from sklearn.metrics import classification_report\n",
        "class_names = class_names  # Example class names\n",
        "\n",
        "print(classification_report(yTrue, yPred, target_names=class_names))"
      ]
    },
    {
      "cell_type": "code",
      "execution_count": null,
      "metadata": {
        "id": "GCRVQm2CRDeE"
      },
      "outputs": [],
      "source": [
        "html_code = f\"\"\"\n",
        "    <div style=\"display: flex; flex-direction: row; justify-content: center; align-items: center; gap: 30px\">\n",
        "        <span>\n",
        "            <h3 style=\"line-height: 30px; background-color: #cc3d76; padding: 20px 20px; border-radius: 8px\">Precision {precision:.2f}</h3>\n",
        "        </span>\n",
        "\n",
        "        <span>\n",
        "            <h3 style=\"line-height: 30px; background-color: #b3245d; padding: 20px 20px; border-radius: 8px\">Recall {recall:.2f}</h3>\n",
        "        </span>\n",
        "\n",
        "        <span>\n",
        "            <h3 style=\"line-height: 30px; background-color: #d40457; padding: 20px 20px; border-radius: 8px\">F1-Score {f1Score:.2f}</h3>\n",
        "        </span>\n",
        "    </div>\n",
        "\"\"\"\n",
        "HTML(html_code)"
      ]
    },
    {
      "cell_type": "code",
      "execution_count": null,
      "metadata": {
        "id": "Zo0Mtj7NRDah"
      },
      "outputs": [],
      "source": []
    }
  ],
  "metadata": {
    "colab": {
      "provenance": [],
      "machine_shape": "hm",
      "gpuType": "A100"
    },
    "kernelspec": {
      "display_name": "Python 3",
      "name": "python3"
    },
    "language_info": {
      "name": "python"
    },
    "accelerator": "GPU"
  },
  "nbformat": 4,
  "nbformat_minor": 0
}