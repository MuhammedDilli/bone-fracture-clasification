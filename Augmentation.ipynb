{
  "nbformat": 4,
  "nbformat_minor": 0,
  "metadata": {
    "colab": {
      "provenance": []
    },
    "kernelspec": {
      "name": "python3",
      "display_name": "Python 3"
    },
    "language_info": {
      "name": "python"
    }
  },
  "cells": [
    {
      "cell_type": "code",
      "execution_count": 2,
      "metadata": {
        "colab": {
          "base_uri": "https://localhost:8080/"
        },
        "id": "a5ZA7w6CgDMW",
        "outputId": "c6f75424-5909-4d1f-e47e-9137a69a9aac"
      },
      "outputs": [
        {
          "output_type": "stream",
          "name": "stdout",
          "text": [
            "Mounted at /content/drive\n"
          ]
        }
      ],
      "source": [
        "from google.colab import drive\n",
        "drive.mount('/content/drive')"
      ]
    },
    {
      "cell_type": "code",
      "source": [
        "pip install imgaug opencv-python-headless numpy\n"
      ],
      "metadata": {
        "colab": {
          "base_uri": "https://localhost:8080/"
        },
        "collapsed": true,
        "id": "yRlsxPgUgHGR",
        "outputId": "620562f4-2fe0-40f8-bab6-238dc51cde3a"
      },
      "execution_count": 1,
      "outputs": [
        {
          "output_type": "stream",
          "name": "stdout",
          "text": [
            "Requirement already satisfied: imgaug in /usr/local/lib/python3.10/dist-packages (0.4.0)\n",
            "Requirement already satisfied: opencv-python-headless in /usr/local/lib/python3.10/dist-packages (4.10.0.82)\n",
            "Requirement already satisfied: numpy in /usr/local/lib/python3.10/dist-packages (1.25.2)\n",
            "Requirement already satisfied: six in /usr/local/lib/python3.10/dist-packages (from imgaug) (1.16.0)\n",
            "Requirement already satisfied: scipy in /usr/local/lib/python3.10/dist-packages (from imgaug) (1.11.4)\n",
            "Requirement already satisfied: Pillow in /usr/local/lib/python3.10/dist-packages (from imgaug) (9.4.0)\n",
            "Requirement already satisfied: matplotlib in /usr/local/lib/python3.10/dist-packages (from imgaug) (3.7.1)\n",
            "Requirement already satisfied: scikit-image>=0.14.2 in /usr/local/lib/python3.10/dist-packages (from imgaug) (0.19.3)\n",
            "Requirement already satisfied: opencv-python in /usr/local/lib/python3.10/dist-packages (from imgaug) (4.8.0.76)\n",
            "Requirement already satisfied: imageio in /usr/local/lib/python3.10/dist-packages (from imgaug) (2.31.6)\n",
            "Requirement already satisfied: Shapely in /usr/local/lib/python3.10/dist-packages (from imgaug) (2.0.4)\n",
            "Requirement already satisfied: networkx>=2.2 in /usr/local/lib/python3.10/dist-packages (from scikit-image>=0.14.2->imgaug) (3.3)\n",
            "Requirement already satisfied: tifffile>=2019.7.26 in /usr/local/lib/python3.10/dist-packages (from scikit-image>=0.14.2->imgaug) (2024.5.22)\n",
            "Requirement already satisfied: PyWavelets>=1.1.1 in /usr/local/lib/python3.10/dist-packages (from scikit-image>=0.14.2->imgaug) (1.6.0)\n",
            "Requirement already satisfied: packaging>=20.0 in /usr/local/lib/python3.10/dist-packages (from scikit-image>=0.14.2->imgaug) (24.1)\n",
            "Requirement already satisfied: contourpy>=1.0.1 in /usr/local/lib/python3.10/dist-packages (from matplotlib->imgaug) (1.2.1)\n",
            "Requirement already satisfied: cycler>=0.10 in /usr/local/lib/python3.10/dist-packages (from matplotlib->imgaug) (0.12.1)\n",
            "Requirement already satisfied: fonttools>=4.22.0 in /usr/local/lib/python3.10/dist-packages (from matplotlib->imgaug) (4.53.0)\n",
            "Requirement already satisfied: kiwisolver>=1.0.1 in /usr/local/lib/python3.10/dist-packages (from matplotlib->imgaug) (1.4.5)\n",
            "Requirement already satisfied: pyparsing>=2.3.1 in /usr/local/lib/python3.10/dist-packages (from matplotlib->imgaug) (3.1.2)\n",
            "Requirement already satisfied: python-dateutil>=2.7 in /usr/local/lib/python3.10/dist-packages (from matplotlib->imgaug) (2.8.2)\n"
          ]
        }
      ]
    },
    {
      "cell_type": "code",
      "source": [
        "import os\n",
        "import cv2\n",
        "import numpy as np\n",
        "from imgaug import augmenters as iaa\n",
        "\n",
        "# Veri artırma sekansını tanımlayalım\n",
        "augmentation_sequence = iaa.Sequential([\n",
        "    iaa.Affine(rotate=(-25, 25)),  # Rotasyon\n",
        "    iaa.Multiply((0.8, 1.2)),  # Parlaklık değişimi\n",
        "    iaa.AddToHueAndSaturation((-20, 20)),  # Renk doygunluğu ve tonu değişimi\n",
        "    iaa.Fliplr(0.5),  # Yatay çevirme\n",
        "    iaa.CropAndPad(percent=(-0.2, 0.2)),  # Kırpma ve pedleme\n",
        "    iaa.GaussianBlur(sigma=(0, 3.0)),  # Gaussian bulanıklık\n",
        "    iaa.MultiplyElementwise((0.8, 1.2)),  # Renk jitter\n",
        "    iaa.MixUpAlpha((0.2, 0.8), iaa.BlendAlphaElementwise(iaa.Multiply((0.8, 1.2))))  # MixUp\n",
        "])\n",
        "\n",
        "def mosaic(images):\n",
        "\n",
        "    h, w = images[0].shape[:2]\n",
        "    mosaic_image = np.zeros((2*h, 2*w, 3), dtype=images[0].dtype)\n",
        "    mosaic_image[0:h, 0:w] = images[0]\n",
        "    mosaic_image[0:h, w:2*w] = images[1]\n",
        "    mosaic_image[h:2*h, 0:w] = images[2]\n",
        "    mosaic_image[h:2*h, w:2*w] = images[3]\n",
        "    return mosaic_image\n",
        "\n",
        "def augment_images(input_dir, output_dir, augmentations_per_image=5):\n",
        "    if not os.path.exists(output_dir):\n",
        "        os.makedirs(output_dir)\n",
        "\n",
        "    images = []\n",
        "    for filename in os.listdir(input_dir):\n",
        "        if filename.endswith(('.png', '.jpg', '.jpeg')):\n",
        "            image_path = os.path.join(input_dir, filename)\n",
        "            image = cv2.imread(image_path)\n",
        "            images.append(image)\n",
        "\n",
        "    for idx, image in enumerate(images):\n",
        "        for i in range(augmentations_per_image):\n",
        "            augmented_image = augmentation_sequence(image=image)\n",
        "\n",
        "            # Mosaic işlemi için rastgele 3 diğer görüntü seç\n",
        "            if len(images) >= 4:\n",
        "                selected_images = [image]\n",
        "                while len(selected_images) < 4:\n",
        "                    rand_img = images[np.random.randint(len(images))]\n",
        "                    if rand_img is not image:\n",
        "                        selected_images.append(rand_img)\n",
        "                mosaic_image = mosaic(selected_images)\n",
        "                augmented_image = augmentation_sequence(image=mosaic_image)\n",
        "\n",
        "            output_filename = f\"image_{idx}_{i}.png\"\n",
        "            output_path = os.path.join(output_dir, output_filename)\n",
        "            cv2.imwrite(output_path, augmented_image)\n",
        "\n",
        "# Girdi ve çıktı klasörlerini tanımlayalım\n",
        "input_directory = '/content/drive/MyDrive/FracatlasORJ2/train/Fractured'\n",
        "output_directory = '/content/drive/MyDrive/AUGMNT'\n",
        "\n",
        "# Veri artırma işlemini gerçekleştirelim\n",
        "augment_images(input_directory, output_directory)\n"
      ],
      "metadata": {
        "id": "LZ6doElCgHDo"
      },
      "execution_count": null,
      "outputs": []
    }
  ]
}