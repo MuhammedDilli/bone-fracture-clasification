{
  "cells": [
    {
      "cell_type": "code",
      "execution_count": null,
      "metadata": {
        "colab": {
          "base_uri": "https://localhost:8080/"
        },
        "id": "XREKuyqrjY-s",
        "outputId": "89d95992-c7e4-4ff1-e548-b04d897acad0"
      },
      "outputs": [
        {
          "output_type": "stream",
          "name": "stdout",
          "text": [
            "Mounted at /content/drive\n"
          ]
        }
      ],
      "source": [
        "from google.colab import drive\n",
        "drive.mount('/content/drive')"
      ]
    },
    {
      "cell_type": "code",
      "execution_count": null,
      "metadata": {
        "id": "lkqnDFSdbMhi"
      },
      "outputs": [],
      "source": [
        "import os\n",
        "import warnings\n",
        "from IPython.display import HTML\n",
        "\n",
        "import numpy as np\n",
        "import pandas as pd\n",
        "import matplotlib.pyplot as plt\n",
        "from matplotlib.colors import LinearSegmentedColormap\n",
        "from matplotlib.patches import Rectangle\n",
        "import seaborn as sns\n",
        "import shutil\n",
        "\n",
        "\n",
        "import torch\n",
        "import torch.nn as nn\n",
        "import torch.nn.functional as F\n",
        "import torchvision\n",
        "import torchvision.transforms as transforms\n",
        "from torch.utils.data import DataLoader, TensorDataset, default_collate, Dataset\n",
        "\n",
        "from sklearn.model_selection import train_test_split\n",
        "from sklearn.metrics import confusion_matrix, precision_score, recall_score, f1_score\n",
        "\n",
        "from PIL import Image, ImageFile\n",
        "\n",
        "from tqdm.auto import tqdm"
      ]
    },
    {
      "cell_type": "code",
      "execution_count": null,
      "metadata": {
        "id": "Gneb40VzjbAs"
      },
      "outputs": [],
      "source": []
    },
    {
      "cell_type": "code",
      "execution_count": null,
      "metadata": {
        "id": "yVllC-zvja-C"
      },
      "outputs": [],
      "source": [
        "ImageFile.LOAD_TRUNCATED_IMAGES = True\n",
        "color_list = ['#faa5c7', '#eb679c', '#cc3d76', '#b3245d', '#d40457', '#8f1042', '#6e042e']\n",
        "color_palette = sns.color_palette(color_list)\n",
        "sns.set_palette(color_palette)\n",
        "\n",
        "# cmap = colors.ListedColormap(color_palette)\n",
        "cmap = LinearSegmentedColormap.from_list('custom_palette', color_list, N=256)\n",
        "\n",
        "warnings.filterwarnings(\"ignore\")"
      ]
    },
    {
      "cell_type": "code",
      "execution_count": null,
      "metadata": {
        "colab": {
          "base_uri": "https://localhost:8080/"
        },
        "id": "CQM9Opt8ja7O",
        "outputId": "4a7f6176-37b9-4e90-9e33-acd6982f1131"
      },
      "outputs": [
        {
          "output_type": "execute_result",
          "data": {
            "text/plain": [
              "device(type='cuda', index=0)"
            ]
          },
          "metadata": {},
          "execution_count": 4
        }
      ],
      "source": [
        "device = torch.device('cuda:0' if torch.cuda.is_available() else 'cpu')\n",
        "device"
      ]
    },
    {
      "cell_type": "code",
      "execution_count": null,
      "metadata": {
        "colab": {
          "base_uri": "https://localhost:8080/",
          "height": 35
        },
        "id": "4Wb7Et9Dja4P",
        "outputId": "83d7d276-d510-4bd3-bfd2-b88aa8b23b6a"
      },
      "outputs": [
        {
          "output_type": "execute_result",
          "data": {
            "text/plain": [
              "'/content/drive/MyDrive/You2_Working_Directory0/dataset/Bone_Fracture_Binary_Classification/val'"
            ],
            "application/vnd.google.colaboratory.intrinsic+json": {
              "type": "string"
            }
          },
          "metadata": {},
          "execution_count": 6
        }
      ],
      "source": [
        "from google.colab import drive\n",
        "import os\n",
        "import shutil\n",
        "\n",
        "# Google Drive'daki giriş ve çalışma dizinleri\n",
        "input_directory = '/content/drive/MyDrive/FracatlasORJ2'\n",
        "output_directory = '/content/drive/MyDrive/You2_Working_Directory0'\n",
        "\n",
        "# Dataset dizini ve alt dizinler\n",
        "dataset_directory = f'{output_directory}/dataset'\n",
        "output_train_directory = f'{dataset_directory}/Bone_Fracture_Binary_Classification/test'\n",
        "output_dev_directory = f'{dataset_directory}/Bone_Fracture_Binary_Classification/train'\n",
        "output_test_directory = f'{dataset_directory}/Bone_Fracture_Binary_Classification/val'\n",
        "\n",
        "# Dizinleri oluşturma\n",
        "os.makedirs(output_train_directory, exist_ok=True)\n",
        "os.makedirs(output_dev_directory, exist_ok=True)\n",
        "os.makedirs(output_test_directory, exist_ok=True)\n",
        "\n",
        "# Verileri kopyalama\n",
        "shutil.copytree(f'{input_directory}/test', output_train_directory, dirs_exist_ok=True)\n",
        "shutil.copytree(f'{input_directory}/train', output_dev_directory, dirs_exist_ok=True)\n",
        "shutil.copytree(f'{input_directory}/val', output_test_directory, dirs_exist_ok=True)\n"
      ]
    },
    {
      "cell_type": "code",
      "execution_count": null,
      "metadata": {
        "id": "QC3lOEL4nYkr"
      },
      "outputs": [],
      "source": [
        "# Iterate through subdirectories\n",
        "def removeCorruptFiles(directory_path):\n",
        "  for item in os.listdir(directory_path):\n",
        "    item_path = os.path.join(directory_path, item)\n",
        "\n",
        "    if os.path.isdir(item_path):\n",
        "      removeCorruptFiles(item_path)\n",
        "    else:\n",
        "      try:\n",
        "        Image.open(item_path).verify()\n",
        "      except (IOError, SyntaxError):\n",
        "        os.remove(item_path)\n",
        "        print(f'Removed corrupted image: {item}')\n",
        "\n",
        "  # print(\"Corrupted image removal complete.\")"
      ]
    },
    {
      "cell_type": "code",
      "execution_count": null,
      "metadata": {
        "id": "1_vm16sxneLd"
      },
      "outputs": [],
      "source": [
        "def removeEmptySubdirectories(directory):\n",
        "    # Iterate over each entry in the directory\n",
        "    for entry in os.listdir(directory):\n",
        "        # Create full path\n",
        "        full_path = os.path.join(directory, entry)\n",
        "\n",
        "        # If entry is a directory, recursively remove empty subdirectories\n",
        "        if os.path.isdir(full_path):\n",
        "            removeEmptySubdirectories(full_path)\n",
        "\n",
        "            # Check if directory is empty after removal\n",
        "            if not os.listdir(full_path):\n",
        "                # Remove the directory if it's empty\n",
        "                os.rmdir(full_path)\n",
        "                print(f\"Removed empty directory: {full_path}\")"
      ]
    },
    {
      "cell_type": "code",
      "execution_count": null,
      "metadata": {
        "id": "COipT1o2neH9"
      },
      "outputs": [],
      "source": [
        "def copyDatasetIntoWorkingDir(source_directory, destination_directory):\n",
        "    # Remove the destination directory if it already exists\n",
        "    if os.path.exists(destination_directory):\n",
        "        shutil.rmtree(destination_directory)\n",
        "\n",
        "\n",
        "    shutil.copytree(source_directory, destination_directory)"
      ]
    },
    {
      "cell_type": "code",
      "execution_count": null,
      "metadata": {
        "id": "DmDSSYTZjatl"
      },
      "outputs": [],
      "source": [
        "IMAGE_SIZE = 224\n",
        "imgSize = IMAGE_SIZE"
      ]
    },
    {
      "cell_type": "code",
      "execution_count": null,
      "metadata": {
        "id": "anVMfhJGNHD9"
      },
      "outputs": [],
      "source": [
        "import torchvision\n",
        "from torchvision import transforms\n",
        "\n",
        "# Dönüşüm (transforms) tanımlamaları\n",
        "imgSize = 224  # Örnek bir görüntü boyutu\n",
        "\n",
        "train_transform = transforms.Compose([\n",
        "    transforms.Resize((imgSize, imgSize)),\n",
        "    transforms.ToTensor(),\n",
        "    transforms.Normalize(\n",
        "        mean=[0.5, 0.5, 0.5],\n",
        "        std=[0.5, 0.5, 0.5]\n",
        "    )\n",
        "])\n",
        "\n",
        "dev_transform = transforms.Compose([\n",
        "    transforms.Resize((imgSize, imgSize)),\n",
        "    transforms.ToTensor(),\n",
        "    transforms.Normalize(\n",
        "        mean=[0.5, 0.5, 0.5],\n",
        "        std=[0.5, 0.5, 0.5]\n",
        "    )\n",
        "])\n",
        "\n",
        "test_transform = transforms.Compose([\n",
        "    transforms.Resize((imgSize, imgSize)),\n",
        "    transforms.ToTensor(),\n",
        "    transforms.Normalize(\n",
        "        mean=[0.5, 0.5, 0.5],\n",
        "        std=[0.5, 0.5, 0.5]\n",
        "    )\n",
        "])\n",
        "\n",
        "# ImageFolder veri kümesi oluşturma\n",
        "train_dataset = torchvision.datasets.ImageFolder(root=output_train_directory, transform=train_transform)\n",
        "dev_dataset = torchvision.datasets.ImageFolder(root=output_dev_directory, transform=dev_transform)\n",
        "test_dataset = torchvision.datasets.ImageFolder(root=output_test_directory, transform=test_transform)\n"
      ]
    },
    {
      "cell_type": "code",
      "execution_count": null,
      "metadata": {
        "id": "FXELYVUQwNIe"
      },
      "outputs": [],
      "source": [
        "def my_collate(batch):\n",
        "    \"Puts each data field into a tensor with outer dimension batch size\"\n",
        "    batch = list(filter(lambda x:x is not None, batch))\n",
        "    return default_collate(batch)"
      ]
    },
    {
      "cell_type": "code",
      "execution_count": null,
      "metadata": {
        "id": "YQWBp3O3OeDi"
      },
      "outputs": [],
      "source": [
        "train_dataloader = DataLoader(train_dataset, batch_size = batchsize, shuffle = True, collate_fn = my_collate)\n",
        "dev_dataloader = DataLoader(dev_dataset, batch_size = batchsize, collate_fn = my_collate)\n",
        "test_dataloader = DataLoader(test_dataset, batch_size = batchsize, collate_fn = my_collate)"
      ]
    },
    {
      "cell_type": "code",
      "execution_count": null,
      "metadata": {
        "id": "iftzWTPlmEi_"
      },
      "outputs": [],
      "source": [
        "\n",
        "def makeTheNet(k = 3, s = 1, p = 2):\n",
        "    class vİT(nn.Module):\n",
        "        def __init__(self):\n",
        "            super().__init__()\n",
        "\n",
        "            imgSize = IMAGE_SIZE\n",
        "\n",
        "            self.conv1 = nn.Conv2d(3, 128, k, s, p)\n",
        "            self.bnorm1 = nn.BatchNorm2d(128)\n",
        "\n",
        "            imgSize = ((imgSize - k + 2*p) // s) + 1\n",
        "            imgSize = imgSize // k\n",
        "\n",
        "            self.conv2 = nn.Conv2d(128, 256, k, s, p)\n",
        "            self.bnorm2 = nn.BatchNorm2d(256)\n",
        "\n",
        "            imgSize = ((imgSize - k + 2*p) // s) + 1\n",
        "            imgSize = imgSize // k\n",
        "\n",
        "            self.conv3 = nn.Conv2d(256, 256, k, s, p)\n",
        "            self.bnorm3 = nn.BatchNorm2d(256)\n",
        "\n",
        "            imgSize = ((imgSize - k + 2*p) // s) + 1\n",
        "            imgSize = imgSize // k\n",
        "\n",
        "            self.fc1 = nn.Linear(imgSize * imgSize * 256, 256)\n",
        "            self.fc2 = nn.Linear(256, 256)\n",
        "            self.fc3 = nn.Linear(256, 256)\n",
        "            self.fc4 = nn.Linear(256, 256)\n",
        "            self.output = nn.Linear(256, 1)\n",
        "\n",
        "        def forward(self, x):\n",
        "            x = F.max_pool2d( self.conv1(x), k)\n",
        "            x = F.leaky_relu( self.bnorm1(x) )\n",
        "\n",
        "            x = F.max_pool2d( self.conv2(x), k)\n",
        "            x = F.leaky_relu( self.bnorm2(x) )\n",
        "\n",
        "            x = F.max_pool2d( self.conv3(x), k)\n",
        "            x = F.leaky_relu( self.bnorm3(x) )\n",
        "\n",
        "            nUnits = x.shape.numel()/x.shape[0]\n",
        "            x = x.view(-1,int(nUnits))\n",
        "\n",
        "            x = F.leaky_relu( self.fc1(x) )\n",
        "            x = F.dropout2d(x, .5)\n",
        "\n",
        "            x = F.leaky_relu( self.fc2(x) )\n",
        "            x = F.dropout2d(x, .5)\n",
        "\n",
        "            x = F.leaky_relu( self.fc3(x) )\n",
        "            x = F.dropout2d(x, .5)\n",
        "\n",
        "            x = F.leaky_relu( self.fc4(x) )\n",
        "            x = F.dropout2d(x, .5)\n",
        "\n",
        "            return self.output(x)\n",
        "\n",
        "    net = torchvision.models.vit_b_16(weights = 'DEFAULT')\n",
        "\n",
        "    for p in net.parameters():\n",
        "      p.requires_grad = False\n",
        "\n",
        "    num_features = net.heads.head.in_features  # Get the number of input features to the last layer\n",
        "    net.heads.head = nn.Linear(num_features, 1)\n",
        "    lossfun = nn.BCEWithLogitsLoss()\n",
        "\n",
        "    optimizer = torch.optim.Adam(net.parameters(), lr = .001)\n",
        "\n",
        "    return net, lossfun, optimizer"
      ]
    },
    {
      "cell_type": "code",
      "execution_count": null,
      "metadata": {
        "colab": {
          "base_uri": "https://localhost:8080/"
        },
        "id": "y9gPJpIJmEgC",
        "outputId": "7e4b34ac-1206-4326-9f2a-2a6405fd55f4"
      },
      "outputs": [
        {
          "output_type": "stream",
          "name": "stderr",
          "text": [
            "Downloading: \"https://download.pytorch.org/models/vit_b_16-c867db91.pth\" to /root/.cache/torch/hub/checkpoints/vit_b_16-c867db91.pth\n",
            "100%|██████████| 330M/330M [00:03<00:00, 106MB/s]\n"
          ]
        },
        {
          "output_type": "execute_result",
          "data": {
            "text/plain": [
              "tensor(0.6776, device='cuda:0',\n",
              "       grad_fn=<BinaryCrossEntropyWithLogitsBackward0>)"
            ]
          },
          "metadata": {},
          "execution_count": 16
        }
      ],
      "source": [
        "net, lossfun, optimizer = makeTheNet()\n",
        "net.to(device)\n",
        "X, y = X.to(device), y.to(device, dtype = torch.float)\n",
        "yHat = net(X)\n",
        "yHat = yHat.squeeze()\n",
        "lossfun(yHat, y)"
      ]
    },
    {
      "cell_type": "code",
      "source": [],
      "metadata": {
        "id": "-2hOHMiQz7I0"
      },
      "execution_count": null,
      "outputs": []
    },
    {
      "cell_type": "code",
      "source": [
        "import numpy as np\n",
        "import torch\n",
        "import cv2\n",
        "import torch.nn as nn\n",
        "from transformers import ViTModel, ViTConfig\n",
        "from torchvision import transforms\n",
        "from torch.optim import Adam, SGD\n",
        "from torch.utils.data import DataLoader\n",
        "from torch.optim.lr_scheduler import ReduceLROnPlateau\n",
        "from tqdm import tqdm\n",
        "import matplotlib.pyplot as plt\n",
        "from sklearn.metrics import precision_score, recall_score, f1_score, confusion_matrix, ConfusionMatrixDisplay\n",
        "import torch.optim as optim\n",
        "from itertools import product\n",
        "\n",
        "def function2TrainModel(train_dataloader,dev_dataloader,test_dataloader,device,epochs,learning_rate,bs,dropout_prob,optimizer_name,num_layers,scheduler_type):\n",
        "    use_cuda = torch.cuda.is_available()\n",
        "    device = torch.device(\"cuda\" if use_cuda else \"cpu\")\n",
        "\n",
        "    model = ViT().to(device)\n",
        "\n",
        "    criterion = nn.CrossEntropyLoss().to(device)\n",
        "\n",
        "    if optimizer_name == 'Adam':\n",
        "        optimizer = optim.Adam(model.parameters(), lr=learning_rate, weight_decay=1e-4)\n",
        "    elif optimizer_name == 'SGD':\n",
        "        optimizer = optim.SGD(model.parameters(), lr=learning_rate, momentum=0.9, weight_decay=1e-4)\n",
        "\n",
        "    scheduler = ReduceLROnPlateau(optimizer, mode='min', factor=0.1, patience=5, verbose=True)\n",
        "\n",
        "\n",
        "    train_dataset = ImageDataset(train_data)\n",
        "    val_dataset = ImageDataset(val_data)\n",
        "    train_dataloader = DataLoader(train_dataset, num_workers=1, batch_size=bs, shuffle=True)\n",
        "    val_dataloader = DataLoader(val_dataset, num_workers=1, batch_size=bs, shuffle=False)\n",
        "\n",
        "    train_losses, val_losses = [], []\n",
        "    train_accuracies, val_accuracies = [], []\n",
        "    val_precisions, val_recalls, val_f1s = [], [], []\n",
        "\n",
        "    best_val_loss = float('inf')\n",
        "    best_val_accuracy = 0.0\n",
        "    patience_counter = 0\n",
        "\n",
        "    for epoch in range(epochs):\n",
        "\n",
        "        total_acc_train = 0\n",
        "        total_loss_train = 0.0\n",
        "        model.train()\n",
        "\n",
        "        for train_image, train_label in tqdm(train_dataloader):\n",
        "            train_image, train_label = train_image.to(device), train_label.to(device)\n",
        "            output = model(train_image)\n",
        "            loss = criterion(output, train_label)\n",
        "            acc = (output.argmax(dim=1) == train_label).sum().item()\n",
        "            total_acc_train += acc\n",
        "            total_loss_train += loss.item()\n",
        "            optimizer.zero_grad()\n",
        "            loss.backward()\n",
        "            optimizer.step()\n",
        "\n",
        "        avg_loss_train = total_loss_train / len(train_dataset)\n",
        "        avg_acc_train = total_acc_train / len(train_dataset)\n",
        "\n",
        "\n",
        "        total_acc_val = 0\n",
        "        total_loss_val = 0.0\n",
        "        all_preds = []\n",
        "        all_labels = []\n",
        "        model.eval()\n",
        "\n",
        "        with torch.no_grad():\n",
        "            for val_image, val_label in tqdm(val_dataloader):\n",
        "                val_image, val_label = val_image.to(device), val_label.to(device)\n",
        "                output = model(val_image)\n",
        "                loss = criterion(output, val_label)\n",
        "                acc = (output.argmax(dim=1) == val_label).sum().item()\n",
        "                total_acc_val += acc\n",
        "                total_loss_val += loss.item()\n",
        "\n",
        "                all_preds.extend(output.argmax(dim=1).cpu().numpy())\n",
        "                all_labels.extend(val_label.cpu().numpy())\n",
        "\n",
        "        avg_loss_val = total_loss_val / len(val_dataset)\n",
        "        avg_acc_val = total_acc_val / len(val_dataset)\n",
        "\n",
        "        train_losses.append(avg_loss_train)\n",
        "        val_losses.append(avg_loss_val)\n",
        "        train_accuracies.append(avg_acc_train)\n",
        "        val_accuracies.append(avg_acc_val)\n",
        "\n",
        "        precision = precision_score(all_labels, all_preds, average='weighted')\n",
        "        recall = recall_score(all_labels, all_preds, average='weighted')\n",
        "        f1 = f1_score(all_labels, all_preds, average='weighted')\n",
        "\n",
        "        val_precisions.append(precision)\n",
        "        val_recalls.append(recall)\n",
        "        val_f1s.append(f1)\n",
        "\n",
        "        print(f'Epoch: {epoch + 1} | Train Loss: {avg_loss_train:.3f} | Train Accuracy: {avg_acc_train:.3f} | Val Loss: {avg_loss_val:.3f} | Val Accuracy: {avg_acc_val:.3f}')\n",
        "        print(f'Precision: {precision:.3f} | Recall: {recall:.3f} | F1 Score: {f1:.3f}')\n",
        "\n",
        "        scheduler.step(avg_loss_val)\n",
        "\n",
        "\n",
        "\n",
        "\n",
        "    return model, best_val_accuracy\n",
        "\n",
        "\n",
        "def evaluate_model(model, test_data):\n",
        "    use_cuda = torch.cuda.is_available()\n",
        "    device = torch.device(\"cuda\" if use_cuda else \"cpu\")\n",
        "    test_dataset = ImageDataset(test_data)\n",
        "    test_dataloader = DataLoader(test_dataset, num_workers=1, batch_size=32, shuffle=False)\n",
        "\n",
        "    model.eval()\n",
        "    total_acc_test = 0\n",
        "    total_loss_test = 0.0\n",
        "    all_preds = []\n",
        "    all_labels = []\n",
        "    criterion = nn.CrossEntropyLoss().to(device)\n",
        "\n",
        "    with torch.no_grad():\n",
        "        for test_image, test_label in tqdm(test_dataloader):\n",
        "            test_image, test_label = test_image.to(device), test_label.to(device)\n",
        "            output = model(test_image)\n",
        "            loss = criterion(output, test_label)\n",
        "            acc = (output.argmax(dim=1) == test_label).sum().item()\n",
        "            total_acc_test += acc\n",
        "            total_loss_test += loss.item()\n",
        "\n",
        "            all_preds.extend(output.argmax(dim=1).cpu().numpy())\n",
        "            all_labels.extend(test_label.cpu().numpy())\n",
        "\n",
        "    avg_loss_test = total_loss_test / len(test_dataset)\n",
        "    avg_acc_test = total_acc_test / len(test_dataset)\n",
        "\n",
        "    precision = precision_score(all_labels,  all_preds, average='weighted')\n",
        "    recall = recall_score(all_labels, all_preds, average='weighted')\n",
        "    f1 = f1_score(all_labels, all_preds, average='weighted')\n",
        "\n",
        "    print(f'Test Loss: {avg_loss_test:.3f} | Test Accuracy: {avg_acc_test:.3f}')\n",
        "    print(f'Test Precision: {precision:.3f} | Test Recall: {recall:.3f} | Test F1 Score: {f1:.3f}')\n",
        "\n",
        "    return avg_acc_test\n",
        "\n",
        "# Grid Araması\n",
        "def grid_search(train_data, val_data, test_data, epochs_range, learning_rates, batch_sizes, dropout_probs, optimizers):\n",
        "    best_model = None\n",
        "    best_accuracy = 0\n",
        "\n",
        "    for (epochs, lr, bs, dp, optimizer) in product(epochs_range, learning_rates, batch_sizes, dropout_probs, optimizers):\n",
        "        print(f\"Training model with epochs={epochs}, lr={lr}, batch_size={bs}, dropout_prob={dp}, optimizer={optimizer.__name__}\")\n",
        "\n",
        "        try:\n",
        "            model, val_accuracy = model_train(train_data, val_data, epochs, lr, bs, dp, optimizer.__name__)\n",
        "        except Exception as e:\n",
        "            print(f\"Training failed for epochs={epochs}, lr={lr}, batch_size={bs}, dropout_prob={dp}, optimizer={optimizer.__name__}\")\n",
        "            print(f\"Error: {e}\")\n",
        "            continue\n",
        "\n",
        "        test_accuracy = evaluate_model(model, test_data)\n",
        "        print(f\"Validation Accuracy: {val_accuracy:.3f} | Test Accuracy: {test_accuracy:.3f}\")\n",
        "\n",
        "        if val_accuracy > best_accuracy:\n",
        "            best_accuracy = val_accuracy\n",
        "            best_model = model\n",
        "\n",
        "    return best_model, best_accuracy\n",
        "\n",
        "\n",
        "train_data = dataset['train']\n",
        "val_data = dataset['validation']\n",
        "test_data = dataset['test']\n",
        "\n",
        "\n",
        "EPOCHS_RANGE = [30]\n",
        "LEARNING_RATES = [1e-4]\n",
        "BATCH_SIZES = [64, 128]\n",
        "DROPOUT_PROBS = [0.1,0.4,0.7]\n",
        "OPTIMIZERS = [optim.Adam ,optim.SGD]\n",
        "\n",
        "best_model, best_accuracy = grid_search(train_data, val_data, test_data, EPOCHS_RANGE, LEARNING_RATES, BATCH_SIZES, DROPOUT_PROBS, OPTIMIZERS)\n",
        "print(f\"Best validation accuracy: {best_accuracy}\")"
      ],
      "metadata": {
        "colab": {
          "base_uri": "https://localhost:8080/"
        },
        "id": "KuoTi1mgfu6A",
        "outputId": "206519a5-87c6-43c7-bdf1-bdfb69a1a07b"
      },
      "execution_count": null,
      "outputs": [
        {
          "metadata": {
            "tags": null
          },
          "name": "stdout",
          "output_type": "stream",
          "text": [
            "Training model with epochs=30, lr=0.0001, batch_size=64, dropout_prob=0.1, optimizer=Adam\n"
          ]
        },
        {
          "metadata": {
            "tags": null
          },
          "name": "stderr",
          "output_type": "stream",
          "text": [
            "Some weights of the model checkpoint at google/vit-base-patch16-224-in21k were not used when initializing ViTModel: ['pooler.dense.bias', 'pooler.dense.weight']\n",
            "- This IS expected if you are initializing ViTModel from the checkpoint of a model trained on another task or with another architecture (e.g. initializing a BertForSequenceClassification model from a BertForPreTraining model).\n",
            "- This IS NOT expected if you are initializing ViTModel from the checkpoint of a model that you expect to be exactly identical (initializing a BertForSequenceClassification model from a BertForSequenceClassification model).\n",
            "100%|██████████| 74/74 [03:27<00:00,  2.80s/it]\n",
            "100%|██████████| 11/11 [00:13<00:00,  1.24s/it]\n"
          ]
        },
        {
          "metadata": {
            "tags": null
          },
          "name": "stdout",
          "output_type": "stream",
          "text": [
            "Epoch: 1 | Train Loss: 0.006 | Train Accuracy: 0.849 | Val Loss: 0.011 | Val Accuracy: 0.754\n",
            "Precision: 0.807 | Recall: 0.754 | F1 Score: 0.743\n"
          ]
        },
        {
          "metadata": {
            "tags": null
          },
          "name": "stderr",
          "output_type": "stream",
          "text": [
            "100%|██████████| 74/74 [03:08<00:00,  2.55s/it]\n",
            "100%|██████████| 11/11 [00:11<00:00,  1.06s/it]\n"
          ]
        },
        {
          "metadata": {
            "tags": null
          },
          "name": "stdout",
          "output_type": "stream",
          "text": [
            "Epoch: 2 | Train Loss: 0.001 | Train Accuracy: 0.975 | Val Loss: 0.021 | Val Accuracy: 0.646\n",
            "Precision: 0.783 | Recall: 0.646 | F1 Score: 0.597\n"
          ]
        },
        {
          "metadata": {
            "tags": null
          },
          "name": "stderr",
          "output_type": "stream",
          "text": [
            "100%|██████████| 74/74 [03:10<00:00,  2.57s/it]\n",
            "100%|██████████| 11/11 [00:12<00:00,  1.12s/it]\n"
          ]
        },
        {
          "metadata": {
            "tags": null
          },
          "name": "stdout",
          "output_type": "stream",
          "text": [
            "Epoch: 3 | Train Loss: 0.001 | Train Accuracy: 0.982 | Val Loss: 0.020 | Val Accuracy: 0.618\n",
            "Precision: 0.777 | Recall: 0.618 | F1 Score: 0.553\n"
          ]
        },
        {
          "metadata": {
            "tags": null
          },
          "name": "stderr",
          "output_type": "stream",
          "text": [
            "100%|██████████| 74/74 [03:08<00:00,  2.55s/it]\n",
            "100%|██████████| 11/11 [00:12<00:00,  1.10s/it]\n"
          ]
        },
        {
          "metadata": {
            "tags": null
          },
          "name": "stdout",
          "output_type": "stream",
          "text": [
            "Epoch: 4 | Train Loss: 0.001 | Train Accuracy: 0.991 | Val Loss: 0.020 | Val Accuracy: 0.665\n",
            "Precision: 0.795 | Recall: 0.665 | F1 Score: 0.624\n"
          ]
        },
        {
          "metadata": {
            "tags": null
          },
          "name": "stderr",
          "output_type": "stream",
          "text": [
            "100%|██████████| 74/74 [03:03<00:00,  2.48s/it]\n",
            "100%|██████████| 11/11 [00:12<00:00,  1.10s/it]\n"
          ]
        },
        {
          "metadata": {
            "tags": null
          },
          "name": "stdout",
          "output_type": "stream",
          "text": [
            "Epoch: 5 | Train Loss: 0.000 | Train Accuracy: 0.993 | Val Loss: 0.022 | Val Accuracy: 0.632\n",
            "Precision: 0.768 | Recall: 0.632 | F1 Score: 0.579\n"
          ]
        },
        {
          "metadata": {
            "tags": null
          },
          "name": "stderr",
          "output_type": "stream",
          "text": [
            "100%|██████████| 74/74 [03:00<00:00,  2.44s/it]\n",
            "100%|██████████| 11/11 [00:12<00:00,  1.11s/it]\n"
          ]
        },
        {
          "metadata": {
            "tags": null
          },
          "name": "stdout",
          "output_type": "stream",
          "text": [
            "Epoch: 6 | Train Loss: 0.001 | Train Accuracy: 0.988 | Val Loss: 0.018 | Val Accuracy: 0.685\n",
            "Precision: 0.796 | Recall: 0.685 | F1 Score: 0.652\n"
          ]
        },
        {
          "metadata": {
            "tags": null
          },
          "name": "stderr",
          "output_type": "stream",
          "text": [
            "100%|██████████| 74/74 [03:03<00:00,  2.48s/it]\n",
            "100%|██████████| 11/11 [00:14<00:00,  1.29s/it]\n"
          ]
        },
        {
          "metadata": {
            "tags": null
          },
          "name": "stdout",
          "output_type": "stream",
          "text": [
            "Epoch: 7 | Train Loss: 0.000 | Train Accuracy: 0.999 | Val Loss: 0.020 | Val Accuracy: 0.702\n",
            "Precision: 0.774 | Recall: 0.702 | F1 Score: 0.682\n"
          ]
        },
        {
          "metadata": {
            "tags": null
          },
          "name": "stderr",
          "output_type": "stream",
          "text": [
            "100%|██████████| 74/74 [03:05<00:00,  2.50s/it]\n",
            "100%|██████████| 11/11 [00:12<00:00,  1.13s/it]\n"
          ]
        },
        {
          "metadata": {
            "tags": null
          },
          "name": "stdout",
          "output_type": "stream",
          "text": [
            "Epoch: 8 | Train Loss: 0.000 | Train Accuracy: 0.999 | Val Loss: 0.027 | Val Accuracy: 0.665\n",
            "Precision: 0.795 | Recall: 0.665 | F1 Score: 0.624\n"
          ]
        },
        {
          "metadata": {
            "tags": null
          },
          "name": "stderr",
          "output_type": "stream",
          "text": [
            "100%|██████████| 74/74 [03:05<00:00,  2.51s/it]\n",
            "100%|██████████| 11/11 [00:12<00:00,  1.15s/it]\n"
          ]
        },
        {
          "metadata": {
            "tags": null
          },
          "name": "stdout",
          "output_type": "stream",
          "text": [
            "Epoch: 9 | Train Loss: 0.000 | Train Accuracy: 1.000 | Val Loss: 0.027 | Val Accuracy: 0.668\n",
            "Precision: 0.792 | Recall: 0.668 | F1 Score: 0.629\n"
          ]
        },
        {
          "metadata": {
            "tags": null
          },
          "name": "stderr",
          "output_type": "stream",
          "text": [
            "100%|██████████| 74/74 [03:04<00:00,  2.50s/it]\n",
            "100%|██████████| 11/11 [00:13<00:00,  1.22s/it]\n"
          ]
        },
        {
          "metadata": {
            "tags": null
          },
          "name": "stdout",
          "output_type": "stream",
          "text": [
            "Epoch: 10 | Train Loss: 0.000 | Train Accuracy: 1.000 | Val Loss: 0.027 | Val Accuracy: 0.668\n",
            "Precision: 0.792 | Recall: 0.668 | F1 Score: 0.629\n"
          ]
        },
        {
          "metadata": {
            "tags": null
          },
          "name": "stderr",
          "output_type": "stream",
          "text": [
            "100%|██████████| 74/74 [03:05<00:00,  2.51s/it]\n",
            "100%|██████████| 11/11 [00:12<00:00,  1.13s/it]\n"
          ]
        },
        {
          "metadata": {
            "tags": null
          },
          "name": "stdout",
          "output_type": "stream",
          "text": [
            "Epoch: 11 | Train Loss: 0.000 | Train Accuracy: 1.000 | Val Loss: 0.028 | Val Accuracy: 0.668\n",
            "Precision: 0.792 | Recall: 0.668 | F1 Score: 0.629\n"
          ]
        },
        {
          "metadata": {
            "tags": null
          },
          "name": "stderr",
          "output_type": "stream",
          "text": [
            "100%|██████████| 74/74 [03:04<00:00,  2.49s/it]\n",
            "100%|██████████| 11/11 [00:12<00:00,  1.13s/it]\n"
          ]
        },
        {
          "metadata": {
            "tags": null
          },
          "name": "stdout",
          "output_type": "stream",
          "text": [
            "Epoch: 12 | Train Loss: 0.000 | Train Accuracy: 1.000 | Val Loss: 0.028 | Val Accuracy: 0.668\n",
            "Precision: 0.792 | Recall: 0.668 | F1 Score: 0.629\n"
          ]
        },
        {
          "metadata": {
            "tags": null
          },
          "name": "stderr",
          "output_type": "stream",
          "text": [
            "100%|██████████| 74/74 [03:03<00:00,  2.48s/it]\n",
            "100%|██████████| 11/11 [00:12<00:00,  1.12s/it]\n"
          ]
        },
        {
          "metadata": {
            "tags": null
          },
          "name": "stdout",
          "output_type": "stream",
          "text": [
            "Epoch: 13 | Train Loss: 0.000 | Train Accuracy: 1.000 | Val Loss: 0.028 | Val Accuracy: 0.668\n",
            "Precision: 0.792 | Recall: 0.668 | F1 Score: 0.629\n"
          ]
        },
        {
          "metadata": {
            "tags": null
          },
          "name": "stderr",
          "output_type": "stream",
          "text": [
            "100%|██████████| 74/74 [02:56<00:00,  2.39s/it]\n",
            "100%|██████████| 11/11 [00:10<00:00,  1.04it/s]\n"
          ]
        },
        {
          "metadata": {
            "tags": null
          },
          "name": "stdout",
          "output_type": "stream",
          "text": [
            "Epoch: 14 | Train Loss: 0.000 | Train Accuracy: 1.000 | Val Loss: 0.028 | Val Accuracy: 0.668\n",
            "Precision: 0.792 | Recall: 0.668 | F1 Score: 0.629\n"
          ]
        },
        {
          "metadata": {
            "tags": null
          },
          "name": "stderr",
          "output_type": "stream",
          "text": [
            "100%|██████████| 74/74 [03:04<00:00,  2.50s/it]\n",
            "100%|██████████| 11/11 [00:11<00:00,  1.03s/it]\n"
          ]
        },
        {
          "metadata": {
            "tags": null
          },
          "name": "stdout",
          "output_type": "stream",
          "text": [
            "Epoch: 15 | Train Loss: 0.000 | Train Accuracy: 1.000 | Val Loss: 0.028 | Val Accuracy: 0.670\n",
            "Precision: 0.793 | Recall: 0.670 | F1 Score: 0.631\n"
          ]
        },
        {
          "metadata": {
            "tags": null
          },
          "name": "stderr",
          "output_type": "stream",
          "text": [
            "100%|██████████| 74/74 [03:02<00:00,  2.47s/it]\n",
            "100%|██████████| 11/11 [00:11<00:00,  1.04s/it]\n"
          ]
        },
        {
          "metadata": {
            "tags": null
          },
          "name": "stdout",
          "output_type": "stream",
          "text": [
            "Epoch: 16 | Train Loss: 0.000 | Train Accuracy: 1.000 | Val Loss: 0.028 | Val Accuracy: 0.670\n",
            "Precision: 0.793 | Recall: 0.670 | F1 Score: 0.631\n"
          ]
        },
        {
          "metadata": {
            "tags": null
          },
          "name": "stderr",
          "output_type": "stream",
          "text": [
            "100%|██████████| 74/74 [03:04<00:00,  2.49s/it]\n",
            "100%|██████████| 11/11 [00:10<00:00,  1.01it/s]\n"
          ]
        },
        {
          "metadata": {
            "tags": null
          },
          "name": "stdout",
          "output_type": "stream",
          "text": [
            "Epoch: 17 | Train Loss: 0.000 | Train Accuracy: 1.000 | Val Loss: 0.028 | Val Accuracy: 0.670\n",
            "Precision: 0.793 | Recall: 0.670 | F1 Score: 0.631\n"
          ]
        },
        {
          "metadata": {
            "tags": null
          },
          "name": "stderr",
          "output_type": "stream",
          "text": [
            "100%|██████████| 74/74 [03:00<00:00,  2.44s/it]\n",
            "100%|██████████| 11/11 [00:11<00:00,  1.06s/it]\n"
          ]
        },
        {
          "metadata": {
            "tags": null
          },
          "name": "stdout",
          "output_type": "stream",
          "text": [
            "Epoch: 18 | Train Loss: 0.000 | Train Accuracy: 1.000 | Val Loss: 0.028 | Val Accuracy: 0.670\n",
            "Precision: 0.793 | Recall: 0.670 | F1 Score: 0.631\n"
          ]
        },
        {
          "metadata": {
            "tags": null
          },
          "name": "stderr",
          "output_type": "stream",
          "text": [
            "100%|██████████| 74/74 [03:02<00:00,  2.47s/it]\n",
            "100%|██████████| 11/11 [00:14<00:00,  1.29s/it]\n"
          ]
        },
        {
          "metadata": {
            "tags": null
          },
          "name": "stdout",
          "output_type": "stream",
          "text": [
            "Epoch: 19 | Train Loss: 0.000 | Train Accuracy: 1.000 | Val Loss: 0.028 | Val Accuracy: 0.670\n",
            "Precision: 0.793 | Recall: 0.670 | F1 Score: 0.631\n"
          ]
        },
        {
          "metadata": {
            "tags": null
          },
          "name": "stderr",
          "output_type": "stream",
          "text": [
            "100%|██████████| 74/74 [03:04<00:00,  2.49s/it]\n",
            "100%|██████████| 11/11 [00:11<00:00,  1.07s/it]\n"
          ]
        },
        {
          "metadata": {
            "tags": null
          },
          "name": "stdout",
          "output_type": "stream",
          "text": [
            "Epoch: 20 | Train Loss: 0.000 | Train Accuracy: 1.000 | Val Loss: 0.028 | Val Accuracy: 0.670\n",
            "Precision: 0.793 | Recall: 0.670 | F1 Score: 0.631\n"
          ]
        },
        {
          "metadata": {
            "tags": null
          },
          "name": "stderr",
          "output_type": "stream",
          "text": [
            "100%|██████████| 74/74 [03:02<00:00,  2.46s/it]\n",
            "100%|██████████| 11/11 [00:12<00:00,  1.10s/it]\n"
          ]
        },
        {
          "metadata": {
            "tags": null
          },
          "name": "stdout",
          "output_type": "stream",
          "text": [
            "Epoch: 21 | Train Loss: 0.000 | Train Accuracy: 1.000 | Val Loss: 0.028 | Val Accuracy: 0.670\n",
            "Precision: 0.793 | Recall: 0.670 | F1 Score: 0.631\n"
          ]
        },
        {
          "metadata": {
            "tags": null
          },
          "name": "stderr",
          "output_type": "stream",
          "text": [
            "100%|██████████| 74/74 [02:57<00:00,  2.40s/it]\n",
            "100%|██████████| 11/11 [00:12<00:00,  1.11s/it]\n"
          ]
        },
        {
          "metadata": {
            "tags": null
          },
          "name": "stdout",
          "output_type": "stream",
          "text": [
            "Epoch: 22 | Train Loss: 0.000 | Train Accuracy: 1.000 | Val Loss: 0.028 | Val Accuracy: 0.670\n",
            "Precision: 0.793 | Recall: 0.670 | F1 Score: 0.631\n"
          ]
        },
        {
          "metadata": {
            "tags": null
          },
          "name": "stderr",
          "output_type": "stream",
          "text": [
            "100%|██████████| 74/74 [03:01<00:00,  2.45s/it]\n",
            "100%|██████████| 11/11 [00:11<00:00,  1.08s/it]\n"
          ]
        },
        {
          "metadata": {
            "tags": null
          },
          "name": "stdout",
          "output_type": "stream",
          "text": [
            "Epoch: 23 | Train Loss: 0.000 | Train Accuracy: 1.000 | Val Loss: 0.028 | Val Accuracy: 0.670\n",
            "Precision: 0.793 | Recall: 0.670 | F1 Score: 0.631\n"
          ]
        },
        {
          "metadata": {
            "tags": null
          },
          "name": "stderr",
          "output_type": "stream",
          "text": [
            "100%|██████████| 74/74 [02:58<00:00,  2.41s/it]\n",
            "100%|██████████| 11/11 [00:10<00:00,  1.06it/s]\n"
          ]
        },
        {
          "metadata": {
            "tags": null
          },
          "name": "stdout",
          "output_type": "stream",
          "text": [
            "Epoch: 24 | Train Loss: 0.000 | Train Accuracy: 1.000 | Val Loss: 0.028 | Val Accuracy: 0.670\n",
            "Precision: 0.793 | Recall: 0.670 | F1 Score: 0.631\n"
          ]
        },
        {
          "metadata": {
            "tags": null
          },
          "name": "stderr",
          "output_type": "stream",
          "text": [
            "100%|██████████| 74/74 [03:00<00:00,  2.43s/it]\n",
            "100%|██████████| 11/11 [00:12<00:00,  1.13s/it]\n"
          ]
        },
        {
          "metadata": {
            "tags": null
          },
          "name": "stdout",
          "output_type": "stream",
          "text": [
            "Epoch: 25 | Train Loss: 0.000 | Train Accuracy: 1.000 | Val Loss: 0.028 | Val Accuracy: 0.670\n",
            "Precision: 0.793 | Recall: 0.670 | F1 Score: 0.631\n"
          ]
        },
        {
          "metadata": {
            "tags": null
          },
          "name": "stderr",
          "output_type": "stream",
          "text": [
            "100%|██████████| 74/74 [02:59<00:00,  2.43s/it]\n",
            "100%|██████████| 11/11 [00:12<00:00,  1.15s/it]\n"
          ]
        },
        {
          "metadata": {
            "tags": null
          },
          "name": "stdout",
          "output_type": "stream",
          "text": [
            "Epoch: 26 | Train Loss: 0.000 | Train Accuracy: 1.000 | Val Loss: 0.028 | Val Accuracy: 0.670\n",
            "Precision: 0.793 | Recall: 0.670 | F1 Score: 0.631\n"
          ]
        },
        {
          "metadata": {
            "tags": null
          },
          "name": "stderr",
          "output_type": "stream",
          "text": [
            "100%|██████████| 74/74 [03:02<00:00,  2.47s/it]\n",
            "100%|██████████| 11/11 [00:12<00:00,  1.13s/it]\n"
          ]
        },
        {
          "metadata": {
            "tags": null
          },
          "name": "stdout",
          "output_type": "stream",
          "text": [
            "Epoch: 27 | Train Loss: 0.000 | Train Accuracy: 1.000 | Val Loss: 0.028 | Val Accuracy: 0.670\n",
            "Precision: 0.793 | Recall: 0.670 | F1 Score: 0.631\n"
          ]
        },
        {
          "metadata": {
            "tags": null
          },
          "name": "stderr",
          "output_type": "stream",
          "text": [
            "100%|██████████| 74/74 [02:59<00:00,  2.42s/it]\n",
            "100%|██████████| 11/11 [00:11<00:00,  1.01s/it]\n"
          ]
        },
        {
          "metadata": {
            "tags": null
          },
          "name": "stdout",
          "output_type": "stream",
          "text": [
            "Epoch: 28 | Train Loss: 0.000 | Train Accuracy: 1.000 | Val Loss: 0.028 | Val Accuracy: 0.670\n",
            "Precision: 0.793 | Recall: 0.670 | F1 Score: 0.631\n"
          ]
        },
        {
          "metadata": {
            "tags": null
          },
          "name": "stderr",
          "output_type": "stream",
          "text": [
            "100%|██████████| 74/74 [03:00<00:00,  2.44s/it]\n",
            "100%|██████████| 11/11 [00:11<00:00,  1.05s/it]\n"
          ]
        },
        {
          "metadata": {
            "tags": null
          },
          "name": "stdout",
          "output_type": "stream",
          "text": [
            "Epoch: 29 | Train Loss: 0.000 | Train Accuracy: 1.000 | Val Loss: 0.028 | Val Accuracy: 0.670\n",
            "Precision: 0.793 | Recall: 0.670 | F1 Score: 0.631\n"
          ]
        },
        {
          "metadata": {
            "tags": null
          },
          "name": "stderr",
          "output_type": "stream",
          "text": [
            "100%|██████████| 74/74 [03:04<00:00,  2.49s/it]\n",
            "100%|██████████| 11/11 [00:11<00:00,  1.00s/it]\n"
          ]
        },
        {
          "metadata": {
            "tags": null
          },
          "name": "stdout",
          "output_type": "stream",
          "text": [
            "Epoch: 30 | Train Loss: 0.000 | Train Accuracy: 1.000 | Val Loss: 0.028 | Val Accuracy: 0.670\n",
            "Precision: 0.793 | Recall: 0.670 | F1 Score: 0.631\n"
          ]
        },
        {
          "metadata": {
            "tags": null
          },
          "name": "stderr",
          "output_type": "stream",
          "text": [
            "100%|██████████| 39/39 [00:21<00:00,  1.77it/s]\n"
          ]
        },
        {
          "metadata": {
            "tags": null
          },
          "name": "stdout",
          "output_type": "stream",
          "text": [
            "Test Loss: 0.057 | Test Accuracy: 0.675\n",
            "Test Precision: 0.777 | Test Recall: 0.675 | Test F1 Score: 0.642\n",
            "Validation Accuracy: 0.000 | Test Accuracy: 0.675\n",
            "Training model with epochs=30, lr=0.0001, batch_size=64, dropout_prob=0.1, optimizer=SGD\n"
          ]
        },
        {
          "metadata": {
            "tags": null
          },
          "name": "stderr",
          "output_type": "stream",
          "text": [
            "Some weights of the model checkpoint at google/vit-base-patch16-224-in21k were not used when initializing ViTModel: ['pooler.dense.bias', 'pooler.dense.weight']\n",
            "- This IS expected if you are initializing ViTModel from the checkpoint of a model trained on another task or with another architecture (e.g. initializing a BertForSequenceClassification model from a BertForPreTraining model).\n",
            "- This IS NOT expected if you are initializing ViTModel from the checkpoint of a model that you expect to be exactly identical (initializing a BertForSequenceClassification model from a BertForSequenceClassification model).\n",
            "100%|██████████| 74/74 [03:00<00:00,  2.44s/it]\n",
            "100%|██████████| 11/11 [00:12<00:00,  1.10s/it]\n"
          ]
        },
        {
          "metadata": {
            "tags": null
          },
          "name": "stdout",
          "output_type": "stream",
          "text": [
            "Epoch: 1 | Train Loss: 0.011 | Train Accuracy: 0.490 | Val Loss: 0.011 | Val Accuracy: 0.455\n",
            "Precision: 0.358 | Recall: 0.455 | F1 Score: 0.343\n"
          ]
        },
        {
          "metadata": {
            "tags": null
          },
          "name": "stderr",
          "output_type": "stream",
          "text": [
            "100%|██████████| 74/74 [02:58<00:00,  2.41s/it]\n",
            "100%|██████████| 11/11 [00:12<00:00,  1.15s/it]\n"
          ]
        },
        {
          "metadata": {
            "tags": null
          },
          "name": "stdout",
          "output_type": "stream",
          "text": [
            "Epoch: 2 | Train Loss: 0.011 | Train Accuracy: 0.490 | Val Loss: 0.011 | Val Accuracy: 0.525\n",
            "Precision: 0.529 | Recall: 0.525 | F1 Score: 0.511\n"
          ]
        },
        {
          "metadata": {
            "tags": null
          },
          "name": "stderr",
          "output_type": "stream",
          "text": [
            "100%|██████████| 74/74 [03:01<00:00,  2.45s/it]\n",
            "100%|██████████| 11/11 [00:11<00:00,  1.09s/it]\n"
          ]
        },
        {
          "metadata": {
            "tags": null
          },
          "name": "stdout",
          "output_type": "stream",
          "text": [
            "Epoch: 3 | Train Loss: 0.011 | Train Accuracy: 0.505 | Val Loss: 0.011 | Val Accuracy: 0.524\n",
            "Precision: 0.524 | Recall: 0.524 | F1 Score: 0.522\n"
          ]
        },
        {
          "metadata": {
            "tags": null
          },
          "name": "stderr",
          "output_type": "stream",
          "text": [
            "100%|██████████| 74/74 [02:59<00:00,  2.42s/it]\n",
            "100%|██████████| 11/11 [00:12<00:00,  1.10s/it]\n"
          ]
        },
        {
          "metadata": {
            "tags": null
          },
          "name": "stdout",
          "output_type": "stream",
          "text": [
            "Epoch: 4 | Train Loss: 0.011 | Train Accuracy: 0.546 | Val Loss: 0.011 | Val Accuracy: 0.515\n",
            "Precision: 0.515 | Recall: 0.515 | F1 Score: 0.514\n"
          ]
        },
        {
          "metadata": {
            "tags": null
          },
          "name": "stderr",
          "output_type": "stream",
          "text": [
            "100%|██████████| 74/74 [03:00<00:00,  2.44s/it]\n",
            "100%|██████████| 11/11 [00:12<00:00,  1.11s/it]\n"
          ]
        },
        {
          "metadata": {
            "tags": null
          },
          "name": "stdout",
          "output_type": "stream",
          "text": [
            "Epoch: 5 | Train Loss: 0.011 | Train Accuracy: 0.580 | Val Loss: 0.011 | Val Accuracy: 0.564\n",
            "Precision: 0.564 | Recall: 0.564 | F1 Score: 0.564\n"
          ]
        },
        {
          "metadata": {
            "tags": null
          },
          "name": "stderr",
          "output_type": "stream",
          "text": [
            "100%|██████████| 74/74 [03:01<00:00,  2.45s/it]\n",
            "100%|██████████| 11/11 [00:12<00:00,  1.12s/it]\n"
          ]
        },
        {
          "metadata": {
            "tags": null
          },
          "name": "stdout",
          "output_type": "stream",
          "text": [
            "Epoch: 6 | Train Loss: 0.011 | Train Accuracy: 0.613 | Val Loss: 0.011 | Val Accuracy: 0.561\n",
            "Precision: 0.561 | Recall: 0.561 | F1 Score: 0.561\n"
          ]
        },
        {
          "metadata": {
            "tags": null
          },
          "name": "stderr",
          "output_type": "stream",
          "text": [
            "100%|██████████| 74/74 [03:00<00:00,  2.44s/it]\n",
            "100%|██████████| 11/11 [00:11<00:00,  1.08s/it]\n"
          ]
        },
        {
          "metadata": {
            "tags": null
          },
          "name": "stdout",
          "output_type": "stream",
          "text": [
            "Epoch: 7 | Train Loss: 0.011 | Train Accuracy: 0.640 | Val Loss: 0.011 | Val Accuracy: 0.570\n",
            "Precision: 0.570 | Recall: 0.570 | F1 Score: 0.569\n"
          ]
        },
        {
          "metadata": {
            "tags": null
          },
          "name": "stderr",
          "output_type": "stream",
          "text": [
            "100%|██████████| 74/74 [02:59<00:00,  2.43s/it]\n",
            "100%|██████████| 11/11 [00:10<00:00,  1.02it/s]\n"
          ]
        },
        {
          "metadata": {
            "tags": null
          },
          "name": "stdout",
          "output_type": "stream",
          "text": [
            "Epoch: 8 | Train Loss: 0.011 | Train Accuracy: 0.660 | Val Loss: 0.011 | Val Accuracy: 0.577\n",
            "Precision: 0.578 | Recall: 0.577 | F1 Score: 0.576\n"
          ]
        },
        {
          "metadata": {
            "tags": null
          },
          "name": "stderr",
          "output_type": "stream",
          "text": [
            "100%|██████████| 74/74 [02:58<00:00,  2.41s/it]\n",
            "100%|██████████| 11/11 [00:11<00:00,  1.09s/it]\n"
          ]
        },
        {
          "metadata": {
            "tags": null
          },
          "name": "stdout",
          "output_type": "stream",
          "text": [
            "Epoch: 9 | Train Loss: 0.011 | Train Accuracy: 0.674 | Val Loss: 0.011 | Val Accuracy: 0.573\n",
            "Precision: 0.574 | Recall: 0.573 | F1 Score: 0.571\n"
          ]
        },
        {
          "metadata": {
            "tags": null
          },
          "name": "stderr",
          "output_type": "stream",
          "text": [
            "100%|██████████| 74/74 [02:58<00:00,  2.42s/it]\n",
            "100%|██████████| 11/11 [00:13<00:00,  1.22s/it]\n"
          ]
        },
        {
          "metadata": {
            "tags": null
          },
          "name": "stdout",
          "output_type": "stream",
          "text": [
            "Epoch: 10 | Train Loss: 0.011 | Train Accuracy: 0.682 | Val Loss: 0.011 | Val Accuracy: 0.610\n",
            "Precision: 0.611 | Recall: 0.610 | F1 Score: 0.609\n"
          ]
        },
        {
          "metadata": {
            "tags": null
          },
          "name": "stderr",
          "output_type": "stream",
          "text": [
            "100%|██████████| 74/74 [02:56<00:00,  2.39s/it]\n",
            "100%|██████████| 11/11 [00:12<00:00,  1.11s/it]\n"
          ]
        },
        {
          "metadata": {
            "tags": null
          },
          "name": "stdout",
          "output_type": "stream",
          "text": [
            "Epoch: 11 | Train Loss: 0.011 | Train Accuracy: 0.695 | Val Loss: 0.011 | Val Accuracy: 0.615\n",
            "Precision: 0.615 | Recall: 0.615 | F1 Score: 0.614\n"
          ]
        },
        {
          "metadata": {
            "tags": null
          },
          "name": "stderr",
          "output_type": "stream",
          "text": [
            "100%|██████████| 74/74 [02:58<00:00,  2.41s/it]\n",
            "100%|██████████| 11/11 [00:11<00:00,  1.05s/it]\n"
          ]
        },
        {
          "metadata": {
            "tags": null
          },
          "name": "stdout",
          "output_type": "stream",
          "text": [
            "Epoch: 12 | Train Loss: 0.011 | Train Accuracy: 0.711 | Val Loss: 0.011 | Val Accuracy: 0.624\n",
            "Precision: 0.624 | Recall: 0.624 | F1 Score: 0.623\n"
          ]
        },
        {
          "metadata": {
            "tags": null
          },
          "name": "stderr",
          "output_type": "stream",
          "text": [
            "100%|██████████| 74/74 [02:59<00:00,  2.43s/it]\n",
            "100%|██████████| 11/11 [00:12<00:00,  1.12s/it]\n"
          ]
        },
        {
          "metadata": {
            "tags": null
          },
          "name": "stdout",
          "output_type": "stream",
          "text": [
            "Epoch: 13 | Train Loss: 0.010 | Train Accuracy: 0.721 | Val Loss: 0.011 | Val Accuracy: 0.635\n",
            "Precision: 0.637 | Recall: 0.635 | F1 Score: 0.634\n"
          ]
        },
        {
          "metadata": {
            "tags": null
          },
          "name": "stderr",
          "output_type": "stream",
          "text": [
            "100%|██████████| 74/74 [03:00<00:00,  2.44s/it]\n",
            "100%|██████████| 11/11 [00:12<00:00,  1.12s/it]\n"
          ]
        },
        {
          "metadata": {
            "tags": null
          },
          "name": "stdout",
          "output_type": "stream",
          "text": [
            "Epoch: 14 | Train Loss: 0.010 | Train Accuracy: 0.727 | Val Loss: 0.011 | Val Accuracy: 0.643\n",
            "Precision: 0.645 | Recall: 0.643 | F1 Score: 0.641\n"
          ]
        },
        {
          "metadata": {
            "tags": null
          },
          "name": "stderr",
          "output_type": "stream",
          "text": [
            "100%|██████████| 74/74 [03:04<00:00,  2.49s/it]\n",
            "100%|██████████| 11/11 [00:12<00:00,  1.16s/it]\n"
          ]
        },
        {
          "metadata": {
            "tags": null
          },
          "name": "stdout",
          "output_type": "stream",
          "text": [
            "Epoch: 15 | Train Loss: 0.010 | Train Accuracy: 0.734 | Val Loss: 0.011 | Val Accuracy: 0.644\n",
            "Precision: 0.647 | Recall: 0.644 | F1 Score: 0.643\n"
          ]
        },
        {
          "metadata": {
            "tags": null
          },
          "name": "stderr",
          "output_type": "stream",
          "text": [
            "100%|██████████| 74/74 [03:01<00:00,  2.46s/it]\n",
            "100%|██████████| 11/11 [00:11<00:00,  1.09s/it]\n"
          ]
        },
        {
          "metadata": {
            "tags": null
          },
          "name": "stdout",
          "output_type": "stream",
          "text": [
            "Epoch: 16 | Train Loss: 0.010 | Train Accuracy: 0.739 | Val Loss: 0.011 | Val Accuracy: 0.662\n",
            "Precision: 0.665 | Recall: 0.662 | F1 Score: 0.661\n"
          ]
        },
        {
          "metadata": {
            "tags": null
          },
          "name": "stderr",
          "output_type": "stream",
          "text": [
            "100%|██████████| 74/74 [02:58<00:00,  2.42s/it]\n",
            "100%|██████████| 11/11 [00:12<00:00,  1.11s/it]\n"
          ]
        },
        {
          "metadata": {
            "tags": null
          },
          "name": "stdout",
          "output_type": "stream",
          "text": [
            "Epoch: 17 | Train Loss: 0.010 | Train Accuracy: 0.744 | Val Loss: 0.011 | Val Accuracy: 0.676\n",
            "Precision: 0.680 | Recall: 0.676 | F1 Score: 0.673\n"
          ]
        },
        {
          "metadata": {
            "tags": null
          },
          "name": "stderr",
          "output_type": "stream",
          "text": [
            "100%|██████████| 74/74 [03:01<00:00,  2.45s/it]\n",
            "100%|██████████| 11/11 [00:12<00:00,  1.12s/it]\n"
          ]
        },
        {
          "metadata": {
            "tags": null
          },
          "name": "stdout",
          "output_type": "stream",
          "text": [
            "Epoch: 18 | Train Loss: 0.010 | Train Accuracy: 0.749 | Val Loss: 0.011 | Val Accuracy: 0.680\n",
            "Precision: 0.686 | Recall: 0.680 | F1 Score: 0.677\n"
          ]
        },
        {
          "metadata": {
            "tags": null
          },
          "name": "stderr",
          "output_type": "stream",
          "text": [
            "100%|██████████| 74/74 [03:00<00:00,  2.43s/it]\n",
            "100%|██████████| 11/11 [00:11<00:00,  1.00s/it]\n"
          ]
        },
        {
          "metadata": {
            "tags": null
          },
          "name": "stdout",
          "output_type": "stream",
          "text": [
            "Epoch: 19 | Train Loss: 0.010 | Train Accuracy: 0.762 | Val Loss: 0.011 | Val Accuracy: 0.685\n",
            "Precision: 0.693 | Recall: 0.685 | F1 Score: 0.681\n"
          ]
        },
        {
          "metadata": {
            "tags": null
          },
          "name": "stderr",
          "output_type": "stream",
          "text": [
            "100%|██████████| 74/74 [02:57<00:00,  2.39s/it]\n",
            "100%|██████████| 11/11 [00:12<00:00,  1.10s/it]\n"
          ]
        },
        {
          "metadata": {
            "tags": null
          },
          "name": "stdout",
          "output_type": "stream",
          "text": [
            "Epoch: 20 | Train Loss: 0.009 | Train Accuracy: 0.768 | Val Loss: 0.010 | Val Accuracy: 0.696\n",
            "Precision: 0.704 | Recall: 0.696 | F1 Score: 0.694\n"
          ]
        },
        {
          "metadata": {
            "tags": null
          },
          "name": "stderr",
          "output_type": "stream",
          "text": [
            "100%|██████████| 74/74 [03:01<00:00,  2.45s/it]\n",
            "100%|██████████| 11/11 [00:12<00:00,  1.10s/it]\n"
          ]
        },
        {
          "metadata": {
            "tags": null
          },
          "name": "stdout",
          "output_type": "stream",
          "text": [
            "Epoch: 21 | Train Loss: 0.009 | Train Accuracy: 0.772 | Val Loss: 0.010 | Val Accuracy: 0.664\n",
            "Precision: 0.678 | Recall: 0.664 | F1 Score: 0.657\n"
          ]
        },
        {
          "metadata": {
            "tags": null
          },
          "name": "stderr",
          "output_type": "stream",
          "text": [
            "100%|██████████| 74/74 [02:58<00:00,  2.41s/it]\n",
            "100%|██████████| 11/11 [00:11<00:00,  1.02s/it]\n"
          ]
        },
        {
          "metadata": {
            "tags": null
          },
          "name": "stdout",
          "output_type": "stream",
          "text": [
            "Epoch: 22 | Train Loss: 0.009 | Train Accuracy: 0.784 | Val Loss: 0.010 | Val Accuracy: 0.695\n",
            "Precision: 0.706 | Recall: 0.695 | F1 Score: 0.691\n"
          ]
        },
        {
          "metadata": {
            "tags": null
          },
          "name": "stderr",
          "output_type": "stream",
          "text": [
            "100%|██████████| 74/74 [02:58<00:00,  2.42s/it]\n",
            "100%|██████████| 11/11 [00:11<00:00,  1.07s/it]\n"
          ]
        },
        {
          "metadata": {
            "tags": null
          },
          "name": "stdout",
          "output_type": "stream",
          "text": [
            "Epoch: 23 | Train Loss: 0.008 | Train Accuracy: 0.795 | Val Loss: 0.010 | Val Accuracy: 0.702\n",
            "Precision: 0.714 | Recall: 0.702 | F1 Score: 0.698\n"
          ]
        },
        {
          "metadata": {
            "tags": null
          },
          "name": "stderr",
          "output_type": "stream",
          "text": [
            "100%|██████████| 74/74 [02:58<00:00,  2.41s/it]\n",
            "100%|██████████| 11/11 [00:12<00:00,  1.09s/it]\n"
          ]
        },
        {
          "metadata": {
            "tags": null
          },
          "name": "stdout",
          "output_type": "stream",
          "text": [
            "Epoch: 24 | Train Loss: 0.008 | Train Accuracy: 0.805 | Val Loss: 0.010 | Val Accuracy: 0.707\n",
            "Precision: 0.720 | Recall: 0.707 | F1 Score: 0.703\n"
          ]
        },
        {
          "metadata": {
            "tags": null
          },
          "name": "stderr",
          "output_type": "stream",
          "text": [
            "100%|██████████| 74/74 [02:57<00:00,  2.40s/it]\n",
            "100%|██████████| 11/11 [00:11<00:00,  1.04s/it]\n"
          ]
        },
        {
          "metadata": {
            "tags": null
          },
          "name": "stdout",
          "output_type": "stream",
          "text": [
            "Epoch: 25 | Train Loss: 0.008 | Train Accuracy: 0.812 | Val Loss: 0.009 | Val Accuracy: 0.728\n",
            "Precision: 0.740 | Recall: 0.728 | F1 Score: 0.724\n"
          ]
        },
        {
          "metadata": {
            "tags": null
          },
          "name": "stderr",
          "output_type": "stream",
          "text": [
            "100%|██████████| 74/74 [02:58<00:00,  2.41s/it]\n",
            "100%|██████████| 11/11 [00:11<00:00,  1.09s/it]\n"
          ]
        },
        {
          "metadata": {
            "tags": null
          },
          "name": "stdout",
          "output_type": "stream",
          "text": [
            "Epoch: 26 | Train Loss: 0.007 | Train Accuracy: 0.820 | Val Loss: 0.009 | Val Accuracy: 0.734\n",
            "Precision: 0.746 | Recall: 0.734 | F1 Score: 0.730\n"
          ]
        },
        {
          "metadata": {
            "tags": null
          },
          "name": "stderr",
          "output_type": "stream",
          "text": [
            "100%|██████████| 74/74 [02:57<00:00,  2.40s/it]\n",
            "100%|██████████| 11/11 [00:13<00:00,  1.21s/it]\n"
          ]
        },
        {
          "metadata": {
            "tags": null
          },
          "name": "stdout",
          "output_type": "stream",
          "text": [
            "Epoch: 27 | Train Loss: 0.007 | Train Accuracy: 0.830 | Val Loss: 0.009 | Val Accuracy: 0.743\n",
            "Precision: 0.759 | Recall: 0.743 | F1 Score: 0.738\n"
          ]
        },
        {
          "metadata": {
            "tags": null
          },
          "name": "stderr",
          "output_type": "stream",
          "text": [
            "100%|██████████| 74/74 [03:00<00:00,  2.44s/it]\n",
            "100%|██████████| 11/11 [00:12<00:00,  1.09s/it]\n"
          ]
        },
        {
          "metadata": {
            "tags": null
          },
          "name": "stdout",
          "output_type": "stream",
          "text": [
            "Epoch: 28 | Train Loss: 0.007 | Train Accuracy: 0.845 | Val Loss: 0.009 | Val Accuracy: 0.743\n",
            "Precision: 0.758 | Recall: 0.743 | F1 Score: 0.739\n"
          ]
        },
        {
          "metadata": {
            "tags": null
          },
          "name": "stderr",
          "output_type": "stream",
          "text": [
            "100%|██████████| 74/74 [02:58<00:00,  2.41s/it]\n",
            "100%|██████████| 11/11 [00:10<00:00,  1.01it/s]\n"
          ]
        },
        {
          "metadata": {
            "tags": null
          },
          "name": "stdout",
          "output_type": "stream",
          "text": [
            "Epoch: 29 | Train Loss: 0.006 | Train Accuracy: 0.853 | Val Loss: 0.009 | Val Accuracy: 0.747\n",
            "Precision: 0.767 | Recall: 0.747 | F1 Score: 0.742\n"
          ]
        },
        {
          "output_type": "stream",
          "name": "stderr",
          "text": [
            "100%|██████████| 74/74 [02:58<00:00,  2.41s/it]\n",
            "100%|██████████| 11/11 [00:11<00:00,  1.08s/it]\n"
          ]
        },
        {
          "output_type": "stream",
          "name": "stdout",
          "text": [
            "Epoch: 30 | Train Loss: 0.006 | Train Accuracy: 0.864 | Val Loss: 0.009 | Val Accuracy: 0.757\n",
            "Precision: 0.778 | Recall: 0.757 | F1 Score: 0.753\n"
          ]
        },
        {
          "output_type": "stream",
          "name": "stderr",
          "text": [
            "100%|██████████| 39/39 [00:21<00:00,  1.86it/s]\n"
          ]
        },
        {
          "output_type": "stream",
          "name": "stdout",
          "text": [
            "Test Loss: 0.018 | Test Accuracy: 0.708\n",
            "Test Precision: 0.720 | Test Recall: 0.708 | Test F1 Score: 0.704\n",
            "Validation Accuracy: 0.000 | Test Accuracy: 0.708\n",
            "Training model with epochs=30, lr=0.0001, batch_size=64, dropout_prob=0.4, optimizer=Adam\n"
          ]
        },
        {
          "output_type": "stream",
          "name": "stderr",
          "text": [
            "Some weights of the model checkpoint at google/vit-base-patch16-224-in21k were not used when initializing ViTModel: ['pooler.dense.bias', 'pooler.dense.weight']\n",
            "- This IS expected if you are initializing ViTModel from the checkpoint of a model trained on another task or with another architecture (e.g. initializing a BertForSequenceClassification model from a BertForPreTraining model).\n",
            "- This IS NOT expected if you are initializing ViTModel from the checkpoint of a model that you expect to be exactly identical (initializing a BertForSequenceClassification model from a BertForSequenceClassification model).\n",
            "100%|██████████| 74/74 [02:57<00:00,  2.40s/it]\n",
            "100%|██████████| 11/11 [00:11<00:00,  1.00s/it]\n"
          ]
        },
        {
          "output_type": "stream",
          "name": "stdout",
          "text": [
            "Epoch: 1 | Train Loss: 0.005 | Train Accuracy: 0.872 | Val Loss: 0.011 | Val Accuracy: 0.734\n",
            "Precision: 0.776 | Recall: 0.734 | F1 Score: 0.723\n"
          ]
        },
        {
          "output_type": "stream",
          "name": "stderr",
          "text": [
            "100%|██████████| 74/74 [02:58<00:00,  2.41s/it]\n",
            "100%|██████████| 11/11 [00:11<00:00,  1.09s/it]\n"
          ]
        },
        {
          "output_type": "stream",
          "name": "stdout",
          "text": [
            "Epoch: 2 | Train Loss: 0.001 | Train Accuracy: 0.971 | Val Loss: 0.021 | Val Accuracy: 0.606\n",
            "Precision: 0.755 | Recall: 0.606 | F1 Score: 0.538\n"
          ]
        },
        {
          "output_type": "stream",
          "name": "stderr",
          "text": [
            "100%|██████████| 74/74 [02:57<00:00,  2.40s/it]\n",
            "100%|██████████| 11/11 [00:12<00:00,  1.10s/it]\n"
          ]
        },
        {
          "output_type": "stream",
          "name": "stdout",
          "text": [
            "Epoch: 3 | Train Loss: 0.001 | Train Accuracy: 0.985 | Val Loss: 0.029 | Val Accuracy: 0.597\n",
            "Precision: 0.777 | Recall: 0.597 | F1 Score: 0.518\n"
          ]
        },
        {
          "output_type": "stream",
          "name": "stderr",
          "text": [
            " 72%|███████▏  | 53/74 [02:12<00:54,  2.58s/it]"
          ]
        }
      ]
    },
    {
      "cell_type": "code",
      "execution_count": null,
      "metadata": {
        "id": "JfSnvS-utT-6"
      },
      "outputs": [],
      "source": [
        "\n",
        "test_acc = []\n",
        "test_loss = []\n",
        "\n",
        "net.eval()\n",
        "with torch.no_grad():\n",
        "    for X, y in test_dataloader:\n",
        "        X, y = X.to(device), y.to(device, dtype=torch.float)\n",
        "        yHat = net(X)\n",
        "        yHat = yHat.squeeze()\n",
        "        yHat, y = yHat.cpu(), y.cpu()\n",
        "\n",
        "        loss = lossfun(yHat, y)\n",
        "        test_acc.append(torch.mean(((yHat > 0.0) == y).float()) * 100)\n",
        "        test_loss.append(loss.item())\n",
        "\n",
        "\n",
        "test_accuracy = np.mean(test_acc)\n",
        "test_mean_loss = np.mean(test_loss)"
      ]
    },
    {
      "cell_type": "code",
      "execution_count": null,
      "metadata": {
        "id": "5388mWspQlv8"
      },
      "outputs": [],
      "source": [
        "fig, ax = plt.subplots(1, 2, figsize=(17, 5))\n",
        "ax[0].plot(trainAcc, 'o-', label='Train')\n",
        "ax[0].plot(devAcc, 'o-', label='Validation')\n",
        "ax[0].legend()\n",
        "ax[0].set_xlabel('Epochs')\n",
        "ax[0].set_ylabel('Accuracy')\n",
        "ax[0].set_title(f' Validation accuracy {np.mean(devAcc[-10:]):.2f}')\n",
        "\n",
        "ax[1].plot(trainLoss, 'o-', label='Train')\n",
        "ax[1].plot(devLoss, 'o-', label='Validation')\n",
        "ax[1].legend()\n",
        "ax[1].set_xlabel('Epochs')\n",
        "ax[1].set_ylabel('Loss')\n",
        "ax[1].set_title(f'Validation loss {np.mean(devLoss[-10:]):.2f}')\n",
        "\n",
        "\n"
      ]
    },
    {
      "cell_type": "code",
      "execution_count": null,
      "metadata": {
        "id": "SrP-IaqBQvip"
      },
      "outputs": [],
      "source": [
        "import torch\n",
        "import numpy as np\n",
        "\n",
        "def evaluateTest(net, test_dataloader, lossfun, device):\n",
        "    net.eval()\n",
        "\n",
        "    test_acc = []\n",
        "    test_loss = []\n",
        "\n",
        "    with torch.no_grad():\n",
        "        for X, y in test_dataloader:\n",
        "            X, y = X.to(device), y.to(device, dtype=torch.float)\n",
        "            yHat = net(X)\n",
        "            yHat = yHat.squeeze()\n",
        "            yHat, y = yHat.cpu(), y.cpu()\n",
        "\n",
        "            loss = lossfun(yHat, y)\n",
        "            test_acc.append(torch.mean(((yHat > 0.0) == y).float()) * 100)\n",
        "            test_loss.append(loss.item())\n",
        "\n",
        "    test_accuracy = np.mean(test_acc)\n",
        "    test_mean_loss = np.mean(test_loss)\n",
        "\n",
        "    return test_accuracy, test_mean_loss\n",
        "\n",
        "\n",
        "test_accuracy, test_mean_loss = evaluateTest(net, test_dataloader, lossfun, device)\n",
        "print(f\"Test Accuracy: {test_accuracy:.2f}%\")\n",
        "print(f\"Test Mean Loss: {test_mean_loss:.4f}\")\n"
      ]
    },
    {
      "cell_type": "code",
      "source": [
        "net.eval()\n",
        "\n",
        "images = []\n",
        "yTrue, yPred = [], []\n",
        "\n",
        "with torch.no_grad():\n",
        "    for X, y in test_dataloader:\n",
        "        X, y = X.to(device), y.to(device, dtype=torch.float)\n",
        "        yHat = net(X)\n",
        "        yHat = yHat.squeeze()\n",
        "        yHat, y = yHat.cpu(), y.cpu()\n",
        "\n",
        "        images.extend(X)\n",
        "        yTrue.extend(y)\n",
        "        yPred.extend((yHat > .0).float())"
      ],
      "metadata": {
        "id": "wC_kYlCiAPbE"
      },
      "execution_count": null,
      "outputs": []
    },
    {
      "cell_type": "code",
      "execution_count": null,
      "metadata": {
        "id": "lt-icEfLQzC9"
      },
      "outputs": [],
      "source": [
        "yTrue, yPred = [yItem.item() for yItem in yTrue], [yItem.item() for yItem in yPred]\n"
      ]
    },
    {
      "cell_type": "code",
      "execution_count": null,
      "metadata": {
        "id": "-cA-DlalQy_J"
      },
      "outputs": [],
      "source": [
        "def showComparision(images, yTrue, yPred):\n",
        "    cols = 3\n",
        "    rows = int(len(images) / cols)\n",
        "\n",
        "    fig, ax = plt.subplots(rows, cols, figsize = (50, 200))\n",
        "    fig.subplots_adjust(hspace=.5, wspace=.2)  # Adjust spacing between subplots\n",
        "\n",
        "    for idx, image in enumerate(images):\n",
        "        yActual = int(yTrue[idx])\n",
        "        yPredicted = int(yPred[idx])\n",
        "\n",
        "        yActualStr = test_dataset.classes[yActual]\n",
        "        yPredictedStr = test_dataset.classes[yPredicted]\n",
        "\n",
        "        correctPrediction = (yActual == yPredicted)\n",
        "        color = 'green' if correctPrediction else 'red'\n",
        "\n",
        "        i = int(idx / cols)\n",
        "        j = int(idx % cols)\n",
        "\n",
        "        # Normalize pixel values to range [0, 1]\n",
        "        image = image.cpu().view(-1, imgSize, imgSize).permute(1, 2, 0)\n",
        "        image = image.numpy()  # Convert tensor to NumPy array\n",
        "        image = (image - np.min(image)) / (np.max(image) - np.min(image))  # Normalize\n",
        "\n",
        "        # Add padding to the image\n",
        "        pad = 0.1\n",
        "        ax[i][j].imshow(image, aspect='auto')\n",
        "        ax[i][j].set_title(f'Actual: {yActualStr} | Predicted: {yPredictedStr}', fontsize = 40, color = color, y = 1.05)\n",
        "        ax[i][j].axis('off')\n",
        "\n",
        "        border = Rectangle((0, 0), image.shape[1]-1, image.shape[0]-1, linewidth=5, edgecolor=color, facecolor='none')\n",
        "        ax[i][j].add_patch(border)\n"
      ]
    },
    {
      "cell_type": "code",
      "execution_count": null,
      "metadata": {
        "id": "txs2x8R2Q9jy"
      },
      "outputs": [],
      "source": [
        "visualizableCount = 33\n",
        "visualizableImages = images[:visualizableCount]\n",
        "visualizableYTrue = yTrue[:visualizableCount]\n",
        "visualizableYPred = yPred[:visualizableCount]\n",
        "showComparision(visualizableImages, visualizableYTrue, visualizableYPred)"
      ]
    },
    {
      "cell_type": "code",
      "execution_count": null,
      "metadata": {
        "id": "SoX3y9gZQ9g6"
      },
      "outputs": [],
      "source": [
        "cm = confusion_matrix(yTrue, yPred)\n",
        "class_names = test_dataset.classes\n",
        "plt.figure(figsize=(8, 6))\n",
        "sns.heatmap(cm, annot=True, fmt='d', cmap=cmap, cbar=False, xticklabels=class_names, yticklabels=class_names)\n",
        "plt.title('Confusion Matrix')\n",
        "plt.xlabel('Predicted Labels')\n",
        "plt.ylabel('True Labels')\n",
        "plt.show()\n"
      ]
    },
    {
      "cell_type": "code",
      "execution_count": null,
      "metadata": {
        "id": "DBeTFUqtQ9dt"
      },
      "outputs": [],
      "source": [
        "precision = precision_score(yTrue, yPred)\n",
        "recall = recall_score(yTrue, yPred)\n",
        "f1Score = f1_score(yTrue, yPred)"
      ]
    },
    {
      "cell_type": "code",
      "execution_count": null,
      "metadata": {
        "id": "RTx5HIkDRDn2"
      },
      "outputs": [],
      "source": [
        "from sklearn.metrics import classification_report\n",
        "class_names = class_names  # Example class names\n",
        "\n",
        "print(classification_report(yTrue, yPred, target_names=class_names))"
      ]
    },
    {
      "cell_type": "code",
      "execution_count": null,
      "metadata": {
        "id": "GCRVQm2CRDeE"
      },
      "outputs": [],
      "source": [
        "html_code = f\"\"\"\n",
        "    <div style=\"display: flex; flex-direction: row; justify-content: center; align-items: center; gap: 30px\">\n",
        "        <span>\n",
        "            <h3 style=\"line-height: 30px; background-color: #cc3d76; padding: 20px 20px; border-radius: 8px\">Precision {precision:.2f}</h3>\n",
        "        </span>\n",
        "\n",
        "        <span>\n",
        "            <h3 style=\"line-height: 30px; background-color: #b3245d; padding: 20px 20px; border-radius: 8px\">Recall {recall:.2f}</h3>\n",
        "        </span>\n",
        "\n",
        "        <span>\n",
        "            <h3 style=\"line-height: 30px; background-color: #d40457; padding: 20px 20px; border-radius: 8px\">F1-Score {f1Score:.2f}</h3>\n",
        "        </span>\n",
        "    </div>\n",
        "\"\"\"\n",
        "HTML(html_code)"
      ]
    },
    {
      "cell_type": "code",
      "execution_count": null,
      "metadata": {
        "id": "Zo0Mtj7NRDah"
      },
      "outputs": [],
      "source": []
    }
  ],
  "metadata": {
    "colab": {
      "provenance": [],
      "machine_shape": "hm",
      "gpuType": "A100"
    },
    "kernelspec": {
      "display_name": "Python 3",
      "name": "python3"
    },
    "language_info": {
      "name": "python"
    },
    "accelerator": "GPU"
  },
  "nbformat": 4,
  "nbformat_minor": 0
}